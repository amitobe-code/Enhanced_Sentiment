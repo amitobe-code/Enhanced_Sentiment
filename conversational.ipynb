{
 "cells": [
  {
   "attachments": {},
   "cell_type": "markdown",
   "id": "3816c678",
   "metadata": {},
   "source": [
    "# Enhanced Sentiment Analyser : Using Stacked Ensemble Learning (Conversational Dataset)\n",
    "We use four tools namely BERT, VADER, Textblob and Flair to give sentiment scores all of which are fed to a Logistic Regressor First."
   ]
  },
  {
   "attachments": {},
   "cell_type": "markdown",
   "id": "20701590",
   "metadata": {},
   "source": [
    "## Basic Data Loading and Checking the Base Models or Tools"
   ]
  },
  {
   "cell_type": "code",
   "execution_count": 435,
   "id": "3bfbe93e",
   "metadata": {},
   "outputs": [
    {
     "name": "stdout",
     "output_type": "stream",
     "text": [
      "Requirement already satisfied: pandas in /Users/amitobe/opt/anaconda3/envs/nlp_course/lib/python3.7/site-packages (1.3.5)\n",
      "Requirement already satisfied: pytz>=2017.3 in /Users/amitobe/opt/anaconda3/envs/nlp_course/lib/python3.7/site-packages (from pandas) (2020.4)\n",
      "Requirement already satisfied: numpy>=1.17.3; platform_machine != \"aarch64\" and platform_machine != \"arm64\" and python_version < \"3.10\" in /Users/amitobe/opt/anaconda3/envs/nlp_course/lib/python3.7/site-packages (from pandas) (1.21.6)\n",
      "Requirement already satisfied: python-dateutil>=2.7.3 in /Users/amitobe/opt/anaconda3/envs/nlp_course/lib/python3.7/site-packages (from pandas) (2.8.1)\n",
      "Requirement already satisfied: six>=1.5 in /Users/amitobe/opt/anaconda3/envs/nlp_course/lib/python3.7/site-packages (from python-dateutil>=2.7.3->pandas) (1.15.0)\n"
     ]
    }
   ],
   "source": [
    "!pip install pandas"
   ]
  },
  {
   "cell_type": "code",
   "execution_count": 436,
   "id": "b3dba3b5",
   "metadata": {},
   "outputs": [
    {
     "name": "stdout",
     "output_type": "stream",
     "text": [
      "Requirement already satisfied: textblob in /Users/amitobe/opt/anaconda3/envs/nlp_course/lib/python3.7/site-packages (0.17.1)\n",
      "Requirement already satisfied: nltk>=3.1; python_version >= \"3\" in /Users/amitobe/opt/anaconda3/envs/nlp_course/lib/python3.7/site-packages (from textblob) (3.3)\n",
      "Requirement already satisfied: six in /Users/amitobe/opt/anaconda3/envs/nlp_course/lib/python3.7/site-packages (from nltk>=3.1; python_version >= \"3\"->textblob) (1.15.0)\n"
     ]
    }
   ],
   "source": [
    "!pip install textblob"
   ]
  },
  {
   "cell_type": "code",
   "execution_count": 437,
   "id": "285b6f68",
   "metadata": {},
   "outputs": [],
   "source": [
    "import pandas as pd\n",
    "import numpy as np\n",
    "import matplotlib.pyplot as plt\n",
    "from sklearn.cluster import KMeans\n",
    "from sklearn.preprocessing import MinMaxScaler\n",
    "from nltk.sentiment.vader import SentimentIntensityAnalyzer\n",
    "import textblob\n",
    "from scipy.spatial.distance import cdist\n",
    "import seaborn as sns\n",
    "import nltk\n",
    "import sklearn.metrics\n",
    "from sklearn.metrics import accuracy_score, confusion_matrix, roc_auc_score, roc_curve\n"
   ]
  },
  {
   "cell_type": "code",
   "execution_count": 438,
   "id": "c7335ca8",
   "metadata": {},
   "outputs": [],
   "source": [
    "from nltk.sentiment.vader import SentimentIntensityAnalyzer"
   ]
  },
  {
   "cell_type": "code",
   "execution_count": 439,
   "id": "07df1744",
   "metadata": {},
   "outputs": [],
   "source": [
    "from textblob import TextBlob"
   ]
  },
  {
   "cell_type": "code",
   "execution_count": 440,
   "id": "e695e3ec",
   "metadata": {},
   "outputs": [],
   "source": [
    "newsheadline_corr_analysis  = pd.read_csv('Conversational_dataset.csv').sample(10000)\n",
    "\n",
    "\n"
   ]
  },
  {
   "cell_type": "code",
   "execution_count": 441,
   "id": "42a857cd",
   "metadata": {},
   "outputs": [
    {
     "data": {
      "text/html": [
       "<div>\n",
       "<style scoped>\n",
       "    .dataframe tbody tr th:only-of-type {\n",
       "        vertical-align: middle;\n",
       "    }\n",
       "\n",
       "    .dataframe tbody tr th {\n",
       "        vertical-align: top;\n",
       "    }\n",
       "\n",
       "    .dataframe thead th {\n",
       "        text-align: right;\n",
       "    }\n",
       "</style>\n",
       "<table border=\"1\" class=\"dataframe\">\n",
       "  <thead>\n",
       "    <tr style=\"text-align: right;\">\n",
       "      <th></th>\n",
       "      <th>Unnamed: 0</th>\n",
       "      <th>Dialogue</th>\n",
       "      <th>sentiment</th>\n",
       "    </tr>\n",
       "  </thead>\n",
       "  <tbody>\n",
       "    <tr>\n",
       "      <th>9409</th>\n",
       "      <td>47762</td>\n",
       "      <td>Oh , that's fantastic !</td>\n",
       "      <td>1</td>\n",
       "    </tr>\n",
       "    <tr>\n",
       "      <th>9875</th>\n",
       "      <td>49139</td>\n",
       "      <td>Well , my parents have rented a condominium i...</td>\n",
       "      <td>1</td>\n",
       "    </tr>\n",
       "    <tr>\n",
       "      <th>6770</th>\n",
       "      <td>39891</td>\n",
       "      <td>It's very nice , I like it very much .</td>\n",
       "      <td>1</td>\n",
       "    </tr>\n",
       "    <tr>\n",
       "      <th>10696</th>\n",
       "      <td>51837</td>\n",
       "      <td>Thank you very much .</td>\n",
       "      <td>1</td>\n",
       "    </tr>\n",
       "    <tr>\n",
       "      <th>14428</th>\n",
       "      <td>88370</td>\n",
       "      <td>Goodbye . Thanks again .</td>\n",
       "      <td>1</td>\n",
       "    </tr>\n",
       "  </tbody>\n",
       "</table>\n",
       "</div>"
      ],
      "text/plain": [
       "       Unnamed: 0                                           Dialogue  \\\n",
       "9409        47762                           Oh , that's fantastic !    \n",
       "9875        49139   Well , my parents have rented a condominium i...   \n",
       "6770        39891            It's very nice , I like it very much .    \n",
       "10696       51837                             Thank you very much .    \n",
       "14428       88370                          Goodbye . Thanks again .    \n",
       "\n",
       "       sentiment  \n",
       "9409           1  \n",
       "9875           1  \n",
       "6770           1  \n",
       "10696          1  \n",
       "14428          1  "
      ]
     },
     "execution_count": 441,
     "metadata": {},
     "output_type": "execute_result"
    }
   ],
   "source": [
    "newsheadline_corr_analysis.head()\n"
   ]
  },
  {
   "cell_type": "code",
   "execution_count": 442,
   "id": "0fcd8b62",
   "metadata": {},
   "outputs": [],
   "source": [
    "\n",
    "\n",
    "# Assuming you have a dataset 'original_data' with a 'class' column\n",
    "class_0_data = newsheadline_corr_analysis[newsheadline_corr_analysis['sentiment'] == -1]\n",
    "class_1_data = newsheadline_corr_analysis[newsheadline_corr_analysis['sentiment'] == 1]\n",
    "\n",
    "# Calculate the size of the balanced sample for each class\n",
    "sample_size_per_class = 1000\n",
    "\n",
    "# Randomly sample data from each class\n",
    "sampled_class_0 = class_0_data.sample(n=sample_size_per_class, random_state=42)\n",
    "sampled_class_1 = class_1_data.sample(n=sample_size_per_class, random_state=42)\n",
    "\n",
    "# Combine the sampled data to create the balanced sample\n",
    "balanced_sample = pd.concat([sampled_class_0, sampled_class_1])\n",
    "\n",
    "# Shuffle the balanced sample\n",
    "balanced_sample = balanced_sample.sample(frac=1, random_state=42).reset_index(drop=True)\n"
   ]
  },
  {
   "cell_type": "code",
   "execution_count": 443,
   "id": "133f0af3",
   "metadata": {},
   "outputs": [
    {
     "data": {
      "text/html": [
       "<div>\n",
       "<style scoped>\n",
       "    .dataframe tbody tr th:only-of-type {\n",
       "        vertical-align: middle;\n",
       "    }\n",
       "\n",
       "    .dataframe tbody tr th {\n",
       "        vertical-align: top;\n",
       "    }\n",
       "\n",
       "    .dataframe thead th {\n",
       "        text-align: right;\n",
       "    }\n",
       "</style>\n",
       "<table border=\"1\" class=\"dataframe\">\n",
       "  <thead>\n",
       "    <tr style=\"text-align: right;\">\n",
       "      <th></th>\n",
       "      <th>Unnamed: 0</th>\n",
       "      <th>Dialogue</th>\n",
       "      <th>sentiment</th>\n",
       "    </tr>\n",
       "  </thead>\n",
       "  <tbody>\n",
       "    <tr>\n",
       "      <th>0</th>\n",
       "      <td>50368</td>\n",
       "      <td>Well , the life style is much more relaxed th...</td>\n",
       "      <td>1</td>\n",
       "    </tr>\n",
       "    <tr>\n",
       "      <th>1</th>\n",
       "      <td>75655</td>\n",
       "      <td>I have a complaint to make . I've just been ba...</td>\n",
       "      <td>-1</td>\n",
       "    </tr>\n",
       "    <tr>\n",
       "      <th>2</th>\n",
       "      <td>43391</td>\n",
       "      <td>Yes , orange juice will be fine for me . But ...</td>\n",
       "      <td>1</td>\n",
       "    </tr>\n",
       "    <tr>\n",
       "      <th>3</th>\n",
       "      <td>18291</td>\n",
       "      <td>Your best isn't good enough . Back in my day ...</td>\n",
       "      <td>-1</td>\n",
       "    </tr>\n",
       "    <tr>\n",
       "      <th>4</th>\n",
       "      <td>42665</td>\n",
       "      <td>Happy Women's Day . I love you forever , Mum .</td>\n",
       "      <td>1</td>\n",
       "    </tr>\n",
       "  </tbody>\n",
       "</table>\n",
       "</div>"
      ],
      "text/plain": [
       "   Unnamed: 0                                           Dialogue  sentiment\n",
       "0       50368   Well , the life style is much more relaxed th...          1\n",
       "1       75655  I have a complaint to make . I've just been ba...         -1\n",
       "2       43391   Yes , orange juice will be fine for me . But ...          1\n",
       "3       18291   Your best isn't good enough . Back in my day ...         -1\n",
       "4       42665    Happy Women's Day . I love you forever , Mum .           1"
      ]
     },
     "execution_count": 443,
     "metadata": {},
     "output_type": "execute_result"
    }
   ],
   "source": [
    "newsheadline_corr_analysis = balanced_sample\n",
    "newsheadline_corr_analysis.head()"
   ]
  },
  {
   "cell_type": "code",
   "execution_count": 444,
   "id": "58788ae1",
   "metadata": {},
   "outputs": [],
   "source": [
    "newsheadline_corr_analysis.rename(columns={'Dialogue':'Headline','sentiment':'Sentiment'},inplace = True  )"
   ]
  },
  {
   "cell_type": "code",
   "execution_count": 445,
   "id": "0e9a4292",
   "metadata": {},
   "outputs": [
    {
     "data": {
      "text/plain": [
       " 1    1000\n",
       "-1    1000\n",
       "Name: Sentiment, dtype: int64"
      ]
     },
     "execution_count": 445,
     "metadata": {},
     "output_type": "execute_result"
    }
   ],
   "source": [
    "newsheadline_corr_analysis['Sentiment'].value_counts()"
   ]
  },
  {
   "cell_type": "code",
   "execution_count": 447,
   "id": "db6a752c",
   "metadata": {},
   "outputs": [],
   "source": [
    "newsheadline_corr_analysis.to_csv('conversational_test.csv')"
   ]
  },
  {
   "cell_type": "code",
   "execution_count": 448,
   "id": "4a2df213",
   "metadata": {},
   "outputs": [],
   "source": [
    "import seaborn as sns\n",
    "import matplotlib"
   ]
  },
  {
   "cell_type": "code",
   "execution_count": null,
   "id": "1ac221c1",
   "metadata": {},
   "outputs": [],
   "source": []
  },
  {
   "attachments": {
    "image.png": {
     "image/png": "[encoded data removed]"
    }
   },
   "cell_type": "markdown",
   "id": "cb2dd4ea",
   "metadata": {},
   "source": [
    "### About Flair\n",
    "\n",
    "FLAIR Tagging -  language model (in yellow) and the sequence tagging (labeling) model (in blue). The bidirectional character language model receives the original text as input and computes contextual embeddings for each word. These are then passed into a BiLSTM-CRF sequence labeler. This special type of labeler makes use of a bidirectional LSTM (BiLSTM) recurrent neural model combined with a Conditional Random Field (CRF) – a type of combinatorial algorithm. It outputs the probability distribution of labels corresponding to individual words. The most probable label is then chosen for each word (as seen in the preceding figure in the top row). For example, the word Washington is labeled as E-PER in the preceding\n",
    "figure, where PER suggests the word relates to a person and E marks the ending of a two-word named entity chunk. Words are often also tagged with a special label, O (meaning other), used for words not considered named entities or named entities belonging to none of the defined categories.\n",
    "![image.png](attachment:image.png)"
   ]
  },
  {
   "cell_type": "code",
   "execution_count": 449,
   "id": "ea4353df",
   "metadata": {},
   "outputs": [],
   "source": [
    "import flair"
   ]
  },
  {
   "cell_type": "code",
   "execution_count": 450,
   "id": "1dcc9d64",
   "metadata": {},
   "outputs": [],
   "source": [
    "flair_model = flair.models.TextClassifier.load('en-sentiment')\n",
    "def process_flair(dialogue):   # returning the flair score\n",
    "    sentence = flair.data.Sentence(dialogue)\n",
    "    flair_model.predict(sentence)\n",
    "    label = sentence.labels[0].value\n",
    "    score = sentence.labels[0].score\n",
    "    if label == 'POSITIVE':\n",
    "        return score\n",
    "    elif label == 'NEGATIVE':\n",
    "        return -score"
   ]
  },
  {
   "cell_type": "code",
   "execution_count": 451,
   "id": "f1e1c050",
   "metadata": {},
   "outputs": [],
   "source": [
    "from transformers import AutoModelForSequenceClassification\n",
    "from transformers import TFAutoModelForSequenceClassification\n",
    "from transformers import AutoTokenizer, AutoConfig\n",
    "from scipy.special import softmax\n",
    "\n",
    "MODEL = f\"cardiffnlp/twitter-roberta-base-sentiment-latest\"\n",
    "tokenizer = AutoTokenizer.from_pretrained(MODEL)\n",
    "config = AutoConfig.from_pretrained(MODEL)\n",
    "bert_model = AutoModelForSequenceClassification.from_pretrained(MODEL)"
   ]
  },
  {
   "cell_type": "code",
   "execution_count": 452,
   "id": "baf57d2d",
   "metadata": {},
   "outputs": [],
   "source": [
    "def return_sentiment(txt):  # returning single-sentence BERT score\n",
    "    encoded_input = tokenizer(txt, return_tensors='pt',padding=True,truncation=True)\n",
    "    output = bert_model(**encoded_input)\n",
    "    score = output[0][0].detach().numpy() \n",
    "    scores = softmax(score)\n",
    "    if np.argsort(scores)[2] == 1:\n",
    "        return 0\n",
    "    else:\n",
    "        return (np.argsort(scores)[2]-1)*scores[np.argsort(scores)[2]]"
   ]
  },
  {
   "cell_type": "code",
   "execution_count": 453,
   "id": "92adc8af",
   "metadata": {},
   "outputs": [],
   "source": [
    "def cal_vader_textblob_bert_flair(txt):\n",
    "    tb_score = TextBlob(txt).sentiment.polarity\n",
    "    obj = SentimentIntensityAnalyzer()\n",
    "    vader_score = obj.polarity_scores(txt)['compound']\n",
    "    flair_score = process_flair(txt)\n",
    "    bert_score = return_sentiment(txt)\n",
    "    #prob = logmodel3.predict_proba([[tb_score,vader_score,flair_score,bert_score]])[0]      \n",
    "    return pd.Series({'vader':vader_score,'textblob': tb_score,'bert':bert_score,'flair':flair_score})\n"
   ]
  },
  {
   "cell_type": "code",
   "execution_count": 454,
   "id": "85e67e32",
   "metadata": {},
   "outputs": [],
   "source": [
    "def tb_score(txt):\n",
    "    sen = TextBlob(txt)\n",
    "    return pd.Series({'tb': sen.sentiment.polarity})"
   ]
  },
  {
   "cell_type": "code",
   "execution_count": 455,
   "id": "020849bc",
   "metadata": {},
   "outputs": [
    {
     "data": {
      "text/html": [
       "<div>\n",
       "<style scoped>\n",
       "    .dataframe tbody tr th:only-of-type {\n",
       "        vertical-align: middle;\n",
       "    }\n",
       "\n",
       "    .dataframe tbody tr th {\n",
       "        vertical-align: top;\n",
       "    }\n",
       "\n",
       "    .dataframe thead th {\n",
       "        text-align: right;\n",
       "    }\n",
       "</style>\n",
       "<table border=\"1\" class=\"dataframe\">\n",
       "  <thead>\n",
       "    <tr style=\"text-align: right;\">\n",
       "      <th></th>\n",
       "      <th>Unnamed: 0</th>\n",
       "      <th>Headline</th>\n",
       "      <th>Sentiment</th>\n",
       "    </tr>\n",
       "  </thead>\n",
       "  <tbody>\n",
       "    <tr>\n",
       "      <th>0</th>\n",
       "      <td>50368</td>\n",
       "      <td>Well , the life style is much more relaxed th...</td>\n",
       "      <td>1</td>\n",
       "    </tr>\n",
       "    <tr>\n",
       "      <th>1</th>\n",
       "      <td>75655</td>\n",
       "      <td>I have a complaint to make . I've just been ba...</td>\n",
       "      <td>-1</td>\n",
       "    </tr>\n",
       "    <tr>\n",
       "      <th>2</th>\n",
       "      <td>43391</td>\n",
       "      <td>Yes , orange juice will be fine for me . But ...</td>\n",
       "      <td>1</td>\n",
       "    </tr>\n",
       "    <tr>\n",
       "      <th>3</th>\n",
       "      <td>18291</td>\n",
       "      <td>Your best isn't good enough . Back in my day ...</td>\n",
       "      <td>-1</td>\n",
       "    </tr>\n",
       "    <tr>\n",
       "      <th>4</th>\n",
       "      <td>42665</td>\n",
       "      <td>Happy Women's Day . I love you forever , Mum .</td>\n",
       "      <td>1</td>\n",
       "    </tr>\n",
       "  </tbody>\n",
       "</table>\n",
       "</div>"
      ],
      "text/plain": [
       "   Unnamed: 0                                           Headline  Sentiment\n",
       "0       50368   Well , the life style is much more relaxed th...          1\n",
       "1       75655  I have a complaint to make . I've just been ba...         -1\n",
       "2       43391   Yes , orange juice will be fine for me . But ...          1\n",
       "3       18291   Your best isn't good enough . Back in my day ...         -1\n",
       "4       42665    Happy Women's Day . I love you forever , Mum .           1"
      ]
     },
     "execution_count": 455,
     "metadata": {},
     "output_type": "execute_result"
    }
   ],
   "source": [
    "\n",
    "newsheadline_corr_analysis.head()"
   ]
  },
  {
   "cell_type": "code",
   "execution_count": 456,
   "id": "57291460",
   "metadata": {},
   "outputs": [
    {
     "data": {
      "text/plain": [
       "0       1.0\n",
       "1      -1.0\n",
       "2       1.0\n",
       "3      -1.0\n",
       "4       1.0\n",
       "       ... \n",
       "1995    1.0\n",
       "1996    1.0\n",
       "1997   -1.0\n",
       "1998    1.0\n",
       "1999    1.0\n",
       "Name: Sentiment, Length: 2000, dtype: float64"
      ]
     },
     "execution_count": 456,
     "metadata": {},
     "output_type": "execute_result"
    }
   ],
   "source": [
    "newsheadline_corr_analysis['Sentiment'].astype(float)"
   ]
  },
  {
   "cell_type": "code",
   "execution_count": 457,
   "id": "913d5ffe",
   "metadata": {},
   "outputs": [
    {
     "data": {
      "text/plain": [
       " 1    1000\n",
       "-1    1000\n",
       "Name: Sentiment, dtype: int64"
      ]
     },
     "execution_count": 457,
     "metadata": {},
     "output_type": "execute_result"
    }
   ],
   "source": [
    "newsheadline_corr_analysis['Sentiment'].value_counts(dropna=True)"
   ]
  },
  {
   "cell_type": "code",
   "execution_count": 458,
   "id": "aa96403c",
   "metadata": {},
   "outputs": [],
   "source": [
    "newsheadline_corr_analysis = pd.concat([newsheadline_corr_analysis, newsheadline_corr_analysis['Headline'].apply(cal_vader_textblob_bert_flair)], axis=1)"
   ]
  },
  {
   "cell_type": "code",
   "execution_count": 459,
   "id": "92eb9da9",
   "metadata": {},
   "outputs": [],
   "source": [
    "newsheadline_corr_analysis.to_csv('conversational_test_results.csv')\n",
    "newsheadline_corr_analysis = pd.read_csv('conversational_test_results.csv')"
   ]
  },
  {
   "cell_type": "code",
   "execution_count": 460,
   "id": "98943630",
   "metadata": {},
   "outputs": [
    {
     "data": {
      "text/html": [
       "<div>\n",
       "<style scoped>\n",
       "    .dataframe tbody tr th:only-of-type {\n",
       "        vertical-align: middle;\n",
       "    }\n",
       "\n",
       "    .dataframe tbody tr th {\n",
       "        vertical-align: top;\n",
       "    }\n",
       "\n",
       "    .dataframe thead th {\n",
       "        text-align: right;\n",
       "    }\n",
       "</style>\n",
       "<table border=\"1\" class=\"dataframe\">\n",
       "  <thead>\n",
       "    <tr style=\"text-align: right;\">\n",
       "      <th></th>\n",
       "      <th>Unnamed: 0</th>\n",
       "      <th>Unnamed: 0.1</th>\n",
       "      <th>Headline</th>\n",
       "      <th>Sentiment</th>\n",
       "      <th>vader</th>\n",
       "      <th>textblob</th>\n",
       "      <th>bert</th>\n",
       "      <th>flair</th>\n",
       "    </tr>\n",
       "  </thead>\n",
       "  <tbody>\n",
       "    <tr>\n",
       "      <th>0</th>\n",
       "      <td>0</td>\n",
       "      <td>50368</td>\n",
       "      <td>Well , the life style is much more relaxed th...</td>\n",
       "      <td>1</td>\n",
       "      <td>0.7082</td>\n",
       "      <td>0.625000</td>\n",
       "      <td>0.961384</td>\n",
       "      <td>0.947213</td>\n",
       "    </tr>\n",
       "    <tr>\n",
       "      <th>1</th>\n",
       "      <td>1</td>\n",
       "      <td>75655</td>\n",
       "      <td>I have a complaint to make . I've just been ba...</td>\n",
       "      <td>-1</td>\n",
       "      <td>-0.8074</td>\n",
       "      <td>-0.433333</td>\n",
       "      <td>-0.922043</td>\n",
       "      <td>-0.999424</td>\n",
       "    </tr>\n",
       "    <tr>\n",
       "      <th>2</th>\n",
       "      <td>2</td>\n",
       "      <td>43391</td>\n",
       "      <td>Yes , orange juice will be fine for me . But ...</td>\n",
       "      <td>1</td>\n",
       "      <td>0.5423</td>\n",
       "      <td>0.233333</td>\n",
       "      <td>-0.524368</td>\n",
       "      <td>-0.999811</td>\n",
       "    </tr>\n",
       "    <tr>\n",
       "      <th>3</th>\n",
       "      <td>3</td>\n",
       "      <td>18291</td>\n",
       "      <td>Your best isn't good enough . Back in my day ...</td>\n",
       "      <td>-1</td>\n",
       "      <td>0.8169</td>\n",
       "      <td>0.389286</td>\n",
       "      <td>-0.832147</td>\n",
       "      <td>-0.961241</td>\n",
       "    </tr>\n",
       "    <tr>\n",
       "      <th>4</th>\n",
       "      <td>4</td>\n",
       "      <td>42665</td>\n",
       "      <td>Happy Women's Day . I love you forever , Mum .</td>\n",
       "      <td>1</td>\n",
       "      <td>0.8360</td>\n",
       "      <td>0.650000</td>\n",
       "      <td>0.988252</td>\n",
       "      <td>0.991436</td>\n",
       "    </tr>\n",
       "  </tbody>\n",
       "</table>\n",
       "</div>"
      ],
      "text/plain": [
       "   Unnamed: 0  Unnamed: 0.1  \\\n",
       "0           0         50368   \n",
       "1           1         75655   \n",
       "2           2         43391   \n",
       "3           3         18291   \n",
       "4           4         42665   \n",
       "\n",
       "                                            Headline  Sentiment   vader  \\\n",
       "0   Well , the life style is much more relaxed th...          1  0.7082   \n",
       "1  I have a complaint to make . I've just been ba...         -1 -0.8074   \n",
       "2   Yes , orange juice will be fine for me . But ...          1  0.5423   \n",
       "3   Your best isn't good enough . Back in my day ...         -1  0.8169   \n",
       "4    Happy Women's Day . I love you forever , Mum .           1  0.8360   \n",
       "\n",
       "   textblob      bert     flair  \n",
       "0  0.625000  0.961384  0.947213  \n",
       "1 -0.433333 -0.922043 -0.999424  \n",
       "2  0.233333 -0.524368 -0.999811  \n",
       "3  0.389286 -0.832147 -0.961241  \n",
       "4  0.650000  0.988252  0.991436  "
      ]
     },
     "execution_count": 460,
     "metadata": {},
     "output_type": "execute_result"
    }
   ],
   "source": [
    "newsheadline_corr_analysis.head()"
   ]
  },
  {
   "cell_type": "code",
   "execution_count": 461,
   "id": "0ca08a92",
   "metadata": {},
   "outputs": [
    {
     "data": {
      "text/plain": [
       "0       1.0\n",
       "1      -1.0\n",
       "2       1.0\n",
       "3      -1.0\n",
       "4       1.0\n",
       "       ... \n",
       "1995    1.0\n",
       "1996    1.0\n",
       "1997   -1.0\n",
       "1998    1.0\n",
       "1999    1.0\n",
       "Name: Sentiment, Length: 2000, dtype: float64"
      ]
     },
     "execution_count": 461,
     "metadata": {},
     "output_type": "execute_result"
    }
   ],
   "source": [
    "newsheadline_corr_analysis['Sentiment'].astype(float)"
   ]
  },
  {
   "cell_type": "code",
   "execution_count": 462,
   "id": "bdfd7f0a",
   "metadata": {},
   "outputs": [
    {
     "data": {
      "text/plain": [
       " 1    1000\n",
       "-1    1000\n",
       "Name: Sentiment, dtype: int64"
      ]
     },
     "execution_count": 462,
     "metadata": {},
     "output_type": "execute_result"
    }
   ],
   "source": [
    "newsheadline_corr_analysis['Sentiment'].value_counts()\n"
   ]
  },
  {
   "cell_type": "markdown",
   "id": "3f3ea5f9",
   "metadata": {},
   "source": [
    "def senti_adjust(score):\n",
    "    if score == 0:\n",
    "        return float(-1.0)\n",
    "    else:\n",
    "        return float(1.0)"
   ]
  },
  {
   "cell_type": "code",
   "execution_count": 463,
   "id": "dc5566e8",
   "metadata": {},
   "outputs": [
    {
     "data": {
      "text/plain": [
       "1.0"
      ]
     },
     "execution_count": 463,
     "metadata": {},
     "output_type": "execute_result"
    }
   ],
   "source": [
    "float(1)"
   ]
  },
  {
   "cell_type": "code",
   "execution_count": 464,
   "id": "5ec7d071",
   "metadata": {},
   "outputs": [],
   "source": [
    "#newsheadline_corr_analysis['Sentiment'] = newsheadline_corr_analysis.apply(lambda x: senti_adjust(x['Sentiment']), axis=1)"
   ]
  },
  {
   "cell_type": "code",
   "execution_count": 465,
   "id": "ed69a50b",
   "metadata": {},
   "outputs": [
    {
     "data": {
      "text/plain": [
       "0       1.0\n",
       "1      -1.0\n",
       "2       1.0\n",
       "3      -1.0\n",
       "4       1.0\n",
       "       ... \n",
       "1995    1.0\n",
       "1996    1.0\n",
       "1997   -1.0\n",
       "1998    1.0\n",
       "1999    1.0\n",
       "Name: Sentiment, Length: 2000, dtype: float64"
      ]
     },
     "execution_count": 465,
     "metadata": {},
     "output_type": "execute_result"
    }
   ],
   "source": [
    "newsheadline_corr_analysis['Sentiment'].astype(float)"
   ]
  },
  {
   "cell_type": "markdown",
   "id": "cfa17ff1",
   "metadata": {},
   "source": [
    "# START HERE for loading from saved data"
   ]
  },
  {
   "cell_type": "code",
   "execution_count": 466,
   "id": "91f6621e",
   "metadata": {},
   "outputs": [],
   "source": [
    "#newsheadline_corr_analysis.to_csv('amazon_test_results.csv')\n",
    "newsheadline_corr_analysis = pd.read_csv('conversational_test_results.csv')"
   ]
  },
  {
   "cell_type": "code",
   "execution_count": 467,
   "id": "064d9948",
   "metadata": {},
   "outputs": [
    {
     "data": {
      "text/html": [
       "<div>\n",
       "<style scoped>\n",
       "    .dataframe tbody tr th:only-of-type {\n",
       "        vertical-align: middle;\n",
       "    }\n",
       "\n",
       "    .dataframe tbody tr th {\n",
       "        vertical-align: top;\n",
       "    }\n",
       "\n",
       "    .dataframe thead th {\n",
       "        text-align: right;\n",
       "    }\n",
       "</style>\n",
       "<table border=\"1\" class=\"dataframe\">\n",
       "  <thead>\n",
       "    <tr style=\"text-align: right;\">\n",
       "      <th></th>\n",
       "      <th>Unnamed: 0</th>\n",
       "      <th>Unnamed: 0.1</th>\n",
       "      <th>Headline</th>\n",
       "      <th>Sentiment</th>\n",
       "      <th>vader</th>\n",
       "      <th>textblob</th>\n",
       "      <th>bert</th>\n",
       "      <th>flair</th>\n",
       "    </tr>\n",
       "  </thead>\n",
       "  <tbody>\n",
       "    <tr>\n",
       "      <th>0</th>\n",
       "      <td>0</td>\n",
       "      <td>50368</td>\n",
       "      <td>Well , the life style is much more relaxed th...</td>\n",
       "      <td>1</td>\n",
       "      <td>0.7082</td>\n",
       "      <td>0.625000</td>\n",
       "      <td>0.961384</td>\n",
       "      <td>0.947213</td>\n",
       "    </tr>\n",
       "    <tr>\n",
       "      <th>1</th>\n",
       "      <td>1</td>\n",
       "      <td>75655</td>\n",
       "      <td>I have a complaint to make . I've just been ba...</td>\n",
       "      <td>-1</td>\n",
       "      <td>-0.8074</td>\n",
       "      <td>-0.433333</td>\n",
       "      <td>-0.922043</td>\n",
       "      <td>-0.999424</td>\n",
       "    </tr>\n",
       "    <tr>\n",
       "      <th>2</th>\n",
       "      <td>2</td>\n",
       "      <td>43391</td>\n",
       "      <td>Yes , orange juice will be fine for me . But ...</td>\n",
       "      <td>1</td>\n",
       "      <td>0.5423</td>\n",
       "      <td>0.233333</td>\n",
       "      <td>-0.524368</td>\n",
       "      <td>-0.999811</td>\n",
       "    </tr>\n",
       "    <tr>\n",
       "      <th>3</th>\n",
       "      <td>3</td>\n",
       "      <td>18291</td>\n",
       "      <td>Your best isn't good enough . Back in my day ...</td>\n",
       "      <td>-1</td>\n",
       "      <td>0.8169</td>\n",
       "      <td>0.389286</td>\n",
       "      <td>-0.832147</td>\n",
       "      <td>-0.961241</td>\n",
       "    </tr>\n",
       "    <tr>\n",
       "      <th>4</th>\n",
       "      <td>4</td>\n",
       "      <td>42665</td>\n",
       "      <td>Happy Women's Day . I love you forever , Mum .</td>\n",
       "      <td>1</td>\n",
       "      <td>0.8360</td>\n",
       "      <td>0.650000</td>\n",
       "      <td>0.988252</td>\n",
       "      <td>0.991436</td>\n",
       "    </tr>\n",
       "    <tr>\n",
       "      <th>...</th>\n",
       "      <td>...</td>\n",
       "      <td>...</td>\n",
       "      <td>...</td>\n",
       "      <td>...</td>\n",
       "      <td>...</td>\n",
       "      <td>...</td>\n",
       "      <td>...</td>\n",
       "      <td>...</td>\n",
       "    </tr>\n",
       "    <tr>\n",
       "      <th>1995</th>\n",
       "      <td>1995</td>\n",
       "      <td>6702</td>\n",
       "      <td>Thank you .</td>\n",
       "      <td>1</td>\n",
       "      <td>0.3612</td>\n",
       "      <td>0.000000</td>\n",
       "      <td>0.941535</td>\n",
       "      <td>0.921120</td>\n",
       "    </tr>\n",
       "    <tr>\n",
       "      <th>1996</th>\n",
       "      <td>1996</td>\n",
       "      <td>44170</td>\n",
       "      <td>Oh , Mary , come in , please . I'm so happy to...</td>\n",
       "      <td>1</td>\n",
       "      <td>0.7425</td>\n",
       "      <td>0.800000</td>\n",
       "      <td>0.983824</td>\n",
       "      <td>0.995976</td>\n",
       "    </tr>\n",
       "    <tr>\n",
       "      <th>1997</th>\n",
       "      <td>1997</td>\n",
       "      <td>37295</td>\n",
       "      <td>I hate to see the abuse of animals .</td>\n",
       "      <td>-1</td>\n",
       "      <td>-0.8360</td>\n",
       "      <td>-0.800000</td>\n",
       "      <td>-0.939537</td>\n",
       "      <td>-0.997917</td>\n",
       "    </tr>\n",
       "    <tr>\n",
       "      <th>1998</th>\n",
       "      <td>1998</td>\n",
       "      <td>12770</td>\n",
       "      <td>Happy birthday , John . Many happy returns of ...</td>\n",
       "      <td>1</td>\n",
       "      <td>0.8268</td>\n",
       "      <td>0.766667</td>\n",
       "      <td>0.986409</td>\n",
       "      <td>0.995637</td>\n",
       "    </tr>\n",
       "    <tr>\n",
       "      <th>1999</th>\n",
       "      <td>1999</td>\n",
       "      <td>68403</td>\n",
       "      <td>Good-bye . See you again sometime .</td>\n",
       "      <td>1</td>\n",
       "      <td>0.0000</td>\n",
       "      <td>0.000000</td>\n",
       "      <td>0.521043</td>\n",
       "      <td>0.820117</td>\n",
       "    </tr>\n",
       "  </tbody>\n",
       "</table>\n",
       "<p>2000 rows × 8 columns</p>\n",
       "</div>"
      ],
      "text/plain": [
       "      Unnamed: 0  Unnamed: 0.1  \\\n",
       "0              0         50368   \n",
       "1              1         75655   \n",
       "2              2         43391   \n",
       "3              3         18291   \n",
       "4              4         42665   \n",
       "...          ...           ...   \n",
       "1995        1995          6702   \n",
       "1996        1996         44170   \n",
       "1997        1997         37295   \n",
       "1998        1998         12770   \n",
       "1999        1999         68403   \n",
       "\n",
       "                                               Headline  Sentiment   vader  \\\n",
       "0      Well , the life style is much more relaxed th...          1  0.7082   \n",
       "1     I have a complaint to make . I've just been ba...         -1 -0.8074   \n",
       "2      Yes , orange juice will be fine for me . But ...          1  0.5423   \n",
       "3      Your best isn't good enough . Back in my day ...         -1  0.8169   \n",
       "4       Happy Women's Day . I love you forever , Mum .           1  0.8360   \n",
       "...                                                 ...        ...     ...   \n",
       "1995                                       Thank you .           1  0.3612   \n",
       "1996  Oh , Mary , come in , please . I'm so happy to...          1  0.7425   \n",
       "1997              I hate to see the abuse of animals .          -1 -0.8360   \n",
       "1998  Happy birthday , John . Many happy returns of ...          1  0.8268   \n",
       "1999               Good-bye . See you again sometime .           1  0.0000   \n",
       "\n",
       "      textblob      bert     flair  \n",
       "0     0.625000  0.961384  0.947213  \n",
       "1    -0.433333 -0.922043 -0.999424  \n",
       "2     0.233333 -0.524368 -0.999811  \n",
       "3     0.389286 -0.832147 -0.961241  \n",
       "4     0.650000  0.988252  0.991436  \n",
       "...        ...       ...       ...  \n",
       "1995  0.000000  0.941535  0.921120  \n",
       "1996  0.800000  0.983824  0.995976  \n",
       "1997 -0.800000 -0.939537 -0.997917  \n",
       "1998  0.766667  0.986409  0.995637  \n",
       "1999  0.000000  0.521043  0.820117  \n",
       "\n",
       "[2000 rows x 8 columns]"
      ]
     },
     "execution_count": 467,
     "metadata": {},
     "output_type": "execute_result"
    }
   ],
   "source": [
    "newsheadline_corr_analysis"
   ]
  },
  {
   "cell_type": "code",
   "execution_count": 468,
   "id": "a271b4d6",
   "metadata": {},
   "outputs": [],
   "source": [
    "def polarity(val):\n",
    "    if val >= 0:\n",
    "        return 1\n",
    "    else:\n",
    "        return -1\n",
    "    \n",
    "    "
   ]
  },
  {
   "cell_type": "code",
   "execution_count": 469,
   "id": "28ff6560",
   "metadata": {},
   "outputs": [
    {
     "data": {
      "text/plain": [
       "(array([532., 175.,  64.,   1., 435.,   0.,   2.,  61.,  87., 643.]),\n",
       " array([-0.95959288, -0.76449915, -0.56940541, -0.37431168, -0.17921795,\n",
       "         0.01587579,  0.21096952,  0.40606325,  0.60115699,  0.79625072,\n",
       "         0.99134445]),\n",
       " <a list of 10 Patch objects>)"
      ]
     },
     "execution_count": 469,
     "metadata": {},
     "output_type": "execute_result"
    },
    {
     "data": {
      "image/png": "[encoded data removed]",
      "text/plain": [
       "<Figure size 720x432 with 1 Axes>"
      ]
     },
     "metadata": {
      "needs_background": "light"
     },
     "output_type": "display_data"
    }
   ],
   "source": [
    "plt.hist(newsheadline_corr_analysis['bert'])\n"
   ]
  },
  {
   "cell_type": "code",
   "execution_count": 470,
   "id": "4ace7ce0",
   "metadata": {},
   "outputs": [
    {
     "data": {
      "text/html": [
       "<div>\n",
       "<style scoped>\n",
       "    .dataframe tbody tr th:only-of-type {\n",
       "        vertical-align: middle;\n",
       "    }\n",
       "\n",
       "    .dataframe tbody tr th {\n",
       "        vertical-align: top;\n",
       "    }\n",
       "\n",
       "    .dataframe thead th {\n",
       "        text-align: right;\n",
       "    }\n",
       "</style>\n",
       "<table border=\"1\" class=\"dataframe\">\n",
       "  <thead>\n",
       "    <tr style=\"text-align: right;\">\n",
       "      <th></th>\n",
       "      <th>bert</th>\n",
       "      <th>vader</th>\n",
       "      <th>textblob</th>\n",
       "      <th>flair</th>\n",
       "      <th>Sentiment</th>\n",
       "    </tr>\n",
       "  </thead>\n",
       "  <tbody>\n",
       "    <tr>\n",
       "      <th>bert</th>\n",
       "      <td>1.000000</td>\n",
       "      <td>0.722911</td>\n",
       "      <td>0.651264</td>\n",
       "      <td>0.722975</td>\n",
       "      <td>0.816126</td>\n",
       "    </tr>\n",
       "    <tr>\n",
       "      <th>vader</th>\n",
       "      <td>0.722911</td>\n",
       "      <td>1.000000</td>\n",
       "      <td>0.607264</td>\n",
       "      <td>0.573792</td>\n",
       "      <td>0.608115</td>\n",
       "    </tr>\n",
       "    <tr>\n",
       "      <th>textblob</th>\n",
       "      <td>0.651264</td>\n",
       "      <td>0.607264</td>\n",
       "      <td>1.000000</td>\n",
       "      <td>0.497788</td>\n",
       "      <td>0.565209</td>\n",
       "    </tr>\n",
       "    <tr>\n",
       "      <th>flair</th>\n",
       "      <td>0.722975</td>\n",
       "      <td>0.573792</td>\n",
       "      <td>0.497788</td>\n",
       "      <td>1.000000</td>\n",
       "      <td>0.659630</td>\n",
       "    </tr>\n",
       "    <tr>\n",
       "      <th>Sentiment</th>\n",
       "      <td>0.816126</td>\n",
       "      <td>0.608115</td>\n",
       "      <td>0.565209</td>\n",
       "      <td>0.659630</td>\n",
       "      <td>1.000000</td>\n",
       "    </tr>\n",
       "  </tbody>\n",
       "</table>\n",
       "</div>"
      ],
      "text/plain": [
       "               bert     vader  textblob     flair  Sentiment\n",
       "bert       1.000000  0.722911  0.651264  0.722975   0.816126\n",
       "vader      0.722911  1.000000  0.607264  0.573792   0.608115\n",
       "textblob   0.651264  0.607264  1.000000  0.497788   0.565209\n",
       "flair      0.722975  0.573792  0.497788  1.000000   0.659630\n",
       "Sentiment  0.816126  0.608115  0.565209  0.659630   1.000000"
      ]
     },
     "execution_count": 470,
     "metadata": {},
     "output_type": "execute_result"
    }
   ],
   "source": [
    "newsheadline_corr_analysis[['bert','vader','textblob','flair','Sentiment']].corr()"
   ]
  },
  {
   "cell_type": "code",
   "execution_count": 471,
   "id": "09127154",
   "metadata": {},
   "outputs": [],
   "source": [
    "newsheadline_corr_analysis['vader_polarity'] = newsheadline_corr_analysis.apply(lambda x: polarity(x['vader']), axis=1)\n",
    "newsheadline_corr_analysis['textblob_polarity'] = newsheadline_corr_analysis.apply(lambda x: polarity(x['textblob']), axis=1)\n",
    "newsheadline_corr_analysis['bert_polarity'] = newsheadline_corr_analysis.apply(lambda x: polarity(x['bert']), axis=1)\n",
    "newsheadline_corr_analysis['flair_polarity'] = newsheadline_corr_analysis.apply(lambda x: polarity(x['flair']), axis=1)"
   ]
  },
  {
   "cell_type": "code",
   "execution_count": 472,
   "id": "2adcf637",
   "metadata": {},
   "outputs": [
    {
     "data": {
      "text/html": [
       "<div>\n",
       "<style scoped>\n",
       "    .dataframe tbody tr th:only-of-type {\n",
       "        vertical-align: middle;\n",
       "    }\n",
       "\n",
       "    .dataframe tbody tr th {\n",
       "        vertical-align: top;\n",
       "    }\n",
       "\n",
       "    .dataframe thead th {\n",
       "        text-align: right;\n",
       "    }\n",
       "</style>\n",
       "<table border=\"1\" class=\"dataframe\">\n",
       "  <thead>\n",
       "    <tr style=\"text-align: right;\">\n",
       "      <th></th>\n",
       "      <th>bert_polarity</th>\n",
       "      <th>vader_polarity</th>\n",
       "      <th>textblob_polarity</th>\n",
       "      <th>flair_polarity</th>\n",
       "      <th>Sentiment</th>\n",
       "    </tr>\n",
       "  </thead>\n",
       "  <tbody>\n",
       "    <tr>\n",
       "      <th>bert_polarity</th>\n",
       "      <td>1.000000</td>\n",
       "      <td>0.587820</td>\n",
       "      <td>0.526719</td>\n",
       "      <td>0.620097</td>\n",
       "      <td>0.743585</td>\n",
       "    </tr>\n",
       "    <tr>\n",
       "      <th>vader_polarity</th>\n",
       "      <td>0.587820</td>\n",
       "      <td>1.000000</td>\n",
       "      <td>0.515422</td>\n",
       "      <td>0.487012</td>\n",
       "      <td>0.519495</td>\n",
       "    </tr>\n",
       "    <tr>\n",
       "      <th>textblob_polarity</th>\n",
       "      <td>0.526719</td>\n",
       "      <td>0.515422</td>\n",
       "      <td>1.000000</td>\n",
       "      <td>0.419606</td>\n",
       "      <td>0.474061</td>\n",
       "    </tr>\n",
       "    <tr>\n",
       "      <th>flair_polarity</th>\n",
       "      <td>0.620097</td>\n",
       "      <td>0.487012</td>\n",
       "      <td>0.419606</td>\n",
       "      <td>1.000000</td>\n",
       "      <td>0.639899</td>\n",
       "    </tr>\n",
       "    <tr>\n",
       "      <th>Sentiment</th>\n",
       "      <td>0.743585</td>\n",
       "      <td>0.519495</td>\n",
       "      <td>0.474061</td>\n",
       "      <td>0.639899</td>\n",
       "      <td>1.000000</td>\n",
       "    </tr>\n",
       "  </tbody>\n",
       "</table>\n",
       "</div>"
      ],
      "text/plain": [
       "                   bert_polarity  vader_polarity  textblob_polarity  \\\n",
       "bert_polarity           1.000000        0.587820           0.526719   \n",
       "vader_polarity          0.587820        1.000000           0.515422   \n",
       "textblob_polarity       0.526719        0.515422           1.000000   \n",
       "flair_polarity          0.620097        0.487012           0.419606   \n",
       "Sentiment               0.743585        0.519495           0.474061   \n",
       "\n",
       "                   flair_polarity  Sentiment  \n",
       "bert_polarity            0.620097   0.743585  \n",
       "vader_polarity           0.487012   0.519495  \n",
       "textblob_polarity        0.419606   0.474061  \n",
       "flair_polarity           1.000000   0.639899  \n",
       "Sentiment                0.639899   1.000000  "
      ]
     },
     "execution_count": 472,
     "metadata": {},
     "output_type": "execute_result"
    }
   ],
   "source": [
    "newsheadline_corr_analysis[['bert_polarity','vader_polarity','textblob_polarity','flair_polarity','Sentiment']].corr()"
   ]
  },
  {
   "cell_type": "code",
   "execution_count": 473,
   "id": "f336277d",
   "metadata": {},
   "outputs": [
    {
     "data": {
      "text/html": [
       "<div>\n",
       "<style scoped>\n",
       "    .dataframe tbody tr th:only-of-type {\n",
       "        vertical-align: middle;\n",
       "    }\n",
       "\n",
       "    .dataframe tbody tr th {\n",
       "        vertical-align: top;\n",
       "    }\n",
       "\n",
       "    .dataframe thead th {\n",
       "        text-align: right;\n",
       "    }\n",
       "</style>\n",
       "<table border=\"1\" class=\"dataframe\">\n",
       "  <thead>\n",
       "    <tr style=\"text-align: right;\">\n",
       "      <th></th>\n",
       "      <th>Unnamed: 0</th>\n",
       "      <th>Unnamed: 0.1</th>\n",
       "      <th>Headline</th>\n",
       "      <th>Sentiment</th>\n",
       "      <th>vader</th>\n",
       "      <th>textblob</th>\n",
       "      <th>bert</th>\n",
       "      <th>flair</th>\n",
       "      <th>vader_polarity</th>\n",
       "      <th>textblob_polarity</th>\n",
       "      <th>bert_polarity</th>\n",
       "      <th>flair_polarity</th>\n",
       "    </tr>\n",
       "  </thead>\n",
       "  <tbody>\n",
       "    <tr>\n",
       "      <th>0</th>\n",
       "      <td>0</td>\n",
       "      <td>50368</td>\n",
       "      <td>Well , the life style is much more relaxed th...</td>\n",
       "      <td>1</td>\n",
       "      <td>0.7082</td>\n",
       "      <td>0.625000</td>\n",
       "      <td>0.961384</td>\n",
       "      <td>0.947213</td>\n",
       "      <td>1</td>\n",
       "      <td>1</td>\n",
       "      <td>1</td>\n",
       "      <td>1</td>\n",
       "    </tr>\n",
       "    <tr>\n",
       "      <th>1</th>\n",
       "      <td>1</td>\n",
       "      <td>75655</td>\n",
       "      <td>I have a complaint to make . I've just been ba...</td>\n",
       "      <td>-1</td>\n",
       "      <td>-0.8074</td>\n",
       "      <td>-0.433333</td>\n",
       "      <td>-0.922043</td>\n",
       "      <td>-0.999424</td>\n",
       "      <td>-1</td>\n",
       "      <td>-1</td>\n",
       "      <td>-1</td>\n",
       "      <td>-1</td>\n",
       "    </tr>\n",
       "    <tr>\n",
       "      <th>2</th>\n",
       "      <td>2</td>\n",
       "      <td>43391</td>\n",
       "      <td>Yes , orange juice will be fine for me . But ...</td>\n",
       "      <td>1</td>\n",
       "      <td>0.5423</td>\n",
       "      <td>0.233333</td>\n",
       "      <td>-0.524368</td>\n",
       "      <td>-0.999811</td>\n",
       "      <td>1</td>\n",
       "      <td>1</td>\n",
       "      <td>-1</td>\n",
       "      <td>-1</td>\n",
       "    </tr>\n",
       "    <tr>\n",
       "      <th>3</th>\n",
       "      <td>3</td>\n",
       "      <td>18291</td>\n",
       "      <td>Your best isn't good enough . Back in my day ...</td>\n",
       "      <td>-1</td>\n",
       "      <td>0.8169</td>\n",
       "      <td>0.389286</td>\n",
       "      <td>-0.832147</td>\n",
       "      <td>-0.961241</td>\n",
       "      <td>1</td>\n",
       "      <td>1</td>\n",
       "      <td>-1</td>\n",
       "      <td>-1</td>\n",
       "    </tr>\n",
       "    <tr>\n",
       "      <th>4</th>\n",
       "      <td>4</td>\n",
       "      <td>42665</td>\n",
       "      <td>Happy Women's Day . I love you forever , Mum .</td>\n",
       "      <td>1</td>\n",
       "      <td>0.8360</td>\n",
       "      <td>0.650000</td>\n",
       "      <td>0.988252</td>\n",
       "      <td>0.991436</td>\n",
       "      <td>1</td>\n",
       "      <td>1</td>\n",
       "      <td>1</td>\n",
       "      <td>1</td>\n",
       "    </tr>\n",
       "  </tbody>\n",
       "</table>\n",
       "</div>"
      ],
      "text/plain": [
       "   Unnamed: 0  Unnamed: 0.1  \\\n",
       "0           0         50368   \n",
       "1           1         75655   \n",
       "2           2         43391   \n",
       "3           3         18291   \n",
       "4           4         42665   \n",
       "\n",
       "                                            Headline  Sentiment   vader  \\\n",
       "0   Well , the life style is much more relaxed th...          1  0.7082   \n",
       "1  I have a complaint to make . I've just been ba...         -1 -0.8074   \n",
       "2   Yes , orange juice will be fine for me . But ...          1  0.5423   \n",
       "3   Your best isn't good enough . Back in my day ...         -1  0.8169   \n",
       "4    Happy Women's Day . I love you forever , Mum .           1  0.8360   \n",
       "\n",
       "   textblob      bert     flair  vader_polarity  textblob_polarity  \\\n",
       "0  0.625000  0.961384  0.947213               1                  1   \n",
       "1 -0.433333 -0.922043 -0.999424              -1                 -1   \n",
       "2  0.233333 -0.524368 -0.999811               1                  1   \n",
       "3  0.389286 -0.832147 -0.961241               1                  1   \n",
       "4  0.650000  0.988252  0.991436               1                  1   \n",
       "\n",
       "   bert_polarity  flair_polarity  \n",
       "0              1               1  \n",
       "1             -1              -1  \n",
       "2             -1              -1  \n",
       "3             -1              -1  \n",
       "4              1               1  "
      ]
     },
     "execution_count": 473,
     "metadata": {},
     "output_type": "execute_result"
    }
   ],
   "source": [
    "newsheadline_corr_analysis.head()"
   ]
  },
  {
   "cell_type": "code",
   "execution_count": 474,
   "id": "68c691db",
   "metadata": {},
   "outputs": [
    {
     "data": {
      "text/plain": [
       "<matplotlib.axes._subplots.AxesSubplot at 0x7fe0150429d0>"
      ]
     },
     "execution_count": 474,
     "metadata": {},
     "output_type": "execute_result"
    },
    {
     "data": {
      "image/png": "[encoded data removed]",
      "text/plain": [
       "<Figure size 720x432 with 2 Axes>"
      ]
     },
     "metadata": {
      "needs_background": "light"
     },
     "output_type": "display_data"
    }
   ],
   "source": [
    "cordata = pd.DataFrame(newsheadline_corr_analysis[['bert_polarity','vader_polarity','textblob_polarity','flair_polarity','Sentiment']].corr())\n",
    "cordata.to_csv('corrdata_conversational.csv')\n",
    "sns.heatmap (cordata,cmap='Blues')"
   ]
  },
  {
   "cell_type": "code",
   "execution_count": 475,
   "id": "91503214",
   "metadata": {},
   "outputs": [
    {
     "data": {
      "text/html": [
       "<div>\n",
       "<style scoped>\n",
       "    .dataframe tbody tr th:only-of-type {\n",
       "        vertical-align: middle;\n",
       "    }\n",
       "\n",
       "    .dataframe tbody tr th {\n",
       "        vertical-align: top;\n",
       "    }\n",
       "\n",
       "    .dataframe thead th {\n",
       "        text-align: right;\n",
       "    }\n",
       "</style>\n",
       "<table border=\"1\" class=\"dataframe\">\n",
       "  <thead>\n",
       "    <tr style=\"text-align: right;\">\n",
       "      <th></th>\n",
       "      <th>bert_polarity</th>\n",
       "      <th>vader_polarity</th>\n",
       "      <th>textblob_polarity</th>\n",
       "      <th>flair_polarity</th>\n",
       "      <th>Sentiment</th>\n",
       "    </tr>\n",
       "  </thead>\n",
       "  <tbody>\n",
       "    <tr>\n",
       "      <th>bert_polarity</th>\n",
       "      <td>1.000000</td>\n",
       "      <td>0.587820</td>\n",
       "      <td>0.526719</td>\n",
       "      <td>0.620097</td>\n",
       "      <td>0.743585</td>\n",
       "    </tr>\n",
       "    <tr>\n",
       "      <th>vader_polarity</th>\n",
       "      <td>0.587820</td>\n",
       "      <td>1.000000</td>\n",
       "      <td>0.515422</td>\n",
       "      <td>0.487012</td>\n",
       "      <td>0.519495</td>\n",
       "    </tr>\n",
       "    <tr>\n",
       "      <th>textblob_polarity</th>\n",
       "      <td>0.526719</td>\n",
       "      <td>0.515422</td>\n",
       "      <td>1.000000</td>\n",
       "      <td>0.419606</td>\n",
       "      <td>0.474061</td>\n",
       "    </tr>\n",
       "    <tr>\n",
       "      <th>flair_polarity</th>\n",
       "      <td>0.620097</td>\n",
       "      <td>0.487012</td>\n",
       "      <td>0.419606</td>\n",
       "      <td>1.000000</td>\n",
       "      <td>0.639899</td>\n",
       "    </tr>\n",
       "    <tr>\n",
       "      <th>Sentiment</th>\n",
       "      <td>0.743585</td>\n",
       "      <td>0.519495</td>\n",
       "      <td>0.474061</td>\n",
       "      <td>0.639899</td>\n",
       "      <td>1.000000</td>\n",
       "    </tr>\n",
       "  </tbody>\n",
       "</table>\n",
       "</div>"
      ],
      "text/plain": [
       "                   bert_polarity  vader_polarity  textblob_polarity  \\\n",
       "bert_polarity           1.000000        0.587820           0.526719   \n",
       "vader_polarity          0.587820        1.000000           0.515422   \n",
       "textblob_polarity       0.526719        0.515422           1.000000   \n",
       "flair_polarity          0.620097        0.487012           0.419606   \n",
       "Sentiment               0.743585        0.519495           0.474061   \n",
       "\n",
       "                   flair_polarity  Sentiment  \n",
       "bert_polarity            0.620097   0.743585  \n",
       "vader_polarity           0.487012   0.519495  \n",
       "textblob_polarity        0.419606   0.474061  \n",
       "flair_polarity           1.000000   0.639899  \n",
       "Sentiment                0.639899   1.000000  "
      ]
     },
     "execution_count": 475,
     "metadata": {},
     "output_type": "execute_result"
    }
   ],
   "source": [
    "cordata.head()"
   ]
  },
  {
   "cell_type": "code",
   "execution_count": 476,
   "id": "2a9d76b7",
   "metadata": {},
   "outputs": [],
   "source": [
    "newsheadline_corr_analysis = newsheadline_corr_analysis[(newsheadline_corr_analysis['vader'] != 0) |\n",
    "                   (newsheadline_corr_analysis['textblob'] != 0) |\n",
    "                   (newsheadline_corr_analysis['bert'] != 0) |\n",
    "                   (newsheadline_corr_analysis['flair'] != 0) ]\n",
    "\n"
   ]
  },
  {
   "cell_type": "code",
   "execution_count": 477,
   "id": "e91350f7",
   "metadata": {},
   "outputs": [
    {
     "data": {
      "text/html": [
       "<div>\n",
       "<style scoped>\n",
       "    .dataframe tbody tr th:only-of-type {\n",
       "        vertical-align: middle;\n",
       "    }\n",
       "\n",
       "    .dataframe tbody tr th {\n",
       "        vertical-align: top;\n",
       "    }\n",
       "\n",
       "    .dataframe thead th {\n",
       "        text-align: right;\n",
       "    }\n",
       "</style>\n",
       "<table border=\"1\" class=\"dataframe\">\n",
       "  <thead>\n",
       "    <tr style=\"text-align: right;\">\n",
       "      <th></th>\n",
       "      <th>vader</th>\n",
       "      <th>textblob</th>\n",
       "      <th>bert</th>\n",
       "      <th>flair</th>\n",
       "      <th>Sentiment</th>\n",
       "    </tr>\n",
       "  </thead>\n",
       "  <tbody>\n",
       "    <tr>\n",
       "      <th>vader</th>\n",
       "      <td>1.000000</td>\n",
       "      <td>0.607264</td>\n",
       "      <td>0.722911</td>\n",
       "      <td>0.573792</td>\n",
       "      <td>0.608115</td>\n",
       "    </tr>\n",
       "    <tr>\n",
       "      <th>textblob</th>\n",
       "      <td>0.607264</td>\n",
       "      <td>1.000000</td>\n",
       "      <td>0.651264</td>\n",
       "      <td>0.497788</td>\n",
       "      <td>0.565209</td>\n",
       "    </tr>\n",
       "    <tr>\n",
       "      <th>bert</th>\n",
       "      <td>0.722911</td>\n",
       "      <td>0.651264</td>\n",
       "      <td>1.000000</td>\n",
       "      <td>0.722975</td>\n",
       "      <td>0.816126</td>\n",
       "    </tr>\n",
       "    <tr>\n",
       "      <th>flair</th>\n",
       "      <td>0.573792</td>\n",
       "      <td>0.497788</td>\n",
       "      <td>0.722975</td>\n",
       "      <td>1.000000</td>\n",
       "      <td>0.659630</td>\n",
       "    </tr>\n",
       "    <tr>\n",
       "      <th>Sentiment</th>\n",
       "      <td>0.608115</td>\n",
       "      <td>0.565209</td>\n",
       "      <td>0.816126</td>\n",
       "      <td>0.659630</td>\n",
       "      <td>1.000000</td>\n",
       "    </tr>\n",
       "  </tbody>\n",
       "</table>\n",
       "</div>"
      ],
      "text/plain": [
       "              vader  textblob      bert     flair  Sentiment\n",
       "vader      1.000000  0.607264  0.722911  0.573792   0.608115\n",
       "textblob   0.607264  1.000000  0.651264  0.497788   0.565209\n",
       "bert       0.722911  0.651264  1.000000  0.722975   0.816126\n",
       "flair      0.573792  0.497788  0.722975  1.000000   0.659630\n",
       "Sentiment  0.608115  0.565209  0.816126  0.659630   1.000000"
      ]
     },
     "execution_count": 477,
     "metadata": {},
     "output_type": "execute_result"
    }
   ],
   "source": [
    "newsheadline_corr_analysis[['vader','textblob','bert','flair','Sentiment']].corr()\n",
    "\n",
    "\n"
   ]
  },
  {
   "cell_type": "code",
   "execution_count": 478,
   "id": "76d42fd7",
   "metadata": {},
   "outputs": [
    {
     "data": {
      "text/html": [
       "<div>\n",
       "<style scoped>\n",
       "    .dataframe tbody tr th:only-of-type {\n",
       "        vertical-align: middle;\n",
       "    }\n",
       "\n",
       "    .dataframe tbody tr th {\n",
       "        vertical-align: top;\n",
       "    }\n",
       "\n",
       "    .dataframe thead th {\n",
       "        text-align: right;\n",
       "    }\n",
       "</style>\n",
       "<table border=\"1\" class=\"dataframe\">\n",
       "  <thead>\n",
       "    <tr style=\"text-align: right;\">\n",
       "      <th></th>\n",
       "      <th>Unnamed: 0</th>\n",
       "      <th>Unnamed: 0.1</th>\n",
       "      <th>Headline</th>\n",
       "      <th>Sentiment</th>\n",
       "      <th>vader</th>\n",
       "      <th>textblob</th>\n",
       "      <th>bert</th>\n",
       "      <th>flair</th>\n",
       "      <th>vader_polarity</th>\n",
       "      <th>textblob_polarity</th>\n",
       "      <th>bert_polarity</th>\n",
       "      <th>flair_polarity</th>\n",
       "    </tr>\n",
       "  </thead>\n",
       "  <tbody>\n",
       "    <tr>\n",
       "      <th>0</th>\n",
       "      <td>0</td>\n",
       "      <td>50368</td>\n",
       "      <td>Well , the life style is much more relaxed th...</td>\n",
       "      <td>1</td>\n",
       "      <td>0.7082</td>\n",
       "      <td>0.625000</td>\n",
       "      <td>0.961384</td>\n",
       "      <td>0.947213</td>\n",
       "      <td>1</td>\n",
       "      <td>1</td>\n",
       "      <td>1</td>\n",
       "      <td>1</td>\n",
       "    </tr>\n",
       "    <tr>\n",
       "      <th>1</th>\n",
       "      <td>1</td>\n",
       "      <td>75655</td>\n",
       "      <td>I have a complaint to make . I've just been ba...</td>\n",
       "      <td>-1</td>\n",
       "      <td>-0.8074</td>\n",
       "      <td>-0.433333</td>\n",
       "      <td>-0.922043</td>\n",
       "      <td>-0.999424</td>\n",
       "      <td>-1</td>\n",
       "      <td>-1</td>\n",
       "      <td>-1</td>\n",
       "      <td>-1</td>\n",
       "    </tr>\n",
       "    <tr>\n",
       "      <th>2</th>\n",
       "      <td>2</td>\n",
       "      <td>43391</td>\n",
       "      <td>Yes , orange juice will be fine for me . But ...</td>\n",
       "      <td>1</td>\n",
       "      <td>0.5423</td>\n",
       "      <td>0.233333</td>\n",
       "      <td>-0.524368</td>\n",
       "      <td>-0.999811</td>\n",
       "      <td>1</td>\n",
       "      <td>1</td>\n",
       "      <td>-1</td>\n",
       "      <td>-1</td>\n",
       "    </tr>\n",
       "    <tr>\n",
       "      <th>3</th>\n",
       "      <td>3</td>\n",
       "      <td>18291</td>\n",
       "      <td>Your best isn't good enough . Back in my day ...</td>\n",
       "      <td>-1</td>\n",
       "      <td>0.8169</td>\n",
       "      <td>0.389286</td>\n",
       "      <td>-0.832147</td>\n",
       "      <td>-0.961241</td>\n",
       "      <td>1</td>\n",
       "      <td>1</td>\n",
       "      <td>-1</td>\n",
       "      <td>-1</td>\n",
       "    </tr>\n",
       "    <tr>\n",
       "      <th>4</th>\n",
       "      <td>4</td>\n",
       "      <td>42665</td>\n",
       "      <td>Happy Women's Day . I love you forever , Mum .</td>\n",
       "      <td>1</td>\n",
       "      <td>0.8360</td>\n",
       "      <td>0.650000</td>\n",
       "      <td>0.988252</td>\n",
       "      <td>0.991436</td>\n",
       "      <td>1</td>\n",
       "      <td>1</td>\n",
       "      <td>1</td>\n",
       "      <td>1</td>\n",
       "    </tr>\n",
       "  </tbody>\n",
       "</table>\n",
       "</div>"
      ],
      "text/plain": [
       "   Unnamed: 0  Unnamed: 0.1  \\\n",
       "0           0         50368   \n",
       "1           1         75655   \n",
       "2           2         43391   \n",
       "3           3         18291   \n",
       "4           4         42665   \n",
       "\n",
       "                                            Headline  Sentiment   vader  \\\n",
       "0   Well , the life style is much more relaxed th...          1  0.7082   \n",
       "1  I have a complaint to make . I've just been ba...         -1 -0.8074   \n",
       "2   Yes , orange juice will be fine for me . But ...          1  0.5423   \n",
       "3   Your best isn't good enough . Back in my day ...         -1  0.8169   \n",
       "4    Happy Women's Day . I love you forever , Mum .           1  0.8360   \n",
       "\n",
       "   textblob      bert     flair  vader_polarity  textblob_polarity  \\\n",
       "0  0.625000  0.961384  0.947213               1                  1   \n",
       "1 -0.433333 -0.922043 -0.999424              -1                 -1   \n",
       "2  0.233333 -0.524368 -0.999811               1                  1   \n",
       "3  0.389286 -0.832147 -0.961241               1                  1   \n",
       "4  0.650000  0.988252  0.991436               1                  1   \n",
       "\n",
       "   bert_polarity  flair_polarity  \n",
       "0              1               1  \n",
       "1             -1              -1  \n",
       "2             -1              -1  \n",
       "3             -1              -1  \n",
       "4              1               1  "
      ]
     },
     "execution_count": 478,
     "metadata": {},
     "output_type": "execute_result"
    }
   ],
   "source": [
    "newsheadline_corr_analysis.head()"
   ]
  },
  {
   "cell_type": "code",
   "execution_count": 479,
   "id": "718eade5",
   "metadata": {},
   "outputs": [],
   "source": [
    "from sklearn import metrics\n",
    "from sklearn.metrics import classification_report\n",
    "\n",
    "#\n"
   ]
  },
  {
   "attachments": {},
   "cell_type": "markdown",
   "id": "f6e05bb1",
   "metadata": {},
   "source": [
    "### Vader"
   ]
  },
  {
   "cell_type": "code",
   "execution_count": 480,
   "id": "7f7ac32a",
   "metadata": {},
   "outputs": [
    {
     "name": "stdout",
     "output_type": "stream",
     "text": [
      "              precision    recall  f1-score   support\n",
      "\n",
      "          -1       0.93      0.50      0.65      1000\n",
      "           1       0.66      0.96      0.78      1000\n",
      "\n",
      "    accuracy                           0.73      2000\n",
      "   macro avg       0.79      0.73      0.72      2000\n",
      "weighted avg       0.79      0.73      0.72      2000\n",
      "\n"
     ]
    },
    {
     "data": {
      "image/png": "[encoded data removed]",
      "text/plain": [
       "<Figure size 720x432 with 2 Axes>"
      ]
     },
     "metadata": {
      "needs_background": "light"
     },
     "output_type": "display_data"
    }
   ],
   "source": [
    "print(classification_report(newsheadline_corr_analysis['Sentiment'],newsheadline_corr_analysis['vader_polarity'])) # \n",
    "confusion_matrix_vader = metrics.confusion_matrix(newsheadline_corr_analysis['Sentiment'], newsheadline_corr_analysis['vader_polarity'])\n",
    "cm_bert = metrics.ConfusionMatrixDisplay(confusion_matrix = confusion_matrix_vader, display_labels = [False, True])\n",
    "cm_bert.plot()\n",
    "plt.show()"
   ]
  },
  {
   "attachments": {},
   "cell_type": "markdown",
   "id": "f1b75b31",
   "metadata": {},
   "source": [
    "### Textblob"
   ]
  },
  {
   "cell_type": "code",
   "execution_count": 481,
   "id": "2444f94d",
   "metadata": {},
   "outputs": [
    {
     "name": "stdout",
     "output_type": "stream",
     "text": [
      "              precision    recall  f1-score   support\n",
      "\n",
      "          -1       0.91      0.45      0.61      1000\n",
      "           1       0.64      0.96      0.76      1000\n",
      "\n",
      "    accuracy                           0.70      2000\n",
      "   macro avg       0.77      0.70      0.69      2000\n",
      "weighted avg       0.77      0.70      0.69      2000\n",
      "\n"
     ]
    },
    {
     "data": {
      "image/png": "[encoded data removed]",
      "text/plain": [
       "<Figure size 720x432 with 2 Axes>"
      ]
     },
     "metadata": {
      "needs_background": "light"
     },
     "output_type": "display_data"
    }
   ],
   "source": [
    "print(classification_report(newsheadline_corr_analysis['Sentiment'],newsheadline_corr_analysis['textblob_polarity'])) # \n",
    "confusion_matrix_tb = metrics.confusion_matrix(newsheadline_corr_analysis['Sentiment'], newsheadline_corr_analysis['textblob_polarity'])\n",
    "cm_tb = metrics.ConfusionMatrixDisplay(confusion_matrix = confusion_matrix_tb, display_labels = [False, True])\n",
    "cm_tb.plot()\n",
    "plt.show()"
   ]
  },
  {
   "attachments": {},
   "cell_type": "markdown",
   "id": "e77a752e",
   "metadata": {},
   "source": [
    "### Bert"
   ]
  },
  {
   "cell_type": "code",
   "execution_count": 482,
   "id": "ff29e2e8",
   "metadata": {},
   "outputs": [
    {
     "name": "stdout",
     "output_type": "stream",
     "text": [
      "              precision    recall  f1-score   support\n",
      "\n",
      "          -1       0.97      0.75      0.84      1000\n",
      "           1       0.79      0.98      0.88      1000\n",
      "\n",
      "    accuracy                           0.86      2000\n",
      "   macro avg       0.88      0.86      0.86      2000\n",
      "weighted avg       0.88      0.86      0.86      2000\n",
      "\n"
     ]
    },
    {
     "data": {
      "image/png": "[encoded data removed]",
      "text/plain": [
       "<Figure size 720x432 with 2 Axes>"
      ]
     },
     "metadata": {
      "needs_background": "light"
     },
     "output_type": "display_data"
    }
   ],
   "source": [
    "print(classification_report(newsheadline_corr_analysis['Sentiment'],newsheadline_corr_analysis['bert_polarity'])) # \n",
    "confusion_matrix_bert = metrics.confusion_matrix(newsheadline_corr_analysis['Sentiment'], newsheadline_corr_analysis['bert_polarity'])\n",
    "cm_bert = metrics.ConfusionMatrixDisplay(confusion_matrix = confusion_matrix_bert, display_labels = [False, True])\n",
    "cm_bert.plot()\n",
    "plt.show()"
   ]
  },
  {
   "attachments": {},
   "cell_type": "markdown",
   "id": "a8070aaa",
   "metadata": {},
   "source": [
    "### Flair"
   ]
  },
  {
   "cell_type": "code",
   "execution_count": 483,
   "id": "24c26fac",
   "metadata": {},
   "outputs": [
    {
     "name": "stdout",
     "output_type": "stream",
     "text": [
      "              precision    recall  f1-score   support\n",
      "\n",
      "          -1       0.84      0.79      0.81      1000\n",
      "           1       0.80      0.85      0.82      1000\n",
      "\n",
      "    accuracy                           0.82      2000\n",
      "   macro avg       0.82      0.82      0.82      2000\n",
      "weighted avg       0.82      0.82      0.82      2000\n",
      "\n"
     ]
    },
    {
     "data": {
      "image/png": "[encoded data removed]",
      "text/plain": [
       "<Figure size 720x432 with 2 Axes>"
      ]
     },
     "metadata": {
      "needs_background": "light"
     },
     "output_type": "display_data"
    }
   ],
   "source": [
    "print(classification_report(newsheadline_corr_analysis['Sentiment'],newsheadline_corr_analysis['flair_polarity'])) # \n",
    "confusion_matrix_flair = metrics.confusion_matrix(newsheadline_corr_analysis['Sentiment'], newsheadline_corr_analysis['flair_polarity'])\n",
    "cm_flair = metrics.ConfusionMatrixDisplay(confusion_matrix = confusion_matrix_flair, display_labels = [False, True])\n",
    "cm_flair.plot()\n",
    "plt.show()"
   ]
  },
  {
   "attachments": {},
   "cell_type": "markdown",
   "id": "7d18b672",
   "metadata": {},
   "source": [
    "### Data analysis"
   ]
  },
  {
   "cell_type": "code",
   "execution_count": 484,
   "id": "80e0799f",
   "metadata": {},
   "outputs": [
    {
     "data": {
      "text/html": [
       "<div>\n",
       "<style scoped>\n",
       "    .dataframe tbody tr th:only-of-type {\n",
       "        vertical-align: middle;\n",
       "    }\n",
       "\n",
       "    .dataframe tbody tr th {\n",
       "        vertical-align: top;\n",
       "    }\n",
       "\n",
       "    .dataframe thead th {\n",
       "        text-align: right;\n",
       "    }\n",
       "</style>\n",
       "<table border=\"1\" class=\"dataframe\">\n",
       "  <thead>\n",
       "    <tr style=\"text-align: right;\">\n",
       "      <th></th>\n",
       "      <th>Unnamed: 0</th>\n",
       "      <th>Unnamed: 0.1</th>\n",
       "      <th>Headline</th>\n",
       "      <th>Sentiment</th>\n",
       "      <th>vader</th>\n",
       "      <th>textblob</th>\n",
       "      <th>bert</th>\n",
       "      <th>flair</th>\n",
       "      <th>vader_polarity</th>\n",
       "      <th>textblob_polarity</th>\n",
       "      <th>bert_polarity</th>\n",
       "      <th>flair_polarity</th>\n",
       "    </tr>\n",
       "  </thead>\n",
       "  <tbody>\n",
       "    <tr>\n",
       "      <th>0</th>\n",
       "      <td>0</td>\n",
       "      <td>50368</td>\n",
       "      <td>Well , the life style is much more relaxed th...</td>\n",
       "      <td>1</td>\n",
       "      <td>0.7082</td>\n",
       "      <td>0.625000</td>\n",
       "      <td>0.961384</td>\n",
       "      <td>0.947213</td>\n",
       "      <td>1</td>\n",
       "      <td>1</td>\n",
       "      <td>1</td>\n",
       "      <td>1</td>\n",
       "    </tr>\n",
       "    <tr>\n",
       "      <th>1</th>\n",
       "      <td>1</td>\n",
       "      <td>75655</td>\n",
       "      <td>I have a complaint to make . I've just been ba...</td>\n",
       "      <td>-1</td>\n",
       "      <td>-0.8074</td>\n",
       "      <td>-0.433333</td>\n",
       "      <td>-0.922043</td>\n",
       "      <td>-0.999424</td>\n",
       "      <td>-1</td>\n",
       "      <td>-1</td>\n",
       "      <td>-1</td>\n",
       "      <td>-1</td>\n",
       "    </tr>\n",
       "    <tr>\n",
       "      <th>2</th>\n",
       "      <td>2</td>\n",
       "      <td>43391</td>\n",
       "      <td>Yes , orange juice will be fine for me . But ...</td>\n",
       "      <td>1</td>\n",
       "      <td>0.5423</td>\n",
       "      <td>0.233333</td>\n",
       "      <td>-0.524368</td>\n",
       "      <td>-0.999811</td>\n",
       "      <td>1</td>\n",
       "      <td>1</td>\n",
       "      <td>-1</td>\n",
       "      <td>-1</td>\n",
       "    </tr>\n",
       "    <tr>\n",
       "      <th>3</th>\n",
       "      <td>3</td>\n",
       "      <td>18291</td>\n",
       "      <td>Your best isn't good enough . Back in my day ...</td>\n",
       "      <td>-1</td>\n",
       "      <td>0.8169</td>\n",
       "      <td>0.389286</td>\n",
       "      <td>-0.832147</td>\n",
       "      <td>-0.961241</td>\n",
       "      <td>1</td>\n",
       "      <td>1</td>\n",
       "      <td>-1</td>\n",
       "      <td>-1</td>\n",
       "    </tr>\n",
       "    <tr>\n",
       "      <th>4</th>\n",
       "      <td>4</td>\n",
       "      <td>42665</td>\n",
       "      <td>Happy Women's Day . I love you forever , Mum .</td>\n",
       "      <td>1</td>\n",
       "      <td>0.8360</td>\n",
       "      <td>0.650000</td>\n",
       "      <td>0.988252</td>\n",
       "      <td>0.991436</td>\n",
       "      <td>1</td>\n",
       "      <td>1</td>\n",
       "      <td>1</td>\n",
       "      <td>1</td>\n",
       "    </tr>\n",
       "  </tbody>\n",
       "</table>\n",
       "</div>"
      ],
      "text/plain": [
       "   Unnamed: 0  Unnamed: 0.1  \\\n",
       "0           0         50368   \n",
       "1           1         75655   \n",
       "2           2         43391   \n",
       "3           3         18291   \n",
       "4           4         42665   \n",
       "\n",
       "                                            Headline  Sentiment   vader  \\\n",
       "0   Well , the life style is much more relaxed th...          1  0.7082   \n",
       "1  I have a complaint to make . I've just been ba...         -1 -0.8074   \n",
       "2   Yes , orange juice will be fine for me . But ...          1  0.5423   \n",
       "3   Your best isn't good enough . Back in my day ...         -1  0.8169   \n",
       "4    Happy Women's Day . I love you forever , Mum .           1  0.8360   \n",
       "\n",
       "   textblob      bert     flair  vader_polarity  textblob_polarity  \\\n",
       "0  0.625000  0.961384  0.947213               1                  1   \n",
       "1 -0.433333 -0.922043 -0.999424              -1                 -1   \n",
       "2  0.233333 -0.524368 -0.999811               1                  1   \n",
       "3  0.389286 -0.832147 -0.961241               1                  1   \n",
       "4  0.650000  0.988252  0.991436               1                  1   \n",
       "\n",
       "   bert_polarity  flair_polarity  \n",
       "0              1               1  \n",
       "1             -1              -1  \n",
       "2             -1              -1  \n",
       "3             -1              -1  \n",
       "4              1               1  "
      ]
     },
     "execution_count": 484,
     "metadata": {},
     "output_type": "execute_result"
    }
   ],
   "source": [
    "\n",
    "newsheadline_corr_analysis.head()\n",
    "\n"
   ]
  },
  {
   "cell_type": "code",
   "execution_count": 485,
   "id": "c489c6e4",
   "metadata": {},
   "outputs": [
    {
     "data": {
      "text/plain": [
       " 1    1000\n",
       "-1    1000\n",
       "Name: Sentiment, dtype: int64"
      ]
     },
     "execution_count": 485,
     "metadata": {},
     "output_type": "execute_result"
    }
   ],
   "source": [
    "newsheadline_corr_analysis['Sentiment'].value_counts()\n",
    "## This is a skewed dataset\n",
    "# Therefore Precision - Recall curve will be bette than the ROC curve in this case"
   ]
  },
  {
   "cell_type": "code",
   "execution_count": 486,
   "id": "9ed84306",
   "metadata": {},
   "outputs": [
    {
     "data": {
      "text/plain": [
       "(array([1000.,    0.,    0.,    0.,    0.,    0.,    0.,    0.,    0.,\n",
       "        1000.]),\n",
       " array([-1. , -0.8, -0.6, -0.4, -0.2,  0. ,  0.2,  0.4,  0.6,  0.8,  1. ]),\n",
       " <a list of 10 Patch objects>)"
      ]
     },
     "execution_count": 486,
     "metadata": {},
     "output_type": "execute_result"
    },
    {
     "data": {
      "image/png": "[encoded data removed]",
      "text/plain": [
       "<Figure size 720x432 with 1 Axes>"
      ]
     },
     "metadata": {
      "needs_background": "light"
     },
     "output_type": "display_data"
    }
   ],
   "source": [
    "plt.hist(newsheadline_corr_analysis['Sentiment'])"
   ]
  },
  {
   "attachments": {},
   "cell_type": "markdown",
   "id": "5cf1b83c",
   "metadata": {},
   "source": [
    "## Training and Testing using Logistic Regressor"
   ]
  },
  {
   "attachments": {},
   "cell_type": "markdown",
   "id": "8a7fec56",
   "metadata": {},
   "source": [
    "### Training and Checking "
   ]
  },
  {
   "cell_type": "code",
   "execution_count": 487,
   "id": "d52f9bb1",
   "metadata": {},
   "outputs": [],
   "source": [
    "from sklearn.linear_model import LogisticRegression\n",
    "from sklearn.preprocessing import MinMaxScaler\n"
   ]
  },
  {
   "cell_type": "code",
   "execution_count": 488,
   "id": "9ebd9fbc",
   "metadata": {},
   "outputs": [],
   "source": [
    "mmscaler = MinMaxScaler()"
   ]
  },
  {
   "cell_type": "code",
   "execution_count": 489,
   "id": "fdb32c44",
   "metadata": {},
   "outputs": [],
   "source": [
    "logmodel = LogisticRegression()\n"
   ]
  },
  {
   "cell_type": "code",
   "execution_count": 490,
   "id": "51e20d33",
   "metadata": {},
   "outputs": [],
   "source": [
    "\n",
    "our_data=newsheadline_corr_analysis\n",
    "\n"
   ]
  },
  {
   "cell_type": "code",
   "execution_count": 491,
   "id": "f0d2cab3",
   "metadata": {},
   "outputs": [],
   "source": [
    "X = our_data[['textblob','vader','bert','flair','vader_polarity','textblob_polarity','bert_polarity','flair_polarity','Sentiment']]\n",
    "y = our_data['Sentiment']"
   ]
  },
  {
   "cell_type": "code",
   "execution_count": 492,
   "id": "e1fd3f94",
   "metadata": {},
   "outputs": [],
   "source": [
    "from sklearn.model_selection import train_test_split"
   ]
  },
  {
   "cell_type": "code",
   "execution_count": 493,
   "id": "bf50a9bf",
   "metadata": {},
   "outputs": [],
   "source": [
    "X_train,X_test,y_train,y_test = train_test_split(X,y,test_size=0.3)"
   ]
  },
  {
   "cell_type": "code",
   "execution_count": 494,
   "id": "039442c1",
   "metadata": {},
   "outputs": [
    {
     "data": {
      "text/plain": [
       "(600,)"
      ]
     },
     "execution_count": 494,
     "metadata": {},
     "output_type": "execute_result"
    }
   ],
   "source": [
    "y_test.shape\n",
    "\n"
   ]
  },
  {
   "cell_type": "code",
   "execution_count": 495,
   "id": "516649ac",
   "metadata": {},
   "outputs": [
    {
     "data": {
      "text/html": [
       "<div>\n",
       "<style scoped>\n",
       "    .dataframe tbody tr th:only-of-type {\n",
       "        vertical-align: middle;\n",
       "    }\n",
       "\n",
       "    .dataframe tbody tr th {\n",
       "        vertical-align: top;\n",
       "    }\n",
       "\n",
       "    .dataframe thead th {\n",
       "        text-align: right;\n",
       "    }\n",
       "</style>\n",
       "<table border=\"1\" class=\"dataframe\">\n",
       "  <thead>\n",
       "    <tr style=\"text-align: right;\">\n",
       "      <th></th>\n",
       "      <th>textblob</th>\n",
       "      <th>vader</th>\n",
       "      <th>bert</th>\n",
       "      <th>flair</th>\n",
       "      <th>vader_polarity</th>\n",
       "      <th>textblob_polarity</th>\n",
       "      <th>bert_polarity</th>\n",
       "      <th>flair_polarity</th>\n",
       "      <th>Sentiment</th>\n",
       "    </tr>\n",
       "  </thead>\n",
       "  <tbody>\n",
       "    <tr>\n",
       "      <th>671</th>\n",
       "      <td>0.000</td>\n",
       "      <td>0.1891</td>\n",
       "      <td>-0.539095</td>\n",
       "      <td>0.999126</td>\n",
       "      <td>1</td>\n",
       "      <td>1</td>\n",
       "      <td>-1</td>\n",
       "      <td>1</td>\n",
       "      <td>1</td>\n",
       "    </tr>\n",
       "    <tr>\n",
       "      <th>247</th>\n",
       "      <td>0.500</td>\n",
       "      <td>0.3182</td>\n",
       "      <td>0.000000</td>\n",
       "      <td>0.990095</td>\n",
       "      <td>1</td>\n",
       "      <td>1</td>\n",
       "      <td>1</td>\n",
       "      <td>1</td>\n",
       "      <td>1</td>\n",
       "    </tr>\n",
       "    <tr>\n",
       "      <th>1782</th>\n",
       "      <td>0.700</td>\n",
       "      <td>0.4404</td>\n",
       "      <td>0.963083</td>\n",
       "      <td>0.983641</td>\n",
       "      <td>1</td>\n",
       "      <td>1</td>\n",
       "      <td>1</td>\n",
       "      <td>1</td>\n",
       "      <td>1</td>\n",
       "    </tr>\n",
       "    <tr>\n",
       "      <th>1884</th>\n",
       "      <td>0.000</td>\n",
       "      <td>0.5429</td>\n",
       "      <td>-0.698515</td>\n",
       "      <td>-0.999988</td>\n",
       "      <td>1</td>\n",
       "      <td>1</td>\n",
       "      <td>-1</td>\n",
       "      <td>-1</td>\n",
       "      <td>-1</td>\n",
       "    </tr>\n",
       "    <tr>\n",
       "      <th>354</th>\n",
       "      <td>-0.500</td>\n",
       "      <td>-0.0772</td>\n",
       "      <td>-0.832700</td>\n",
       "      <td>-0.998605</td>\n",
       "      <td>-1</td>\n",
       "      <td>-1</td>\n",
       "      <td>-1</td>\n",
       "      <td>-1</td>\n",
       "      <td>-1</td>\n",
       "    </tr>\n",
       "    <tr>\n",
       "      <th>...</th>\n",
       "      <td>...</td>\n",
       "      <td>...</td>\n",
       "      <td>...</td>\n",
       "      <td>...</td>\n",
       "      <td>...</td>\n",
       "      <td>...</td>\n",
       "      <td>...</td>\n",
       "      <td>...</td>\n",
       "      <td>...</td>\n",
       "    </tr>\n",
       "    <tr>\n",
       "      <th>1993</th>\n",
       "      <td>0.600</td>\n",
       "      <td>0.4215</td>\n",
       "      <td>0.950262</td>\n",
       "      <td>0.989830</td>\n",
       "      <td>1</td>\n",
       "      <td>1</td>\n",
       "      <td>1</td>\n",
       "      <td>1</td>\n",
       "      <td>1</td>\n",
       "    </tr>\n",
       "    <tr>\n",
       "      <th>38</th>\n",
       "      <td>-0.025</td>\n",
       "      <td>0.8122</td>\n",
       "      <td>0.954324</td>\n",
       "      <td>0.997780</td>\n",
       "      <td>1</td>\n",
       "      <td>-1</td>\n",
       "      <td>1</td>\n",
       "      <td>1</td>\n",
       "      <td>1</td>\n",
       "    </tr>\n",
       "    <tr>\n",
       "      <th>957</th>\n",
       "      <td>-0.300</td>\n",
       "      <td>-0.5267</td>\n",
       "      <td>-0.939122</td>\n",
       "      <td>-0.998861</td>\n",
       "      <td>-1</td>\n",
       "      <td>-1</td>\n",
       "      <td>-1</td>\n",
       "      <td>-1</td>\n",
       "      <td>-1</td>\n",
       "    </tr>\n",
       "    <tr>\n",
       "      <th>1588</th>\n",
       "      <td>0.000</td>\n",
       "      <td>0.2023</td>\n",
       "      <td>0.000000</td>\n",
       "      <td>0.985174</td>\n",
       "      <td>1</td>\n",
       "      <td>1</td>\n",
       "      <td>1</td>\n",
       "      <td>1</td>\n",
       "      <td>1</td>\n",
       "    </tr>\n",
       "    <tr>\n",
       "      <th>1613</th>\n",
       "      <td>0.375</td>\n",
       "      <td>0.4795</td>\n",
       "      <td>0.976007</td>\n",
       "      <td>0.995202</td>\n",
       "      <td>1</td>\n",
       "      <td>1</td>\n",
       "      <td>1</td>\n",
       "      <td>1</td>\n",
       "      <td>1</td>\n",
       "    </tr>\n",
       "  </tbody>\n",
       "</table>\n",
       "<p>1400 rows × 9 columns</p>\n",
       "</div>"
      ],
      "text/plain": [
       "      textblob   vader      bert     flair  vader_polarity  textblob_polarity  \\\n",
       "671      0.000  0.1891 -0.539095  0.999126               1                  1   \n",
       "247      0.500  0.3182  0.000000  0.990095               1                  1   \n",
       "1782     0.700  0.4404  0.963083  0.983641               1                  1   \n",
       "1884     0.000  0.5429 -0.698515 -0.999988               1                  1   \n",
       "354     -0.500 -0.0772 -0.832700 -0.998605              -1                 -1   \n",
       "...        ...     ...       ...       ...             ...                ...   \n",
       "1993     0.600  0.4215  0.950262  0.989830               1                  1   \n",
       "38      -0.025  0.8122  0.954324  0.997780               1                 -1   \n",
       "957     -0.300 -0.5267 -0.939122 -0.998861              -1                 -1   \n",
       "1588     0.000  0.2023  0.000000  0.985174               1                  1   \n",
       "1613     0.375  0.4795  0.976007  0.995202               1                  1   \n",
       "\n",
       "      bert_polarity  flair_polarity  Sentiment  \n",
       "671              -1               1          1  \n",
       "247               1               1          1  \n",
       "1782              1               1          1  \n",
       "1884             -1              -1         -1  \n",
       "354              -1              -1         -1  \n",
       "...             ...             ...        ...  \n",
       "1993              1               1          1  \n",
       "38                1               1          1  \n",
       "957              -1              -1         -1  \n",
       "1588              1               1          1  \n",
       "1613              1               1          1  \n",
       "\n",
       "[1400 rows x 9 columns]"
      ]
     },
     "execution_count": 495,
     "metadata": {},
     "output_type": "execute_result"
    }
   ],
   "source": [
    "X_train"
   ]
  },
  {
   "cell_type": "code",
   "execution_count": 496,
   "id": "b2ef0b9a",
   "metadata": {},
   "outputs": [],
   "source": [
    "X_train_full = X_train\n",
    "X_train = X_train [['vader','textblob','bert','flair']]\n",
    "X_train = mmscaler.fit_transform(X_train)"
   ]
  },
  {
   "cell_type": "code",
   "execution_count": 497,
   "id": "f9cc7b0d",
   "metadata": {},
   "outputs": [],
   "source": [
    "X_test_full = X_test\n",
    "X_test = X_test [['vader','textblob','bert','flair']]\n",
    "X_test = mmscaler.fit_transform(X_test)\n"
   ]
  },
  {
   "cell_type": "code",
   "execution_count": 498,
   "id": "c93de08b",
   "metadata": {},
   "outputs": [
    {
     "data": {
      "text/plain": [
       "LogisticRegression()"
      ]
     },
     "execution_count": 498,
     "metadata": {},
     "output_type": "execute_result"
    }
   ],
   "source": [
    "\n",
    "\n",
    "logmodel.fit(X_train,y_train) # Outputs are -1 and 1"
   ]
  },
  {
   "cell_type": "code",
   "execution_count": 499,
   "id": "af43c6e3",
   "metadata": {},
   "outputs": [
    {
     "data": {
      "text/plain": [
       "array([[5.88863504e-01, 5.00000000e-01, 2.15536372e-01, 9.99572720e-01],\n",
       "       [6.57457096e-01, 7.50000000e-01, 4.91862483e-01, 9.95057293e-01],\n",
       "       [7.22384570e-01, 8.50000000e-01, 9.85513742e-01, 9.91829937e-01],\n",
       "       ...,\n",
       "       [2.08543648e-01, 3.50000000e-01, 1.04927709e-02, 5.68812990e-04],\n",
       "       [5.95876946e-01, 5.00000000e-01, 4.91862483e-01, 9.92596341e-01],\n",
       "       [7.43159237e-01, 6.87500000e-01, 9.92138289e-01, 9.97610723e-01]])"
      ]
     },
     "execution_count": 499,
     "metadata": {},
     "output_type": "execute_result"
    }
   ],
   "source": [
    "X_train"
   ]
  },
  {
   "cell_type": "code",
   "execution_count": 500,
   "id": "2341bd48",
   "metadata": {},
   "outputs": [],
   "source": [
    "predictions = logmodel.predict(X_train)\n",
    "probs = logmodel.predict_proba(X_train)\n"
   ]
  },
  {
   "cell_type": "code",
   "execution_count": 501,
   "id": "15fd1703",
   "metadata": {},
   "outputs": [
    {
     "name": "stderr",
     "output_type": "stream",
     "text": [
      "/Users/amitobe/opt/anaconda3/envs/nlp_course/lib/python3.7/site-packages/sklearn/base.py:444: UserWarning: X has feature names, but LogisticRegression was fitted without feature names\n",
      "  f\"X has feature names, but {self.__class__.__name__} was fitted without\"\n"
     ]
    },
    {
     "data": {
      "text/plain": [
       "array([[0.17707706, 0.82292294]])"
      ]
     },
     "execution_count": 501,
     "metadata": {},
     "output_type": "execute_result"
    }
   ],
   "source": [
    "xx =pd.DataFrame([{'vader':.8,'textblob':.4,'bert':.8,'flair':.62}])\n",
    "tem = logmodel.predict_proba(xx)\n",
    "tem\n",
    "\n"
   ]
  },
  {
   "cell_type": "code",
   "execution_count": 502,
   "id": "5c9f3a15",
   "metadata": {},
   "outputs": [
    {
     "data": {
      "text/plain": [
       "(1400, 2)"
      ]
     },
     "execution_count": 502,
     "metadata": {},
     "output_type": "execute_result"
    }
   ],
   "source": [
    "probs.shape\n",
    "\n",
    "\n"
   ]
  },
  {
   "cell_type": "code",
   "execution_count": 503,
   "id": "118ef202",
   "metadata": {},
   "outputs": [
    {
     "data": {
      "text/plain": [
       "(1400, 3)"
      ]
     },
     "execution_count": 503,
     "metadata": {},
     "output_type": "execute_result"
    }
   ],
   "source": [
    "\n",
    "probsdf = pd.DataFrame(probs)\n",
    "probsdf['trth'] = y_train.to_numpy()\n",
    "#aplha = 0.80\n",
    "#high_prob_data = probsdf[(probsdf[1] > aplha) | (probsdf[0] > aplha)]\n",
    "#probsdf = high_prob_data\n",
    "probsdf.shape\n"
   ]
  },
  {
   "attachments": {},
   "cell_type": "markdown",
   "id": "68e9fd78",
   "metadata": {},
   "source": [
    "### ROC Curve Analysis"
   ]
  },
  {
   "cell_type": "code",
   "execution_count": 504,
   "id": "b273daab",
   "metadata": {},
   "outputs": [],
   "source": [
    "import matplotlib\n",
    "import matplotlib.pyplot as pyplot"
   ]
  },
  {
   "cell_type": "code",
   "execution_count": 505,
   "id": "a5a5bdbd",
   "metadata": {},
   "outputs": [
    {
     "name": "stdout",
     "output_type": "stream",
     "text": [
      "Logistic: ROC AUC=0.962\n"
     ]
    },
    {
     "data": {
      "image/png": "[encoded data removed]",
      "text/plain": [
       "<Figure size 720x432 with 1 Axes>"
      ]
     },
     "metadata": {
      "needs_background": "light"
     },
     "output_type": "display_data"
    }
   ],
   "source": [
    "lr_probs = probs[:,[1]]\n",
    "lr_auc = roc_auc_score(y_train, lr_probs)\n",
    "# summarize scores\n",
    "\n",
    "print('Logistic: ROC AUC=%.3f' % (lr_auc))\n",
    "# calculate roc curves\n",
    "\n",
    "lr_fpr, lr_tpr, thr = roc_curve(y_train, lr_probs)\n",
    "# plot the roc curve for the model # pyplot.plot(ns_fpr, ns_tpr, linestyle='--', label='No Skill')\n",
    "pyplot.plot(lr_fpr, lr_tpr, marker='.', label='Logistic')\n",
    "# axis labels\n",
    "pyplot.xlabel('False Positive Rate')\n",
    "pyplot.ylabel('True Positive Rate')\n",
    "# show the legend\n",
    "pyplot.legend()\n",
    "# show the plot\n",
    "pyplot.show()"
   ]
  },
  {
   "cell_type": "code",
   "execution_count": 506,
   "id": "4665c23b",
   "metadata": {},
   "outputs": [
    {
     "data": {
      "text/plain": [
       "0.5753171815526325"
      ]
     },
     "execution_count": 506,
     "metadata": {},
     "output_type": "execute_result"
    }
   ],
   "source": [
    "optimal_idx = np.argmax(lr_tpr - lr_fpr) #we need to maximise TP-FP\n",
    "thr[optimal_idx]"
   ]
  },
  {
   "cell_type": "code",
   "execution_count": 507,
   "id": "0e5d47e6",
   "metadata": {},
   "outputs": [],
   "source": [
    "alpha_thresh = thr[optimal_idx]\n",
    "\n",
    "def label_pol (prob_score):\n",
    "    \n",
    "    if prob_score[1] > alpha_thresh:\n",
    "        return 1\n",
    "    else:\n",
    "       return -1\n"
   ]
  },
  {
   "cell_type": "code",
   "execution_count": 508,
   "id": "64af43f8",
   "metadata": {},
   "outputs": [
    {
     "data": {
      "text/html": [
       "<div>\n",
       "<style scoped>\n",
       "    .dataframe tbody tr th:only-of-type {\n",
       "        vertical-align: middle;\n",
       "    }\n",
       "\n",
       "    .dataframe tbody tr th {\n",
       "        vertical-align: top;\n",
       "    }\n",
       "\n",
       "    .dataframe thead th {\n",
       "        text-align: right;\n",
       "    }\n",
       "</style>\n",
       "<table border=\"1\" class=\"dataframe\">\n",
       "  <thead>\n",
       "    <tr style=\"text-align: right;\">\n",
       "      <th></th>\n",
       "      <th>0</th>\n",
       "      <th>1</th>\n",
       "      <th>trth</th>\n",
       "      <th>label_pol_pred</th>\n",
       "    </tr>\n",
       "  </thead>\n",
       "  <tbody>\n",
       "    <tr>\n",
       "      <th>0</th>\n",
       "      <td>0.745801</td>\n",
       "      <td>0.254199</td>\n",
       "      <td>1</td>\n",
       "      <td>-1</td>\n",
       "    </tr>\n",
       "    <tr>\n",
       "      <th>1</th>\n",
       "      <td>0.261687</td>\n",
       "      <td>0.738313</td>\n",
       "      <td>1</td>\n",
       "      <td>1</td>\n",
       "    </tr>\n",
       "    <tr>\n",
       "      <th>2</th>\n",
       "      <td>0.018494</td>\n",
       "      <td>0.981506</td>\n",
       "      <td>1</td>\n",
       "      <td>1</td>\n",
       "    </tr>\n",
       "    <tr>\n",
       "      <th>3</th>\n",
       "      <td>0.931654</td>\n",
       "      <td>0.068346</td>\n",
       "      <td>-1</td>\n",
       "      <td>-1</td>\n",
       "    </tr>\n",
       "    <tr>\n",
       "      <th>4</th>\n",
       "      <td>0.978888</td>\n",
       "      <td>0.021112</td>\n",
       "      <td>-1</td>\n",
       "      <td>-1</td>\n",
       "    </tr>\n",
       "  </tbody>\n",
       "</table>\n",
       "</div>"
      ],
      "text/plain": [
       "          0         1  trth  label_pol_pred\n",
       "0  0.745801  0.254199     1              -1\n",
       "1  0.261687  0.738313     1               1\n",
       "2  0.018494  0.981506     1               1\n",
       "3  0.931654  0.068346    -1              -1\n",
       "4  0.978888  0.021112    -1              -1"
      ]
     },
     "execution_count": 508,
     "metadata": {},
     "output_type": "execute_result"
    }
   ],
   "source": [
    "probsdf['label_pol_pred'] = probsdf.apply (lambda row: label_pol(row), axis=1)\n",
    "probsdf.head()\n",
    "\n"
   ]
  },
  {
   "cell_type": "code",
   "execution_count": 509,
   "id": "9059a365",
   "metadata": {},
   "outputs": [
    {
     "name": "stdout",
     "output_type": "stream",
     "text": [
      "                   -1           1  accuracy    macro avg  weighted avg\n",
      "precision    0.879287    0.906110  0.892143     0.892698      0.892622\n",
      "recall       0.910511    0.873563  0.892143     0.892037      0.892143\n",
      "f1-score     0.894627    0.889539  0.892143     0.892083      0.892097\n",
      "support    704.000000  696.000000  0.892143  1400.000000   1400.000000\n"
     ]
    }
   ],
   "source": [
    "from sklearn import metrics\n",
    "print(pd.DataFrame(metrics.classification_report(probsdf['trth'],probsdf['label_pol_pred'],output_dict=True)))\n",
    "\n",
    "\n"
   ]
  },
  {
   "attachments": {},
   "cell_type": "markdown",
   "id": "d8ee8922",
   "metadata": {},
   "source": [
    "\n",
    "### Data Capture Threshold Analysis"
   ]
  },
  {
   "cell_type": "code",
   "execution_count": 510,
   "id": "a2afb7d4",
   "metadata": {},
   "outputs": [],
   "source": [
    "threshold_analysis = pd.DataFrame({'Thresh_alpha':[0],'Accuracy':[0],'Percent_data_capture':[0],'Precision':[0],'Recall':[0],'f1':[0]})\n",
    "detl_threshold = pd.DataFrame({'Thresh_alpha':[],'Accuracy':[],'Percent_data_capture':[],'Precision':[],'Recall':[],'f1':[]})\n",
    "for i in range (4,92):\n",
    "    alpha_th = i*.01\n",
    "    res1 = pd.DataFrame(classification_report(probsdf['trth'][(probsdf[1]>alpha_th)|(probsdf[0]>alpha_th)],probsdf['label_pol_pred'][(probsdf[1]>alpha_th)|(probsdf[0]>alpha_th)],output_dict=True))\n",
    "    threshold_analysis['Accuracy']= res1['accuracy'].iloc[0]\n",
    "    threshold_analysis['Percent_data_capture'] = probsdf['trth'][(probsdf[1]>alpha_th)|(probsdf[0]>alpha_th)].count()/probsdf['trth'].count()\n",
    "    threshold_analysis['Thresh_alpha'] = alpha_th\n",
    "    threshold_analysis['Precision'] = res1['1'].loc['precision']\n",
    "    threshold_analysis['Recall'] = res1['1'].loc['recall']\n",
    "    threshold_analysis['f1'] = res1['1'].loc['f1-score']\n",
    "    detl_threshold = detl_threshold.append(threshold_analysis)"
   ]
  },
  {
   "cell_type": "code",
   "execution_count": 511,
   "id": "ce77bc18",
   "metadata": {},
   "outputs": [
    {
     "data": {
      "text/html": [
       "<div>\n",
       "<style scoped>\n",
       "    .dataframe tbody tr th:only-of-type {\n",
       "        vertical-align: middle;\n",
       "    }\n",
       "\n",
       "    .dataframe tbody tr th {\n",
       "        vertical-align: top;\n",
       "    }\n",
       "\n",
       "    .dataframe thead th {\n",
       "        text-align: right;\n",
       "    }\n",
       "</style>\n",
       "<table border=\"1\" class=\"dataframe\">\n",
       "  <thead>\n",
       "    <tr style=\"text-align: right;\">\n",
       "      <th></th>\n",
       "      <th>-1</th>\n",
       "      <th>1</th>\n",
       "      <th>accuracy</th>\n",
       "      <th>macro avg</th>\n",
       "      <th>weighted avg</th>\n",
       "    </tr>\n",
       "  </thead>\n",
       "  <tbody>\n",
       "    <tr>\n",
       "      <th>precision</th>\n",
       "      <td>0.987124</td>\n",
       "      <td>0.973029</td>\n",
       "      <td>0.979958</td>\n",
       "      <td>0.980077</td>\n",
       "      <td>0.980062</td>\n",
       "    </tr>\n",
       "    <tr>\n",
       "      <th>recall</th>\n",
       "      <td>0.972516</td>\n",
       "      <td>0.987368</td>\n",
       "      <td>0.979958</td>\n",
       "      <td>0.979942</td>\n",
       "      <td>0.979958</td>\n",
       "    </tr>\n",
       "    <tr>\n",
       "      <th>f1-score</th>\n",
       "      <td>0.979766</td>\n",
       "      <td>0.980146</td>\n",
       "      <td>0.979958</td>\n",
       "      <td>0.979956</td>\n",
       "      <td>0.979956</td>\n",
       "    </tr>\n",
       "    <tr>\n",
       "      <th>support</th>\n",
       "      <td>473.000000</td>\n",
       "      <td>475.000000</td>\n",
       "      <td>0.979958</td>\n",
       "      <td>948.000000</td>\n",
       "      <td>948.000000</td>\n",
       "    </tr>\n",
       "  </tbody>\n",
       "</table>\n",
       "</div>"
      ],
      "text/plain": [
       "                   -1           1  accuracy   macro avg  weighted avg\n",
       "precision    0.987124    0.973029  0.979958    0.980077      0.980062\n",
       "recall       0.972516    0.987368  0.979958    0.979942      0.979958\n",
       "f1-score     0.979766    0.980146  0.979958    0.979956      0.979956\n",
       "support    473.000000  475.000000  0.979958  948.000000    948.000000"
      ]
     },
     "execution_count": 511,
     "metadata": {},
     "output_type": "execute_result"
    }
   ],
   "source": [
    "res1"
   ]
  },
  {
   "cell_type": "code",
   "execution_count": 512,
   "id": "8e0154e6",
   "metadata": {},
   "outputs": [
    {
     "data": {
      "text/html": [
       "<div>\n",
       "<style scoped>\n",
       "    .dataframe tbody tr th:only-of-type {\n",
       "        vertical-align: middle;\n",
       "    }\n",
       "\n",
       "    .dataframe tbody tr th {\n",
       "        vertical-align: top;\n",
       "    }\n",
       "\n",
       "    .dataframe thead th {\n",
       "        text-align: right;\n",
       "    }\n",
       "</style>\n",
       "<table border=\"1\" class=\"dataframe\">\n",
       "  <thead>\n",
       "    <tr style=\"text-align: right;\">\n",
       "      <th></th>\n",
       "      <th>Thresh_alpha</th>\n",
       "      <th>Accuracy</th>\n",
       "      <th>Percent_data_capture</th>\n",
       "      <th>Precision</th>\n",
       "      <th>Recall</th>\n",
       "      <th>f1</th>\n",
       "    </tr>\n",
       "  </thead>\n",
       "  <tbody>\n",
       "    <tr>\n",
       "      <th>0</th>\n",
       "      <td>0.04</td>\n",
       "      <td>0.892143</td>\n",
       "      <td>1.0</td>\n",
       "      <td>0.90611</td>\n",
       "      <td>0.873563</td>\n",
       "      <td>0.889539</td>\n",
       "    </tr>\n",
       "    <tr>\n",
       "      <th>0</th>\n",
       "      <td>0.05</td>\n",
       "      <td>0.892143</td>\n",
       "      <td>1.0</td>\n",
       "      <td>0.90611</td>\n",
       "      <td>0.873563</td>\n",
       "      <td>0.889539</td>\n",
       "    </tr>\n",
       "    <tr>\n",
       "      <th>0</th>\n",
       "      <td>0.06</td>\n",
       "      <td>0.892143</td>\n",
       "      <td>1.0</td>\n",
       "      <td>0.90611</td>\n",
       "      <td>0.873563</td>\n",
       "      <td>0.889539</td>\n",
       "    </tr>\n",
       "    <tr>\n",
       "      <th>0</th>\n",
       "      <td>0.07</td>\n",
       "      <td>0.892143</td>\n",
       "      <td>1.0</td>\n",
       "      <td>0.90611</td>\n",
       "      <td>0.873563</td>\n",
       "      <td>0.889539</td>\n",
       "    </tr>\n",
       "    <tr>\n",
       "      <th>0</th>\n",
       "      <td>0.08</td>\n",
       "      <td>0.892143</td>\n",
       "      <td>1.0</td>\n",
       "      <td>0.90611</td>\n",
       "      <td>0.873563</td>\n",
       "      <td>0.889539</td>\n",
       "    </tr>\n",
       "  </tbody>\n",
       "</table>\n",
       "</div>"
      ],
      "text/plain": [
       "   Thresh_alpha  Accuracy  Percent_data_capture  Precision    Recall        f1\n",
       "0          0.04  0.892143                   1.0    0.90611  0.873563  0.889539\n",
       "0          0.05  0.892143                   1.0    0.90611  0.873563  0.889539\n",
       "0          0.06  0.892143                   1.0    0.90611  0.873563  0.889539\n",
       "0          0.07  0.892143                   1.0    0.90611  0.873563  0.889539\n",
       "0          0.08  0.892143                   1.0    0.90611  0.873563  0.889539"
      ]
     },
     "execution_count": 512,
     "metadata": {},
     "output_type": "execute_result"
    }
   ],
   "source": [
    "detl_threshold.head()"
   ]
  },
  {
   "cell_type": "code",
   "execution_count": 513,
   "id": "c7c7d30e",
   "metadata": {},
   "outputs": [
    {
     "data": {
      "image/png": "[encoded data removed]",
      "text/plain": [
       "<Figure size 720x432 with 1 Axes>"
      ]
     },
     "metadata": {
      "needs_background": "light"
     },
     "output_type": "display_data"
    }
   ],
   "source": [
    "plt.rcParams['figure.figsize'] = [10, 6]\n",
    "#pyplot.plot(detl_threshold['Thresh_alpha'], detl_threshold['Accuracy'], marker='.', label='Accuracy')\n",
    "pyplot.plot(detl_threshold['Thresh_alpha'], detl_threshold['Percent_data_capture'], marker='.', label='Percentage_of_Data_captured')\n",
    "#pyplot.plot(detl_threshold['Thresh_alpha'], detl_threshold['Precision'], marker='.', label='Precision')\n",
    "#pyplot.plot(detl_threshold['Thresh_alpha'], detl_threshold['Recall'], marker='.', label='Recall')\n",
    "pyplot.plot(detl_threshold['Thresh_alpha'], detl_threshold['f1'], marker='.', label='f1')\n",
    "pyplot.xlabel('Threshold for Data Selection')\n",
    "pyplot.ylabel('Value')\n",
    "pyplot.grid(visible=True, which='both', axis='both')\n",
    "#pyplot.grid(True)\n",
    "pyplot.title('Meta_Model - LogisticRegression : News_Headlines')\n",
    "# show the legend\n",
    "pyplot.legend()\n",
    "# show the plot\n",
    "pyplot.show()  # we find that doe data selection threshold of 0.78 we should have good results; tradeoof is that we would miss 65% of dta and look at only 35% of data points for an assured accuracy of 90% and f1 score of approx .8"
   ]
  },
  {
   "cell_type": "code",
   "execution_count": 514,
   "id": "f8def17d",
   "metadata": {},
   "outputs": [
    {
     "data": {
      "text/plain": [
       "(array([-1,  1]), array([704, 696]))"
      ]
     },
     "execution_count": 514,
     "metadata": {},
     "output_type": "execute_result"
    }
   ],
   "source": [
    "np.unique(y_train,return_counts = True)  # we realise that the dataset is not balanced"
   ]
  },
  {
   "attachments": {},
   "cell_type": "markdown",
   "id": "ed45599e",
   "metadata": {},
   "source": [
    "### We look at Precision Recall curve which is more promising since this dataset is imbalanced.\n",
    "\n",
    "https://journals.plos.org/plosone/article?id=10.1371/journal.pone.0118432"
   ]
  },
  {
   "cell_type": "code",
   "execution_count": 515,
   "id": "92a0d486",
   "metadata": {},
   "outputs": [
    {
     "data": {
      "text/html": [
       "<div>\n",
       "<style scoped>\n",
       "    .dataframe tbody tr th:only-of-type {\n",
       "        vertical-align: middle;\n",
       "    }\n",
       "\n",
       "    .dataframe tbody tr th {\n",
       "        vertical-align: top;\n",
       "    }\n",
       "\n",
       "    .dataframe thead th {\n",
       "        text-align: right;\n",
       "    }\n",
       "</style>\n",
       "<table border=\"1\" class=\"dataframe\">\n",
       "  <thead>\n",
       "    <tr style=\"text-align: right;\">\n",
       "      <th></th>\n",
       "      <th>0</th>\n",
       "      <th>1</th>\n",
       "      <th>trth</th>\n",
       "      <th>label_pol_pred</th>\n",
       "    </tr>\n",
       "  </thead>\n",
       "  <tbody>\n",
       "    <tr>\n",
       "      <th>0</th>\n",
       "      <td>0.745801</td>\n",
       "      <td>0.254199</td>\n",
       "      <td>1</td>\n",
       "      <td>-1</td>\n",
       "    </tr>\n",
       "    <tr>\n",
       "      <th>1</th>\n",
       "      <td>0.261687</td>\n",
       "      <td>0.738313</td>\n",
       "      <td>1</td>\n",
       "      <td>1</td>\n",
       "    </tr>\n",
       "    <tr>\n",
       "      <th>2</th>\n",
       "      <td>0.018494</td>\n",
       "      <td>0.981506</td>\n",
       "      <td>1</td>\n",
       "      <td>1</td>\n",
       "    </tr>\n",
       "    <tr>\n",
       "      <th>3</th>\n",
       "      <td>0.931654</td>\n",
       "      <td>0.068346</td>\n",
       "      <td>-1</td>\n",
       "      <td>-1</td>\n",
       "    </tr>\n",
       "    <tr>\n",
       "      <th>4</th>\n",
       "      <td>0.978888</td>\n",
       "      <td>0.021112</td>\n",
       "      <td>-1</td>\n",
       "      <td>-1</td>\n",
       "    </tr>\n",
       "  </tbody>\n",
       "</table>\n",
       "</div>"
      ],
      "text/plain": [
       "          0         1  trth  label_pol_pred\n",
       "0  0.745801  0.254199     1              -1\n",
       "1  0.261687  0.738313     1               1\n",
       "2  0.018494  0.981506     1               1\n",
       "3  0.931654  0.068346    -1              -1\n",
       "4  0.978888  0.021112    -1              -1"
      ]
     },
     "execution_count": 515,
     "metadata": {},
     "output_type": "execute_result"
    }
   ],
   "source": [
    "probsdf.head() # vector containing predicted prob for +1"
   ]
  },
  {
   "cell_type": "code",
   "execution_count": 516,
   "id": "b4d0ec76",
   "metadata": {},
   "outputs": [],
   "source": [
    "precision, recall, thresholds = sklearn.metrics.precision_recall_curve(y_train, probsdf[1])\n"
   ]
  },
  {
   "cell_type": "code",
   "execution_count": 517,
   "id": "a2c7b284",
   "metadata": {},
   "outputs": [
    {
     "data": {
      "text/plain": [
       "0.9589752666881834"
      ]
     },
     "execution_count": 517,
     "metadata": {},
     "output_type": "execute_result"
    }
   ],
   "source": [
    "auc_pr = sklearn.metrics.auc(recall,precision)\n",
    "auc_pr"
   ]
  },
  {
   "cell_type": "code",
   "execution_count": 518,
   "id": "183c3135",
   "metadata": {},
   "outputs": [
    {
     "data": {
      "image/png": "[encoded data removed]",
      "text/plain": [
       "<Figure size 720x432 with 1 Axes>"
      ]
     },
     "metadata": {
      "needs_background": "light"
     },
     "output_type": "display_data"
    }
   ],
   "source": [
    "pyplot.plot(recall, precision, marker='.', label='Logistic')\n",
    "pyplot.xlabel('Recall')\n",
    "pyplot.ylabel('Precision')\n",
    "# show the legend\n",
    "pyplot.legend()\n",
    "# show the plot\n",
    "pyplot.show()"
   ]
  },
  {
   "attachments": {},
   "cell_type": "markdown",
   "id": "3a9735a7",
   "metadata": {},
   "source": [
    "## Model Test"
   ]
  },
  {
   "cell_type": "code",
   "execution_count": 519,
   "id": "2aa0fbb4",
   "metadata": {},
   "outputs": [
    {
     "data": {
      "text/plain": [
       "(600, 4)"
      ]
     },
     "execution_count": 519,
     "metadata": {},
     "output_type": "execute_result"
    }
   ],
   "source": [
    "#we now test the logistic regressor\n",
    "X_test.shape"
   ]
  },
  {
   "cell_type": "code",
   "execution_count": 520,
   "id": "aec244e1",
   "metadata": {},
   "outputs": [],
   "source": [
    "predictions_test = logmodel.predict(X_test)\n",
    "probs_test = logmodel.predict_proba(X_test)"
   ]
  },
  {
   "cell_type": "code",
   "execution_count": 521,
   "id": "aa62b7de",
   "metadata": {},
   "outputs": [
    {
     "name": "stdout",
     "output_type": "stream",
     "text": [
      "Logistic: ROC AUC=0.956\n"
     ]
    },
    {
     "data": {
      "image/png": "[encoded data removed]",
      "text/plain": [
       "<Figure size 720x432 with 1 Axes>"
      ]
     },
     "metadata": {
      "needs_background": "light"
     },
     "output_type": "display_data"
    }
   ],
   "source": [
    "lr_probs = probs_test[:,[1]]\n",
    "lr_auc = roc_auc_score(y_test, lr_probs)\n",
    "# summarize scores\n",
    "\n",
    "print('Logistic: ROC AUC=%.3f' % (lr_auc))\n",
    "# calculate roc curves\n",
    "\n",
    "lr_fpr, lr_tpr, thr = roc_curve(y_test, lr_probs)\n",
    "# plot the roc curve for the model # pyplot.plot(ns_fpr, ns_tpr, linestyle='--', label='No Skill')\n",
    "pyplot.plot(lr_fpr, lr_tpr, marker='.', label='Logistic')\n",
    "# axis labels\n",
    "pyplot.xlabel('False Positive Rate')\n",
    "pyplot.ylabel('True Positive Rate')\n",
    "# show the legend\n",
    "pyplot.legend()\n",
    "# show the plot\n",
    "pyplot.show()"
   ]
  },
  {
   "cell_type": "code",
   "execution_count": 522,
   "id": "6c2b9101",
   "metadata": {},
   "outputs": [
    {
     "data": {
      "text/plain": [
       "0.4111667125197149"
      ]
     },
     "execution_count": 522,
     "metadata": {},
     "output_type": "execute_result"
    }
   ],
   "source": [
    "optimal_idx = np.argmax(lr_tpr - lr_fpr) #we need to maximise TP-FP\n",
    "thr[optimal_idx]"
   ]
  },
  {
   "cell_type": "code",
   "execution_count": 523,
   "id": "830270d6",
   "metadata": {},
   "outputs": [],
   "source": [
    "alpha_thresh = thr[optimal_idx]\n",
    "\n",
    "def label_pol (prob_score):\n",
    "    \n",
    "    if prob_score[1] > alpha_thresh:\n",
    "        return 1\n",
    "    else:\n",
    "       return -1"
   ]
  },
  {
   "cell_type": "code",
   "execution_count": 524,
   "id": "b6932f06",
   "metadata": {},
   "outputs": [
    {
     "data": {
      "text/html": [
       "<div>\n",
       "<style scoped>\n",
       "    .dataframe tbody tr th:only-of-type {\n",
       "        vertical-align: middle;\n",
       "    }\n",
       "\n",
       "    .dataframe tbody tr th {\n",
       "        vertical-align: top;\n",
       "    }\n",
       "\n",
       "    .dataframe thead th {\n",
       "        text-align: right;\n",
       "    }\n",
       "</style>\n",
       "<table border=\"1\" class=\"dataframe\">\n",
       "  <thead>\n",
       "    <tr style=\"text-align: right;\">\n",
       "      <th></th>\n",
       "      <th>0</th>\n",
       "      <th>1</th>\n",
       "      <th>trth</th>\n",
       "      <th>label_pol_pred</th>\n",
       "    </tr>\n",
       "  </thead>\n",
       "  <tbody>\n",
       "    <tr>\n",
       "      <th>0</th>\n",
       "      <td>0.067862</td>\n",
       "      <td>0.932138</td>\n",
       "      <td>1</td>\n",
       "      <td>1</td>\n",
       "    </tr>\n",
       "    <tr>\n",
       "      <th>1</th>\n",
       "      <td>0.530962</td>\n",
       "      <td>0.469038</td>\n",
       "      <td>1</td>\n",
       "      <td>1</td>\n",
       "    </tr>\n",
       "    <tr>\n",
       "      <th>2</th>\n",
       "      <td>0.691637</td>\n",
       "      <td>0.308363</td>\n",
       "      <td>-1</td>\n",
       "      <td>-1</td>\n",
       "    </tr>\n",
       "    <tr>\n",
       "      <th>3</th>\n",
       "      <td>0.985181</td>\n",
       "      <td>0.014819</td>\n",
       "      <td>-1</td>\n",
       "      <td>-1</td>\n",
       "    </tr>\n",
       "    <tr>\n",
       "      <th>4</th>\n",
       "      <td>0.028772</td>\n",
       "      <td>0.971228</td>\n",
       "      <td>1</td>\n",
       "      <td>1</td>\n",
       "    </tr>\n",
       "  </tbody>\n",
       "</table>\n",
       "</div>"
      ],
      "text/plain": [
       "          0         1  trth  label_pol_pred\n",
       "0  0.067862  0.932138     1               1\n",
       "1  0.530962  0.469038     1               1\n",
       "2  0.691637  0.308363    -1              -1\n",
       "3  0.985181  0.014819    -1              -1\n",
       "4  0.028772  0.971228     1               1"
      ]
     },
     "execution_count": 524,
     "metadata": {},
     "output_type": "execute_result"
    }
   ],
   "source": [
    "probsdf_test = pd.DataFrame(probs_test)\n",
    "probsdf_test['trth'] = y_test.to_numpy()\n",
    "probsdf_test['label_pol_pred'] = probsdf_test.apply (lambda row: label_pol(row), axis=1)\n",
    "probsdf_test.head()\n"
   ]
  },
  {
   "cell_type": "code",
   "execution_count": 525,
   "id": "862782c1",
   "metadata": {},
   "outputs": [
    {
     "name": "stdout",
     "output_type": "stream",
     "text": [
      "                   -1           1  accuracy   macro avg  weighted avg\n",
      "precision    0.905923    0.884984     0.895    0.895454      0.895314\n",
      "recall       0.878378    0.911184     0.895    0.894781      0.895000\n",
      "f1-score     0.891938    0.897893     0.895    0.894916      0.894955\n",
      "support    296.000000  304.000000     0.895  600.000000    600.000000\n"
     ]
    }
   ],
   "source": [
    "print(pd.DataFrame(metrics.classification_report(probsdf_test['trth'],probsdf_test['label_pol_pred'],output_dict=True)))"
   ]
  },
  {
   "cell_type": "code",
   "execution_count": 526,
   "id": "d83b9327",
   "metadata": {},
   "outputs": [
    {
     "data": {
      "text/html": [
       "<div>\n",
       "<style scoped>\n",
       "    .dataframe tbody tr th:only-of-type {\n",
       "        vertical-align: middle;\n",
       "    }\n",
       "\n",
       "    .dataframe tbody tr th {\n",
       "        vertical-align: top;\n",
       "    }\n",
       "\n",
       "    .dataframe thead th {\n",
       "        text-align: right;\n",
       "    }\n",
       "</style>\n",
       "<table border=\"1\" class=\"dataframe\">\n",
       "  <thead>\n",
       "    <tr style=\"text-align: right;\">\n",
       "      <th></th>\n",
       "      <th>trth</th>\n",
       "      <th>label_pol_pred</th>\n",
       "    </tr>\n",
       "  </thead>\n",
       "  <tbody>\n",
       "    <tr>\n",
       "      <th>trth</th>\n",
       "      <td>1.000000</td>\n",
       "      <td>0.790235</td>\n",
       "    </tr>\n",
       "    <tr>\n",
       "      <th>label_pol_pred</th>\n",
       "      <td>0.790235</td>\n",
       "      <td>1.000000</td>\n",
       "    </tr>\n",
       "  </tbody>\n",
       "</table>\n",
       "</div>"
      ],
      "text/plain": [
       "                    trth  label_pol_pred\n",
       "trth            1.000000        0.790235\n",
       "label_pol_pred  0.790235        1.000000"
      ]
     },
     "execution_count": 526,
     "metadata": {},
     "output_type": "execute_result"
    }
   ],
   "source": [
    "probsdf_test[['trth','label_pol_pred']].corr()"
   ]
  },
  {
   "cell_type": "code",
   "execution_count": 527,
   "id": "5584550d",
   "metadata": {},
   "outputs": [
    {
     "data": {
      "text/plain": [
       "512"
      ]
     },
     "execution_count": 527,
     "metadata": {},
     "output_type": "execute_result"
    }
   ],
   "source": [
    "alpha_th_test = .7\n",
    "probsdf_test['trth'][(probsdf_test[1]>alpha_th_test)|(probsdf_test[0]>alpha_th_test)].count()"
   ]
  },
  {
   "cell_type": "code",
   "execution_count": 528,
   "id": "eb7cf9bb",
   "metadata": {},
   "outputs": [
    {
     "name": "stdout",
     "output_type": "stream",
     "text": [
      "                   -1           1  accuracy   macro avg  weighted avg\n",
      "precision    0.928302    0.955466  0.941406    0.941884      0.941831\n",
      "recall       0.957198    0.925490  0.941406    0.941344      0.941406\n",
      "f1-score     0.942529    0.940239  0.941406    0.941384      0.941388\n",
      "support    257.000000  255.000000  0.941406  512.000000    512.000000\n"
     ]
    }
   ],
   "source": [
    "print(pd.DataFrame(metrics.classification_report(probsdf_test['trth'][(probsdf_test[1]>alpha_th_test)|(probsdf_test[0]>alpha_th_test) ],probsdf_test['label_pol_pred'][(probsdf_test[1]>alpha_th_test)|(probsdf_test[0]>alpha_th_test)],output_dict=True)))"
   ]
  },
  {
   "cell_type": "code",
   "execution_count": 529,
   "id": "f1bde451",
   "metadata": {},
   "outputs": [
    {
     "data": {
      "text/plain": [
       "0.6916666666666667"
      ]
     },
     "execution_count": 529,
     "metadata": {},
     "output_type": "execute_result"
    }
   ],
   "source": [
    "probsdf_test['trth'][(probsdf_test[1]>alpha_th)|(probsdf_test[0]>alpha_th)].count()/probsdf_test['trth'].count()"
   ]
  },
  {
   "cell_type": "code",
   "execution_count": 530,
   "id": "b583fd8a",
   "metadata": {},
   "outputs": [],
   "source": [
    "test_results=pd.DataFrame({'Prob':[],'label_pol_predict':[]})\n",
    "test_results['Prob'] = probsdf_test[1]\n",
    "test_results['label_pol_pred'] = probsdf_test['label_pol_pred']"
   ]
  },
  {
   "attachments": {},
   "cell_type": "markdown",
   "id": "c7a616e6",
   "metadata": {},
   "source": [
    "### We need to analyse sentences\n",
    "#### Also we need to compare with the four Base Models /  Tools"
   ]
  },
  {
   "cell_type": "code",
   "execution_count": 531,
   "id": "affbcec4",
   "metadata": {},
   "outputs": [],
   "source": [
    "result_base_tools_tb = pd.DataFrame(metrics.classification_report(X_test_full['Sentiment'],X_test_full['textblob_polarity'],output_dict=True))"
   ]
  },
  {
   "cell_type": "code",
   "execution_count": 532,
   "id": "c73ea765",
   "metadata": {},
   "outputs": [],
   "source": [
    "result_base_tools_vader = pd.DataFrame(metrics.classification_report(X_test_full['Sentiment'],X_test_full['vader_polarity'],output_dict=True))"
   ]
  },
  {
   "cell_type": "code",
   "execution_count": 533,
   "id": "8e12feb5",
   "metadata": {},
   "outputs": [],
   "source": [
    "result_base_tools_bert = pd.DataFrame(metrics.classification_report(X_test_full['Sentiment'],X_test_full['bert_polarity'],output_dict=True))"
   ]
  },
  {
   "cell_type": "code",
   "execution_count": 534,
   "id": "168ec8b0",
   "metadata": {},
   "outputs": [],
   "source": [
    "result_base_tools_flair = pd.DataFrame(metrics.classification_report(X_test_full['Sentiment'],X_test_full['flair_polarity'],output_dict=True))"
   ]
  },
  {
   "cell_type": "code",
   "execution_count": 535,
   "id": "edbb7851",
   "metadata": {},
   "outputs": [
    {
     "data": {
      "text/html": [
       "<div>\n",
       "<style scoped>\n",
       "    .dataframe tbody tr th:only-of-type {\n",
       "        vertical-align: middle;\n",
       "    }\n",
       "\n",
       "    .dataframe tbody tr th {\n",
       "        vertical-align: top;\n",
       "    }\n",
       "\n",
       "    .dataframe thead th {\n",
       "        text-align: right;\n",
       "    }\n",
       "</style>\n",
       "<table border=\"1\" class=\"dataframe\">\n",
       "  <thead>\n",
       "    <tr style=\"text-align: right;\">\n",
       "      <th></th>\n",
       "      <th>-1</th>\n",
       "      <th>1</th>\n",
       "      <th>accuracy</th>\n",
       "      <th>macro avg</th>\n",
       "      <th>weighted avg</th>\n",
       "    </tr>\n",
       "  </thead>\n",
       "  <tbody>\n",
       "    <tr>\n",
       "      <th>precision</th>\n",
       "      <td>0.912409</td>\n",
       "      <td>0.630670</td>\n",
       "      <td>0.695</td>\n",
       "      <td>0.771539</td>\n",
       "      <td>0.769661</td>\n",
       "    </tr>\n",
       "    <tr>\n",
       "      <th>recall</th>\n",
       "      <td>0.422297</td>\n",
       "      <td>0.960526</td>\n",
       "      <td>0.695</td>\n",
       "      <td>0.691412</td>\n",
       "      <td>0.695000</td>\n",
       "    </tr>\n",
       "    <tr>\n",
       "      <th>f1-score</th>\n",
       "      <td>0.577367</td>\n",
       "      <td>0.761408</td>\n",
       "      <td>0.695</td>\n",
       "      <td>0.669388</td>\n",
       "      <td>0.670615</td>\n",
       "    </tr>\n",
       "    <tr>\n",
       "      <th>support</th>\n",
       "      <td>296.000000</td>\n",
       "      <td>304.000000</td>\n",
       "      <td>0.695</td>\n",
       "      <td>600.000000</td>\n",
       "      <td>600.000000</td>\n",
       "    </tr>\n",
       "  </tbody>\n",
       "</table>\n",
       "</div>"
      ],
      "text/plain": [
       "                   -1           1  accuracy   macro avg  weighted avg\n",
       "precision    0.912409    0.630670     0.695    0.771539      0.769661\n",
       "recall       0.422297    0.960526     0.695    0.691412      0.695000\n",
       "f1-score     0.577367    0.761408     0.695    0.669388      0.670615\n",
       "support    296.000000  304.000000     0.695  600.000000    600.000000"
      ]
     },
     "execution_count": 535,
     "metadata": {},
     "output_type": "execute_result"
    }
   ],
   "source": [
    "result_base_tools_tb"
   ]
  },
  {
   "cell_type": "code",
   "execution_count": 536,
   "id": "c7a70166",
   "metadata": {},
   "outputs": [
    {
     "data": {
      "text/html": [
       "<div>\n",
       "<style scoped>\n",
       "    .dataframe tbody tr th:only-of-type {\n",
       "        vertical-align: middle;\n",
       "    }\n",
       "\n",
       "    .dataframe tbody tr th {\n",
       "        vertical-align: top;\n",
       "    }\n",
       "\n",
       "    .dataframe thead th {\n",
       "        text-align: right;\n",
       "    }\n",
       "</style>\n",
       "<table border=\"1\" class=\"dataframe\">\n",
       "  <thead>\n",
       "    <tr style=\"text-align: right;\">\n",
       "      <th></th>\n",
       "      <th>-1</th>\n",
       "      <th>1</th>\n",
       "      <th>accuracy</th>\n",
       "      <th>macro avg</th>\n",
       "      <th>weighted avg</th>\n",
       "    </tr>\n",
       "  </thead>\n",
       "  <tbody>\n",
       "    <tr>\n",
       "      <th>precision</th>\n",
       "      <td>0.926380</td>\n",
       "      <td>0.668192</td>\n",
       "      <td>0.738333</td>\n",
       "      <td>0.797286</td>\n",
       "      <td>0.795565</td>\n",
       "    </tr>\n",
       "    <tr>\n",
       "      <th>recall</th>\n",
       "      <td>0.510135</td>\n",
       "      <td>0.960526</td>\n",
       "      <td>0.738333</td>\n",
       "      <td>0.735331</td>\n",
       "      <td>0.738333</td>\n",
       "    </tr>\n",
       "    <tr>\n",
       "      <th>f1-score</th>\n",
       "      <td>0.657952</td>\n",
       "      <td>0.788124</td>\n",
       "      <td>0.738333</td>\n",
       "      <td>0.723038</td>\n",
       "      <td>0.723906</td>\n",
       "    </tr>\n",
       "    <tr>\n",
       "      <th>support</th>\n",
       "      <td>296.000000</td>\n",
       "      <td>304.000000</td>\n",
       "      <td>0.738333</td>\n",
       "      <td>600.000000</td>\n",
       "      <td>600.000000</td>\n",
       "    </tr>\n",
       "  </tbody>\n",
       "</table>\n",
       "</div>"
      ],
      "text/plain": [
       "                   -1           1  accuracy   macro avg  weighted avg\n",
       "precision    0.926380    0.668192  0.738333    0.797286      0.795565\n",
       "recall       0.510135    0.960526  0.738333    0.735331      0.738333\n",
       "f1-score     0.657952    0.788124  0.738333    0.723038      0.723906\n",
       "support    296.000000  304.000000  0.738333  600.000000    600.000000"
      ]
     },
     "execution_count": 536,
     "metadata": {},
     "output_type": "execute_result"
    }
   ],
   "source": [
    "result_base_tools_vader"
   ]
  },
  {
   "cell_type": "code",
   "execution_count": 537,
   "id": "4735c193",
   "metadata": {},
   "outputs": [
    {
     "data": {
      "text/html": [
       "<div>\n",
       "<style scoped>\n",
       "    .dataframe tbody tr th:only-of-type {\n",
       "        vertical-align: middle;\n",
       "    }\n",
       "\n",
       "    .dataframe tbody tr th {\n",
       "        vertical-align: top;\n",
       "    }\n",
       "\n",
       "    .dataframe thead th {\n",
       "        text-align: right;\n",
       "    }\n",
       "</style>\n",
       "<table border=\"1\" class=\"dataframe\">\n",
       "  <thead>\n",
       "    <tr style=\"text-align: right;\">\n",
       "      <th></th>\n",
       "      <th>-1</th>\n",
       "      <th>1</th>\n",
       "      <th>accuracy</th>\n",
       "      <th>macro avg</th>\n",
       "      <th>weighted avg</th>\n",
       "    </tr>\n",
       "  </thead>\n",
       "  <tbody>\n",
       "    <tr>\n",
       "      <th>precision</th>\n",
       "      <td>0.965665</td>\n",
       "      <td>0.806540</td>\n",
       "      <td>0.868333</td>\n",
       "      <td>0.886102</td>\n",
       "      <td>0.885042</td>\n",
       "    </tr>\n",
       "    <tr>\n",
       "      <th>recall</th>\n",
       "      <td>0.760135</td>\n",
       "      <td>0.973684</td>\n",
       "      <td>0.868333</td>\n",
       "      <td>0.866910</td>\n",
       "      <td>0.868333</td>\n",
       "    </tr>\n",
       "    <tr>\n",
       "      <th>f1-score</th>\n",
       "      <td>0.850662</td>\n",
       "      <td>0.882265</td>\n",
       "      <td>0.868333</td>\n",
       "      <td>0.866463</td>\n",
       "      <td>0.866674</td>\n",
       "    </tr>\n",
       "    <tr>\n",
       "      <th>support</th>\n",
       "      <td>296.000000</td>\n",
       "      <td>304.000000</td>\n",
       "      <td>0.868333</td>\n",
       "      <td>600.000000</td>\n",
       "      <td>600.000000</td>\n",
       "    </tr>\n",
       "  </tbody>\n",
       "</table>\n",
       "</div>"
      ],
      "text/plain": [
       "                   -1           1  accuracy   macro avg  weighted avg\n",
       "precision    0.965665    0.806540  0.868333    0.886102      0.885042\n",
       "recall       0.760135    0.973684  0.868333    0.866910      0.868333\n",
       "f1-score     0.850662    0.882265  0.868333    0.866463      0.866674\n",
       "support    296.000000  304.000000  0.868333  600.000000    600.000000"
      ]
     },
     "execution_count": 537,
     "metadata": {},
     "output_type": "execute_result"
    }
   ],
   "source": [
    "result_base_tools_bert"
   ]
  },
  {
   "cell_type": "code",
   "execution_count": 538,
   "id": "1a1da487",
   "metadata": {},
   "outputs": [
    {
     "data": {
      "text/html": [
       "<div>\n",
       "<style scoped>\n",
       "    .dataframe tbody tr th:only-of-type {\n",
       "        vertical-align: middle;\n",
       "    }\n",
       "\n",
       "    .dataframe tbody tr th {\n",
       "        vertical-align: top;\n",
       "    }\n",
       "\n",
       "    .dataframe thead th {\n",
       "        text-align: right;\n",
       "    }\n",
       "</style>\n",
       "<table border=\"1\" class=\"dataframe\">\n",
       "  <thead>\n",
       "    <tr style=\"text-align: right;\">\n",
       "      <th></th>\n",
       "      <th>-1</th>\n",
       "      <th>1</th>\n",
       "      <th>accuracy</th>\n",
       "      <th>macro avg</th>\n",
       "      <th>weighted avg</th>\n",
       "    </tr>\n",
       "  </thead>\n",
       "  <tbody>\n",
       "    <tr>\n",
       "      <th>precision</th>\n",
       "      <td>0.832117</td>\n",
       "      <td>0.791411</td>\n",
       "      <td>0.81</td>\n",
       "      <td>0.811764</td>\n",
       "      <td>0.811493</td>\n",
       "    </tr>\n",
       "    <tr>\n",
       "      <th>recall</th>\n",
       "      <td>0.770270</td>\n",
       "      <td>0.848684</td>\n",
       "      <td>0.81</td>\n",
       "      <td>0.809477</td>\n",
       "      <td>0.810000</td>\n",
       "    </tr>\n",
       "    <tr>\n",
       "      <th>f1-score</th>\n",
       "      <td>0.800000</td>\n",
       "      <td>0.819048</td>\n",
       "      <td>0.81</td>\n",
       "      <td>0.809524</td>\n",
       "      <td>0.809651</td>\n",
       "    </tr>\n",
       "    <tr>\n",
       "      <th>support</th>\n",
       "      <td>296.000000</td>\n",
       "      <td>304.000000</td>\n",
       "      <td>0.81</td>\n",
       "      <td>600.000000</td>\n",
       "      <td>600.000000</td>\n",
       "    </tr>\n",
       "  </tbody>\n",
       "</table>\n",
       "</div>"
      ],
      "text/plain": [
       "                   -1           1  accuracy   macro avg  weighted avg\n",
       "precision    0.832117    0.791411      0.81    0.811764      0.811493\n",
       "recall       0.770270    0.848684      0.81    0.809477      0.810000\n",
       "f1-score     0.800000    0.819048      0.81    0.809524      0.809651\n",
       "support    296.000000  304.000000      0.81  600.000000    600.000000"
      ]
     },
     "execution_count": 538,
     "metadata": {},
     "output_type": "execute_result"
    }
   ],
   "source": [
    "result_base_tools_flair"
   ]
  },
  {
   "cell_type": "code",
   "execution_count": 539,
   "id": "1ae391d5",
   "metadata": {},
   "outputs": [],
   "source": [
    "probsdf_test[['tb','vader','bert','flair','textblob_polarity','vader_polarity','bert_polarity','flair_polarity'\t]] = X_test_full[['vader','vader','bert','flair','textblob_polarity','vader_polarity','bert_polarity','flair_polarity']].to_numpy()"
   ]
  },
  {
   "cell_type": "code",
   "execution_count": 540,
   "id": "26e3525f",
   "metadata": {},
   "outputs": [
    {
     "data": {
      "text/html": [
       "<div>\n",
       "<style scoped>\n",
       "    .dataframe tbody tr th:only-of-type {\n",
       "        vertical-align: middle;\n",
       "    }\n",
       "\n",
       "    .dataframe tbody tr th {\n",
       "        vertical-align: top;\n",
       "    }\n",
       "\n",
       "    .dataframe thead th {\n",
       "        text-align: right;\n",
       "    }\n",
       "</style>\n",
       "<table border=\"1\" class=\"dataframe\">\n",
       "  <thead>\n",
       "    <tr style=\"text-align: right;\">\n",
       "      <th></th>\n",
       "      <th>0</th>\n",
       "      <th>1</th>\n",
       "      <th>trth</th>\n",
       "      <th>label_pol_pred</th>\n",
       "      <th>tb</th>\n",
       "      <th>vader</th>\n",
       "      <th>bert</th>\n",
       "      <th>flair</th>\n",
       "      <th>textblob_polarity</th>\n",
       "      <th>vader_polarity</th>\n",
       "      <th>bert_polarity</th>\n",
       "      <th>flair_polarity</th>\n",
       "    </tr>\n",
       "  </thead>\n",
       "  <tbody>\n",
       "    <tr>\n",
       "      <th>0</th>\n",
       "      <td>0.067862</td>\n",
       "      <td>0.932138</td>\n",
       "      <td>1</td>\n",
       "      <td>1</td>\n",
       "      <td>0.7269</td>\n",
       "      <td>0.7269</td>\n",
       "      <td>0.939559</td>\n",
       "      <td>-0.681963</td>\n",
       "      <td>1.0</td>\n",
       "      <td>1.0</td>\n",
       "      <td>1.0</td>\n",
       "      <td>-1.0</td>\n",
       "    </tr>\n",
       "    <tr>\n",
       "      <th>1</th>\n",
       "      <td>0.530962</td>\n",
       "      <td>0.469038</td>\n",
       "      <td>1</td>\n",
       "      <td>1</td>\n",
       "      <td>0.3818</td>\n",
       "      <td>0.3818</td>\n",
       "      <td>0.000000</td>\n",
       "      <td>-0.892302</td>\n",
       "      <td>1.0</td>\n",
       "      <td>1.0</td>\n",
       "      <td>1.0</td>\n",
       "      <td>-1.0</td>\n",
       "    </tr>\n",
       "    <tr>\n",
       "      <th>2</th>\n",
       "      <td>0.691637</td>\n",
       "      <td>0.308363</td>\n",
       "      <td>-1</td>\n",
       "      <td>-1</td>\n",
       "      <td>0.4019</td>\n",
       "      <td>0.4019</td>\n",
       "      <td>-0.490856</td>\n",
       "      <td>0.984657</td>\n",
       "      <td>1.0</td>\n",
       "      <td>1.0</td>\n",
       "      <td>-1.0</td>\n",
       "      <td>1.0</td>\n",
       "    </tr>\n",
       "    <tr>\n",
       "      <th>3</th>\n",
       "      <td>0.985181</td>\n",
       "      <td>0.014819</td>\n",
       "      <td>-1</td>\n",
       "      <td>-1</td>\n",
       "      <td>-0.5267</td>\n",
       "      <td>-0.5267</td>\n",
       "      <td>-0.883854</td>\n",
       "      <td>-0.997766</td>\n",
       "      <td>-1.0</td>\n",
       "      <td>-1.0</td>\n",
       "      <td>-1.0</td>\n",
       "      <td>-1.0</td>\n",
       "    </tr>\n",
       "    <tr>\n",
       "      <th>4</th>\n",
       "      <td>0.028772</td>\n",
       "      <td>0.971228</td>\n",
       "      <td>1</td>\n",
       "      <td>1</td>\n",
       "      <td>0.8119</td>\n",
       "      <td>0.8119</td>\n",
       "      <td>0.889048</td>\n",
       "      <td>0.958995</td>\n",
       "      <td>1.0</td>\n",
       "      <td>1.0</td>\n",
       "      <td>1.0</td>\n",
       "      <td>1.0</td>\n",
       "    </tr>\n",
       "    <tr>\n",
       "      <th>...</th>\n",
       "      <td>...</td>\n",
       "      <td>...</td>\n",
       "      <td>...</td>\n",
       "      <td>...</td>\n",
       "      <td>...</td>\n",
       "      <td>...</td>\n",
       "      <td>...</td>\n",
       "      <td>...</td>\n",
       "      <td>...</td>\n",
       "      <td>...</td>\n",
       "      <td>...</td>\n",
       "      <td>...</td>\n",
       "    </tr>\n",
       "    <tr>\n",
       "      <th>595</th>\n",
       "      <td>0.012010</td>\n",
       "      <td>0.987990</td>\n",
       "      <td>1</td>\n",
       "      <td>1</td>\n",
       "      <td>0.6369</td>\n",
       "      <td>0.6369</td>\n",
       "      <td>0.961337</td>\n",
       "      <td>0.999744</td>\n",
       "      <td>1.0</td>\n",
       "      <td>1.0</td>\n",
       "      <td>1.0</td>\n",
       "      <td>1.0</td>\n",
       "    </tr>\n",
       "    <tr>\n",
       "      <th>596</th>\n",
       "      <td>0.019071</td>\n",
       "      <td>0.980929</td>\n",
       "      <td>1</td>\n",
       "      <td>1</td>\n",
       "      <td>0.8910</td>\n",
       "      <td>0.8910</td>\n",
       "      <td>0.979471</td>\n",
       "      <td>0.995846</td>\n",
       "      <td>1.0</td>\n",
       "      <td>1.0</td>\n",
       "      <td>1.0</td>\n",
       "      <td>1.0</td>\n",
       "    </tr>\n",
       "    <tr>\n",
       "      <th>597</th>\n",
       "      <td>0.049596</td>\n",
       "      <td>0.950404</td>\n",
       "      <td>1</td>\n",
       "      <td>1</td>\n",
       "      <td>0.5106</td>\n",
       "      <td>0.5106</td>\n",
       "      <td>0.748365</td>\n",
       "      <td>0.991570</td>\n",
       "      <td>1.0</td>\n",
       "      <td>1.0</td>\n",
       "      <td>1.0</td>\n",
       "      <td>1.0</td>\n",
       "    </tr>\n",
       "    <tr>\n",
       "      <th>598</th>\n",
       "      <td>0.965861</td>\n",
       "      <td>0.034139</td>\n",
       "      <td>-1</td>\n",
       "      <td>-1</td>\n",
       "      <td>-0.6369</td>\n",
       "      <td>-0.6369</td>\n",
       "      <td>-0.598312</td>\n",
       "      <td>-0.994702</td>\n",
       "      <td>-1.0</td>\n",
       "      <td>-1.0</td>\n",
       "      <td>-1.0</td>\n",
       "      <td>-1.0</td>\n",
       "    </tr>\n",
       "    <tr>\n",
       "      <th>599</th>\n",
       "      <td>0.024023</td>\n",
       "      <td>0.975977</td>\n",
       "      <td>1</td>\n",
       "      <td>1</td>\n",
       "      <td>0.6369</td>\n",
       "      <td>0.6369</td>\n",
       "      <td>0.984751</td>\n",
       "      <td>0.996437</td>\n",
       "      <td>1.0</td>\n",
       "      <td>1.0</td>\n",
       "      <td>1.0</td>\n",
       "      <td>1.0</td>\n",
       "    </tr>\n",
       "  </tbody>\n",
       "</table>\n",
       "<p>600 rows × 12 columns</p>\n",
       "</div>"
      ],
      "text/plain": [
       "            0         1  trth  label_pol_pred      tb   vader      bert  \\\n",
       "0    0.067862  0.932138     1               1  0.7269  0.7269  0.939559   \n",
       "1    0.530962  0.469038     1               1  0.3818  0.3818  0.000000   \n",
       "2    0.691637  0.308363    -1              -1  0.4019  0.4019 -0.490856   \n",
       "3    0.985181  0.014819    -1              -1 -0.5267 -0.5267 -0.883854   \n",
       "4    0.028772  0.971228     1               1  0.8119  0.8119  0.889048   \n",
       "..        ...       ...   ...             ...     ...     ...       ...   \n",
       "595  0.012010  0.987990     1               1  0.6369  0.6369  0.961337   \n",
       "596  0.019071  0.980929     1               1  0.8910  0.8910  0.979471   \n",
       "597  0.049596  0.950404     1               1  0.5106  0.5106  0.748365   \n",
       "598  0.965861  0.034139    -1              -1 -0.6369 -0.6369 -0.598312   \n",
       "599  0.024023  0.975977     1               1  0.6369  0.6369  0.984751   \n",
       "\n",
       "        flair  textblob_polarity  vader_polarity  bert_polarity  \\\n",
       "0   -0.681963                1.0             1.0            1.0   \n",
       "1   -0.892302                1.0             1.0            1.0   \n",
       "2    0.984657                1.0             1.0           -1.0   \n",
       "3   -0.997766               -1.0            -1.0           -1.0   \n",
       "4    0.958995                1.0             1.0            1.0   \n",
       "..        ...                ...             ...            ...   \n",
       "595  0.999744                1.0             1.0            1.0   \n",
       "596  0.995846                1.0             1.0            1.0   \n",
       "597  0.991570                1.0             1.0            1.0   \n",
       "598 -0.994702               -1.0            -1.0           -1.0   \n",
       "599  0.996437                1.0             1.0            1.0   \n",
       "\n",
       "     flair_polarity  \n",
       "0              -1.0  \n",
       "1              -1.0  \n",
       "2               1.0  \n",
       "3              -1.0  \n",
       "4               1.0  \n",
       "..              ...  \n",
       "595             1.0  \n",
       "596             1.0  \n",
       "597             1.0  \n",
       "598            -1.0  \n",
       "599             1.0  \n",
       "\n",
       "[600 rows x 12 columns]"
      ]
     },
     "execution_count": 540,
     "metadata": {},
     "output_type": "execute_result"
    }
   ],
   "source": [
    "probsdf_test"
   ]
  },
  {
   "cell_type": "code",
   "execution_count": 541,
   "id": "1f100578",
   "metadata": {},
   "outputs": [
    {
     "data": {
      "text/plain": [
       "count    600.000000\n",
       "mean       0.383075\n",
       "std        0.272092\n",
       "min        0.000000\n",
       "25%        0.102700\n",
       "50%        0.419900\n",
       "75%        0.611400\n",
       "max        0.967400\n",
       "Name: vader, dtype: float64"
      ]
     },
     "execution_count": 541,
     "metadata": {},
     "output_type": "execute_result"
    }
   ],
   "source": [
    "abs(probsdf_test['vader']).describe()"
   ]
  },
  {
   "cell_type": "code",
   "execution_count": 542,
   "id": "a67af16d",
   "metadata": {},
   "outputs": [
    {
     "data": {
      "text/html": [
       "<div>\n",
       "<style scoped>\n",
       "    .dataframe tbody tr th:only-of-type {\n",
       "        vertical-align: middle;\n",
       "    }\n",
       "\n",
       "    .dataframe tbody tr th {\n",
       "        vertical-align: top;\n",
       "    }\n",
       "\n",
       "    .dataframe thead th {\n",
       "        text-align: right;\n",
       "    }\n",
       "</style>\n",
       "<table border=\"1\" class=\"dataframe\">\n",
       "  <thead>\n",
       "    <tr style=\"text-align: right;\">\n",
       "      <th></th>\n",
       "      <th>-1</th>\n",
       "      <th>1</th>\n",
       "      <th>accuracy</th>\n",
       "      <th>macro avg</th>\n",
       "      <th>weighted avg</th>\n",
       "    </tr>\n",
       "  </thead>\n",
       "  <tbody>\n",
       "    <tr>\n",
       "      <th>precision</th>\n",
       "      <td>0.935484</td>\n",
       "      <td>0.892216</td>\n",
       "      <td>0.90393</td>\n",
       "      <td>0.913850</td>\n",
       "      <td>0.906575</td>\n",
       "    </tr>\n",
       "    <tr>\n",
       "      <th>recall</th>\n",
       "      <td>0.763158</td>\n",
       "      <td>0.973856</td>\n",
       "      <td>0.90393</td>\n",
       "      <td>0.868507</td>\n",
       "      <td>0.903930</td>\n",
       "    </tr>\n",
       "    <tr>\n",
       "      <th>f1-score</th>\n",
       "      <td>0.840580</td>\n",
       "      <td>0.931250</td>\n",
       "      <td>0.90393</td>\n",
       "      <td>0.885915</td>\n",
       "      <td>0.901159</td>\n",
       "    </tr>\n",
       "    <tr>\n",
       "      <th>support</th>\n",
       "      <td>76.000000</td>\n",
       "      <td>153.000000</td>\n",
       "      <td>0.90393</td>\n",
       "      <td>229.000000</td>\n",
       "      <td>229.000000</td>\n",
       "    </tr>\n",
       "  </tbody>\n",
       "</table>\n",
       "</div>"
      ],
      "text/plain": [
       "                  -1           1  accuracy   macro avg  weighted avg\n",
       "precision   0.935484    0.892216   0.90393    0.913850      0.906575\n",
       "recall      0.763158    0.973856   0.90393    0.868507      0.903930\n",
       "f1-score    0.840580    0.931250   0.90393    0.885915      0.901159\n",
       "support    76.000000  153.000000   0.90393  229.000000    229.000000"
      ]
     },
     "execution_count": 542,
     "metadata": {},
     "output_type": "execute_result"
    }
   ],
   "source": [
    "alpha_th_test = .48\n",
    "pd.DataFrame(metrics.classification_report(probsdf_test['trth'][abs(probsdf_test['vader'])>alpha_th_test],probsdf_test['vader_polarity'][abs(probsdf_test['vader'])>alpha_th_test],output_dict=True))"
   ]
  },
  {
   "cell_type": "code",
   "execution_count": 543,
   "id": "8c81be9f",
   "metadata": {},
   "outputs": [
    {
     "data": {
      "text/plain": [
       "count    600.000000\n",
       "mean       0.666366\n",
       "std        0.362802\n",
       "min        0.000000\n",
       "25%        0.550151\n",
       "50%        0.833683\n",
       "75%        0.936909\n",
       "max        0.990066\n",
       "Name: bert, dtype: float64"
      ]
     },
     "execution_count": 543,
     "metadata": {},
     "output_type": "execute_result"
    }
   ],
   "source": [
    "abs(probsdf_test['bert']).describe()"
   ]
  },
  {
   "cell_type": "code",
   "execution_count": 544,
   "id": "85c95bab",
   "metadata": {},
   "outputs": [
    {
     "data": {
      "text/html": [
       "<div>\n",
       "<style scoped>\n",
       "    .dataframe tbody tr th:only-of-type {\n",
       "        vertical-align: middle;\n",
       "    }\n",
       "\n",
       "    .dataframe tbody tr th {\n",
       "        vertical-align: top;\n",
       "    }\n",
       "\n",
       "    .dataframe thead th {\n",
       "        text-align: right;\n",
       "    }\n",
       "</style>\n",
       "<table border=\"1\" class=\"dataframe\">\n",
       "  <thead>\n",
       "    <tr style=\"text-align: right;\">\n",
       "      <th></th>\n",
       "      <th>-1</th>\n",
       "      <th>1</th>\n",
       "      <th>accuracy</th>\n",
       "      <th>macro avg</th>\n",
       "      <th>weighted avg</th>\n",
       "    </tr>\n",
       "  </thead>\n",
       "  <tbody>\n",
       "    <tr>\n",
       "      <th>precision</th>\n",
       "      <td>0.980000</td>\n",
       "      <td>0.963158</td>\n",
       "      <td>0.970588</td>\n",
       "      <td>0.971579</td>\n",
       "      <td>0.970786</td>\n",
       "    </tr>\n",
       "    <tr>\n",
       "      <th>recall</th>\n",
       "      <td>0.954545</td>\n",
       "      <td>0.983871</td>\n",
       "      <td>0.970588</td>\n",
       "      <td>0.969208</td>\n",
       "      <td>0.970588</td>\n",
       "    </tr>\n",
       "    <tr>\n",
       "      <th>f1-score</th>\n",
       "      <td>0.967105</td>\n",
       "      <td>0.973404</td>\n",
       "      <td>0.970588</td>\n",
       "      <td>0.970255</td>\n",
       "      <td>0.970551</td>\n",
       "    </tr>\n",
       "    <tr>\n",
       "      <th>support</th>\n",
       "      <td>154.000000</td>\n",
       "      <td>186.000000</td>\n",
       "      <td>0.970588</td>\n",
       "      <td>340.000000</td>\n",
       "      <td>340.000000</td>\n",
       "    </tr>\n",
       "  </tbody>\n",
       "</table>\n",
       "</div>"
      ],
      "text/plain": [
       "                   -1           1  accuracy   macro avg  weighted avg\n",
       "precision    0.980000    0.963158  0.970588    0.971579      0.970786\n",
       "recall       0.954545    0.983871  0.970588    0.969208      0.970588\n",
       "f1-score     0.967105    0.973404  0.970588    0.970255      0.970551\n",
       "support    154.000000  186.000000  0.970588  340.000000    340.000000"
      ]
     },
     "execution_count": 544,
     "metadata": {},
     "output_type": "execute_result"
    }
   ],
   "source": [
    "alpha_th_test = .78\n",
    "res2 =pd.DataFrame(metrics.classification_report(probsdf_test['trth'][abs(probsdf_test['bert'])>alpha_th_test],probsdf_test['label_pol_pred'][abs(probsdf_test['bert'])>alpha_th_test],output_dict=True))\n",
    "res2"
   ]
  },
  {
   "cell_type": "code",
   "execution_count": 545,
   "id": "cba8a9cd",
   "metadata": {},
   "outputs": [],
   "source": [
    "try:\n",
    "    res2['1']\n",
    "except KeyError:\n",
    "    0"
   ]
  },
  {
   "cell_type": "code",
   "execution_count": 546,
   "id": "c70f6ba5",
   "metadata": {},
   "outputs": [
    {
     "data": {
      "image/png": "[encoded data removed]",
      "text/plain": [
       "<Figure size 720x432 with 1 Axes>"
      ]
     },
     "metadata": {
      "needs_background": "light"
     },
     "output_type": "display_data"
    }
   ],
   "source": [
    "threshold_analysis = pd.DataFrame({'Thresh_alpha':[0],'Accuracy':[0],'Percent_data_capture':[0],'Precision':[0],'Recall':[0],'f1':[0]})\n",
    "detl_threshold = pd.DataFrame({'Thresh_alpha':[],'Accuracy':[],'Percent_data_capture':[],'Precision':[],'Recall':[],'f1':[]})\n",
    "for i in range (0,75):\n",
    "    alpha_th = i*.01\n",
    "    res1 = pd.DataFrame(classification_report(probsdf_test['trth'][abs(probsdf_test['bert'])>=alpha_th],probsdf_test['bert_polarity'][abs(probsdf_test['bert'])>=alpha_th],output_dict=True))\n",
    "    threshold_analysis['Accuracy']= res1['accuracy'].loc['precision']\n",
    "    threshold_analysis['Percent_data_capture'] =  probsdf_test['trth'][abs(probsdf_test['bert'])>=alpha_th].count()/probsdf_test['trth'].count() if  probsdf_test['trth'].count()>0 else 0\n",
    "    threshold_analysis['Thresh_alpha'] = alpha_th\n",
    "    try:\n",
    "        threshold_analysis['Precision'] = res1['1'].loc['precision']\n",
    "    except KeyError:\n",
    "        threshold_analysis['Precision']=0\n",
    "    try:\n",
    "        threshold_analysis['Recall'] = res1['1'].loc['recall']\n",
    "    except KeyError:\n",
    "       threshold_analysis['Recall'] =0\n",
    "    try:\n",
    "        threshold_analysis['f1'] = res1['1'].loc['f1-score']\n",
    "    except KeyError:\n",
    "        threshold_analysis['f1'] \n",
    "    detl_threshold = detl_threshold.append(threshold_analysis)\n",
    "\n",
    "plt.rcParams['figure.figsize'] = [10, 6]\n",
    "pyplot.plot(detl_threshold['Thresh_alpha'], detl_threshold['Accuracy'], marker='.', label='Accuracy')\n",
    "pyplot.plot(detl_threshold['Thresh_alpha'], detl_threshold['Percent_data_capture'], marker='.', label='Percentage_of_Data_captured')\n",
    "pyplot.plot(detl_threshold['Thresh_alpha'], detl_threshold['Precision'], marker='.', label='Precision')\n",
    "pyplot.plot(detl_threshold['Thresh_alpha'], detl_threshold['Recall'], marker='.', label='Recall')\n",
    "pyplot.plot(detl_threshold['Thresh_alpha'], detl_threshold['f1'], marker='.', label='f1')\n",
    "pyplot.xlabel('Threshold for Data Selection')\n",
    "pyplot.ylabel('Value')\n",
    "pyplot.grid(visible=True, which='both', axis='both')\n",
    "#pyplot.grid(True)\n",
    "pyplot.title('Base_Model - bert: News_Headlines')\n",
    "# show the legend\n",
    "pyplot.legend()\n",
    "# show the plot\n",
    "pyplot.show()"
   ]
  },
  {
   "cell_type": "code",
   "execution_count": 547,
   "id": "42a3a969",
   "metadata": {},
   "outputs": [
    {
     "name": "stderr",
     "output_type": "stream",
     "text": [
      "/Users/amitobe/opt/anaconda3/envs/nlp_course/lib/python3.7/site-packages/sklearn/metrics/_classification.py:1318: UndefinedMetricWarning: Precision and F-score are ill-defined and being set to 0.0 in labels with no predicted samples. Use `zero_division` parameter to control this behavior.\n",
      "  _warn_prf(average, modifier, msg_start, len(result))\n",
      "/Users/amitobe/opt/anaconda3/envs/nlp_course/lib/python3.7/site-packages/sklearn/metrics/_classification.py:1318: UndefinedMetricWarning: Precision and F-score are ill-defined and being set to 0.0 in labels with no predicted samples. Use `zero_division` parameter to control this behavior.\n",
      "  _warn_prf(average, modifier, msg_start, len(result))\n",
      "/Users/amitobe/opt/anaconda3/envs/nlp_course/lib/python3.7/site-packages/sklearn/metrics/_classification.py:1318: UndefinedMetricWarning: Precision and F-score are ill-defined and being set to 0.0 in labels with no predicted samples. Use `zero_division` parameter to control this behavior.\n",
      "  _warn_prf(average, modifier, msg_start, len(result))\n"
     ]
    },
    {
     "data": {
      "image/png": "[encoded data removed]",
      "text/plain": [
       "<Figure size 720x432 with 1 Axes>"
      ]
     },
     "metadata": {
      "needs_background": "light"
     },
     "output_type": "display_data"
    }
   ],
   "source": [
    "threshold_analysis = pd.DataFrame({'Thresh_alpha':[0],'Accuracy':[0],'Percent_data_capture':[0],'Precision':[0],'Recall':[0],'f1':[0]})\n",
    "detl_threshold = pd.DataFrame({'Thresh_alpha':[],'Accuracy':[],'Percent_data_capture':[],'Precision':[],'Recall':[],'f1':[]})\n",
    "for i in range (0,95):\n",
    "    alpha_th = i*.01\n",
    "    res1 = pd.DataFrame(classification_report(probsdf_test['trth'][abs(probsdf_test['vader'])>=alpha_th],probsdf_test['vader_polarity'][abs(probsdf_test['vader'])>=alpha_th],output_dict=True))\n",
    "    threshold_analysis['Accuracy']= res1['accuracy'].iloc[0]\n",
    "    threshold_analysis['Percent_data_capture'] = probsdf_test['trth'][abs(probsdf_test['vader'])>=alpha_th].count()/probsdf_test['trth'].count()\n",
    "    threshold_analysis['Thresh_alpha'] = alpha_th\n",
    "    try:\n",
    "        threshold_analysis['Precision'] = res1['1'].loc['precision']\n",
    "        threshold_analysis['Recall'] = res1['1'].loc['recall']\n",
    "        threshold_analysis['f1'] = res1['1'].loc['f1-score']\n",
    "    except KeyError:\n",
    "        threshold_analysis['Precision'] = 0\n",
    "        threshold_analysis['Recall'] = 0\n",
    "        threshold_analysis['f1'] = 0\n",
    "    detl_threshold = detl_threshold.append(threshold_analysis)\n",
    "\n",
    "plt.rcParams['figure.figsize'] = [10, 6]\n",
    "pyplot.plot(detl_threshold['Thresh_alpha'], detl_threshold['Accuracy'], marker='.', label='Accuracy')\n",
    "pyplot.plot(detl_threshold['Thresh_alpha'], detl_threshold['Percent_data_capture'], marker='.', label='Percentage_of_Data_captured')\n",
    "pyplot.plot(detl_threshold['Thresh_alpha'], detl_threshold['Precision'], marker='.', label='Precision')\n",
    "pyplot.plot(detl_threshold['Thresh_alpha'], detl_threshold['Recall'], marker='.', label='Recall')\n",
    "pyplot.plot(detl_threshold['Thresh_alpha'], detl_threshold['f1'], marker='.', label='f1')\n",
    "pyplot.xlabel('Threshold for Data Selection')\n",
    "pyplot.ylabel('Value')\n",
    "pyplot.grid(visible=True, which='both', axis='both')\n",
    "#pyplot.grid(True)\n",
    "pyplot.title('Base_Model - VADER: News_Headlines')\n",
    "# show the legend\n",
    "pyplot.legend()\n",
    "# show the plot\n",
    "pyplot.show()"
   ]
  },
  {
   "cell_type": "code",
   "execution_count": 548,
   "id": "bcc6a0f6",
   "metadata": {},
   "outputs": [
    {
     "data": {
      "image/png": "[encoded data removed]",
      "text/plain": [
       "<Figure size 720x432 with 1 Axes>"
      ]
     },
     "metadata": {
      "needs_background": "light"
     },
     "output_type": "display_data"
    }
   ],
   "source": [
    "threshold_analysis = pd.DataFrame({'Thresh_alpha':[0],'Accuracy':[0],'Percent_data_capture':[0],'Precision':[0],'Recall':[0],'f1':[0]})\n",
    "detl_threshold = pd.DataFrame({'Thresh_alpha':[],'Accuracy':[],'Percent_data_capture':[],'Precision':[],'Recall':[],'f1':[]})\n",
    "for i in range (0,95):\n",
    "    alpha_th = i*.01\n",
    "    res1 = pd.DataFrame(classification_report(probsdf_test['trth'][abs(probsdf_test['flair'])>=alpha_th],probsdf_test['flair_polarity'][abs(probsdf_test['flair'])>=alpha_th],output_dict=True))\n",
    "    threshold_analysis['Accuracy']= res1['accuracy'].iloc[0]\n",
    "    threshold_analysis['Percent_data_capture'] = probsdf_test['trth'][abs(probsdf_test['flair'])>=alpha_th].count()/probsdf_test['trth'].count()\n",
    "    threshold_analysis['Thresh_alpha'] = alpha_th\n",
    "    try:\n",
    "        threshold_analysis['Precision'] = res1['1'].loc['precision']\n",
    "        threshold_analysis['Recall'] = res1['1'].loc['recall']\n",
    "        threshold_analysis['f1'] = res1['1'].loc['f1-score']\n",
    "    except KeyError:\n",
    "        threshold_analysis['Precision'] = 0\n",
    "        threshold_analysis['Recall'] = 0\n",
    "        threshold_analysis['f1'] = 0\n",
    "    detl_threshold = detl_threshold.append(threshold_analysis)\n",
    "\n",
    "plt.rcParams['figure.figsize'] = [10, 6]\n",
    "pyplot.plot(detl_threshold['Thresh_alpha'], detl_threshold['Accuracy'], marker='.', label='Accuracy')\n",
    "pyplot.plot(detl_threshold['Thresh_alpha'], detl_threshold['Percent_data_capture'], marker='.', label='Percentage_of_Data_captured')\n",
    "pyplot.plot(detl_threshold['Thresh_alpha'], detl_threshold['Precision'], marker='.', label='Precision')\n",
    "pyplot.plot(detl_threshold['Thresh_alpha'], detl_threshold['Recall'], marker='.', label='Recall')\n",
    "pyplot.plot(detl_threshold['Thresh_alpha'], detl_threshold['f1'], marker='.', label='f1')\n",
    "pyplot.xlabel('Threshold for Data Selection')\n",
    "pyplot.ylabel('Value')\n",
    "pyplot.grid(visible=True, which='both', axis='both')\n",
    "#pyplot.grid(True)\n",
    "pyplot.title('Base_Model - Flair: News_Headlines')\n",
    "# show the legend\n",
    "pyplot.legend()\n",
    "# show the plot\n",
    "pyplot.show()"
   ]
  },
  {
   "cell_type": "code",
   "execution_count": 549,
   "id": "d884bc4d",
   "metadata": {},
   "outputs": [
    {
     "name": "stderr",
     "output_type": "stream",
     "text": [
      "/Users/amitobe/opt/anaconda3/envs/nlp_course/lib/python3.7/site-packages/sklearn/metrics/_classification.py:1318: UndefinedMetricWarning: Precision and F-score are ill-defined and being set to 0.0 in labels with no predicted samples. Use `zero_division` parameter to control this behavior.\n",
      "  _warn_prf(average, modifier, msg_start, len(result))\n",
      "/Users/amitobe/opt/anaconda3/envs/nlp_course/lib/python3.7/site-packages/sklearn/metrics/_classification.py:1318: UndefinedMetricWarning: Precision and F-score are ill-defined and being set to 0.0 in labels with no predicted samples. Use `zero_division` parameter to control this behavior.\n",
      "  _warn_prf(average, modifier, msg_start, len(result))\n",
      "/Users/amitobe/opt/anaconda3/envs/nlp_course/lib/python3.7/site-packages/sklearn/metrics/_classification.py:1318: UndefinedMetricWarning: Precision and F-score are ill-defined and being set to 0.0 in labels with no predicted samples. Use `zero_division` parameter to control this behavior.\n",
      "  _warn_prf(average, modifier, msg_start, len(result))\n"
     ]
    },
    {
     "data": {
      "image/png": "[encoded data removed]",
      "text/plain": [
       "<Figure size 720x432 with 1 Axes>"
      ]
     },
     "metadata": {
      "needs_background": "light"
     },
     "output_type": "display_data"
    }
   ],
   "source": [
    "threshold_analysis = pd.DataFrame({'Thresh_alpha':[0],'Accuracy':[0],'Percent_data_capture':[0],'Precision':[0],'Recall':[0],'f1':[0]})\n",
    "detl_threshold = pd.DataFrame({'Thresh_alpha':[],'Accuracy':[],'Percent_data_capture':[],'Precision':[],'Recall':[],'f1':[]})\n",
    "for i in range (0,95):\n",
    "    alpha_th = i*.01\n",
    "    res1 = pd.DataFrame(classification_report(probsdf_test['trth'][abs(probsdf_test['tb'])>=alpha_th],probsdf_test['textblob_polarity'][abs(probsdf_test['tb'])>=alpha_th],output_dict=True))\n",
    "    threshold_analysis['Accuracy']= res1['accuracy'].iloc[0]\n",
    "    threshold_analysis['Percent_data_capture'] = probsdf_test['trth'][abs(probsdf_test['tb'])>=alpha_th].count()/probsdf_test['trth'].count()\n",
    "    threshold_analysis['Thresh_alpha'] = alpha_th\n",
    "    try:\n",
    "        threshold_analysis['Precision'] = res1['1'].loc['precision']\n",
    "        threshold_analysis['Recall'] = res1['1'].loc['recall']\n",
    "        threshold_analysis['f1'] = res1['1'].loc['f1-score']\n",
    "    except KeyError:\n",
    "        threshold_analysis['Precision'] = 0\n",
    "        threshold_analysis['Recall'] = 0\n",
    "        threshold_analysis['f1'] = 0\n",
    "    detl_threshold = detl_threshold.append(threshold_analysis)\n",
    "\n",
    "plt.rcParams['figure.figsize'] = [10, 6]\n",
    "pyplot.plot(detl_threshold['Thresh_alpha'], detl_threshold['Accuracy'], marker='.', label='Accuracy')\n",
    "pyplot.plot(detl_threshold['Thresh_alpha'], detl_threshold['Percent_data_capture'], marker='.', label='Percentage_of_Data_captured')\n",
    "pyplot.plot(detl_threshold['Thresh_alpha'], detl_threshold['Precision'], marker='.', label='Precision')\n",
    "pyplot.plot(detl_threshold['Thresh_alpha'], detl_threshold['Recall'], marker='.', label='Recall')\n",
    "pyplot.plot(detl_threshold['Thresh_alpha'], detl_threshold['f1'], marker='.', label='f1')\n",
    "pyplot.xlabel('Threshold for Data Selection')\n",
    "pyplot.ylabel('Value')\n",
    "pyplot.grid(visible=True, which='both', axis='both')\n",
    "#pyplot.grid(True)\n",
    "pyplot.title('Base_Model - Textblob : News_Headlines')\n",
    "# show the legend\n",
    "pyplot.legend()\n",
    "# show the plot\n",
    "pyplot.show()"
   ]
  },
  {
   "cell_type": "code",
   "execution_count": 550,
   "id": "b2c87f04",
   "metadata": {},
   "outputs": [
    {
     "data": {
      "text/html": [
       "<div>\n",
       "<style scoped>\n",
       "    .dataframe tbody tr th:only-of-type {\n",
       "        vertical-align: middle;\n",
       "    }\n",
       "\n",
       "    .dataframe tbody tr th {\n",
       "        vertical-align: top;\n",
       "    }\n",
       "\n",
       "    .dataframe thead th {\n",
       "        text-align: right;\n",
       "    }\n",
       "</style>\n",
       "<table border=\"1\" class=\"dataframe\">\n",
       "  <thead>\n",
       "    <tr style=\"text-align: right;\">\n",
       "      <th></th>\n",
       "      <th>0</th>\n",
       "      <th>1</th>\n",
       "      <th>trth</th>\n",
       "      <th>label_pol_pred</th>\n",
       "      <th>tb</th>\n",
       "      <th>vader</th>\n",
       "      <th>bert</th>\n",
       "      <th>flair</th>\n",
       "      <th>textblob_polarity</th>\n",
       "      <th>vader_polarity</th>\n",
       "      <th>bert_polarity</th>\n",
       "      <th>flair_polarity</th>\n",
       "    </tr>\n",
       "  </thead>\n",
       "  <tbody>\n",
       "    <tr>\n",
       "      <th>0</th>\n",
       "      <td>0.067862</td>\n",
       "      <td>0.932138</td>\n",
       "      <td>1</td>\n",
       "      <td>1</td>\n",
       "      <td>0.7269</td>\n",
       "      <td>0.7269</td>\n",
       "      <td>0.939559</td>\n",
       "      <td>-0.681963</td>\n",
       "      <td>1.0</td>\n",
       "      <td>1.0</td>\n",
       "      <td>1.0</td>\n",
       "      <td>-1.0</td>\n",
       "    </tr>\n",
       "    <tr>\n",
       "      <th>1</th>\n",
       "      <td>0.530962</td>\n",
       "      <td>0.469038</td>\n",
       "      <td>1</td>\n",
       "      <td>1</td>\n",
       "      <td>0.3818</td>\n",
       "      <td>0.3818</td>\n",
       "      <td>0.000000</td>\n",
       "      <td>-0.892302</td>\n",
       "      <td>1.0</td>\n",
       "      <td>1.0</td>\n",
       "      <td>1.0</td>\n",
       "      <td>-1.0</td>\n",
       "    </tr>\n",
       "    <tr>\n",
       "      <th>2</th>\n",
       "      <td>0.691637</td>\n",
       "      <td>0.308363</td>\n",
       "      <td>-1</td>\n",
       "      <td>-1</td>\n",
       "      <td>0.4019</td>\n",
       "      <td>0.4019</td>\n",
       "      <td>-0.490856</td>\n",
       "      <td>0.984657</td>\n",
       "      <td>1.0</td>\n",
       "      <td>1.0</td>\n",
       "      <td>-1.0</td>\n",
       "      <td>1.0</td>\n",
       "    </tr>\n",
       "    <tr>\n",
       "      <th>3</th>\n",
       "      <td>0.985181</td>\n",
       "      <td>0.014819</td>\n",
       "      <td>-1</td>\n",
       "      <td>-1</td>\n",
       "      <td>-0.5267</td>\n",
       "      <td>-0.5267</td>\n",
       "      <td>-0.883854</td>\n",
       "      <td>-0.997766</td>\n",
       "      <td>-1.0</td>\n",
       "      <td>-1.0</td>\n",
       "      <td>-1.0</td>\n",
       "      <td>-1.0</td>\n",
       "    </tr>\n",
       "    <tr>\n",
       "      <th>4</th>\n",
       "      <td>0.028772</td>\n",
       "      <td>0.971228</td>\n",
       "      <td>1</td>\n",
       "      <td>1</td>\n",
       "      <td>0.8119</td>\n",
       "      <td>0.8119</td>\n",
       "      <td>0.889048</td>\n",
       "      <td>0.958995</td>\n",
       "      <td>1.0</td>\n",
       "      <td>1.0</td>\n",
       "      <td>1.0</td>\n",
       "      <td>1.0</td>\n",
       "    </tr>\n",
       "    <tr>\n",
       "      <th>...</th>\n",
       "      <td>...</td>\n",
       "      <td>...</td>\n",
       "      <td>...</td>\n",
       "      <td>...</td>\n",
       "      <td>...</td>\n",
       "      <td>...</td>\n",
       "      <td>...</td>\n",
       "      <td>...</td>\n",
       "      <td>...</td>\n",
       "      <td>...</td>\n",
       "      <td>...</td>\n",
       "      <td>...</td>\n",
       "    </tr>\n",
       "    <tr>\n",
       "      <th>595</th>\n",
       "      <td>0.012010</td>\n",
       "      <td>0.987990</td>\n",
       "      <td>1</td>\n",
       "      <td>1</td>\n",
       "      <td>0.6369</td>\n",
       "      <td>0.6369</td>\n",
       "      <td>0.961337</td>\n",
       "      <td>0.999744</td>\n",
       "      <td>1.0</td>\n",
       "      <td>1.0</td>\n",
       "      <td>1.0</td>\n",
       "      <td>1.0</td>\n",
       "    </tr>\n",
       "    <tr>\n",
       "      <th>596</th>\n",
       "      <td>0.019071</td>\n",
       "      <td>0.980929</td>\n",
       "      <td>1</td>\n",
       "      <td>1</td>\n",
       "      <td>0.8910</td>\n",
       "      <td>0.8910</td>\n",
       "      <td>0.979471</td>\n",
       "      <td>0.995846</td>\n",
       "      <td>1.0</td>\n",
       "      <td>1.0</td>\n",
       "      <td>1.0</td>\n",
       "      <td>1.0</td>\n",
       "    </tr>\n",
       "    <tr>\n",
       "      <th>597</th>\n",
       "      <td>0.049596</td>\n",
       "      <td>0.950404</td>\n",
       "      <td>1</td>\n",
       "      <td>1</td>\n",
       "      <td>0.5106</td>\n",
       "      <td>0.5106</td>\n",
       "      <td>0.748365</td>\n",
       "      <td>0.991570</td>\n",
       "      <td>1.0</td>\n",
       "      <td>1.0</td>\n",
       "      <td>1.0</td>\n",
       "      <td>1.0</td>\n",
       "    </tr>\n",
       "    <tr>\n",
       "      <th>598</th>\n",
       "      <td>0.965861</td>\n",
       "      <td>0.034139</td>\n",
       "      <td>-1</td>\n",
       "      <td>-1</td>\n",
       "      <td>-0.6369</td>\n",
       "      <td>-0.6369</td>\n",
       "      <td>-0.598312</td>\n",
       "      <td>-0.994702</td>\n",
       "      <td>-1.0</td>\n",
       "      <td>-1.0</td>\n",
       "      <td>-1.0</td>\n",
       "      <td>-1.0</td>\n",
       "    </tr>\n",
       "    <tr>\n",
       "      <th>599</th>\n",
       "      <td>0.024023</td>\n",
       "      <td>0.975977</td>\n",
       "      <td>1</td>\n",
       "      <td>1</td>\n",
       "      <td>0.6369</td>\n",
       "      <td>0.6369</td>\n",
       "      <td>0.984751</td>\n",
       "      <td>0.996437</td>\n",
       "      <td>1.0</td>\n",
       "      <td>1.0</td>\n",
       "      <td>1.0</td>\n",
       "      <td>1.0</td>\n",
       "    </tr>\n",
       "  </tbody>\n",
       "</table>\n",
       "<p>600 rows × 12 columns</p>\n",
       "</div>"
      ],
      "text/plain": [
       "            0         1  trth  label_pol_pred      tb   vader      bert  \\\n",
       "0    0.067862  0.932138     1               1  0.7269  0.7269  0.939559   \n",
       "1    0.530962  0.469038     1               1  0.3818  0.3818  0.000000   \n",
       "2    0.691637  0.308363    -1              -1  0.4019  0.4019 -0.490856   \n",
       "3    0.985181  0.014819    -1              -1 -0.5267 -0.5267 -0.883854   \n",
       "4    0.028772  0.971228     1               1  0.8119  0.8119  0.889048   \n",
       "..        ...       ...   ...             ...     ...     ...       ...   \n",
       "595  0.012010  0.987990     1               1  0.6369  0.6369  0.961337   \n",
       "596  0.019071  0.980929     1               1  0.8910  0.8910  0.979471   \n",
       "597  0.049596  0.950404     1               1  0.5106  0.5106  0.748365   \n",
       "598  0.965861  0.034139    -1              -1 -0.6369 -0.6369 -0.598312   \n",
       "599  0.024023  0.975977     1               1  0.6369  0.6369  0.984751   \n",
       "\n",
       "        flair  textblob_polarity  vader_polarity  bert_polarity  \\\n",
       "0   -0.681963                1.0             1.0            1.0   \n",
       "1   -0.892302                1.0             1.0            1.0   \n",
       "2    0.984657                1.0             1.0           -1.0   \n",
       "3   -0.997766               -1.0            -1.0           -1.0   \n",
       "4    0.958995                1.0             1.0            1.0   \n",
       "..        ...                ...             ...            ...   \n",
       "595  0.999744                1.0             1.0            1.0   \n",
       "596  0.995846                1.0             1.0            1.0   \n",
       "597  0.991570                1.0             1.0            1.0   \n",
       "598 -0.994702               -1.0            -1.0           -1.0   \n",
       "599  0.996437                1.0             1.0            1.0   \n",
       "\n",
       "     flair_polarity  \n",
       "0              -1.0  \n",
       "1              -1.0  \n",
       "2               1.0  \n",
       "3              -1.0  \n",
       "4               1.0  \n",
       "..              ...  \n",
       "595             1.0  \n",
       "596             1.0  \n",
       "597             1.0  \n",
       "598            -1.0  \n",
       "599             1.0  \n",
       "\n",
       "[600 rows x 12 columns]"
      ]
     },
     "execution_count": 550,
     "metadata": {},
     "output_type": "execute_result"
    }
   ],
   "source": [
    "probsdf_test"
   ]
  },
  {
   "cell_type": "code",
   "execution_count": 551,
   "id": "48945934",
   "metadata": {},
   "outputs": [],
   "source": [
    "import numpy as np\n",
    "from sklearn.model_selection import train_test_split, cross_val_score\n",
    "from sklearn.linear_model import LogisticRegression\n",
    "from sklearn.svm import SVC\n",
    "from sklearn.ensemble import RandomForestClassifier\n",
    "from sklearn.naive_bayes import GaussianNB\n",
    "from sklearn.metrics import accuracy_score"
   ]
  },
  {
   "cell_type": "code",
   "execution_count": 552,
   "id": "91b6e039",
   "metadata": {},
   "outputs": [
    {
     "name": "stdout",
     "output_type": "stream",
     "text": [
      "Logistic Regression Mean Accuracy: 0.8843\n",
      "Support Vector Machine Mean Accuracy: 0.8814\n",
      "Random Forest Mean Accuracy: 0.8771\n",
      "Naive Bayes Mean Accuracy: 0.8793\n",
      "Best Model Test Accuracy: 0.8850\n"
     ]
    }
   ],
   "source": [
    "\n",
    "\n",
    "# List of classifiers to evaluate\n",
    "classifiers = [\n",
    "    ('Logistic Regression', LogisticRegression()),\n",
    "    ('Support Vector Machine', SVC()),\n",
    "    ('Random Forest', RandomForestClassifier()),\n",
    "    ('Naive Bayes', GaussianNB())\n",
    "]\n",
    "\n",
    "# Iterate over classifiers and evaluate using cross-validation\n",
    "for name, classifier in classifiers:\n",
    "    scores = cross_val_score(classifier, X_train, y_train, cv=5)\n",
    "    mean_score = np.mean(scores)\n",
    "    print(f\"{name} Mean Accuracy: {mean_score:.4f}\")\n",
    "\n",
    "# Choose the best model based on cross-validation scores\n",
    "best_classifier = max(classifiers, key=lambda x: np.mean(cross_val_score(x[1], X_train, y_train, cv=5)))[1]\n",
    "\n",
    "# Train the best classifier on the full training set\n",
    "best_classifier.fit(X_train, y_train)\n",
    "\n",
    "# Test the model on the test set\n",
    "y_pred = best_classifier.predict(X_test)\n",
    "accuracy = accuracy_score(y_test, y_pred)\n",
    "print(f\"Best Model Test Accuracy: {accuracy:.4f}\")\n"
   ]
  },
  {
   "cell_type": "code",
   "execution_count": 553,
   "id": "89b8e842",
   "metadata": {},
   "outputs": [],
   "source": [
    "model_eval = pd.DataFrame({'Model':[],'Mean_Score':[]})"
   ]
  },
  {
   "cell_type": "code",
   "execution_count": 554,
   "id": "32350d1e",
   "metadata": {},
   "outputs": [
    {
     "data": {
      "text/html": [
       "<div>\n",
       "<style scoped>\n",
       "    .dataframe tbody tr th:only-of-type {\n",
       "        vertical-align: middle;\n",
       "    }\n",
       "\n",
       "    .dataframe tbody tr th {\n",
       "        vertical-align: top;\n",
       "    }\n",
       "\n",
       "    .dataframe thead th {\n",
       "        text-align: right;\n",
       "    }\n",
       "</style>\n",
       "<table border=\"1\" class=\"dataframe\">\n",
       "  <thead>\n",
       "    <tr style=\"text-align: right;\">\n",
       "      <th></th>\n",
       "      <th>Model</th>\n",
       "      <th>Mean_Score</th>\n",
       "    </tr>\n",
       "  </thead>\n",
       "  <tbody>\n",
       "  </tbody>\n",
       "</table>\n",
       "</div>"
      ],
      "text/plain": [
       "Empty DataFrame\n",
       "Columns: [Model, Mean_Score]\n",
       "Index: []"
      ]
     },
     "execution_count": 554,
     "metadata": {},
     "output_type": "execute_result"
    }
   ],
   "source": [
    "model_eval"
   ]
  },
  {
   "cell_type": "code",
   "execution_count": 555,
   "id": "3b3953af",
   "metadata": {},
   "outputs": [
    {
     "name": "stdout",
     "output_type": "stream",
     "text": [
      "Logistic Regression Mean Accuracy: 0.8843\n",
      "Support Vector Machine Mean Accuracy: 0.8814\n",
      "Random Forest Mean Accuracy: 0.8793\n",
      "Naive Bayes Mean Accuracy: 0.8793\n",
      "Decision Tree Mean Accuracy: 0.8536\n",
      "Gradient Boosting Mean Accuracy: 0.8864\n",
      "AdaBoost Mean Accuracy: 0.8921\n",
      "Ridge Classifier Mean Accuracy: 0.8843\n",
      "Best Model Test Accuracy: 0.8850\n"
     ]
    }
   ],
   "source": [
    "import numpy as np\n",
    "from sklearn.model_selection import train_test_split, cross_val_score\n",
    "from sklearn.linear_model import LogisticRegression, RidgeClassifier\n",
    "from sklearn.svm import SVC\n",
    "from sklearn.ensemble import RandomForestClassifier, GradientBoostingClassifier, AdaBoostClassifier\n",
    "from sklearn.naive_bayes import GaussianNB\n",
    "from sklearn.tree import DecisionTreeClassifier\n",
    "from sklearn.metrics import accuracy_score\n",
    "model_eval = pd.DataFrame({'Model':[],'Mean_Score':[]})\n",
    "\n",
    "# List of classifiers to evaluate\n",
    "classifiers = [\n",
    "    ('Logistic Regression', LogisticRegression()),\n",
    "    ('Support Vector Machine', SVC()),\n",
    "    ('Random Forest', RandomForestClassifier()),\n",
    "    ('Naive Bayes', GaussianNB()),\n",
    "    ('Decision Tree', DecisionTreeClassifier()),\n",
    "    ('Gradient Boosting', GradientBoostingClassifier()),\n",
    "    ('AdaBoost', AdaBoostClassifier()),\n",
    "    ('Ridge Classifier', RidgeClassifier())\n",
    "]\n",
    "\n",
    "# Iterate over classifiers and evaluate using cross-validation\n",
    "for name, classifier in classifiers:\n",
    "    scores = cross_val_score(classifier, X_train, y_train, cv=5)\n",
    "    mean_score = np.mean(scores)\n",
    "    scores_temp = pd.DataFrame({'Model':[name],'Mean_Score':[mean_score]})\n",
    "    model_eval = model_eval.append(scores_temp)\n",
    "    print(f\"{name} Mean Accuracy: {mean_score:.4f}\")\n",
    "\n",
    "# Choose the best model based on cross-validation scores\n",
    "best_classifier = max(classifiers, key=lambda x: np.mean(cross_val_score(x[1], X_train, y_train, cv=5)))[1]\n",
    "\n",
    "# Train the best classifier on the full training set\n",
    "best_classifier.fit(X_train, y_train)\n",
    "\n",
    "# Test the model on the test set\n",
    "y_pred = best_classifier.predict(X_test)\n",
    "accuracy = accuracy_score(y_test, y_pred)\n",
    "print(f\"Best Model Test Accuracy: {accuracy:.4f}\")\n"
   ]
  },
  {
   "attachments": {},
   "cell_type": "markdown",
   "id": "f99ae242",
   "metadata": {},
   "source": []
  },
  {
   "cell_type": "code",
   "execution_count": 590,
   "id": "308023b2",
   "metadata": {},
   "outputs": [
    {
     "data": {
      "text/html": [
       "<div>\n",
       "<style scoped>\n",
       "    .dataframe tbody tr th:only-of-type {\n",
       "        vertical-align: middle;\n",
       "    }\n",
       "\n",
       "    .dataframe tbody tr th {\n",
       "        vertical-align: top;\n",
       "    }\n",
       "\n",
       "    .dataframe thead th {\n",
       "        text-align: right;\n",
       "    }\n",
       "</style>\n",
       "<table border=\"1\" class=\"dataframe\">\n",
       "  <thead>\n",
       "    <tr style=\"text-align: right;\">\n",
       "      <th></th>\n",
       "      <th>Model</th>\n",
       "      <th>Mean_Score</th>\n",
       "    </tr>\n",
       "  </thead>\n",
       "  <tbody>\n",
       "    <tr>\n",
       "      <th>0</th>\n",
       "      <td>Logistic Regression</td>\n",
       "      <td>0.884286</td>\n",
       "    </tr>\n",
       "    <tr>\n",
       "      <th>0</th>\n",
       "      <td>Support Vector Machine</td>\n",
       "      <td>0.881429</td>\n",
       "    </tr>\n",
       "    <tr>\n",
       "      <th>0</th>\n",
       "      <td>Random Forest</td>\n",
       "      <td>0.879286</td>\n",
       "    </tr>\n",
       "    <tr>\n",
       "      <th>0</th>\n",
       "      <td>Naive Bayes</td>\n",
       "      <td>0.879286</td>\n",
       "    </tr>\n",
       "    <tr>\n",
       "      <th>0</th>\n",
       "      <td>Decision Tree</td>\n",
       "      <td>0.853571</td>\n",
       "    </tr>\n",
       "    <tr>\n",
       "      <th>0</th>\n",
       "      <td>Gradient Boosting</td>\n",
       "      <td>0.886429</td>\n",
       "    </tr>\n",
       "    <tr>\n",
       "      <th>0</th>\n",
       "      <td>AdaBoost</td>\n",
       "      <td>0.892143</td>\n",
       "    </tr>\n",
       "    <tr>\n",
       "      <th>0</th>\n",
       "      <td>Ridge Classifier</td>\n",
       "      <td>0.884286</td>\n",
       "    </tr>\n",
       "  </tbody>\n",
       "</table>\n",
       "</div>"
      ],
      "text/plain": [
       "                    Model  Mean_Score\n",
       "0     Logistic Regression    0.884286\n",
       "0  Support Vector Machine    0.881429\n",
       "0           Random Forest    0.879286\n",
       "0             Naive Bayes    0.879286\n",
       "0           Decision Tree    0.853571\n",
       "0       Gradient Boosting    0.886429\n",
       "0                AdaBoost    0.892143\n",
       "0        Ridge Classifier    0.884286"
      ]
     },
     "execution_count": 590,
     "metadata": {},
     "output_type": "execute_result"
    }
   ],
   "source": [
    "model_eval"
   ]
  },
  {
   "cell_type": "code",
   "execution_count": 591,
   "id": "f4bb7c1f",
   "metadata": {},
   "outputs": [],
   "source": [
    "model_eval.to_csv('conversational_model_eval.csv')"
   ]
  },
  {
   "cell_type": "code",
   "execution_count": 557,
   "id": "28ad7e98",
   "metadata": {},
   "outputs": [
    {
     "data": {
      "text/plain": [
       "AdaBoostClassifier()"
      ]
     },
     "execution_count": 557,
     "metadata": {},
     "output_type": "execute_result"
    }
   ],
   "source": [
    "best_classifier"
   ]
  },
  {
   "cell_type": "code",
   "execution_count": 558,
   "id": "ee9edb27",
   "metadata": {},
   "outputs": [
    {
     "name": "stdout",
     "output_type": "stream",
     "text": [
      "Accuracy: 0.89\n",
      "Classification Report:\n",
      "              precision    recall  f1-score   support\n",
      "\n",
      "          -1       0.91      0.85      0.88       296\n",
      "           1       0.87      0.91      0.89       304\n",
      "\n",
      "    accuracy                           0.89       600\n",
      "   macro avg       0.89      0.88      0.88       600\n",
      "weighted avg       0.89      0.89      0.88       600\n",
      "\n"
     ]
    }
   ],
   "source": [
    "\n",
    "gb_classifier = GradientBoostingClassifier(n_estimators=100, learning_rate=0.01,random_state=42,max_depth = 3)\n",
    "# Train the classifier on the training data\n",
    "gb_classifier.fit(X_train, y_train)\n",
    "\n",
    "# Make predictions on the test data\n",
    "y_pred = gb_classifier.predict(X_test)\n",
    "\n",
    "# Evaluate the classifier's performance\n",
    "accuracy = accuracy_score(y_test, y_pred)\n",
    "print(f\"Accuracy: {accuracy:.2f}\")\n",
    "\n",
    "# Print the classification report\n",
    "print(\"Classification Report:\")\n",
    "print(classification_report(y_test, y_pred))\n",
    "\n",
    "\n"
   ]
  },
  {
   "cell_type": "code",
   "execution_count": 559,
   "id": "a728e17d",
   "metadata": {},
   "outputs": [
    {
     "data": {
      "text/plain": [
       "array([-1])"
      ]
     },
     "execution_count": 559,
     "metadata": {},
     "output_type": "execute_result"
    }
   ],
   "source": [
    "gb_classifier.predict([[-1,-1,-1,-1]])"
   ]
  },
  {
   "cell_type": "code",
   "execution_count": 560,
   "id": "a1d19f6d",
   "metadata": {},
   "outputs": [
    {
     "data": {
      "text/plain": [
       "(1400, 2)"
      ]
     },
     "execution_count": 560,
     "metadata": {},
     "output_type": "execute_result"
    }
   ],
   "source": [
    "y_probs = gb_classifier.predict_proba(X_train)\n",
    "y_probs.shape"
   ]
  },
  {
   "cell_type": "code",
   "execution_count": 561,
   "id": "ff381c76",
   "metadata": {},
   "outputs": [
    {
     "name": "stdout",
     "output_type": "stream",
     "text": [
      "Logistic: ROC AUC=0.966\n"
     ]
    },
    {
     "data": {
      "image/png": "[encoded data removed]",
      "text/plain": [
       "<Figure size 720x432 with 1 Axes>"
      ]
     },
     "metadata": {
      "needs_background": "light"
     },
     "output_type": "display_data"
    }
   ],
   "source": [
    "gb_probs = y_probs[:,[1]]\n",
    "gb_auc = roc_auc_score(y_train, gb_probs)\n",
    "# summarize scores\n",
    "\n",
    "print('Logistic: ROC AUC=%.3f' % (gb_auc))\n",
    "# calculate roc curves\n",
    "\n",
    "gb_fpr, gb_tpr, thr = roc_curve(y_train, gb_probs)\n",
    "# plot the roc curve for the model # pyplot.plot(ns_fpr, ns_tpr, linestyle='--', label='No Skill')\n",
    "pyplot.plot(gb_fpr, gb_tpr, marker='.', label='Gradient Boost')\n",
    "pyplot.plot(lr_fpr, lr_tpr, marker='.', label='Logistic')\n",
    "# axis labels\n",
    "pyplot.xlabel('False Positive Rate')\n",
    "pyplot.ylabel('True Positive Rate')\n",
    "# show the legend\n",
    "pyplot.legend()\n",
    "# show the plot\n",
    "pyplot.show()"
   ]
  },
  {
   "cell_type": "code",
   "execution_count": 562,
   "id": "d3331300",
   "metadata": {},
   "outputs": [
    {
     "name": "stdout",
     "output_type": "stream",
     "text": [
      "Logistic: ROC AUC=0.962\n"
     ]
    },
    {
     "data": {
      "image/png": "[encoded data removed]",
      "text/plain": [
       "<Figure size 720x432 with 1 Axes>"
      ]
     },
     "metadata": {
      "needs_background": "light"
     },
     "output_type": "display_data"
    }
   ],
   "source": [
    "lr_probs = probs[:,[1]]\n",
    "lr_auc = roc_auc_score(y_train, lr_probs)\n",
    "# summarize scores\n",
    "\n",
    "print('Logistic: ROC AUC=%.3f' % (lr_auc))\n",
    "# calculate roc curves\n",
    "\n",
    "lr_fpr, lr_tpr, thr = roc_curve(y_train, lr_probs)\n",
    "# plot the roc curve for the model # pyplot.plot(ns_fpr, ns_tpr, linestyle='--', label='No Skill')\n",
    "pyplot.plot(lr_fpr, lr_tpr, marker='.', label='Logistic')\n",
    "# axis labels\n",
    "pyplot.xlabel('False Positive Rate')\n",
    "pyplot.ylabel('True Positive Rate')\n",
    "# show the legend\n",
    "pyplot.legend()\n",
    "# show the plot\n",
    "pyplot.show()"
   ]
  },
  {
   "cell_type": "code",
   "execution_count": 563,
   "id": "92e966e5",
   "metadata": {},
   "outputs": [],
   "source": [
    "y_probs = gb_classifier.predict_proba(X_test)"
   ]
  },
  {
   "cell_type": "code",
   "execution_count": 564,
   "id": "e89c0b16",
   "metadata": {},
   "outputs": [
    {
     "name": "stdout",
     "output_type": "stream",
     "text": [
      "Logistic: ROC AUC=0.956\n"
     ]
    },
    {
     "data": {
      "image/png": "[encoded data removed]",
      "text/plain": [
       "<Figure size 720x432 with 1 Axes>"
      ]
     },
     "metadata": {
      "needs_background": "light"
     },
     "output_type": "display_data"
    }
   ],
   "source": [
    "gb_probs = y_probs[:,[1]]\n",
    "gb_auc = roc_auc_score(y_test, gb_probs)\n",
    "# summarize scores\n",
    "\n",
    "print('Logistic: ROC AUC=%.3f' % (gb_auc))\n",
    "# calculate roc curves\n",
    "\n",
    "gb_fpr, gb_tpr, thr = roc_curve(y_test, gb_probs)\n",
    "# plot the roc curve for the model # pyplot.plot(ns_fpr, ns_tpr, linestyle='--', label='No Skill')\n",
    "pyplot.plot(gb_fpr, gb_tpr, marker='.', label='Gradient Boost')\n",
    "pyplot.plot(lr_fpr, lr_tpr, marker='.', label='Logistic')\n",
    "# axis labels\n",
    "pyplot.xlabel('False Positive Rate')\n",
    "pyplot.ylabel('True Positive Rate')\n",
    "# show the legend\n",
    "pyplot.legend()\n",
    "# show the plot\n",
    "pyplot.show()"
   ]
  },
  {
   "cell_type": "code",
   "execution_count": 565,
   "id": "d07dbb5c",
   "metadata": {},
   "outputs": [
    {
     "name": "stdout",
     "output_type": "stream",
     "text": [
      "Best Hyperparameters: {'learning_rate': 0.01, 'max_depth': 4, 'n_estimators': 150}\n",
      "Accuracy: 0.89\n",
      "Classification Report:\n",
      "              precision    recall  f1-score   support\n",
      "\n",
      "          -1       0.91      0.85      0.88       296\n",
      "           1       0.87      0.92      0.89       304\n",
      "\n",
      "    accuracy                           0.89       600\n",
      "   macro avg       0.89      0.89      0.89       600\n",
      "weighted avg       0.89      0.89      0.89       600\n",
      "\n",
      "Best Model: GradientBoostingClassifier(learning_rate=0.01, max_depth=4, n_estimators=150)\n"
     ]
    }
   ],
   "source": [
    "from sklearn.model_selection import GridSearchCV\n",
    "from sklearn.metrics import accuracy_score, classification_report\n",
    "\n",
    "gb_classifier1 = GradientBoostingClassifier()\n",
    "\n",
    "# Define a grid of hyperparameters to search\n",
    "param_grid = {\n",
    "    'n_estimators': [50, 100, 150],\n",
    "    'learning_rate': [0.1, 0.01],\n",
    "    'max_depth': [3, 4, 5]\n",
    "}\n",
    "\n",
    "# Initialize GridSearchCV with the classifier and parameter grid\n",
    "grid_search = GridSearchCV(gb_classifier1, param_grid, cv=3, scoring='accuracy')\n",
    "\n",
    "# Perform hyperparameter tuning on the training data\n",
    "grid_search.fit(X_train, y_train)\n",
    "\n",
    "# Get the best hyperparameters from the grid search\n",
    "best_params = grid_search.best_params_\n",
    "print(\"Best Hyperparameters:\", best_params)\n",
    "\n",
    "# Use the best model for prediction\n",
    "best_model = grid_search.best_estimator_\n",
    "y_pred = best_model.predict(X_test)\n",
    "\n",
    "# Evaluate the classifier's performance\n",
    "accuracy = accuracy_score(y_test, y_pred)\n",
    "print(f\"Accuracy: {accuracy:.2f}\")\n",
    "\n",
    "# Print the classification report\n",
    "print(\"Classification Report:\")\n",
    "print(classification_report(y_test, y_pred))\n",
    "print(\"Best Model:\", best_model)"
   ]
  },
  {
   "attachments": {},
   "cell_type": "markdown",
   "id": "90cdde6c",
   "metadata": {},
   "source": [
    "# Best Model Analysis\n",
    "The best meta model was found to be GradientBoost. here after hyperparameter tuning we found the accuracy score to be 0.73\n",
    "Now we will see if we can custom threshold and improve acuraccy."
   ]
  },
  {
   "cell_type": "code",
   "execution_count": 566,
   "id": "37dd9123",
   "metadata": {},
   "outputs": [
    {
     "data": {
      "text/html": [
       "<div>\n",
       "<style scoped>\n",
       "    .dataframe tbody tr th:only-of-type {\n",
       "        vertical-align: middle;\n",
       "    }\n",
       "\n",
       "    .dataframe tbody tr th {\n",
       "        vertical-align: top;\n",
       "    }\n",
       "\n",
       "    .dataframe thead th {\n",
       "        text-align: right;\n",
       "    }\n",
       "</style>\n",
       "<table border=\"1\" class=\"dataframe\">\n",
       "  <thead>\n",
       "    <tr style=\"text-align: right;\">\n",
       "      <th></th>\n",
       "      <th>0</th>\n",
       "      <th>1</th>\n",
       "      <th>trth</th>\n",
       "      <th>label_pol_pred</th>\n",
       "      <th>tb</th>\n",
       "      <th>vader</th>\n",
       "      <th>bert</th>\n",
       "      <th>flair</th>\n",
       "      <th>textblob_polarity</th>\n",
       "      <th>vader_polarity</th>\n",
       "      <th>bert_polarity</th>\n",
       "      <th>flair_polarity</th>\n",
       "      <th>GBprobs_0</th>\n",
       "      <th>GBprobs_1</th>\n",
       "    </tr>\n",
       "  </thead>\n",
       "  <tbody>\n",
       "    <tr>\n",
       "      <th>0</th>\n",
       "      <td>0.067862</td>\n",
       "      <td>0.932138</td>\n",
       "      <td>1</td>\n",
       "      <td>1</td>\n",
       "      <td>0.7269</td>\n",
       "      <td>0.7269</td>\n",
       "      <td>0.939559</td>\n",
       "      <td>-0.681963</td>\n",
       "      <td>1.0</td>\n",
       "      <td>1.0</td>\n",
       "      <td>1.0</td>\n",
       "      <td>-1.0</td>\n",
       "      <td>0.227807</td>\n",
       "      <td>0.772193</td>\n",
       "    </tr>\n",
       "    <tr>\n",
       "      <th>1</th>\n",
       "      <td>0.530962</td>\n",
       "      <td>0.469038</td>\n",
       "      <td>1</td>\n",
       "      <td>1</td>\n",
       "      <td>0.3818</td>\n",
       "      <td>0.3818</td>\n",
       "      <td>0.000000</td>\n",
       "      <td>-0.892302</td>\n",
       "      <td>1.0</td>\n",
       "      <td>1.0</td>\n",
       "      <td>1.0</td>\n",
       "      <td>-1.0</td>\n",
       "      <td>0.519037</td>\n",
       "      <td>0.480963</td>\n",
       "    </tr>\n",
       "    <tr>\n",
       "      <th>2</th>\n",
       "      <td>0.691637</td>\n",
       "      <td>0.308363</td>\n",
       "      <td>-1</td>\n",
       "      <td>-1</td>\n",
       "      <td>0.4019</td>\n",
       "      <td>0.4019</td>\n",
       "      <td>-0.490856</td>\n",
       "      <td>0.984657</td>\n",
       "      <td>1.0</td>\n",
       "      <td>1.0</td>\n",
       "      <td>-1.0</td>\n",
       "      <td>1.0</td>\n",
       "      <td>0.636809</td>\n",
       "      <td>0.363191</td>\n",
       "    </tr>\n",
       "    <tr>\n",
       "      <th>3</th>\n",
       "      <td>0.985181</td>\n",
       "      <td>0.014819</td>\n",
       "      <td>-1</td>\n",
       "      <td>-1</td>\n",
       "      <td>-0.5267</td>\n",
       "      <td>-0.5267</td>\n",
       "      <td>-0.883854</td>\n",
       "      <td>-0.997766</td>\n",
       "      <td>-1.0</td>\n",
       "      <td>-1.0</td>\n",
       "      <td>-1.0</td>\n",
       "      <td>-1.0</td>\n",
       "      <td>0.811347</td>\n",
       "      <td>0.188653</td>\n",
       "    </tr>\n",
       "    <tr>\n",
       "      <th>4</th>\n",
       "      <td>0.028772</td>\n",
       "      <td>0.971228</td>\n",
       "      <td>1</td>\n",
       "      <td>1</td>\n",
       "      <td>0.8119</td>\n",
       "      <td>0.8119</td>\n",
       "      <td>0.889048</td>\n",
       "      <td>0.958995</td>\n",
       "      <td>1.0</td>\n",
       "      <td>1.0</td>\n",
       "      <td>1.0</td>\n",
       "      <td>1.0</td>\n",
       "      <td>0.203791</td>\n",
       "      <td>0.796209</td>\n",
       "    </tr>\n",
       "  </tbody>\n",
       "</table>\n",
       "</div>"
      ],
      "text/plain": [
       "          0         1  trth  label_pol_pred      tb   vader      bert  \\\n",
       "0  0.067862  0.932138     1               1  0.7269  0.7269  0.939559   \n",
       "1  0.530962  0.469038     1               1  0.3818  0.3818  0.000000   \n",
       "2  0.691637  0.308363    -1              -1  0.4019  0.4019 -0.490856   \n",
       "3  0.985181  0.014819    -1              -1 -0.5267 -0.5267 -0.883854   \n",
       "4  0.028772  0.971228     1               1  0.8119  0.8119  0.889048   \n",
       "\n",
       "      flair  textblob_polarity  vader_polarity  bert_polarity  flair_polarity  \\\n",
       "0 -0.681963                1.0             1.0            1.0            -1.0   \n",
       "1 -0.892302                1.0             1.0            1.0            -1.0   \n",
       "2  0.984657                1.0             1.0           -1.0             1.0   \n",
       "3 -0.997766               -1.0            -1.0           -1.0            -1.0   \n",
       "4  0.958995                1.0             1.0            1.0             1.0   \n",
       "\n",
       "   GBprobs_0  GBprobs_1  \n",
       "0   0.227807   0.772193  \n",
       "1   0.519037   0.480963  \n",
       "2   0.636809   0.363191  \n",
       "3   0.811347   0.188653  \n",
       "4   0.203791   0.796209  "
      ]
     },
     "execution_count": 566,
     "metadata": {},
     "output_type": "execute_result"
    }
   ],
   "source": [
    "probsdf_test['GBprobs_0']=gb_classifier.predict_proba(X_test)[:,0]\n",
    "probsdf_test['GBprobs_1']=gb_classifier.predict_proba(X_test)[:,1]\n",
    "probsdf_test.head()"
   ]
  },
  {
   "cell_type": "code",
   "execution_count": 567,
   "id": "4a030026",
   "metadata": {},
   "outputs": [],
   "source": [
    "def Gb_polarity(val):\n",
    "    if val >= 0.5:\n",
    "        return 1\n",
    "    else:\n",
    "        return -1"
   ]
  },
  {
   "cell_type": "code",
   "execution_count": 568,
   "id": "12b7da91",
   "metadata": {},
   "outputs": [],
   "source": [
    "probsdf_test['GBoost_polarity']= probsdf_test.apply (lambda x : Gb_polarity(x['GBprobs_1']),axis=1)\n",
    "probsdf_test['GBoost_Pred']=gb_classifier.predict(X_test)"
   ]
  },
  {
   "cell_type": "code",
   "execution_count": 569,
   "id": "6be02706",
   "metadata": {},
   "outputs": [],
   "source": [
    "probsdf_test['trth1']=y_test"
   ]
  },
  {
   "cell_type": "code",
   "execution_count": 570,
   "id": "3c5f2306",
   "metadata": {},
   "outputs": [
    {
     "data": {
      "text/html": [
       "<div>\n",
       "<style scoped>\n",
       "    .dataframe tbody tr th:only-of-type {\n",
       "        vertical-align: middle;\n",
       "    }\n",
       "\n",
       "    .dataframe tbody tr th {\n",
       "        vertical-align: top;\n",
       "    }\n",
       "\n",
       "    .dataframe thead th {\n",
       "        text-align: right;\n",
       "    }\n",
       "</style>\n",
       "<table border=\"1\" class=\"dataframe\">\n",
       "  <thead>\n",
       "    <tr style=\"text-align: right;\">\n",
       "      <th></th>\n",
       "      <th>0</th>\n",
       "      <th>1</th>\n",
       "      <th>trth</th>\n",
       "      <th>label_pol_pred</th>\n",
       "      <th>tb</th>\n",
       "      <th>vader</th>\n",
       "      <th>bert</th>\n",
       "      <th>flair</th>\n",
       "      <th>textblob_polarity</th>\n",
       "      <th>vader_polarity</th>\n",
       "      <th>bert_polarity</th>\n",
       "      <th>flair_polarity</th>\n",
       "      <th>GBprobs_0</th>\n",
       "      <th>GBprobs_1</th>\n",
       "      <th>GBoost_polarity</th>\n",
       "      <th>GBoost_Pred</th>\n",
       "      <th>trth1</th>\n",
       "    </tr>\n",
       "  </thead>\n",
       "  <tbody>\n",
       "    <tr>\n",
       "      <th>0</th>\n",
       "      <td>0.067862</td>\n",
       "      <td>0.932138</td>\n",
       "      <td>1</td>\n",
       "      <td>1</td>\n",
       "      <td>0.7269</td>\n",
       "      <td>0.7269</td>\n",
       "      <td>0.939559</td>\n",
       "      <td>-0.681963</td>\n",
       "      <td>1.0</td>\n",
       "      <td>1.0</td>\n",
       "      <td>1.0</td>\n",
       "      <td>-1.0</td>\n",
       "      <td>0.227807</td>\n",
       "      <td>0.772193</td>\n",
       "      <td>1</td>\n",
       "      <td>1</td>\n",
       "      <td>NaN</td>\n",
       "    </tr>\n",
       "    <tr>\n",
       "      <th>1</th>\n",
       "      <td>0.530962</td>\n",
       "      <td>0.469038</td>\n",
       "      <td>1</td>\n",
       "      <td>1</td>\n",
       "      <td>0.3818</td>\n",
       "      <td>0.3818</td>\n",
       "      <td>0.000000</td>\n",
       "      <td>-0.892302</td>\n",
       "      <td>1.0</td>\n",
       "      <td>1.0</td>\n",
       "      <td>1.0</td>\n",
       "      <td>-1.0</td>\n",
       "      <td>0.519037</td>\n",
       "      <td>0.480963</td>\n",
       "      <td>-1</td>\n",
       "      <td>-1</td>\n",
       "      <td>NaN</td>\n",
       "    </tr>\n",
       "    <tr>\n",
       "      <th>2</th>\n",
       "      <td>0.691637</td>\n",
       "      <td>0.308363</td>\n",
       "      <td>-1</td>\n",
       "      <td>-1</td>\n",
       "      <td>0.4019</td>\n",
       "      <td>0.4019</td>\n",
       "      <td>-0.490856</td>\n",
       "      <td>0.984657</td>\n",
       "      <td>1.0</td>\n",
       "      <td>1.0</td>\n",
       "      <td>-1.0</td>\n",
       "      <td>1.0</td>\n",
       "      <td>0.636809</td>\n",
       "      <td>0.363191</td>\n",
       "      <td>-1</td>\n",
       "      <td>-1</td>\n",
       "      <td>1.0</td>\n",
       "    </tr>\n",
       "    <tr>\n",
       "      <th>3</th>\n",
       "      <td>0.985181</td>\n",
       "      <td>0.014819</td>\n",
       "      <td>-1</td>\n",
       "      <td>-1</td>\n",
       "      <td>-0.5267</td>\n",
       "      <td>-0.5267</td>\n",
       "      <td>-0.883854</td>\n",
       "      <td>-0.997766</td>\n",
       "      <td>-1.0</td>\n",
       "      <td>-1.0</td>\n",
       "      <td>-1.0</td>\n",
       "      <td>-1.0</td>\n",
       "      <td>0.811347</td>\n",
       "      <td>0.188653</td>\n",
       "      <td>-1</td>\n",
       "      <td>-1</td>\n",
       "      <td>-1.0</td>\n",
       "    </tr>\n",
       "    <tr>\n",
       "      <th>4</th>\n",
       "      <td>0.028772</td>\n",
       "      <td>0.971228</td>\n",
       "      <td>1</td>\n",
       "      <td>1</td>\n",
       "      <td>0.8119</td>\n",
       "      <td>0.8119</td>\n",
       "      <td>0.889048</td>\n",
       "      <td>0.958995</td>\n",
       "      <td>1.0</td>\n",
       "      <td>1.0</td>\n",
       "      <td>1.0</td>\n",
       "      <td>1.0</td>\n",
       "      <td>0.203791</td>\n",
       "      <td>0.796209</td>\n",
       "      <td>1</td>\n",
       "      <td>1</td>\n",
       "      <td>NaN</td>\n",
       "    </tr>\n",
       "    <tr>\n",
       "      <th>5</th>\n",
       "      <td>0.037957</td>\n",
       "      <td>0.962043</td>\n",
       "      <td>1</td>\n",
       "      <td>1</td>\n",
       "      <td>0.8126</td>\n",
       "      <td>0.8126</td>\n",
       "      <td>0.909526</td>\n",
       "      <td>0.623441</td>\n",
       "      <td>1.0</td>\n",
       "      <td>1.0</td>\n",
       "      <td>1.0</td>\n",
       "      <td>1.0</td>\n",
       "      <td>0.227807</td>\n",
       "      <td>0.772193</td>\n",
       "      <td>1</td>\n",
       "      <td>1</td>\n",
       "      <td>NaN</td>\n",
       "    </tr>\n",
       "    <tr>\n",
       "      <th>6</th>\n",
       "      <td>0.018677</td>\n",
       "      <td>0.981323</td>\n",
       "      <td>1</td>\n",
       "      <td>1</td>\n",
       "      <td>0.6114</td>\n",
       "      <td>0.6114</td>\n",
       "      <td>0.970261</td>\n",
       "      <td>0.998986</td>\n",
       "      <td>1.0</td>\n",
       "      <td>1.0</td>\n",
       "      <td>1.0</td>\n",
       "      <td>1.0</td>\n",
       "      <td>0.203791</td>\n",
       "      <td>0.796209</td>\n",
       "      <td>1</td>\n",
       "      <td>1</td>\n",
       "      <td>-1.0</td>\n",
       "    </tr>\n",
       "    <tr>\n",
       "      <th>7</th>\n",
       "      <td>0.975786</td>\n",
       "      <td>0.024214</td>\n",
       "      <td>-1</td>\n",
       "      <td>-1</td>\n",
       "      <td>-0.5267</td>\n",
       "      <td>-0.5267</td>\n",
       "      <td>-0.845736</td>\n",
       "      <td>-0.999949</td>\n",
       "      <td>-1.0</td>\n",
       "      <td>-1.0</td>\n",
       "      <td>-1.0</td>\n",
       "      <td>-1.0</td>\n",
       "      <td>0.811347</td>\n",
       "      <td>0.188653</td>\n",
       "      <td>-1</td>\n",
       "      <td>-1</td>\n",
       "      <td>NaN</td>\n",
       "    </tr>\n",
       "    <tr>\n",
       "      <th>8</th>\n",
       "      <td>0.475224</td>\n",
       "      <td>0.524776</td>\n",
       "      <td>-1</td>\n",
       "      <td>1</td>\n",
       "      <td>0.0000</td>\n",
       "      <td>0.0000</td>\n",
       "      <td>0.000000</td>\n",
       "      <td>0.657879</td>\n",
       "      <td>1.0</td>\n",
       "      <td>1.0</td>\n",
       "      <td>1.0</td>\n",
       "      <td>1.0</td>\n",
       "      <td>0.458649</td>\n",
       "      <td>0.541351</td>\n",
       "      <td>1</td>\n",
       "      <td>1</td>\n",
       "      <td>-1.0</td>\n",
       "    </tr>\n",
       "    <tr>\n",
       "      <th>9</th>\n",
       "      <td>0.025638</td>\n",
       "      <td>0.974362</td>\n",
       "      <td>1</td>\n",
       "      <td>1</td>\n",
       "      <td>0.4404</td>\n",
       "      <td>0.4404</td>\n",
       "      <td>0.938804</td>\n",
       "      <td>0.999577</td>\n",
       "      <td>1.0</td>\n",
       "      <td>1.0</td>\n",
       "      <td>1.0</td>\n",
       "      <td>1.0</td>\n",
       "      <td>0.203791</td>\n",
       "      <td>0.796209</td>\n",
       "      <td>1</td>\n",
       "      <td>1</td>\n",
       "      <td>1.0</td>\n",
       "    </tr>\n",
       "    <tr>\n",
       "      <th>10</th>\n",
       "      <td>0.976028</td>\n",
       "      <td>0.023972</td>\n",
       "      <td>-1</td>\n",
       "      <td>-1</td>\n",
       "      <td>-0.5719</td>\n",
       "      <td>-0.5719</td>\n",
       "      <td>-0.915257</td>\n",
       "      <td>-0.999975</td>\n",
       "      <td>1.0</td>\n",
       "      <td>-1.0</td>\n",
       "      <td>-1.0</td>\n",
       "      <td>-1.0</td>\n",
       "      <td>0.811347</td>\n",
       "      <td>0.188653</td>\n",
       "      <td>-1</td>\n",
       "      <td>-1</td>\n",
       "      <td>NaN</td>\n",
       "    </tr>\n",
       "    <tr>\n",
       "      <th>11</th>\n",
       "      <td>0.892359</td>\n",
       "      <td>0.107641</td>\n",
       "      <td>1</td>\n",
       "      <td>-1</td>\n",
       "      <td>-0.2982</td>\n",
       "      <td>-0.2982</td>\n",
       "      <td>-0.785751</td>\n",
       "      <td>0.953889</td>\n",
       "      <td>-1.0</td>\n",
       "      <td>-1.0</td>\n",
       "      <td>-1.0</td>\n",
       "      <td>1.0</td>\n",
       "      <td>0.770434</td>\n",
       "      <td>0.229566</td>\n",
       "      <td>-1</td>\n",
       "      <td>-1</td>\n",
       "      <td>1.0</td>\n",
       "    </tr>\n",
       "    <tr>\n",
       "      <th>12</th>\n",
       "      <td>0.099705</td>\n",
       "      <td>0.900295</td>\n",
       "      <td>1</td>\n",
       "      <td>1</td>\n",
       "      <td>0.4588</td>\n",
       "      <td>0.4588</td>\n",
       "      <td>0.608034</td>\n",
       "      <td>0.997958</td>\n",
       "      <td>1.0</td>\n",
       "      <td>1.0</td>\n",
       "      <td>1.0</td>\n",
       "      <td>1.0</td>\n",
       "      <td>0.221449</td>\n",
       "      <td>0.778551</td>\n",
       "      <td>1</td>\n",
       "      <td>1</td>\n",
       "      <td>NaN</td>\n",
       "    </tr>\n",
       "    <tr>\n",
       "      <th>13</th>\n",
       "      <td>0.930477</td>\n",
       "      <td>0.069523</td>\n",
       "      <td>-1</td>\n",
       "      <td>-1</td>\n",
       "      <td>0.0000</td>\n",
       "      <td>0.0000</td>\n",
       "      <td>-0.599190</td>\n",
       "      <td>-0.997441</td>\n",
       "      <td>1.0</td>\n",
       "      <td>1.0</td>\n",
       "      <td>-1.0</td>\n",
       "      <td>-1.0</td>\n",
       "      <td>0.805071</td>\n",
       "      <td>0.194929</td>\n",
       "      <td>-1</td>\n",
       "      <td>-1</td>\n",
       "      <td>NaN</td>\n",
       "    </tr>\n",
       "    <tr>\n",
       "      <th>14</th>\n",
       "      <td>0.088943</td>\n",
       "      <td>0.911057</td>\n",
       "      <td>1</td>\n",
       "      <td>1</td>\n",
       "      <td>0.4466</td>\n",
       "      <td>0.4466</td>\n",
       "      <td>0.577074</td>\n",
       "      <td>0.760123</td>\n",
       "      <td>1.0</td>\n",
       "      <td>1.0</td>\n",
       "      <td>1.0</td>\n",
       "      <td>1.0</td>\n",
       "      <td>0.255528</td>\n",
       "      <td>0.744472</td>\n",
       "      <td>1</td>\n",
       "      <td>1</td>\n",
       "      <td>NaN</td>\n",
       "    </tr>\n",
       "  </tbody>\n",
       "</table>\n",
       "</div>"
      ],
      "text/plain": [
       "           0         1  trth  label_pol_pred      tb   vader      bert  \\\n",
       "0   0.067862  0.932138     1               1  0.7269  0.7269  0.939559   \n",
       "1   0.530962  0.469038     1               1  0.3818  0.3818  0.000000   \n",
       "2   0.691637  0.308363    -1              -1  0.4019  0.4019 -0.490856   \n",
       "3   0.985181  0.014819    -1              -1 -0.5267 -0.5267 -0.883854   \n",
       "4   0.028772  0.971228     1               1  0.8119  0.8119  0.889048   \n",
       "5   0.037957  0.962043     1               1  0.8126  0.8126  0.909526   \n",
       "6   0.018677  0.981323     1               1  0.6114  0.6114  0.970261   \n",
       "7   0.975786  0.024214    -1              -1 -0.5267 -0.5267 -0.845736   \n",
       "8   0.475224  0.524776    -1               1  0.0000  0.0000  0.000000   \n",
       "9   0.025638  0.974362     1               1  0.4404  0.4404  0.938804   \n",
       "10  0.976028  0.023972    -1              -1 -0.5719 -0.5719 -0.915257   \n",
       "11  0.892359  0.107641     1              -1 -0.2982 -0.2982 -0.785751   \n",
       "12  0.099705  0.900295     1               1  0.4588  0.4588  0.608034   \n",
       "13  0.930477  0.069523    -1              -1  0.0000  0.0000 -0.599190   \n",
       "14  0.088943  0.911057     1               1  0.4466  0.4466  0.577074   \n",
       "\n",
       "       flair  textblob_polarity  vader_polarity  bert_polarity  \\\n",
       "0  -0.681963                1.0             1.0            1.0   \n",
       "1  -0.892302                1.0             1.0            1.0   \n",
       "2   0.984657                1.0             1.0           -1.0   \n",
       "3  -0.997766               -1.0            -1.0           -1.0   \n",
       "4   0.958995                1.0             1.0            1.0   \n",
       "5   0.623441                1.0             1.0            1.0   \n",
       "6   0.998986                1.0             1.0            1.0   \n",
       "7  -0.999949               -1.0            -1.0           -1.0   \n",
       "8   0.657879                1.0             1.0            1.0   \n",
       "9   0.999577                1.0             1.0            1.0   \n",
       "10 -0.999975                1.0            -1.0           -1.0   \n",
       "11  0.953889               -1.0            -1.0           -1.0   \n",
       "12  0.997958                1.0             1.0            1.0   \n",
       "13 -0.997441                1.0             1.0           -1.0   \n",
       "14  0.760123                1.0             1.0            1.0   \n",
       "\n",
       "    flair_polarity  GBprobs_0  GBprobs_1  GBoost_polarity  GBoost_Pred  trth1  \n",
       "0             -1.0   0.227807   0.772193                1            1    NaN  \n",
       "1             -1.0   0.519037   0.480963               -1           -1    NaN  \n",
       "2              1.0   0.636809   0.363191               -1           -1    1.0  \n",
       "3             -1.0   0.811347   0.188653               -1           -1   -1.0  \n",
       "4              1.0   0.203791   0.796209                1            1    NaN  \n",
       "5              1.0   0.227807   0.772193                1            1    NaN  \n",
       "6              1.0   0.203791   0.796209                1            1   -1.0  \n",
       "7             -1.0   0.811347   0.188653               -1           -1    NaN  \n",
       "8              1.0   0.458649   0.541351                1            1   -1.0  \n",
       "9              1.0   0.203791   0.796209                1            1    1.0  \n",
       "10            -1.0   0.811347   0.188653               -1           -1    NaN  \n",
       "11             1.0   0.770434   0.229566               -1           -1    1.0  \n",
       "12             1.0   0.221449   0.778551                1            1    NaN  \n",
       "13            -1.0   0.805071   0.194929               -1           -1    NaN  \n",
       "14             1.0   0.255528   0.744472                1            1    NaN  "
      ]
     },
     "execution_count": 570,
     "metadata": {},
     "output_type": "execute_result"
    }
   ],
   "source": [
    "probsdf_test.head(15)"
   ]
  },
  {
   "attachments": {},
   "cell_type": "markdown",
   "id": "46b67460",
   "metadata": {},
   "source": [
    "### Stacked Ensemble with Meta Model as LR : News_Headlines"
   ]
  },
  {
   "cell_type": "code",
   "execution_count": 571,
   "id": "2dc071b6",
   "metadata": {},
   "outputs": [
    {
     "data": {
      "image/png": "[encoded data removed]",
      "text/plain": [
       "<Figure size 720x432 with 1 Axes>"
      ]
     },
     "metadata": {
      "needs_background": "light"
     },
     "output_type": "display_data"
    }
   ],
   "source": [
    "\n",
    "threshold_analysis = pd.DataFrame({'Thresh_alpha':[0],'Accuracy':[0],'Percent_data_capture':[0],'Precision':[0],'Recall':[0],'f1':[0]})\n",
    "detl_threshold = pd.DataFrame({'Thresh_alpha':[],'Accuracy':[],'Percent_data_capture':[],'Precision':[],'Recall':[],'f1':[]})\n",
    "for i in range (0,99):\n",
    "    alpha_th = i*.01\n",
    "    res1 = pd.DataFrame(classification_report(probsdf_test['trth'][(probsdf_test[0]>=alpha_th)|(probsdf_test[1]>=alpha_th)],probsdf_test['label_pol_pred'][(probsdf_test[0]>=alpha_th)|(probsdf_test[1]>=alpha_th)],output_dict=True))\n",
    "    threshold_analysis['Accuracy']= res1['accuracy'].iloc[0]\n",
    "    threshold_analysis['Percent_data_capture'] = probsdf_test['trth'][(probsdf_test[0]>=alpha_th)|(probsdf_test[1]>=alpha_th)].count()/probsdf_test[0].count()\n",
    "    threshold_analysis['Thresh_alpha'] = alpha_th\n",
    "    try:\n",
    "        threshold_analysis['Precision'] = res1['1'].loc['precision']\n",
    "        threshold_analysis['Recall'] = res1['1'].loc['recall']\n",
    "        threshold_analysis['f1'] = res1['1'].loc['f1-score']\n",
    "    except KeyError:\n",
    "        threshold_analysis['Precision'] = 0\n",
    "        threshold_analysis['Recall'] = 0\n",
    "        threshold_analysis['f1'] = 0\n",
    "    detl_threshold = detl_threshold.append(threshold_analysis)\n",
    "\n",
    "plt.rcParams['figure.figsize'] = [10, 6]\n",
    "pyplot.plot(detl_threshold['Thresh_alpha'], detl_threshold['Accuracy'], marker='.', label='Accuracy')\n",
    "pyplot.plot(detl_threshold['Thresh_alpha'], detl_threshold['Percent_data_capture'], marker='.', label='Percentage_of_Data_captured')\n",
    "pyplot.plot(detl_threshold['Thresh_alpha'], detl_threshold['Precision'], marker='.', label='Precision')\n",
    "pyplot.plot(detl_threshold['Thresh_alpha'], detl_threshold['Recall'], marker='.', label='Recall')\n",
    "pyplot.plot(detl_threshold['Thresh_alpha'], detl_threshold['f1'], marker='.', label='f1')\n",
    "pyplot.xlabel('Threshold for Data Selection')\n",
    "pyplot.ylabel('Value')\n",
    "pyplot.grid(visible=True, which='both', axis='both')\n",
    "#pyplot.grid(True)\n",
    "pyplot.title('Stacked Ensemble with Meta Model as Logistic Regressor : News_Headlines')\n",
    "# show the legend\n",
    "pyplot.legend()\n",
    "# show the plot\n",
    "pyplot.show()"
   ]
  },
  {
   "attachments": {},
   "cell_type": "markdown",
   "id": "3fab3e4c",
   "metadata": {},
   "source": [
    "### Stacked Ensemble with Meta Model as GradientBoost : News_Headlines"
   ]
  },
  {
   "attachments": {},
   "cell_type": "markdown",
   "id": "a8a81592",
   "metadata": {},
   "source": []
  },
  {
   "cell_type": "code",
   "execution_count": 572,
   "id": "10d7214e",
   "metadata": {},
   "outputs": [
    {
     "name": "stderr",
     "output_type": "stream",
     "text": [
      "/Users/amitobe/opt/anaconda3/envs/nlp_course/lib/python3.7/site-packages/sklearn/metrics/_classification.py:1318: UndefinedMetricWarning: Precision and F-score are ill-defined and being set to 0.0 in labels with no predicted samples. Use `zero_division` parameter to control this behavior.\n",
      "  _warn_prf(average, modifier, msg_start, len(result))\n",
      "/Users/amitobe/opt/anaconda3/envs/nlp_course/lib/python3.7/site-packages/sklearn/metrics/_classification.py:1318: UndefinedMetricWarning: Precision and F-score are ill-defined and being set to 0.0 in labels with no predicted samples. Use `zero_division` parameter to control this behavior.\n",
      "  _warn_prf(average, modifier, msg_start, len(result))\n",
      "/Users/amitobe/opt/anaconda3/envs/nlp_course/lib/python3.7/site-packages/sklearn/metrics/_classification.py:1318: UndefinedMetricWarning: Precision and F-score are ill-defined and being set to 0.0 in labels with no predicted samples. Use `zero_division` parameter to control this behavior.\n",
      "  _warn_prf(average, modifier, msg_start, len(result))\n",
      "/Users/amitobe/opt/anaconda3/envs/nlp_course/lib/python3.7/site-packages/sklearn/metrics/_classification.py:1318: UndefinedMetricWarning: Precision and F-score are ill-defined and being set to 0.0 in labels with no predicted samples. Use `zero_division` parameter to control this behavior.\n",
      "  _warn_prf(average, modifier, msg_start, len(result))\n",
      "/Users/amitobe/opt/anaconda3/envs/nlp_course/lib/python3.7/site-packages/sklearn/metrics/_classification.py:1318: UndefinedMetricWarning: Precision and F-score are ill-defined and being set to 0.0 in labels with no predicted samples. Use `zero_division` parameter to control this behavior.\n",
      "  _warn_prf(average, modifier, msg_start, len(result))\n",
      "/Users/amitobe/opt/anaconda3/envs/nlp_course/lib/python3.7/site-packages/sklearn/metrics/_classification.py:1318: UndefinedMetricWarning: Precision and F-score are ill-defined and being set to 0.0 in labels with no predicted samples. Use `zero_division` parameter to control this behavior.\n",
      "  _warn_prf(average, modifier, msg_start, len(result))\n",
      "/Users/amitobe/opt/anaconda3/envs/nlp_course/lib/python3.7/site-packages/sklearn/metrics/_classification.py:1318: UndefinedMetricWarning: Precision and F-score are ill-defined and being set to 0.0 due to no predicted samples. Use `zero_division` parameter to control this behavior.\n",
      "  _warn_prf(average, modifier, msg_start, len(result))\n",
      "/Users/amitobe/opt/anaconda3/envs/nlp_course/lib/python3.7/site-packages/sklearn/metrics/_classification.py:1318: UndefinedMetricWarning: Recall and F-score are ill-defined and being set to 0.0 due to no true samples. Use `zero_division` parameter to control this behavior.\n",
      "  _warn_prf(average, modifier, msg_start, len(result))\n",
      "/Users/amitobe/opt/anaconda3/envs/nlp_course/lib/python3.7/site-packages/numpy/lib/function_base.py:380: RuntimeWarning: Mean of empty slice.\n",
      "  avg = a.mean(axis)\n",
      "/Users/amitobe/opt/anaconda3/envs/nlp_course/lib/python3.7/site-packages/numpy/core/_methods.py:189: RuntimeWarning: invalid value encountered in double_scalars\n",
      "  ret = ret.dtype.type(ret / rcount)\n",
      "/Users/amitobe/opt/anaconda3/envs/nlp_course/lib/python3.7/site-packages/sklearn/metrics/_classification.py:1318: UndefinedMetricWarning: Precision and F-score are ill-defined and being set to 0.0 due to no predicted samples. Use `zero_division` parameter to control this behavior.\n",
      "  _warn_prf(average, modifier, msg_start, len(result))\n",
      "/Users/amitobe/opt/anaconda3/envs/nlp_course/lib/python3.7/site-packages/sklearn/metrics/_classification.py:1318: UndefinedMetricWarning: Recall and F-score are ill-defined and being set to 0.0 due to no true samples. Use `zero_division` parameter to control this behavior.\n",
      "  _warn_prf(average, modifier, msg_start, len(result))\n",
      "/Users/amitobe/opt/anaconda3/envs/nlp_course/lib/python3.7/site-packages/numpy/lib/function_base.py:380: RuntimeWarning: Mean of empty slice.\n",
      "  avg = a.mean(axis)\n",
      "/Users/amitobe/opt/anaconda3/envs/nlp_course/lib/python3.7/site-packages/numpy/core/_methods.py:189: RuntimeWarning: invalid value encountered in double_scalars\n",
      "  ret = ret.dtype.type(ret / rcount)\n",
      "/Users/amitobe/opt/anaconda3/envs/nlp_course/lib/python3.7/site-packages/sklearn/metrics/_classification.py:1318: UndefinedMetricWarning: Precision and F-score are ill-defined and being set to 0.0 due to no predicted samples. Use `zero_division` parameter to control this behavior.\n",
      "  _warn_prf(average, modifier, msg_start, len(result))\n",
      "/Users/amitobe/opt/anaconda3/envs/nlp_course/lib/python3.7/site-packages/sklearn/metrics/_classification.py:1318: UndefinedMetricWarning: Recall and F-score are ill-defined and being set to 0.0 due to no true samples. Use `zero_division` parameter to control this behavior.\n",
      "  _warn_prf(average, modifier, msg_start, len(result))\n",
      "/Users/amitobe/opt/anaconda3/envs/nlp_course/lib/python3.7/site-packages/numpy/lib/function_base.py:380: RuntimeWarning: Mean of empty slice.\n",
      "  avg = a.mean(axis)\n",
      "/Users/amitobe/opt/anaconda3/envs/nlp_course/lib/python3.7/site-packages/numpy/core/_methods.py:189: RuntimeWarning: invalid value encountered in double_scalars\n",
      "  ret = ret.dtype.type(ret / rcount)\n",
      "/Users/amitobe/opt/anaconda3/envs/nlp_course/lib/python3.7/site-packages/sklearn/metrics/_classification.py:1318: UndefinedMetricWarning: Precision and F-score are ill-defined and being set to 0.0 due to no predicted samples. Use `zero_division` parameter to control this behavior.\n",
      "  _warn_prf(average, modifier, msg_start, len(result))\n",
      "/Users/amitobe/opt/anaconda3/envs/nlp_course/lib/python3.7/site-packages/sklearn/metrics/_classification.py:1318: UndefinedMetricWarning: Recall and F-score are ill-defined and being set to 0.0 due to no true samples. Use `zero_division` parameter to control this behavior.\n",
      "  _warn_prf(average, modifier, msg_start, len(result))\n",
      "/Users/amitobe/opt/anaconda3/envs/nlp_course/lib/python3.7/site-packages/numpy/lib/function_base.py:380: RuntimeWarning: Mean of empty slice.\n",
      "  avg = a.mean(axis)\n",
      "/Users/amitobe/opt/anaconda3/envs/nlp_course/lib/python3.7/site-packages/numpy/core/_methods.py:189: RuntimeWarning: invalid value encountered in double_scalars\n",
      "  ret = ret.dtype.type(ret / rcount)\n",
      "/Users/amitobe/opt/anaconda3/envs/nlp_course/lib/python3.7/site-packages/sklearn/metrics/_classification.py:1318: UndefinedMetricWarning: Precision and F-score are ill-defined and being set to 0.0 due to no predicted samples. Use `zero_division` parameter to control this behavior.\n",
      "  _warn_prf(average, modifier, msg_start, len(result))\n",
      "/Users/amitobe/opt/anaconda3/envs/nlp_course/lib/python3.7/site-packages/sklearn/metrics/_classification.py:1318: UndefinedMetricWarning: Recall and F-score are ill-defined and being set to 0.0 due to no true samples. Use `zero_division` parameter to control this behavior.\n",
      "  _warn_prf(average, modifier, msg_start, len(result))\n",
      "/Users/amitobe/opt/anaconda3/envs/nlp_course/lib/python3.7/site-packages/numpy/lib/function_base.py:380: RuntimeWarning: Mean of empty slice.\n",
      "  avg = a.mean(axis)\n",
      "/Users/amitobe/opt/anaconda3/envs/nlp_course/lib/python3.7/site-packages/numpy/core/_methods.py:189: RuntimeWarning: invalid value encountered in double_scalars\n",
      "  ret = ret.dtype.type(ret / rcount)\n",
      "/Users/amitobe/opt/anaconda3/envs/nlp_course/lib/python3.7/site-packages/sklearn/metrics/_classification.py:1318: UndefinedMetricWarning: Precision and F-score are ill-defined and being set to 0.0 due to no predicted samples. Use `zero_division` parameter to control this behavior.\n",
      "  _warn_prf(average, modifier, msg_start, len(result))\n",
      "/Users/amitobe/opt/anaconda3/envs/nlp_course/lib/python3.7/site-packages/sklearn/metrics/_classification.py:1318: UndefinedMetricWarning: Recall and F-score are ill-defined and being set to 0.0 due to no true samples. Use `zero_division` parameter to control this behavior.\n",
      "  _warn_prf(average, modifier, msg_start, len(result))\n",
      "/Users/amitobe/opt/anaconda3/envs/nlp_course/lib/python3.7/site-packages/numpy/lib/function_base.py:380: RuntimeWarning: Mean of empty slice.\n",
      "  avg = a.mean(axis)\n",
      "/Users/amitobe/opt/anaconda3/envs/nlp_course/lib/python3.7/site-packages/numpy/core/_methods.py:189: RuntimeWarning: invalid value encountered in double_scalars\n",
      "  ret = ret.dtype.type(ret / rcount)\n",
      "/Users/amitobe/opt/anaconda3/envs/nlp_course/lib/python3.7/site-packages/sklearn/metrics/_classification.py:1318: UndefinedMetricWarning: Precision and F-score are ill-defined and being set to 0.0 due to no predicted samples. Use `zero_division` parameter to control this behavior.\n",
      "  _warn_prf(average, modifier, msg_start, len(result))\n",
      "/Users/amitobe/opt/anaconda3/envs/nlp_course/lib/python3.7/site-packages/sklearn/metrics/_classification.py:1318: UndefinedMetricWarning: Recall and F-score are ill-defined and being set to 0.0 due to no true samples. Use `zero_division` parameter to control this behavior.\n",
      "  _warn_prf(average, modifier, msg_start, len(result))\n",
      "/Users/amitobe/opt/anaconda3/envs/nlp_course/lib/python3.7/site-packages/numpy/lib/function_base.py:380: RuntimeWarning: Mean of empty slice.\n",
      "  avg = a.mean(axis)\n",
      "/Users/amitobe/opt/anaconda3/envs/nlp_course/lib/python3.7/site-packages/numpy/core/_methods.py:189: RuntimeWarning: invalid value encountered in double_scalars\n",
      "  ret = ret.dtype.type(ret / rcount)\n",
      "/Users/amitobe/opt/anaconda3/envs/nlp_course/lib/python3.7/site-packages/sklearn/metrics/_classification.py:1318: UndefinedMetricWarning: Precision and F-score are ill-defined and being set to 0.0 due to no predicted samples. Use `zero_division` parameter to control this behavior.\n",
      "  _warn_prf(average, modifier, msg_start, len(result))\n",
      "/Users/amitobe/opt/anaconda3/envs/nlp_course/lib/python3.7/site-packages/sklearn/metrics/_classification.py:1318: UndefinedMetricWarning: Recall and F-score are ill-defined and being set to 0.0 due to no true samples. Use `zero_division` parameter to control this behavior.\n",
      "  _warn_prf(average, modifier, msg_start, len(result))\n",
      "/Users/amitobe/opt/anaconda3/envs/nlp_course/lib/python3.7/site-packages/numpy/lib/function_base.py:380: RuntimeWarning: Mean of empty slice.\n",
      "  avg = a.mean(axis)\n",
      "/Users/amitobe/opt/anaconda3/envs/nlp_course/lib/python3.7/site-packages/numpy/core/_methods.py:189: RuntimeWarning: invalid value encountered in double_scalars\n",
      "  ret = ret.dtype.type(ret / rcount)\n",
      "/Users/amitobe/opt/anaconda3/envs/nlp_course/lib/python3.7/site-packages/sklearn/metrics/_classification.py:1318: UndefinedMetricWarning: Precision and F-score are ill-defined and being set to 0.0 due to no predicted samples. Use `zero_division` parameter to control this behavior.\n",
      "  _warn_prf(average, modifier, msg_start, len(result))\n",
      "/Users/amitobe/opt/anaconda3/envs/nlp_course/lib/python3.7/site-packages/sklearn/metrics/_classification.py:1318: UndefinedMetricWarning: Recall and F-score are ill-defined and being set to 0.0 due to no true samples. Use `zero_division` parameter to control this behavior.\n",
      "  _warn_prf(average, modifier, msg_start, len(result))\n",
      "/Users/amitobe/opt/anaconda3/envs/nlp_course/lib/python3.7/site-packages/numpy/lib/function_base.py:380: RuntimeWarning: Mean of empty slice.\n",
      "  avg = a.mean(axis)\n",
      "/Users/amitobe/opt/anaconda3/envs/nlp_course/lib/python3.7/site-packages/numpy/core/_methods.py:189: RuntimeWarning: invalid value encountered in double_scalars\n",
      "  ret = ret.dtype.type(ret / rcount)\n",
      "/Users/amitobe/opt/anaconda3/envs/nlp_course/lib/python3.7/site-packages/sklearn/metrics/_classification.py:1318: UndefinedMetricWarning: Precision and F-score are ill-defined and being set to 0.0 due to no predicted samples. Use `zero_division` parameter to control this behavior.\n",
      "  _warn_prf(average, modifier, msg_start, len(result))\n",
      "/Users/amitobe/opt/anaconda3/envs/nlp_course/lib/python3.7/site-packages/sklearn/metrics/_classification.py:1318: UndefinedMetricWarning: Recall and F-score are ill-defined and being set to 0.0 due to no true samples. Use `zero_division` parameter to control this behavior.\n",
      "  _warn_prf(average, modifier, msg_start, len(result))\n",
      "/Users/amitobe/opt/anaconda3/envs/nlp_course/lib/python3.7/site-packages/numpy/lib/function_base.py:380: RuntimeWarning: Mean of empty slice.\n",
      "  avg = a.mean(axis)\n",
      "/Users/amitobe/opt/anaconda3/envs/nlp_course/lib/python3.7/site-packages/numpy/core/_methods.py:189: RuntimeWarning: invalid value encountered in double_scalars\n",
      "  ret = ret.dtype.type(ret / rcount)\n",
      "/Users/amitobe/opt/anaconda3/envs/nlp_course/lib/python3.7/site-packages/sklearn/metrics/_classification.py:1318: UndefinedMetricWarning: Precision and F-score are ill-defined and being set to 0.0 due to no predicted samples. Use `zero_division` parameter to control this behavior.\n",
      "  _warn_prf(average, modifier, msg_start, len(result))\n",
      "/Users/amitobe/opt/anaconda3/envs/nlp_course/lib/python3.7/site-packages/sklearn/metrics/_classification.py:1318: UndefinedMetricWarning: Recall and F-score are ill-defined and being set to 0.0 due to no true samples. Use `zero_division` parameter to control this behavior.\n",
      "  _warn_prf(average, modifier, msg_start, len(result))\n",
      "/Users/amitobe/opt/anaconda3/envs/nlp_course/lib/python3.7/site-packages/numpy/lib/function_base.py:380: RuntimeWarning: Mean of empty slice.\n",
      "  avg = a.mean(axis)\n",
      "/Users/amitobe/opt/anaconda3/envs/nlp_course/lib/python3.7/site-packages/numpy/core/_methods.py:189: RuntimeWarning: invalid value encountered in double_scalars\n",
      "  ret = ret.dtype.type(ret / rcount)\n",
      "/Users/amitobe/opt/anaconda3/envs/nlp_course/lib/python3.7/site-packages/sklearn/metrics/_classification.py:1318: UndefinedMetricWarning: Precision and F-score are ill-defined and being set to 0.0 due to no predicted samples. Use `zero_division` parameter to control this behavior.\n",
      "  _warn_prf(average, modifier, msg_start, len(result))\n",
      "/Users/amitobe/opt/anaconda3/envs/nlp_course/lib/python3.7/site-packages/sklearn/metrics/_classification.py:1318: UndefinedMetricWarning: Recall and F-score are ill-defined and being set to 0.0 due to no true samples. Use `zero_division` parameter to control this behavior.\n",
      "  _warn_prf(average, modifier, msg_start, len(result))\n",
      "/Users/amitobe/opt/anaconda3/envs/nlp_course/lib/python3.7/site-packages/numpy/lib/function_base.py:380: RuntimeWarning: Mean of empty slice.\n",
      "  avg = a.mean(axis)\n",
      "/Users/amitobe/opt/anaconda3/envs/nlp_course/lib/python3.7/site-packages/numpy/core/_methods.py:189: RuntimeWarning: invalid value encountered in double_scalars\n",
      "  ret = ret.dtype.type(ret / rcount)\n",
      "/Users/amitobe/opt/anaconda3/envs/nlp_course/lib/python3.7/site-packages/sklearn/metrics/_classification.py:1318: UndefinedMetricWarning: Precision and F-score are ill-defined and being set to 0.0 due to no predicted samples. Use `zero_division` parameter to control this behavior.\n",
      "  _warn_prf(average, modifier, msg_start, len(result))\n",
      "/Users/amitobe/opt/anaconda3/envs/nlp_course/lib/python3.7/site-packages/sklearn/metrics/_classification.py:1318: UndefinedMetricWarning: Recall and F-score are ill-defined and being set to 0.0 due to no true samples. Use `zero_division` parameter to control this behavior.\n",
      "  _warn_prf(average, modifier, msg_start, len(result))\n",
      "/Users/amitobe/opt/anaconda3/envs/nlp_course/lib/python3.7/site-packages/numpy/lib/function_base.py:380: RuntimeWarning: Mean of empty slice.\n",
      "  avg = a.mean(axis)\n",
      "/Users/amitobe/opt/anaconda3/envs/nlp_course/lib/python3.7/site-packages/numpy/core/_methods.py:189: RuntimeWarning: invalid value encountered in double_scalars\n",
      "  ret = ret.dtype.type(ret / rcount)\n",
      "/Users/amitobe/opt/anaconda3/envs/nlp_course/lib/python3.7/site-packages/sklearn/metrics/_classification.py:1318: UndefinedMetricWarning: Precision and F-score are ill-defined and being set to 0.0 due to no predicted samples. Use `zero_division` parameter to control this behavior.\n",
      "  _warn_prf(average, modifier, msg_start, len(result))\n",
      "/Users/amitobe/opt/anaconda3/envs/nlp_course/lib/python3.7/site-packages/sklearn/metrics/_classification.py:1318: UndefinedMetricWarning: Recall and F-score are ill-defined and being set to 0.0 due to no true samples. Use `zero_division` parameter to control this behavior.\n",
      "  _warn_prf(average, modifier, msg_start, len(result))\n",
      "/Users/amitobe/opt/anaconda3/envs/nlp_course/lib/python3.7/site-packages/numpy/lib/function_base.py:380: RuntimeWarning: Mean of empty slice.\n",
      "  avg = a.mean(axis)\n",
      "/Users/amitobe/opt/anaconda3/envs/nlp_course/lib/python3.7/site-packages/numpy/core/_methods.py:189: RuntimeWarning: invalid value encountered in double_scalars\n",
      "  ret = ret.dtype.type(ret / rcount)\n",
      "/Users/amitobe/opt/anaconda3/envs/nlp_course/lib/python3.7/site-packages/sklearn/metrics/_classification.py:1318: UndefinedMetricWarning: Precision and F-score are ill-defined and being set to 0.0 due to no predicted samples. Use `zero_division` parameter to control this behavior.\n",
      "  _warn_prf(average, modifier, msg_start, len(result))\n",
      "/Users/amitobe/opt/anaconda3/envs/nlp_course/lib/python3.7/site-packages/sklearn/metrics/_classification.py:1318: UndefinedMetricWarning: Recall and F-score are ill-defined and being set to 0.0 due to no true samples. Use `zero_division` parameter to control this behavior.\n",
      "  _warn_prf(average, modifier, msg_start, len(result))\n",
      "/Users/amitobe/opt/anaconda3/envs/nlp_course/lib/python3.7/site-packages/numpy/lib/function_base.py:380: RuntimeWarning: Mean of empty slice.\n",
      "  avg = a.mean(axis)\n",
      "/Users/amitobe/opt/anaconda3/envs/nlp_course/lib/python3.7/site-packages/numpy/core/_methods.py:189: RuntimeWarning: invalid value encountered in double_scalars\n",
      "  ret = ret.dtype.type(ret / rcount)\n",
      "/Users/amitobe/opt/anaconda3/envs/nlp_course/lib/python3.7/site-packages/sklearn/metrics/_classification.py:1318: UndefinedMetricWarning: Precision and F-score are ill-defined and being set to 0.0 due to no predicted samples. Use `zero_division` parameter to control this behavior.\n",
      "  _warn_prf(average, modifier, msg_start, len(result))\n",
      "/Users/amitobe/opt/anaconda3/envs/nlp_course/lib/python3.7/site-packages/sklearn/metrics/_classification.py:1318: UndefinedMetricWarning: Recall and F-score are ill-defined and being set to 0.0 due to no true samples. Use `zero_division` parameter to control this behavior.\n",
      "  _warn_prf(average, modifier, msg_start, len(result))\n",
      "/Users/amitobe/opt/anaconda3/envs/nlp_course/lib/python3.7/site-packages/numpy/lib/function_base.py:380: RuntimeWarning: Mean of empty slice.\n",
      "  avg = a.mean(axis)\n",
      "/Users/amitobe/opt/anaconda3/envs/nlp_course/lib/python3.7/site-packages/numpy/core/_methods.py:189: RuntimeWarning: invalid value encountered in double_scalars\n",
      "  ret = ret.dtype.type(ret / rcount)\n",
      "/Users/amitobe/opt/anaconda3/envs/nlp_course/lib/python3.7/site-packages/sklearn/metrics/_classification.py:1318: UndefinedMetricWarning: Precision and F-score are ill-defined and being set to 0.0 due to no predicted samples. Use `zero_division` parameter to control this behavior.\n",
      "  _warn_prf(average, modifier, msg_start, len(result))\n",
      "/Users/amitobe/opt/anaconda3/envs/nlp_course/lib/python3.7/site-packages/sklearn/metrics/_classification.py:1318: UndefinedMetricWarning: Recall and F-score are ill-defined and being set to 0.0 due to no true samples. Use `zero_division` parameter to control this behavior.\n",
      "  _warn_prf(average, modifier, msg_start, len(result))\n",
      "/Users/amitobe/opt/anaconda3/envs/nlp_course/lib/python3.7/site-packages/numpy/lib/function_base.py:380: RuntimeWarning: Mean of empty slice.\n",
      "  avg = a.mean(axis)\n",
      "/Users/amitobe/opt/anaconda3/envs/nlp_course/lib/python3.7/site-packages/numpy/core/_methods.py:189: RuntimeWarning: invalid value encountered in double_scalars\n",
      "  ret = ret.dtype.type(ret / rcount)\n"
     ]
    },
    {
     "data": {
      "image/png": "[encoded data removed]",
      "text/plain": [
       "<Figure size 720x432 with 1 Axes>"
      ]
     },
     "metadata": {
      "needs_background": "light"
     },
     "output_type": "display_data"
    }
   ],
   "source": [
    "threshold_analysis = pd.DataFrame({'Thresh_alpha':[0],'Accuracy':[0],'Percent_data_capture':[0],'Precision':[0],'Recall':[0],'f1':[0]})\n",
    "detl_threshold = pd.DataFrame({'Thresh_alpha':[],'Accuracy':[],'Percent_data_capture':[],'Precision':[],'Recall':[],'f1':[]})\n",
    "for i in range (0,99):\n",
    "    alpha_th = i*.01\n",
    "    res1 = pd.DataFrame(classification_report(probsdf_test['trth'][(probsdf_test['GBprobs_1']>alpha_th) | (probsdf_test['GBprobs_0']>alpha_th)],probsdf_test['GBoost_Pred'][(probsdf_test['GBprobs_1']>alpha_th) | (probsdf_test['GBprobs_0']>alpha_th)],output_dict=True))\n",
    "    threshold_analysis['Accuracy']= res1['accuracy'].iloc[0]\n",
    "    threshold_analysis['Percent_data_capture'] = probsdf_test['trth'][(probsdf_test['GBprobs_1']>alpha_th) | (probsdf_test['GBprobs_0']>alpha_th)].count()/probsdf_test['GBprobs_1'].count()\n",
    "    threshold_analysis['Thresh_alpha'] = alpha_th\n",
    "    try:\n",
    "        threshold_analysis['Precision'] = res1['1'].loc['precision']\n",
    "        threshold_analysis['Recall'] = res1['1'].loc['recall']\n",
    "        threshold_analysis['f1'] = res1['1'].loc['f1-score']\n",
    "    except KeyError:\n",
    "        threshold_analysis['Precision'] = 0\n",
    "        threshold_analysis['Recall'] = 0\n",
    "        threshold_analysis['f1'] = 0\n",
    "    detl_threshold = detl_threshold.append(threshold_analysis)\n",
    "\n",
    "plt.rcParams['figure.figsize'] = [10, 6]\n",
    "pyplot.plot(detl_threshold['Thresh_alpha'], detl_threshold['Accuracy'], marker='.', label='Accuracy')\n",
    "pyplot.plot(detl_threshold['Thresh_alpha'], detl_threshold['Percent_data_capture'], marker='.', label='Percentage_of_Data_captured')\n",
    "pyplot.plot(detl_threshold['Thresh_alpha'], detl_threshold['Precision'], marker='.', label='Precision')\n",
    "pyplot.plot(detl_threshold['Thresh_alpha'], detl_threshold['Recall'], marker='.', label='Recall')\n",
    "pyplot.plot(detl_threshold['Thresh_alpha'], detl_threshold['f1'], marker='.', label='f1')\n",
    "pyplot.xlabel('Threshold for Data Selection')\n",
    "pyplot.ylabel('Value')\n",
    "pyplot.grid(visible=True, which='both', axis='both')\n",
    "#pyplot.grid(True)\n",
    "pyplot.title('Stacked Ensemble with Meta Model as GradientBoost : News_Headlines')\n",
    "# show the legend\n",
    "pyplot.legend()\n",
    "# show the plot\n",
    "pyplot.show()"
   ]
  },
  {
   "cell_type": "code",
   "execution_count": 573,
   "id": "04bf2001",
   "metadata": {},
   "outputs": [],
   "source": [
    "corr_analysis = probsdf_test[['label_pol_pred','GBoost_Pred','textblob_polarity','flair_polarity','vader_polarity','bert_polarity','trth']].corr()"
   ]
  },
  {
   "cell_type": "code",
   "execution_count": 574,
   "id": "a3a04f80",
   "metadata": {},
   "outputs": [],
   "source": [
    "probsdf_test[['label_pol_pred','GBoost_Pred','textblob_polarity','flair_polarity','vader_polarity','bert_polarity','trth']].corr().to_csv('final_corrdata_conversational.csv')"
   ]
  },
  {
   "cell_type": "code",
   "execution_count": 575,
   "id": "4e956341",
   "metadata": {},
   "outputs": [
    {
     "data": {
      "text/plain": [
       "(array([221.,  18.,   8.,  19.,  39.,  11.,  18.,  38.,  24., 204.]),\n",
       " array([0.01040718, 0.10871615, 0.20702512, 0.30533408, 0.40364305,\n",
       "        0.50195201, 0.60026098, 0.69856994, 0.79687891, 0.89518787,\n",
       "        0.99349684]),\n",
       " <a list of 10 Patch objects>)"
      ]
     },
     "execution_count": 575,
     "metadata": {},
     "output_type": "execute_result"
    },
    {
     "data": {
      "image/png": "[encoded data removed]",
      "text/plain": [
       "<Figure size 720x432 with 1 Axes>"
      ]
     },
     "metadata": {
      "needs_background": "light"
     },
     "output_type": "display_data"
    }
   ],
   "source": [
    "plt.hist(probsdf_test[0])"
   ]
  },
  {
   "cell_type": "code",
   "execution_count": 576,
   "id": "1d5a9bd0",
   "metadata": {},
   "outputs": [
    {
     "data": {
      "text/plain": [
       "(array([239.,   2.,   2.,  13.,  65.,  33.,   5.,  16.,   2., 223.]),\n",
       " array([0.20379136, 0.26454689, 0.32530242, 0.38605794, 0.44681347,\n",
       "        0.50756899, 0.56832452, 0.62908005, 0.68983557, 0.7505911 ,\n",
       "        0.81134662]),\n",
       " <a list of 10 Patch objects>)"
      ]
     },
     "execution_count": 576,
     "metadata": {},
     "output_type": "execute_result"
    },
    {
     "data": {
      "image/png": "[encoded data removed]",
      "text/plain": [
       "<Figure size 720x432 with 1 Axes>"
      ]
     },
     "metadata": {
      "needs_background": "light"
     },
     "output_type": "display_data"
    }
   ],
   "source": [
    "plt.hist(probsdf_test['GBprobs_0'])"
   ]
  },
  {
   "cell_type": "code",
   "execution_count": 577,
   "id": "c4bcbc96",
   "metadata": {},
   "outputs": [],
   "source": [
    "dat = corr_analysis['trth'].to_numpy()"
   ]
  },
  {
   "cell_type": "code",
   "execution_count": 578,
   "id": "b53ebd43",
   "metadata": {},
   "outputs": [],
   "source": [
    "zz = corr_analysis.index"
   ]
  },
  {
   "cell_type": "code",
   "execution_count": 579,
   "id": "b60b41b6",
   "metadata": {},
   "outputs": [
    {
     "data": {
      "text/plain": [
       "['label_pol_pred',\n",
       " 'GBoost_Pred',\n",
       " 'textblob_polarity',\n",
       " 'flair_polarity',\n",
       " 'vader_polarity',\n",
       " 'bert_polarity',\n",
       " 'trth']"
      ]
     },
     "execution_count": 579,
     "metadata": {},
     "output_type": "execute_result"
    }
   ],
   "source": [
    "zz.to_list()"
   ]
  },
  {
   "cell_type": "code",
   "execution_count": 580,
   "id": "072581a3",
   "metadata": {},
   "outputs": [
    {
     "data": {
      "text/plain": [
       "array([0.79023469, 0.77102637, 0.45596403, 0.62123695, 0.52900132,\n",
       "       0.75276742, 1.        ])"
      ]
     },
     "execution_count": 580,
     "metadata": {},
     "output_type": "execute_result"
    }
   ],
   "source": [
    "dat"
   ]
  },
  {
   "attachments": {},
   "cell_type": "markdown",
   "id": "bacd9617",
   "metadata": {},
   "source": [
    "# Final Analysis LR vs GBoost"
   ]
  },
  {
   "cell_type": "code",
   "execution_count": 581,
   "id": "e50126f9",
   "metadata": {},
   "outputs": [
    {
     "data": {
      "text/html": [
       "<div>\n",
       "<style scoped>\n",
       "    .dataframe tbody tr th:only-of-type {\n",
       "        vertical-align: middle;\n",
       "    }\n",
       "\n",
       "    .dataframe tbody tr th {\n",
       "        vertical-align: top;\n",
       "    }\n",
       "\n",
       "    .dataframe thead th {\n",
       "        text-align: right;\n",
       "    }\n",
       "</style>\n",
       "<table border=\"1\" class=\"dataframe\">\n",
       "  <thead>\n",
       "    <tr style=\"text-align: right;\">\n",
       "      <th></th>\n",
       "      <th>-1</th>\n",
       "      <th>1</th>\n",
       "      <th>accuracy</th>\n",
       "      <th>macro avg</th>\n",
       "      <th>weighted avg</th>\n",
       "    </tr>\n",
       "  </thead>\n",
       "  <tbody>\n",
       "    <tr>\n",
       "      <th>precision</th>\n",
       "      <td>0.90681</td>\n",
       "      <td>0.866044</td>\n",
       "      <td>0.885</td>\n",
       "      <td>0.886427</td>\n",
       "      <td>0.886155</td>\n",
       "    </tr>\n",
       "    <tr>\n",
       "      <th>recall</th>\n",
       "      <td>0.85473</td>\n",
       "      <td>0.914474</td>\n",
       "      <td>0.885</td>\n",
       "      <td>0.884602</td>\n",
       "      <td>0.885000</td>\n",
       "    </tr>\n",
       "    <tr>\n",
       "      <th>f1-score</th>\n",
       "      <td>0.88000</td>\n",
       "      <td>0.889600</td>\n",
       "      <td>0.885</td>\n",
       "      <td>0.884800</td>\n",
       "      <td>0.884864</td>\n",
       "    </tr>\n",
       "    <tr>\n",
       "      <th>support</th>\n",
       "      <td>296.00000</td>\n",
       "      <td>304.000000</td>\n",
       "      <td>0.885</td>\n",
       "      <td>600.000000</td>\n",
       "      <td>600.000000</td>\n",
       "    </tr>\n",
       "  </tbody>\n",
       "</table>\n",
       "</div>"
      ],
      "text/plain": [
       "                  -1           1  accuracy   macro avg  weighted avg\n",
       "precision    0.90681    0.866044     0.885    0.886427      0.886155\n",
       "recall       0.85473    0.914474     0.885    0.884602      0.885000\n",
       "f1-score     0.88000    0.889600     0.885    0.884800      0.884864\n",
       "support    296.00000  304.000000     0.885  600.000000    600.000000"
      ]
     },
     "execution_count": 581,
     "metadata": {},
     "output_type": "execute_result"
    }
   ],
   "source": [
    "alpha_th_test = 0\n",
    "pd.DataFrame(metrics.classification_report(probsdf_test['trth'][(probsdf_test['GBprobs_1']>alpha_th_test) | (probsdf_test['GBprobs_0']>alpha_th_test)],probsdf_test['GBoost_Pred'][(probsdf_test['GBprobs_1']>alpha_th_test) | (probsdf_test['GBprobs_0']>alpha_th_test)],output_dict=True))"
   ]
  },
  {
   "cell_type": "code",
   "execution_count": 582,
   "id": "ebfa29fc",
   "metadata": {},
   "outputs": [
    {
     "data": {
      "text/html": [
       "<div>\n",
       "<style scoped>\n",
       "    .dataframe tbody tr th:only-of-type {\n",
       "        vertical-align: middle;\n",
       "    }\n",
       "\n",
       "    .dataframe tbody tr th {\n",
       "        vertical-align: top;\n",
       "    }\n",
       "\n",
       "    .dataframe thead th {\n",
       "        text-align: right;\n",
       "    }\n",
       "</style>\n",
       "<table border=\"1\" class=\"dataframe\">\n",
       "  <thead>\n",
       "    <tr style=\"text-align: right;\">\n",
       "      <th></th>\n",
       "      <th>-1</th>\n",
       "      <th>1</th>\n",
       "      <th>accuracy</th>\n",
       "      <th>macro avg</th>\n",
       "      <th>weighted avg</th>\n",
       "    </tr>\n",
       "  </thead>\n",
       "  <tbody>\n",
       "    <tr>\n",
       "      <th>precision</th>\n",
       "      <td>0.905923</td>\n",
       "      <td>0.884984</td>\n",
       "      <td>0.895</td>\n",
       "      <td>0.895454</td>\n",
       "      <td>0.895314</td>\n",
       "    </tr>\n",
       "    <tr>\n",
       "      <th>recall</th>\n",
       "      <td>0.878378</td>\n",
       "      <td>0.911184</td>\n",
       "      <td>0.895</td>\n",
       "      <td>0.894781</td>\n",
       "      <td>0.895000</td>\n",
       "    </tr>\n",
       "    <tr>\n",
       "      <th>f1-score</th>\n",
       "      <td>0.891938</td>\n",
       "      <td>0.897893</td>\n",
       "      <td>0.895</td>\n",
       "      <td>0.894916</td>\n",
       "      <td>0.894955</td>\n",
       "    </tr>\n",
       "    <tr>\n",
       "      <th>support</th>\n",
       "      <td>296.000000</td>\n",
       "      <td>304.000000</td>\n",
       "      <td>0.895</td>\n",
       "      <td>600.000000</td>\n",
       "      <td>600.000000</td>\n",
       "    </tr>\n",
       "  </tbody>\n",
       "</table>\n",
       "</div>"
      ],
      "text/plain": [
       "                   -1           1  accuracy   macro avg  weighted avg\n",
       "precision    0.905923    0.884984     0.895    0.895454      0.895314\n",
       "recall       0.878378    0.911184     0.895    0.894781      0.895000\n",
       "f1-score     0.891938    0.897893     0.895    0.894916      0.894955\n",
       "support    296.000000  304.000000     0.895  600.000000    600.000000"
      ]
     },
     "execution_count": 582,
     "metadata": {},
     "output_type": "execute_result"
    }
   ],
   "source": [
    "alpha_th_test = 0\n",
    "pd.DataFrame(metrics.classification_report(probsdf_test['trth'][(probsdf_test[0]>alpha_th_test) | (probsdf_test[1]>alpha_th_test)],probsdf_test['label_pol_pred'][(probsdf_test[0]>alpha_th_test) | (probsdf_test[1]>alpha_th_test)],output_dict=True))"
   ]
  },
  {
   "cell_type": "code",
   "execution_count": 583,
   "id": "9adcabd1",
   "metadata": {},
   "outputs": [
    {
     "data": {
      "text/html": [
       "<div>\n",
       "<style scoped>\n",
       "    .dataframe tbody tr th:only-of-type {\n",
       "        vertical-align: middle;\n",
       "    }\n",
       "\n",
       "    .dataframe tbody tr th {\n",
       "        vertical-align: top;\n",
       "    }\n",
       "\n",
       "    .dataframe thead th {\n",
       "        text-align: right;\n",
       "    }\n",
       "</style>\n",
       "<table border=\"1\" class=\"dataframe\">\n",
       "  <thead>\n",
       "    <tr style=\"text-align: right;\">\n",
       "      <th></th>\n",
       "      <th>0</th>\n",
       "      <th>1</th>\n",
       "      <th>trth</th>\n",
       "      <th>label_pol_pred</th>\n",
       "      <th>tb</th>\n",
       "      <th>vader</th>\n",
       "      <th>bert</th>\n",
       "      <th>flair</th>\n",
       "      <th>textblob_polarity</th>\n",
       "      <th>vader_polarity</th>\n",
       "      <th>bert_polarity</th>\n",
       "      <th>flair_polarity</th>\n",
       "      <th>GBprobs_0</th>\n",
       "      <th>GBprobs_1</th>\n",
       "      <th>GBoost_polarity</th>\n",
       "      <th>GBoost_Pred</th>\n",
       "      <th>trth1</th>\n",
       "    </tr>\n",
       "  </thead>\n",
       "  <tbody>\n",
       "    <tr>\n",
       "      <th>0</th>\n",
       "      <td>0.067862</td>\n",
       "      <td>0.932138</td>\n",
       "      <td>1</td>\n",
       "      <td>1</td>\n",
       "      <td>0.7269</td>\n",
       "      <td>0.7269</td>\n",
       "      <td>0.939559</td>\n",
       "      <td>-0.681963</td>\n",
       "      <td>1.0</td>\n",
       "      <td>1.0</td>\n",
       "      <td>1.0</td>\n",
       "      <td>-1.0</td>\n",
       "      <td>0.227807</td>\n",
       "      <td>0.772193</td>\n",
       "      <td>1</td>\n",
       "      <td>1</td>\n",
       "      <td>NaN</td>\n",
       "    </tr>\n",
       "    <tr>\n",
       "      <th>1</th>\n",
       "      <td>0.530962</td>\n",
       "      <td>0.469038</td>\n",
       "      <td>1</td>\n",
       "      <td>1</td>\n",
       "      <td>0.3818</td>\n",
       "      <td>0.3818</td>\n",
       "      <td>0.000000</td>\n",
       "      <td>-0.892302</td>\n",
       "      <td>1.0</td>\n",
       "      <td>1.0</td>\n",
       "      <td>1.0</td>\n",
       "      <td>-1.0</td>\n",
       "      <td>0.519037</td>\n",
       "      <td>0.480963</td>\n",
       "      <td>-1</td>\n",
       "      <td>-1</td>\n",
       "      <td>NaN</td>\n",
       "    </tr>\n",
       "    <tr>\n",
       "      <th>2</th>\n",
       "      <td>0.691637</td>\n",
       "      <td>0.308363</td>\n",
       "      <td>-1</td>\n",
       "      <td>-1</td>\n",
       "      <td>0.4019</td>\n",
       "      <td>0.4019</td>\n",
       "      <td>-0.490856</td>\n",
       "      <td>0.984657</td>\n",
       "      <td>1.0</td>\n",
       "      <td>1.0</td>\n",
       "      <td>-1.0</td>\n",
       "      <td>1.0</td>\n",
       "      <td>0.636809</td>\n",
       "      <td>0.363191</td>\n",
       "      <td>-1</td>\n",
       "      <td>-1</td>\n",
       "      <td>1.0</td>\n",
       "    </tr>\n",
       "    <tr>\n",
       "      <th>3</th>\n",
       "      <td>0.985181</td>\n",
       "      <td>0.014819</td>\n",
       "      <td>-1</td>\n",
       "      <td>-1</td>\n",
       "      <td>-0.5267</td>\n",
       "      <td>-0.5267</td>\n",
       "      <td>-0.883854</td>\n",
       "      <td>-0.997766</td>\n",
       "      <td>-1.0</td>\n",
       "      <td>-1.0</td>\n",
       "      <td>-1.0</td>\n",
       "      <td>-1.0</td>\n",
       "      <td>0.811347</td>\n",
       "      <td>0.188653</td>\n",
       "      <td>-1</td>\n",
       "      <td>-1</td>\n",
       "      <td>-1.0</td>\n",
       "    </tr>\n",
       "    <tr>\n",
       "      <th>4</th>\n",
       "      <td>0.028772</td>\n",
       "      <td>0.971228</td>\n",
       "      <td>1</td>\n",
       "      <td>1</td>\n",
       "      <td>0.8119</td>\n",
       "      <td>0.8119</td>\n",
       "      <td>0.889048</td>\n",
       "      <td>0.958995</td>\n",
       "      <td>1.0</td>\n",
       "      <td>1.0</td>\n",
       "      <td>1.0</td>\n",
       "      <td>1.0</td>\n",
       "      <td>0.203791</td>\n",
       "      <td>0.796209</td>\n",
       "      <td>1</td>\n",
       "      <td>1</td>\n",
       "      <td>NaN</td>\n",
       "    </tr>\n",
       "  </tbody>\n",
       "</table>\n",
       "</div>"
      ],
      "text/plain": [
       "          0         1  trth  label_pol_pred      tb   vader      bert  \\\n",
       "0  0.067862  0.932138     1               1  0.7269  0.7269  0.939559   \n",
       "1  0.530962  0.469038     1               1  0.3818  0.3818  0.000000   \n",
       "2  0.691637  0.308363    -1              -1  0.4019  0.4019 -0.490856   \n",
       "3  0.985181  0.014819    -1              -1 -0.5267 -0.5267 -0.883854   \n",
       "4  0.028772  0.971228     1               1  0.8119  0.8119  0.889048   \n",
       "\n",
       "      flair  textblob_polarity  vader_polarity  bert_polarity  flair_polarity  \\\n",
       "0 -0.681963                1.0             1.0            1.0            -1.0   \n",
       "1 -0.892302                1.0             1.0            1.0            -1.0   \n",
       "2  0.984657                1.0             1.0           -1.0             1.0   \n",
       "3 -0.997766               -1.0            -1.0           -1.0            -1.0   \n",
       "4  0.958995                1.0             1.0            1.0             1.0   \n",
       "\n",
       "   GBprobs_0  GBprobs_1  GBoost_polarity  GBoost_Pred  trth1  \n",
       "0   0.227807   0.772193                1            1    NaN  \n",
       "1   0.519037   0.480963               -1           -1    NaN  \n",
       "2   0.636809   0.363191               -1           -1    1.0  \n",
       "3   0.811347   0.188653               -1           -1   -1.0  \n",
       "4   0.203791   0.796209                1            1    NaN  "
      ]
     },
     "execution_count": 583,
     "metadata": {},
     "output_type": "execute_result"
    }
   ],
   "source": [
    "probsdf_test.head()"
   ]
  },
  {
   "cell_type": "code",
   "execution_count": 584,
   "id": "72e75ae9",
   "metadata": {},
   "outputs": [
    {
     "name": "stderr",
     "output_type": "stream",
     "text": [
      "/Users/amitobe/opt/anaconda3/envs/nlp_course/lib/python3.7/site-packages/pandas/core/indexing.py:1732: SettingWithCopyWarning: \n",
      "A value is trying to be set on a copy of a slice from a DataFrame\n",
      "\n",
      "See the caveats in the documentation: https://pandas.pydata.org/pandas-docs/stable/user_guide/indexing.html#returning-a-view-versus-a-copy\n",
      "  self._setitem_single_block(indexer, value, name)\n"
     ]
    },
    {
     "data": {
      "text/html": [
       "<div>\n",
       "<style scoped>\n",
       "    .dataframe tbody tr th:only-of-type {\n",
       "        vertical-align: middle;\n",
       "    }\n",
       "\n",
       "    .dataframe tbody tr th {\n",
       "        vertical-align: top;\n",
       "    }\n",
       "\n",
       "    .dataframe thead th {\n",
       "        text-align: right;\n",
       "    }\n",
       "</style>\n",
       "<table border=\"1\" class=\"dataframe\">\n",
       "  <thead>\n",
       "    <tr style=\"text-align: right;\">\n",
       "      <th></th>\n",
       "      <th>Dataset</th>\n",
       "      <th>Log_reg_meta</th>\n",
       "      <th>GBoost_meta</th>\n",
       "      <th>VADER</th>\n",
       "      <th>TextBlob</th>\n",
       "      <th>Flair</th>\n",
       "      <th>BERT</th>\n",
       "    </tr>\n",
       "  </thead>\n",
       "  <tbody>\n",
       "    <tr>\n",
       "      <th>0</th>\n",
       "      <td>conversational</td>\n",
       "      <td>0.895</td>\n",
       "      <td>0.885</td>\n",
       "      <td>0.7305</td>\n",
       "      <td>0.705</td>\n",
       "      <td>0.8195</td>\n",
       "      <td>0.862</td>\n",
       "    </tr>\n",
       "  </tbody>\n",
       "</table>\n",
       "</div>"
      ],
      "text/plain": [
       "          Dataset  Log_reg_meta  GBoost_meta   VADER  TextBlob   Flair   BERT\n",
       "0  conversational         0.895        0.885  0.7305     0.705  0.8195  0.862"
      ]
     },
     "execution_count": 584,
     "metadata": {},
     "output_type": "execute_result"
    }
   ],
   "source": [
    "conversational_vader_acc = pd.DataFrame(metrics.classification_report(newsheadline_corr_analysis['Sentiment'], newsheadline_corr_analysis['vader_polarity'],output_dict=True))\n",
    "conversational_tb_acc = pd.DataFrame(metrics.classification_report(newsheadline_corr_analysis['Sentiment'], newsheadline_corr_analysis['textblob_polarity'],output_dict=True))\n",
    "conversational_bert_acc = pd.DataFrame(metrics.classification_report(newsheadline_corr_analysis['Sentiment'], newsheadline_corr_analysis['bert_polarity'],output_dict=True))\n",
    "conversational_flair_acc = pd.DataFrame(metrics.classification_report(newsheadline_corr_analysis['Sentiment'], newsheadline_corr_analysis['flair_polarity'],output_dict=True))\n",
    "\n",
    "alpha_th_test = 0\n",
    "conversational_gboost_acc = pd.DataFrame(metrics.classification_report(probsdf_test['trth'][(probsdf_test['GBprobs_1']>alpha_th_test) | (probsdf_test['GBprobs_0']>alpha_th_test)],probsdf_test['GBoost_Pred'][(probsdf_test['GBprobs_1']>alpha_th_test) | (probsdf_test['GBprobs_0']>alpha_th_test)],output_dict=True))\n",
    "conversational_LR_acc = pd.DataFrame(metrics.classification_report(probsdf_test['trth'][(probsdf_test[0]>alpha_th_test) | (probsdf_test[1]>alpha_th_test)],probsdf_test['label_pol_pred'][(probsdf_test[0]>alpha_th_test) | (probsdf_test[1]>alpha_th_test)],output_dict=True))\n",
    "conversational_acc_compare = pd.DataFrame({'Dataset':'conversational','Log_reg_meta':[0],'GBoost_meta':[0],'VADER':[0],'TextBlob':[0],'Flair':[0],'BERT':[0]})\n",
    "conversational_acc_compare['GBoost_meta'].iloc[0]=conversational_gboost_acc['accuracy'].loc['precision']\n",
    "conversational_acc_compare['Log_reg_meta'].iloc[0]=conversational_LR_acc['accuracy'].loc['precision']\n",
    "conversational_acc_compare['VADER'].iloc[0]=conversational_vader_acc['accuracy'].loc['precision']\n",
    "conversational_acc_compare['BERT'].iloc[0]=conversational_bert_acc['accuracy'].loc['precision']\n",
    "conversational_acc_compare['Flair'].iloc[0]=conversational_flair_acc['accuracy'].loc['precision']\n",
    "conversational_acc_compare['TextBlob'].iloc[0]=conversational_tb_acc['accuracy'].loc['precision']\n",
    "conversational_acc_compare.to_csv('conversational_acc_analysis.csv')\n",
    "conversational_acc_compare"
   ]
  },
  {
   "cell_type": "code",
   "execution_count": 585,
   "id": "5742c245",
   "metadata": {},
   "outputs": [
    {
     "data": {
      "text/plain": [
       "GradientBoostingClassifier(learning_rate=0.01, random_state=42)"
      ]
     },
     "execution_count": 585,
     "metadata": {},
     "output_type": "execute_result"
    }
   ],
   "source": [
    "gb_classifier"
   ]
  },
  {
   "cell_type": "code",
   "execution_count": 586,
   "id": "5acf0773",
   "metadata": {},
   "outputs": [
    {
     "data": {
      "text/plain": [
       "array([-1])"
      ]
     },
     "execution_count": 586,
     "metadata": {},
     "output_type": "execute_result"
    }
   ],
   "source": [
    "logmodel.predict([[-1,-1,-1,-1]])"
   ]
  },
  {
   "cell_type": "code",
   "execution_count": 587,
   "id": "ec299c83",
   "metadata": {},
   "outputs": [
    {
     "data": {
      "text/plain": [
       "array([-1])"
      ]
     },
     "execution_count": 587,
     "metadata": {},
     "output_type": "execute_result"
    }
   ],
   "source": [
    "gb_classifier.predict([[.2,.3,.5,.9]])"
   ]
  },
  {
   "cell_type": "code",
   "execution_count": 588,
   "id": "a7638c77",
   "metadata": {},
   "outputs": [
    {
     "data": {
      "text/plain": [
       "['conversational_gb_sav_model.pkl']"
      ]
     },
     "execution_count": 588,
     "metadata": {},
     "output_type": "execute_result"
    }
   ],
   "source": [
    "import joblib\n",
    "  \n",
    "# Save the trained model as a pickle string.\n",
    "joblib.dump(gb_classifier,'conversational_gb_sav_model.pkl')\n",
    "  \n",
    "# Load the pickled model\n",
    "#knn_from_pickle = pickle.loads(saved_model)"
   ]
  },
  {
   "cell_type": "code",
   "execution_count": 589,
   "id": "44cbf6ef",
   "metadata": {},
   "outputs": [
    {
     "data": {
      "text/plain": [
       "['conversational_LR_sav_model.pkl']"
      ]
     },
     "execution_count": 589,
     "metadata": {},
     "output_type": "execute_result"
    }
   ],
   "source": [
    "joblib.dump(logmodel, 'conversational_LR_sav_model.pkl')"
   ]
  }
 ],
 "metadata": {
  "kernelspec": {
   "display_name": "Python 3",
   "language": "python",
   "name": "python3"
  },
  "language_info": {
   "codemirror_mode": {
    "name": "ipython",
    "version": 3
   },
   "file_extension": ".py",
   "mimetype": "text/x-python",
   "name": "python",
   "nbconvert_exporter": "python",
   "pygments_lexer": "ipython3",
   "version": "3.7.9"
  }
 },
 "nbformat": 4,
 "nbformat_minor": 5
}
