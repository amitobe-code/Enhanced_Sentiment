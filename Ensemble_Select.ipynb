{
 "cells": [
  {
   "attachments": {},
   "cell_type": "markdown",
   "id": "3816c678",
   "metadata": {},
   "source": [
    "# Enhanced Sentiment Analyser for SemEval : Using Stacked Ensemble Learning \n",
    "We use four tools namely BERT, VADER, Textblob and Flair to give sentiment scores all of which are fed to a Logistic Regressor First."
   ]
  },
  {
   "attachments": {},
   "cell_type": "markdown",
   "id": "20701590",
   "metadata": {},
   "source": [
    "## Basic Data Loading and Checking the Base Models or Tools"
   ]
  },
  {
   "cell_type": "code",
   "execution_count": 259,
   "id": "3bfbe93e",
   "metadata": {},
   "outputs": [
    {
     "name": "stdout",
     "output_type": "stream",
     "text": [
      "Requirement already satisfied: pandas in /Users/amitobe/opt/anaconda3/envs/nlp_course/lib/python3.7/site-packages (1.3.5)\n",
      "Requirement already satisfied: pytz>=2017.3 in /Users/amitobe/opt/anaconda3/envs/nlp_course/lib/python3.7/site-packages (from pandas) (2020.4)\n",
      "Requirement already satisfied: python-dateutil>=2.7.3 in /Users/amitobe/opt/anaconda3/envs/nlp_course/lib/python3.7/site-packages (from pandas) (2.8.1)\n",
      "Requirement already satisfied: numpy>=1.17.3; platform_machine != \"aarch64\" and platform_machine != \"arm64\" and python_version < \"3.10\" in /Users/amitobe/opt/anaconda3/envs/nlp_course/lib/python3.7/site-packages (from pandas) (1.21.6)\n",
      "Requirement already satisfied: six>=1.5 in /Users/amitobe/opt/anaconda3/envs/nlp_course/lib/python3.7/site-packages (from python-dateutil>=2.7.3->pandas) (1.15.0)\n"
     ]
    }
   ],
   "source": [
    "!pip install pandas"
   ]
  },
  {
   "cell_type": "code",
   "execution_count": 260,
   "id": "b3dba3b5",
   "metadata": {},
   "outputs": [
    {
     "name": "stdout",
     "output_type": "stream",
     "text": [
      "Requirement already satisfied: textblob in /Users/amitobe/opt/anaconda3/envs/nlp_course/lib/python3.7/site-packages (0.17.1)\n",
      "Requirement already satisfied: nltk>=3.1; python_version >= \"3\" in /Users/amitobe/opt/anaconda3/envs/nlp_course/lib/python3.7/site-packages (from textblob) (3.3)\n",
      "Requirement already satisfied: six in /Users/amitobe/opt/anaconda3/envs/nlp_course/lib/python3.7/site-packages (from nltk>=3.1; python_version >= \"3\"->textblob) (1.15.0)\n"
     ]
    }
   ],
   "source": [
    "!pip install textblob"
   ]
  },
  {
   "cell_type": "code",
   "execution_count": 261,
   "id": "285b6f68",
   "metadata": {},
   "outputs": [],
   "source": [
    "import pandas as pd\n",
    "import numpy as np\n",
    "import matplotlib.pyplot as plt\n",
    "from sklearn.cluster import KMeans\n",
    "from sklearn.preprocessing import MinMaxScaler\n",
    "from nltk.sentiment.vader import SentimentIntensityAnalyzer\n",
    "import textblob\n",
    "from scipy.spatial.distance import cdist\n",
    "import seaborn as sns\n",
    "import nltk\n",
    "import sklearn.metrics\n",
    "from sklearn.metrics import accuracy_score, confusion_matrix, roc_auc_score, roc_curve\n"
   ]
  },
  {
   "cell_type": "code",
   "execution_count": 262,
   "id": "c7335ca8",
   "metadata": {},
   "outputs": [],
   "source": [
    "from nltk.sentiment.vader import SentimentIntensityAnalyzer"
   ]
  },
  {
   "cell_type": "code",
   "execution_count": 263,
   "id": "07df1744",
   "metadata": {},
   "outputs": [],
   "source": [
    "from textblob import TextBlob"
   ]
  },
  {
   "cell_type": "code",
   "execution_count": 264,
   "id": "e695e3ec",
   "metadata": {},
   "outputs": [],
   "source": [
    "dataset_analysis  = pd.read_csv('Semeval_twitter-2016train-A.csv',header=None)\n",
    "dataset_analysis.to_csv('Semeval_test.csv')\n",
    "\n"
   ]
  },
  {
   "cell_type": "code",
   "execution_count": 265,
   "id": "020849bc",
   "metadata": {},
   "outputs": [
    {
     "data": {
      "text/plain": [
       "positive    3094\n",
       "neutral     2043\n",
       "negative     863\n",
       "Name: Sentiment, dtype: int64"
      ]
     },
     "execution_count": 265,
     "metadata": {},
     "output_type": "execute_result"
    }
   ],
   "source": [
    "\n",
    "dataset_analysis.head()\n",
    "dataset_analysis = dataset_analysis.rename(columns ={1:'Sentiment',2:'Headline'})\n",
    "dataset_analysis['Sentiment'].value_counts()"
   ]
  },
  {
   "cell_type": "code",
   "execution_count": 266,
   "id": "aa5dddc9",
   "metadata": {},
   "outputs": [],
   "source": [
    "dataset_analysis_0 = dataset_analysis[dataset_analysis['Sentiment']=='negative']\n",
    "dataset_analysis_1 = dataset_analysis[dataset_analysis['Sentiment']=='positive'].sample(863)\n",
    "dataset_analysis_concat = pd.concat([dataset_analysis_0,dataset_analysis_1])\n",
    "dataset_analysis = dataset_analysis_concat.sample(frac=1, random_state=42).reset_index(drop=True)"
   ]
  },
  {
   "cell_type": "code",
   "execution_count": 267,
   "id": "6e5c0996",
   "metadata": {},
   "outputs": [
    {
     "data": {
      "text/plain": [
       "negative    863\n",
       "positive    863\n",
       "Name: Sentiment, dtype: int64"
      ]
     },
     "execution_count": 267,
     "metadata": {},
     "output_type": "execute_result"
    }
   ],
   "source": [
    "dataset_analysis['Sentiment'].value_counts()"
   ]
  },
  {
   "cell_type": "code",
   "execution_count": 268,
   "id": "3f3ea5f9",
   "metadata": {},
   "outputs": [],
   "source": [
    "def senti_adjust(score):\n",
    "    if score =='positive':\n",
    "        return 1\n",
    "    else:\n",
    "        return -1"
   ]
  },
  {
   "cell_type": "code",
   "execution_count": 269,
   "id": "6877fc4b",
   "metadata": {},
   "outputs": [],
   "source": [
    "dataset_analysis['Sentiment'] = dataset_analysis.apply(lambda x: senti_adjust(x['Sentiment']), axis=1)"
   ]
  },
  {
   "cell_type": "code",
   "execution_count": 270,
   "id": "0e2afa5f",
   "metadata": {},
   "outputs": [
    {
     "data": {
      "text/html": [
       "<div>\n",
       "<style scoped>\n",
       "    .dataframe tbody tr th:only-of-type {\n",
       "        vertical-align: middle;\n",
       "    }\n",
       "\n",
       "    .dataframe tbody tr th {\n",
       "        vertical-align: top;\n",
       "    }\n",
       "\n",
       "    .dataframe thead th {\n",
       "        text-align: right;\n",
       "    }\n",
       "</style>\n",
       "<table border=\"1\" class=\"dataframe\">\n",
       "  <thead>\n",
       "    <tr style=\"text-align: right;\">\n",
       "      <th></th>\n",
       "      <th>0</th>\n",
       "      <th>Sentiment</th>\n",
       "      <th>Headline</th>\n",
       "    </tr>\n",
       "  </thead>\n",
       "  <tbody>\n",
       "    <tr>\n",
       "      <th>0</th>\n",
       "      <td>6.415540e+17</td>\n",
       "      <td>-1</td>\n",
       "      <td>@foxandfriends  Hillary is sorry now that she ...</td>\n",
       "    </tr>\n",
       "    <tr>\n",
       "      <th>1</th>\n",
       "      <td>6.382930e+17</td>\n",
       "      <td>1</td>\n",
       "      <td>If Kanye became President, folk that wrote off...</td>\n",
       "    </tr>\n",
       "    <tr>\n",
       "      <th>2</th>\n",
       "      <td>6.414260e+17</td>\n",
       "      <td>-1</td>\n",
       "      <td>When you have 3 1/2 tests tomorrow and a lab t...</td>\n",
       "    </tr>\n",
       "    <tr>\n",
       "      <th>3</th>\n",
       "      <td>6.409440e+17</td>\n",
       "      <td>1</td>\n",
       "      <td>Jon Moss ref for Saturday. That's every 50 50 ...</td>\n",
       "    </tr>\n",
       "    <tr>\n",
       "      <th>4</th>\n",
       "      <td>6.414990e+17</td>\n",
       "      <td>1</td>\n",
       "      <td>ROSES ARE RED just received its 10th review on...</td>\n",
       "    </tr>\n",
       "  </tbody>\n",
       "</table>\n",
       "</div>"
      ],
      "text/plain": [
       "              0  Sentiment                                           Headline\n",
       "0  6.415540e+17         -1  @foxandfriends  Hillary is sorry now that she ...\n",
       "1  6.382930e+17          1  If Kanye became President, folk that wrote off...\n",
       "2  6.414260e+17         -1  When you have 3 1/2 tests tomorrow and a lab t...\n",
       "3  6.409440e+17          1  Jon Moss ref for Saturday. That's every 50 50 ...\n",
       "4  6.414990e+17          1  ROSES ARE RED just received its 10th review on..."
      ]
     },
     "execution_count": 270,
     "metadata": {},
     "output_type": "execute_result"
    }
   ],
   "source": [
    "dataset_analysis.head()"
   ]
  },
  {
   "cell_type": "code",
   "execution_count": 271,
   "id": "11d43785",
   "metadata": {},
   "outputs": [
    {
     "data": {
      "text/plain": [
       "1726"
      ]
     },
     "execution_count": 271,
     "metadata": {},
     "output_type": "execute_result"
    }
   ],
   "source": [
    "len(dataset_analysis)"
   ]
  },
  {
   "cell_type": "code",
   "execution_count": 272,
   "id": "4a2df213",
   "metadata": {},
   "outputs": [],
   "source": [
    "import seaborn as sns\n",
    "import matplotlib"
   ]
  },
  {
   "cell_type": "code",
   "execution_count": 273,
   "id": "ea4353df",
   "metadata": {},
   "outputs": [],
   "source": [
    "import flair"
   ]
  },
  {
   "cell_type": "code",
   "execution_count": 274,
   "id": "1dcc9d64",
   "metadata": {},
   "outputs": [],
   "source": [
    "flair_model = flair.models.TextClassifier.load('en-sentiment')\n",
    "def process_flair(dialogue):   # returning the flair score\n",
    "    sentence = flair.data.Sentence(dialogue)\n",
    "    flair_model.predict(sentence)\n",
    "    label = sentence.labels[0].value\n",
    "    score = sentence.labels[0].score\n",
    "    if label == 'POSITIVE':\n",
    "        return score\n",
    "    elif label == 'NEGATIVE':\n",
    "        return -score"
   ]
  },
  {
   "cell_type": "code",
   "execution_count": null,
   "id": "f1e1c050",
   "metadata": {},
   "outputs": [],
   "source": [
    "from transformers import AutoModelForSequenceClassification\n",
    "from transformers import TFAutoModelForSequenceClassification\n",
    "from transformers import AutoTokenizer, AutoConfig\n",
    "from scipy.special import softmax\n",
    "\n",
    "MODEL = f\"cardiffnlp/twitter-roberta-base-sentiment-latest\"\n",
    "tokenizer = AutoTokenizer.from_pretrained(MODEL)\n",
    "config = AutoConfig.from_pretrained(MODEL)\n",
    "bert_model = AutoModelForSequenceClassification.from_pretrained(MODEL)"
   ]
  },
  {
   "cell_type": "code",
   "execution_count": null,
   "id": "baf57d2d",
   "metadata": {},
   "outputs": [],
   "source": [
    "def return_sentiment(txt):  # returning single-sentence BERT score\n",
    "    encoded_input = tokenizer(txt, return_tensors='pt',padding=True,truncation=True)\n",
    "    output = bert_model(**encoded_input)\n",
    "    score = output[0][0].detach().numpy() \n",
    "    scores = softmax(score)\n",
    "    if np.argsort(scores)[2] == 1:\n",
    "        return 0\n",
    "    else:\n",
    "        return (np.argsort(scores)[2]-1)*scores[np.argsort(scores)[2]]"
   ]
  },
  {
   "cell_type": "code",
   "execution_count": null,
   "id": "92adc8af",
   "metadata": {},
   "outputs": [],
   "source": [
    "def cal_vader_textblob_bert_flair(txt):\n",
    "    tb_score = TextBlob(txt).sentiment.polarity\n",
    "    obj = SentimentIntensityAnalyzer()\n",
    "    vader_score = obj.polarity_scores(txt)['compound']\n",
    "    flair_score = process_flair(txt)\n",
    "    bert_score = return_sentiment(txt)\n",
    "    #prob = logmodel3.predict_proba([[tb_score,vader_score,flair_score,bert_score]])[0]      \n",
    "    return pd.Series({'vader':vader_score,'textblob': tb_score,'bert':bert_score,'flair':flair_score})\n"
   ]
  },
  {
   "cell_type": "code",
   "execution_count": null,
   "id": "85e67e32",
   "metadata": {},
   "outputs": [],
   "source": [
    "def tb_score(txt):\n",
    "    sen = TextBlob(txt)\n",
    "    return pd.Series({'tb': sen.sentiment.polarity})"
   ]
  },
  {
   "cell_type": "code",
   "execution_count": null,
   "id": "aa96403c",
   "metadata": {},
   "outputs": [],
   "source": [
    "dataset_analysis = pd.concat([dataset_analysis, dataset_analysis['Headline'].apply(cal_vader_textblob_bert_flair)], axis=1)"
   ]
  },
  {
   "cell_type": "code",
   "execution_count": null,
   "id": "98943630",
   "metadata": {},
   "outputs": [
    {
     "data": {
      "text/html": [
       "<div>\n",
       "<style scoped>\n",
       "    .dataframe tbody tr th:only-of-type {\n",
       "        vertical-align: middle;\n",
       "    }\n",
       "\n",
       "    .dataframe tbody tr th {\n",
       "        vertical-align: top;\n",
       "    }\n",
       "\n",
       "    .dataframe thead th {\n",
       "        text-align: right;\n",
       "    }\n",
       "</style>\n",
       "<table border=\"1\" class=\"dataframe\">\n",
       "  <thead>\n",
       "    <tr style=\"text-align: right;\">\n",
       "      <th></th>\n",
       "      <th>0</th>\n",
       "      <th>Sentiment</th>\n",
       "      <th>Headline</th>\n",
       "      <th>vader</th>\n",
       "      <th>textblob</th>\n",
       "      <th>bert</th>\n",
       "      <th>flair</th>\n",
       "    </tr>\n",
       "  </thead>\n",
       "  <tbody>\n",
       "    <tr>\n",
       "      <th>0</th>\n",
       "      <td>6.415540e+17</td>\n",
       "      <td>-1</td>\n",
       "      <td>@foxandfriends  Hillary is sorry now that she ...</td>\n",
       "      <td>-0.7003</td>\n",
       "      <td>-0.450000</td>\n",
       "      <td>-0.783502</td>\n",
       "      <td>-0.739876</td>\n",
       "    </tr>\n",
       "    <tr>\n",
       "      <th>1</th>\n",
       "      <td>6.405250e+17</td>\n",
       "      <td>1</td>\n",
       "      <td>well Migos, Fetty Wap, Omarian, Kid Ink, Augus...</td>\n",
       "      <td>0.2732</td>\n",
       "      <td>0.050000</td>\n",
       "      <td>0.872306</td>\n",
       "      <td>0.906453</td>\n",
       "    </tr>\n",
       "    <tr>\n",
       "      <th>2</th>\n",
       "      <td>6.414260e+17</td>\n",
       "      <td>-1</td>\n",
       "      <td>When you have 3 1/2 tests tomorrow and a lab t...</td>\n",
       "      <td>-0.4703</td>\n",
       "      <td>0.325000</td>\n",
       "      <td>-0.882527</td>\n",
       "      <td>-0.826219</td>\n",
       "    </tr>\n",
       "    <tr>\n",
       "      <th>3</th>\n",
       "      <td>6.360680e+17</td>\n",
       "      <td>1</td>\n",
       "      <td>The best part of living in New York is the nig...</td>\n",
       "      <td>0.8910</td>\n",
       "      <td>0.427273</td>\n",
       "      <td>0.963640</td>\n",
       "      <td>0.995310</td>\n",
       "    </tr>\n",
       "    <tr>\n",
       "      <th>4</th>\n",
       "      <td>6.412510e+17</td>\n",
       "      <td>1</td>\n",
       "      <td>Tomorrow is 80s day and I don't wanna be the b...</td>\n",
       "      <td>0.0000</td>\n",
       "      <td>0.000000</td>\n",
       "      <td>0.000000</td>\n",
       "      <td>0.996199</td>\n",
       "    </tr>\n",
       "  </tbody>\n",
       "</table>\n",
       "</div>"
      ],
      "text/plain": [
       "              0  Sentiment                                           Headline  \\\n",
       "0  6.415540e+17         -1  @foxandfriends  Hillary is sorry now that she ...   \n",
       "1  6.405250e+17          1  well Migos, Fetty Wap, Omarian, Kid Ink, Augus...   \n",
       "2  6.414260e+17         -1  When you have 3 1/2 tests tomorrow and a lab t...   \n",
       "3  6.360680e+17          1  The best part of living in New York is the nig...   \n",
       "4  6.412510e+17          1  Tomorrow is 80s day and I don't wanna be the b...   \n",
       "\n",
       "    vader  textblob      bert     flair  \n",
       "0 -0.7003 -0.450000 -0.783502 -0.739876  \n",
       "1  0.2732  0.050000  0.872306  0.906453  \n",
       "2 -0.4703  0.325000 -0.882527 -0.826219  \n",
       "3  0.8910  0.427273  0.963640  0.995310  \n",
       "4  0.0000  0.000000  0.000000  0.996199  "
      ]
     },
     "execution_count": 22,
     "metadata": {},
     "output_type": "execute_result"
    }
   ],
   "source": [
    "dataset_analysis.head()"
   ]
  },
  {
   "cell_type": "code",
   "execution_count": null,
   "id": "a271b4d6",
   "metadata": {},
   "outputs": [],
   "source": [
    "def polarity(val):\n",
    "    if val >= 0:\n",
    "        return 1\n",
    "    else:\n",
    "        return -1\n",
    "    \n",
    "    "
   ]
  },
  {
   "cell_type": "code",
   "execution_count": null,
   "id": "28ff6560",
   "metadata": {},
   "outputs": [
    {
     "data": {
      "text/plain": [
       "(array([411., 201.,  67.,   0., 418.,   0.,   2.,  72., 141., 414.]),\n",
       " array([-0.96147394, -0.76605431, -0.57063468, -0.37521504, -0.17979541,\n",
       "         0.01562423,  0.21104386,  0.40646349,  0.60188313,  0.79730276,\n",
       "         0.99272239]),\n",
       " <a list of 10 Patch objects>)"
      ]
     },
     "execution_count": 24,
     "metadata": {},
     "output_type": "execute_result"
    },
    {
     "data": {
      "image/png": "[encoded data removed]",
      "text/plain": [
       "<Figure size 432x288 with 1 Axes>"
      ]
     },
     "metadata": {
      "needs_background": "light"
     },
     "output_type": "display_data"
    }
   ],
   "source": [
    "plt.hist(dataset_analysis['bert'])\n"
   ]
  },
  {
   "cell_type": "code",
   "execution_count": null,
   "id": "4ace7ce0",
   "metadata": {},
   "outputs": [
    {
     "data": {
      "text/html": [
       "<div>\n",
       "<style scoped>\n",
       "    .dataframe tbody tr th:only-of-type {\n",
       "        vertical-align: middle;\n",
       "    }\n",
       "\n",
       "    .dataframe tbody tr th {\n",
       "        vertical-align: top;\n",
       "    }\n",
       "\n",
       "    .dataframe thead th {\n",
       "        text-align: right;\n",
       "    }\n",
       "</style>\n",
       "<table border=\"1\" class=\"dataframe\">\n",
       "  <thead>\n",
       "    <tr style=\"text-align: right;\">\n",
       "      <th></th>\n",
       "      <th>bert</th>\n",
       "      <th>vader</th>\n",
       "      <th>textblob</th>\n",
       "      <th>flair</th>\n",
       "      <th>Sentiment</th>\n",
       "    </tr>\n",
       "  </thead>\n",
       "  <tbody>\n",
       "    <tr>\n",
       "      <th>bert</th>\n",
       "      <td>1.000000</td>\n",
       "      <td>0.561206</td>\n",
       "      <td>0.434321</td>\n",
       "      <td>0.621531</td>\n",
       "      <td>0.818070</td>\n",
       "    </tr>\n",
       "    <tr>\n",
       "      <th>vader</th>\n",
       "      <td>0.561206</td>\n",
       "      <td>1.000000</td>\n",
       "      <td>0.526156</td>\n",
       "      <td>0.397475</td>\n",
       "      <td>0.455666</td>\n",
       "    </tr>\n",
       "    <tr>\n",
       "      <th>textblob</th>\n",
       "      <td>0.434321</td>\n",
       "      <td>0.526156</td>\n",
       "      <td>1.000000</td>\n",
       "      <td>0.333892</td>\n",
       "      <td>0.315555</td>\n",
       "    </tr>\n",
       "    <tr>\n",
       "      <th>flair</th>\n",
       "      <td>0.621531</td>\n",
       "      <td>0.397475</td>\n",
       "      <td>0.333892</td>\n",
       "      <td>1.000000</td>\n",
       "      <td>0.555233</td>\n",
       "    </tr>\n",
       "    <tr>\n",
       "      <th>Sentiment</th>\n",
       "      <td>0.818070</td>\n",
       "      <td>0.455666</td>\n",
       "      <td>0.315555</td>\n",
       "      <td>0.555233</td>\n",
       "      <td>1.000000</td>\n",
       "    </tr>\n",
       "  </tbody>\n",
       "</table>\n",
       "</div>"
      ],
      "text/plain": [
       "               bert     vader  textblob     flair  Sentiment\n",
       "bert       1.000000  0.561206  0.434321  0.621531   0.818070\n",
       "vader      0.561206  1.000000  0.526156  0.397475   0.455666\n",
       "textblob   0.434321  0.526156  1.000000  0.333892   0.315555\n",
       "flair      0.621531  0.397475  0.333892  1.000000   0.555233\n",
       "Sentiment  0.818070  0.455666  0.315555  0.555233   1.000000"
      ]
     },
     "execution_count": 25,
     "metadata": {},
     "output_type": "execute_result"
    }
   ],
   "source": [
    "dataset_analysis[['bert','vader','textblob','flair','Sentiment']].corr()"
   ]
  },
  {
   "cell_type": "code",
   "execution_count": null,
   "id": "09127154",
   "metadata": {},
   "outputs": [],
   "source": [
    "dataset_analysis['vader_polarity'] = dataset_analysis.apply(lambda x: polarity(x['vader']), axis=1)\n",
    "dataset_analysis['textblob_polarity'] = dataset_analysis.apply(lambda x: polarity(x['textblob']), axis=1)\n",
    "dataset_analysis['bert_polarity'] = dataset_analysis.apply(lambda x: polarity(x['bert']), axis=1)\n",
    "dataset_analysis['flair_polarity'] = dataset_analysis.apply(lambda x: polarity(x['flair']), axis=1)"
   ]
  },
  {
   "cell_type": "code",
   "execution_count": null,
   "id": "2adcf637",
   "metadata": {},
   "outputs": [
    {
     "data": {
      "text/html": [
       "<div>\n",
       "<style scoped>\n",
       "    .dataframe tbody tr th:only-of-type {\n",
       "        vertical-align: middle;\n",
       "    }\n",
       "\n",
       "    .dataframe tbody tr th {\n",
       "        vertical-align: top;\n",
       "    }\n",
       "\n",
       "    .dataframe thead th {\n",
       "        text-align: right;\n",
       "    }\n",
       "</style>\n",
       "<table border=\"1\" class=\"dataframe\">\n",
       "  <thead>\n",
       "    <tr style=\"text-align: right;\">\n",
       "      <th></th>\n",
       "      <th>bert_polarity</th>\n",
       "      <th>vader_polarity</th>\n",
       "      <th>textblob_polarity</th>\n",
       "      <th>flair_polarity</th>\n",
       "      <th>Sentiment</th>\n",
       "    </tr>\n",
       "  </thead>\n",
       "  <tbody>\n",
       "    <tr>\n",
       "      <th>bert_polarity</th>\n",
       "      <td>1.000000</td>\n",
       "      <td>0.503959</td>\n",
       "      <td>0.299322</td>\n",
       "      <td>0.481782</td>\n",
       "      <td>0.767355</td>\n",
       "    </tr>\n",
       "    <tr>\n",
       "      <th>vader_polarity</th>\n",
       "      <td>0.503959</td>\n",
       "      <td>1.000000</td>\n",
       "      <td>0.366808</td>\n",
       "      <td>0.339412</td>\n",
       "      <td>0.448164</td>\n",
       "    </tr>\n",
       "    <tr>\n",
       "      <th>textblob_polarity</th>\n",
       "      <td>0.299322</td>\n",
       "      <td>0.366808</td>\n",
       "      <td>1.000000</td>\n",
       "      <td>0.225745</td>\n",
       "      <td>0.273873</td>\n",
       "    </tr>\n",
       "    <tr>\n",
       "      <th>flair_polarity</th>\n",
       "      <td>0.481782</td>\n",
       "      <td>0.339412</td>\n",
       "      <td>0.225745</td>\n",
       "      <td>1.000000</td>\n",
       "      <td>0.528256</td>\n",
       "    </tr>\n",
       "    <tr>\n",
       "      <th>Sentiment</th>\n",
       "      <td>0.767355</td>\n",
       "      <td>0.448164</td>\n",
       "      <td>0.273873</td>\n",
       "      <td>0.528256</td>\n",
       "      <td>1.000000</td>\n",
       "    </tr>\n",
       "  </tbody>\n",
       "</table>\n",
       "</div>"
      ],
      "text/plain": [
       "                   bert_polarity  vader_polarity  textblob_polarity  \\\n",
       "bert_polarity           1.000000        0.503959           0.299322   \n",
       "vader_polarity          0.503959        1.000000           0.366808   \n",
       "textblob_polarity       0.299322        0.366808           1.000000   \n",
       "flair_polarity          0.481782        0.339412           0.225745   \n",
       "Sentiment               0.767355        0.448164           0.273873   \n",
       "\n",
       "                   flair_polarity  Sentiment  \n",
       "bert_polarity            0.481782   0.767355  \n",
       "vader_polarity           0.339412   0.448164  \n",
       "textblob_polarity        0.225745   0.273873  \n",
       "flair_polarity           1.000000   0.528256  \n",
       "Sentiment                0.528256   1.000000  "
      ]
     },
     "execution_count": 27,
     "metadata": {},
     "output_type": "execute_result"
    }
   ],
   "source": [
    "dataset_analysis[['bert_polarity','vader_polarity','textblob_polarity','flair_polarity','Sentiment']].corr()"
   ]
  },
  {
   "cell_type": "code",
   "execution_count": null,
   "id": "eecd7d4a",
   "metadata": {},
   "outputs": [],
   "source": [
    "dataset_analysis.to_csv('semeval_test_results.csv')"
   ]
  },
  {
   "attachments": {},
   "cell_type": "markdown",
   "id": "adde1db8",
   "metadata": {},
   "source": [
    "# START HERE in case u want to use the saved data"
   ]
  },
  {
   "cell_type": "code",
   "execution_count": 18,
   "id": "bda5c378",
   "metadata": {},
   "outputs": [],
   "source": [
    "dataset_analysis = pd.read_csv('semeval_test_results.csv')"
   ]
  },
  {
   "cell_type": "code",
   "execution_count": 19,
   "id": "68c691db",
   "metadata": {},
   "outputs": [
    {
     "data": {
      "text/plain": [
       "<matplotlib.axes._subplots.AxesSubplot at 0x7fd44d198510>"
      ]
     },
     "execution_count": 19,
     "metadata": {},
     "output_type": "execute_result"
    },
    {
     "data": {
      "image/png": "[encoded data removed]",
      "text/plain": [
       "<Figure size 432x288 with 2 Axes>"
      ]
     },
     "metadata": {
      "needs_background": "light"
     },
     "output_type": "display_data"
    }
   ],
   "source": [
    "cordata = pd.DataFrame(dataset_analysis[['bert_polarity','vader_polarity','textblob_polarity','flair_polarity','Sentiment']].corr())\n",
    "cordata.to_csv('semeval_corrdata.csv')\n",
    "sns.heatmap (cordata,cmap='Blues')"
   ]
  },
  {
   "cell_type": "code",
   "execution_count": 20,
   "id": "2a9d76b7",
   "metadata": {},
   "outputs": [],
   "source": [
    "dataset_analysis = dataset_analysis[(dataset_analysis['vader'] != 0) |\n",
    "                   (dataset_analysis['textblob'] != 0) |\n",
    "                   (dataset_analysis['bert'] != 0) |\n",
    "                   (dataset_analysis['flair'] != 0) ]\n",
    "\n"
   ]
  },
  {
   "cell_type": "code",
   "execution_count": 21,
   "id": "e91350f7",
   "metadata": {},
   "outputs": [
    {
     "data": {
      "text/html": [
       "<div>\n",
       "<style scoped>\n",
       "    .dataframe tbody tr th:only-of-type {\n",
       "        vertical-align: middle;\n",
       "    }\n",
       "\n",
       "    .dataframe tbody tr th {\n",
       "        vertical-align: top;\n",
       "    }\n",
       "\n",
       "    .dataframe thead th {\n",
       "        text-align: right;\n",
       "    }\n",
       "</style>\n",
       "<table border=\"1\" class=\"dataframe\">\n",
       "  <thead>\n",
       "    <tr style=\"text-align: right;\">\n",
       "      <th></th>\n",
       "      <th>vader</th>\n",
       "      <th>textblob</th>\n",
       "      <th>bert</th>\n",
       "      <th>flair</th>\n",
       "      <th>Sentiment</th>\n",
       "    </tr>\n",
       "  </thead>\n",
       "  <tbody>\n",
       "    <tr>\n",
       "      <th>vader</th>\n",
       "      <td>1.000000</td>\n",
       "      <td>0.526156</td>\n",
       "      <td>0.561206</td>\n",
       "      <td>0.397475</td>\n",
       "      <td>0.455666</td>\n",
       "    </tr>\n",
       "    <tr>\n",
       "      <th>textblob</th>\n",
       "      <td>0.526156</td>\n",
       "      <td>1.000000</td>\n",
       "      <td>0.434321</td>\n",
       "      <td>0.333892</td>\n",
       "      <td>0.315555</td>\n",
       "    </tr>\n",
       "    <tr>\n",
       "      <th>bert</th>\n",
       "      <td>0.561206</td>\n",
       "      <td>0.434321</td>\n",
       "      <td>1.000000</td>\n",
       "      <td>0.621531</td>\n",
       "      <td>0.818070</td>\n",
       "    </tr>\n",
       "    <tr>\n",
       "      <th>flair</th>\n",
       "      <td>0.397475</td>\n",
       "      <td>0.333892</td>\n",
       "      <td>0.621531</td>\n",
       "      <td>1.000000</td>\n",
       "      <td>0.555233</td>\n",
       "    </tr>\n",
       "    <tr>\n",
       "      <th>Sentiment</th>\n",
       "      <td>0.455666</td>\n",
       "      <td>0.315555</td>\n",
       "      <td>0.818070</td>\n",
       "      <td>0.555233</td>\n",
       "      <td>1.000000</td>\n",
       "    </tr>\n",
       "  </tbody>\n",
       "</table>\n",
       "</div>"
      ],
      "text/plain": [
       "              vader  textblob      bert     flair  Sentiment\n",
       "vader      1.000000  0.526156  0.561206  0.397475   0.455666\n",
       "textblob   0.526156  1.000000  0.434321  0.333892   0.315555\n",
       "bert       0.561206  0.434321  1.000000  0.621531   0.818070\n",
       "flair      0.397475  0.333892  0.621531  1.000000   0.555233\n",
       "Sentiment  0.455666  0.315555  0.818070  0.555233   1.000000"
      ]
     },
     "execution_count": 21,
     "metadata": {},
     "output_type": "execute_result"
    }
   ],
   "source": [
    "dataset_analysis[['vader','textblob','bert','flair','Sentiment']].corr()\n",
    "\n",
    "\n"
   ]
  },
  {
   "cell_type": "code",
   "execution_count": 22,
   "id": "718eade5",
   "metadata": {},
   "outputs": [],
   "source": [
    "from sklearn import metrics\n",
    "from sklearn.metrics import classification_report\n",
    "\n",
    "#\n"
   ]
  },
  {
   "attachments": {},
   "cell_type": "markdown",
   "id": "f6e05bb1",
   "metadata": {},
   "source": [
    "### Vader"
   ]
  },
  {
   "cell_type": "code",
   "execution_count": 23,
   "id": "7f7ac32a",
   "metadata": {},
   "outputs": [
    {
     "name": "stdout",
     "output_type": "stream",
     "text": [
      "              precision    recall  f1-score   support\n",
      "\n",
      "          -1       0.84      0.51      0.64       863\n",
      "           1       0.65      0.90      0.75       863\n",
      "\n",
      "    accuracy                           0.71      1726\n",
      "   macro avg       0.74      0.71      0.70      1726\n",
      "weighted avg       0.74      0.71      0.70      1726\n",
      "\n"
     ]
    },
    {
     "data": {
      "image/png": "[encoded data removed]",
      "text/plain": [
       "<Figure size 432x288 with 2 Axes>"
      ]
     },
     "metadata": {
      "needs_background": "light"
     },
     "output_type": "display_data"
    }
   ],
   "source": [
    "print(classification_report(dataset_analysis['Sentiment'],dataset_analysis['vader_polarity'])) # \n",
    "confusion_matrix_vader = metrics.confusion_matrix(dataset_analysis['Sentiment'], dataset_analysis['vader_polarity'])\n",
    "cm_bert = metrics.ConfusionMatrixDisplay(confusion_matrix = confusion_matrix_vader, display_labels = [False, True])\n",
    "cm_bert.plot()\n",
    "plt.show()"
   ]
  },
  {
   "attachments": {},
   "cell_type": "markdown",
   "id": "f1b75b31",
   "metadata": {},
   "source": [
    "### Textblob"
   ]
  },
  {
   "cell_type": "code",
   "execution_count": 24,
   "id": "2444f94d",
   "metadata": {},
   "outputs": [
    {
     "name": "stdout",
     "output_type": "stream",
     "text": [
      "              precision    recall  f1-score   support\n",
      "\n",
      "          -1       0.74      0.36      0.49       863\n",
      "           1       0.58      0.87      0.70       863\n",
      "\n",
      "    accuracy                           0.62      1726\n",
      "   macro avg       0.66      0.62      0.59      1726\n",
      "weighted avg       0.66      0.62      0.59      1726\n",
      "\n"
     ]
    },
    {
     "data": {
      "image/png": "[encoded data removed]",
      "text/plain": [
       "<Figure size 432x288 with 2 Axes>"
      ]
     },
     "metadata": {
      "needs_background": "light"
     },
     "output_type": "display_data"
    }
   ],
   "source": [
    "print(classification_report(dataset_analysis['Sentiment'],dataset_analysis['textblob_polarity'])) # \n",
    "confusion_matrix_tb = metrics.confusion_matrix(dataset_analysis['Sentiment'], dataset_analysis['textblob_polarity'])\n",
    "cm_tb = metrics.ConfusionMatrixDisplay(confusion_matrix = confusion_matrix_tb, display_labels = [False, True])\n",
    "cm_tb.plot()\n",
    "plt.show()"
   ]
  },
  {
   "attachments": {},
   "cell_type": "markdown",
   "id": "e77a752e",
   "metadata": {},
   "source": [
    "### Bert"
   ]
  },
  {
   "cell_type": "code",
   "execution_count": 25,
   "id": "ff29e2e8",
   "metadata": {},
   "outputs": [
    {
     "name": "stdout",
     "output_type": "stream",
     "text": [
      "              precision    recall  f1-score   support\n",
      "\n",
      "          -1       0.98      0.77      0.86       863\n",
      "           1       0.81      0.98      0.89       863\n",
      "\n",
      "    accuracy                           0.87      1726\n",
      "   macro avg       0.89      0.87      0.87      1726\n",
      "weighted avg       0.89      0.87      0.87      1726\n",
      "\n"
     ]
    },
    {
     "data": {
      "image/png": "[encoded data removed]",
      "text/plain": [
       "<Figure size 432x288 with 2 Axes>"
      ]
     },
     "metadata": {
      "needs_background": "light"
     },
     "output_type": "display_data"
    }
   ],
   "source": [
    "print(classification_report(dataset_analysis['Sentiment'],dataset_analysis['bert_polarity'])) # \n",
    "confusion_matrix_bert = metrics.confusion_matrix(dataset_analysis['Sentiment'], dataset_analysis['bert_polarity'])\n",
    "cm_bert = metrics.ConfusionMatrixDisplay(confusion_matrix = confusion_matrix_bert, display_labels = [False, True])\n",
    "cm_bert.plot()\n",
    "plt.show()"
   ]
  },
  {
   "attachments": {},
   "cell_type": "markdown",
   "id": "a8070aaa",
   "metadata": {},
   "source": [
    "### Flair"
   ]
  },
  {
   "cell_type": "code",
   "execution_count": 26,
   "id": "24c26fac",
   "metadata": {},
   "outputs": [
    {
     "name": "stdout",
     "output_type": "stream",
     "text": [
      "              precision    recall  f1-score   support\n",
      "\n",
      "          -1       0.73      0.83      0.78       863\n",
      "           1       0.81      0.69      0.74       863\n",
      "\n",
      "    accuracy                           0.76      1726\n",
      "   macro avg       0.77      0.76      0.76      1726\n",
      "weighted avg       0.77      0.76      0.76      1726\n",
      "\n"
     ]
    },
    {
     "data": {
      "image/png": "[encoded data removed]",
      "text/plain": [
       "<Figure size 432x288 with 2 Axes>"
      ]
     },
     "metadata": {
      "needs_background": "light"
     },
     "output_type": "display_data"
    }
   ],
   "source": [
    "print(classification_report(dataset_analysis['Sentiment'],dataset_analysis['flair_polarity'])) # \n",
    "confusion_matrix_flair = metrics.confusion_matrix(dataset_analysis['Sentiment'], dataset_analysis['flair_polarity'])\n",
    "cm_flair = metrics.ConfusionMatrixDisplay(confusion_matrix = confusion_matrix_flair, display_labels = [False, True])\n",
    "cm_flair.plot()\n",
    "plt.show()"
   ]
  },
  {
   "attachments": {},
   "cell_type": "markdown",
   "id": "7d18b672",
   "metadata": {},
   "source": [
    "### Data analysis"
   ]
  },
  {
   "cell_type": "code",
   "execution_count": 27,
   "id": "80e0799f",
   "metadata": {},
   "outputs": [],
   "source": [
    "\n",
    "dataset_analysis = pd.read_csv('semeval_test_results.csv')\n",
    "\n"
   ]
  },
  {
   "cell_type": "code",
   "execution_count": 28,
   "id": "c489c6e4",
   "metadata": {},
   "outputs": [
    {
     "data": {
      "text/plain": [
       "-1    863\n",
       " 1    863\n",
       "Name: Sentiment, dtype: int64"
      ]
     },
     "execution_count": 28,
     "metadata": {},
     "output_type": "execute_result"
    }
   ],
   "source": [
    "dataset_analysis['Sentiment'].value_counts()\n",
    "## This is a skewed dataset\n",
    "# Therefore Precision - Recall curve will be bette than the ROC curve in this case"
   ]
  },
  {
   "cell_type": "code",
   "execution_count": 29,
   "id": "9ed84306",
   "metadata": {},
   "outputs": [
    {
     "data": {
      "text/plain": [
       "(array([863.,   0.,   0.,   0.,   0.,   0.,   0.,   0.,   0., 863.]),\n",
       " array([-1. , -0.8, -0.6, -0.4, -0.2,  0. ,  0.2,  0.4,  0.6,  0.8,  1. ]),\n",
       " <a list of 10 Patch objects>)"
      ]
     },
     "execution_count": 29,
     "metadata": {},
     "output_type": "execute_result"
    },
    {
     "data": {
      "image/png": "[encoded data removed]",
      "text/plain": [
       "<Figure size 432x288 with 1 Axes>"
      ]
     },
     "metadata": {
      "needs_background": "light"
     },
     "output_type": "display_data"
    }
   ],
   "source": [
    "plt.hist(dataset_analysis['Sentiment'])"
   ]
  },
  {
   "attachments": {},
   "cell_type": "markdown",
   "id": "5cf1b83c",
   "metadata": {},
   "source": [
    "## Training and Testing using Logistic Regressor"
   ]
  },
  {
   "attachments": {},
   "cell_type": "markdown",
   "id": "8a7fec56",
   "metadata": {},
   "source": [
    "### Training and Checking "
   ]
  },
  {
   "cell_type": "code",
   "execution_count": 30,
   "id": "d52f9bb1",
   "metadata": {},
   "outputs": [],
   "source": [
    "from sklearn.linear_model import LogisticRegression\n",
    "from sklearn.preprocessing import MinMaxScaler\n"
   ]
  },
  {
   "cell_type": "code",
   "execution_count": 31,
   "id": "9ebd9fbc",
   "metadata": {},
   "outputs": [],
   "source": [
    "mmscaler = MinMaxScaler()"
   ]
  },
  {
   "cell_type": "code",
   "execution_count": 32,
   "id": "fdb32c44",
   "metadata": {},
   "outputs": [],
   "source": [
    "logmodel = LogisticRegression()\n"
   ]
  },
  {
   "cell_type": "code",
   "execution_count": 33,
   "id": "51e20d33",
   "metadata": {},
   "outputs": [],
   "source": [
    "\n",
    "our_data=dataset_analysis\n",
    "\n"
   ]
  },
  {
   "cell_type": "code",
   "execution_count": 34,
   "id": "06f8ce12",
   "metadata": {},
   "outputs": [
    {
     "data": {
      "text/html": [
       "<div>\n",
       "<style scoped>\n",
       "    .dataframe tbody tr th:only-of-type {\n",
       "        vertical-align: middle;\n",
       "    }\n",
       "\n",
       "    .dataframe tbody tr th {\n",
       "        vertical-align: top;\n",
       "    }\n",
       "\n",
       "    .dataframe thead th {\n",
       "        text-align: right;\n",
       "    }\n",
       "</style>\n",
       "<table border=\"1\" class=\"dataframe\">\n",
       "  <thead>\n",
       "    <tr style=\"text-align: right;\">\n",
       "      <th></th>\n",
       "      <th>Unnamed: 0</th>\n",
       "      <th>0</th>\n",
       "      <th>Sentiment</th>\n",
       "      <th>Headline</th>\n",
       "      <th>vader</th>\n",
       "      <th>textblob</th>\n",
       "      <th>bert</th>\n",
       "      <th>flair</th>\n",
       "      <th>vader_polarity</th>\n",
       "      <th>textblob_polarity</th>\n",
       "      <th>bert_polarity</th>\n",
       "      <th>flair_polarity</th>\n",
       "    </tr>\n",
       "  </thead>\n",
       "  <tbody>\n",
       "    <tr>\n",
       "      <th>0</th>\n",
       "      <td>0</td>\n",
       "      <td>6.415540e+17</td>\n",
       "      <td>-1</td>\n",
       "      <td>@foxandfriends  Hillary is sorry now that she ...</td>\n",
       "      <td>-0.7003</td>\n",
       "      <td>-0.450000</td>\n",
       "      <td>-0.783502</td>\n",
       "      <td>-0.739876</td>\n",
       "      <td>-1</td>\n",
       "      <td>-1</td>\n",
       "      <td>-1</td>\n",
       "      <td>-1</td>\n",
       "    </tr>\n",
       "    <tr>\n",
       "      <th>1</th>\n",
       "      <td>1</td>\n",
       "      <td>6.405250e+17</td>\n",
       "      <td>1</td>\n",
       "      <td>well Migos, Fetty Wap, Omarian, Kid Ink, Augus...</td>\n",
       "      <td>0.2732</td>\n",
       "      <td>0.050000</td>\n",
       "      <td>0.872306</td>\n",
       "      <td>0.906453</td>\n",
       "      <td>1</td>\n",
       "      <td>1</td>\n",
       "      <td>1</td>\n",
       "      <td>1</td>\n",
       "    </tr>\n",
       "    <tr>\n",
       "      <th>2</th>\n",
       "      <td>2</td>\n",
       "      <td>6.414260e+17</td>\n",
       "      <td>-1</td>\n",
       "      <td>When you have 3 1/2 tests tomorrow and a lab t...</td>\n",
       "      <td>-0.4703</td>\n",
       "      <td>0.325000</td>\n",
       "      <td>-0.882527</td>\n",
       "      <td>-0.826219</td>\n",
       "      <td>-1</td>\n",
       "      <td>1</td>\n",
       "      <td>-1</td>\n",
       "      <td>-1</td>\n",
       "    </tr>\n",
       "    <tr>\n",
       "      <th>3</th>\n",
       "      <td>3</td>\n",
       "      <td>6.360680e+17</td>\n",
       "      <td>1</td>\n",
       "      <td>The best part of living in New York is the nig...</td>\n",
       "      <td>0.8910</td>\n",
       "      <td>0.427273</td>\n",
       "      <td>0.963640</td>\n",
       "      <td>0.995310</td>\n",
       "      <td>1</td>\n",
       "      <td>1</td>\n",
       "      <td>1</td>\n",
       "      <td>1</td>\n",
       "    </tr>\n",
       "    <tr>\n",
       "      <th>4</th>\n",
       "      <td>4</td>\n",
       "      <td>6.412510e+17</td>\n",
       "      <td>1</td>\n",
       "      <td>Tomorrow is 80s day and I don't wanna be the b...</td>\n",
       "      <td>0.0000</td>\n",
       "      <td>0.000000</td>\n",
       "      <td>0.000000</td>\n",
       "      <td>0.996199</td>\n",
       "      <td>1</td>\n",
       "      <td>1</td>\n",
       "      <td>1</td>\n",
       "      <td>1</td>\n",
       "    </tr>\n",
       "  </tbody>\n",
       "</table>\n",
       "</div>"
      ],
      "text/plain": [
       "   Unnamed: 0             0  Sentiment  \\\n",
       "0           0  6.415540e+17         -1   \n",
       "1           1  6.405250e+17          1   \n",
       "2           2  6.414260e+17         -1   \n",
       "3           3  6.360680e+17          1   \n",
       "4           4  6.412510e+17          1   \n",
       "\n",
       "                                            Headline   vader  textblob  \\\n",
       "0  @foxandfriends  Hillary is sorry now that she ... -0.7003 -0.450000   \n",
       "1  well Migos, Fetty Wap, Omarian, Kid Ink, Augus...  0.2732  0.050000   \n",
       "2  When you have 3 1/2 tests tomorrow and a lab t... -0.4703  0.325000   \n",
       "3  The best part of living in New York is the nig...  0.8910  0.427273   \n",
       "4  Tomorrow is 80s day and I don't wanna be the b...  0.0000  0.000000   \n",
       "\n",
       "       bert     flair  vader_polarity  textblob_polarity  bert_polarity  \\\n",
       "0 -0.783502 -0.739876              -1                 -1             -1   \n",
       "1  0.872306  0.906453               1                  1              1   \n",
       "2 -0.882527 -0.826219              -1                  1             -1   \n",
       "3  0.963640  0.995310               1                  1              1   \n",
       "4  0.000000  0.996199               1                  1              1   \n",
       "\n",
       "   flair_polarity  \n",
       "0              -1  \n",
       "1               1  \n",
       "2              -1  \n",
       "3               1  \n",
       "4               1  "
      ]
     },
     "execution_count": 34,
     "metadata": {},
     "output_type": "execute_result"
    }
   ],
   "source": [
    "our_data.head()"
   ]
  },
  {
   "cell_type": "code",
   "execution_count": 35,
   "id": "f0d2cab3",
   "metadata": {},
   "outputs": [],
   "source": [
    "X = our_data[['textblob','vader','bert','flair','vader_polarity','textblob_polarity','bert_polarity','flair_polarity','Sentiment']]\n",
    "y = our_data['Sentiment']\n",
    "from sklearn.model_selection import train_test_split\n",
    "X_train,X_test,y_train,y_test = train_test_split(X,y,test_size=0.3)"
   ]
  },
  {
   "cell_type": "code",
   "execution_count": 38,
   "id": "039442c1",
   "metadata": {},
   "outputs": [
    {
     "data": {
      "text/plain": [
       "(518,)"
      ]
     },
     "execution_count": 38,
     "metadata": {},
     "output_type": "execute_result"
    }
   ],
   "source": [
    "y_test.shape\n",
    "\n"
   ]
  },
  {
   "cell_type": "code",
   "execution_count": 39,
   "id": "516649ac",
   "metadata": {},
   "outputs": [
    {
     "data": {
      "text/html": [
       "<div>\n",
       "<style scoped>\n",
       "    .dataframe tbody tr th:only-of-type {\n",
       "        vertical-align: middle;\n",
       "    }\n",
       "\n",
       "    .dataframe tbody tr th {\n",
       "        vertical-align: top;\n",
       "    }\n",
       "\n",
       "    .dataframe thead th {\n",
       "        text-align: right;\n",
       "    }\n",
       "</style>\n",
       "<table border=\"1\" class=\"dataframe\">\n",
       "  <thead>\n",
       "    <tr style=\"text-align: right;\">\n",
       "      <th></th>\n",
       "      <th>textblob</th>\n",
       "      <th>vader</th>\n",
       "      <th>bert</th>\n",
       "      <th>flair</th>\n",
       "      <th>vader_polarity</th>\n",
       "      <th>textblob_polarity</th>\n",
       "      <th>bert_polarity</th>\n",
       "      <th>flair_polarity</th>\n",
       "      <th>Sentiment</th>\n",
       "    </tr>\n",
       "  </thead>\n",
       "  <tbody>\n",
       "    <tr>\n",
       "      <th>1690</th>\n",
       "      <td>-1.000000</td>\n",
       "      <td>-0.7430</td>\n",
       "      <td>-0.817780</td>\n",
       "      <td>-0.999985</td>\n",
       "      <td>-1</td>\n",
       "      <td>-1</td>\n",
       "      <td>-1</td>\n",
       "      <td>-1</td>\n",
       "      <td>-1</td>\n",
       "    </tr>\n",
       "    <tr>\n",
       "      <th>1391</th>\n",
       "      <td>-0.500000</td>\n",
       "      <td>-0.2732</td>\n",
       "      <td>-0.876993</td>\n",
       "      <td>-0.998666</td>\n",
       "      <td>-1</td>\n",
       "      <td>-1</td>\n",
       "      <td>-1</td>\n",
       "      <td>-1</td>\n",
       "      <td>-1</td>\n",
       "    </tr>\n",
       "    <tr>\n",
       "      <th>1013</th>\n",
       "      <td>-0.479167</td>\n",
       "      <td>0.1007</td>\n",
       "      <td>-0.857221</td>\n",
       "      <td>-0.999990</td>\n",
       "      <td>1</td>\n",
       "      <td>-1</td>\n",
       "      <td>-1</td>\n",
       "      <td>-1</td>\n",
       "      <td>-1</td>\n",
       "    </tr>\n",
       "    <tr>\n",
       "      <th>118</th>\n",
       "      <td>0.100000</td>\n",
       "      <td>0.6124</td>\n",
       "      <td>0.000000</td>\n",
       "      <td>-0.957165</td>\n",
       "      <td>1</td>\n",
       "      <td>1</td>\n",
       "      <td>1</td>\n",
       "      <td>-1</td>\n",
       "      <td>-1</td>\n",
       "    </tr>\n",
       "    <tr>\n",
       "      <th>1552</th>\n",
       "      <td>-0.750000</td>\n",
       "      <td>-0.6124</td>\n",
       "      <td>-0.776952</td>\n",
       "      <td>-0.999959</td>\n",
       "      <td>-1</td>\n",
       "      <td>-1</td>\n",
       "      <td>-1</td>\n",
       "      <td>-1</td>\n",
       "      <td>-1</td>\n",
       "    </tr>\n",
       "    <tr>\n",
       "      <th>...</th>\n",
       "      <td>...</td>\n",
       "      <td>...</td>\n",
       "      <td>...</td>\n",
       "      <td>...</td>\n",
       "      <td>...</td>\n",
       "      <td>...</td>\n",
       "      <td>...</td>\n",
       "      <td>...</td>\n",
       "      <td>...</td>\n",
       "    </tr>\n",
       "    <tr>\n",
       "      <th>864</th>\n",
       "      <td>0.000000</td>\n",
       "      <td>0.0772</td>\n",
       "      <td>-0.787394</td>\n",
       "      <td>-0.716729</td>\n",
       "      <td>1</td>\n",
       "      <td>1</td>\n",
       "      <td>-1</td>\n",
       "      <td>-1</td>\n",
       "      <td>-1</td>\n",
       "    </tr>\n",
       "    <tr>\n",
       "      <th>1065</th>\n",
       "      <td>0.300000</td>\n",
       "      <td>0.6369</td>\n",
       "      <td>0.983923</td>\n",
       "      <td>0.998600</td>\n",
       "      <td>1</td>\n",
       "      <td>1</td>\n",
       "      <td>1</td>\n",
       "      <td>1</td>\n",
       "      <td>1</td>\n",
       "    </tr>\n",
       "    <tr>\n",
       "      <th>507</th>\n",
       "      <td>0.142857</td>\n",
       "      <td>-0.4215</td>\n",
       "      <td>-0.721558</td>\n",
       "      <td>-0.999552</td>\n",
       "      <td>-1</td>\n",
       "      <td>1</td>\n",
       "      <td>-1</td>\n",
       "      <td>-1</td>\n",
       "      <td>-1</td>\n",
       "    </tr>\n",
       "    <tr>\n",
       "      <th>1149</th>\n",
       "      <td>0.123810</td>\n",
       "      <td>-0.3182</td>\n",
       "      <td>0.836495</td>\n",
       "      <td>0.978245</td>\n",
       "      <td>-1</td>\n",
       "      <td>1</td>\n",
       "      <td>1</td>\n",
       "      <td>1</td>\n",
       "      <td>1</td>\n",
       "    </tr>\n",
       "    <tr>\n",
       "      <th>1215</th>\n",
       "      <td>-0.050000</td>\n",
       "      <td>-0.4391</td>\n",
       "      <td>-0.935880</td>\n",
       "      <td>-0.999904</td>\n",
       "      <td>-1</td>\n",
       "      <td>-1</td>\n",
       "      <td>-1</td>\n",
       "      <td>-1</td>\n",
       "      <td>-1</td>\n",
       "    </tr>\n",
       "  </tbody>\n",
       "</table>\n",
       "<p>1208 rows × 9 columns</p>\n",
       "</div>"
      ],
      "text/plain": [
       "      textblob   vader      bert     flair  vader_polarity  textblob_polarity  \\\n",
       "1690 -1.000000 -0.7430 -0.817780 -0.999985              -1                 -1   \n",
       "1391 -0.500000 -0.2732 -0.876993 -0.998666              -1                 -1   \n",
       "1013 -0.479167  0.1007 -0.857221 -0.999990               1                 -1   \n",
       "118   0.100000  0.6124  0.000000 -0.957165               1                  1   \n",
       "1552 -0.750000 -0.6124 -0.776952 -0.999959              -1                 -1   \n",
       "...        ...     ...       ...       ...             ...                ...   \n",
       "864   0.000000  0.0772 -0.787394 -0.716729               1                  1   \n",
       "1065  0.300000  0.6369  0.983923  0.998600               1                  1   \n",
       "507   0.142857 -0.4215 -0.721558 -0.999552              -1                  1   \n",
       "1149  0.123810 -0.3182  0.836495  0.978245              -1                  1   \n",
       "1215 -0.050000 -0.4391 -0.935880 -0.999904              -1                 -1   \n",
       "\n",
       "      bert_polarity  flair_polarity  Sentiment  \n",
       "1690             -1              -1         -1  \n",
       "1391             -1              -1         -1  \n",
       "1013             -1              -1         -1  \n",
       "118               1              -1         -1  \n",
       "1552             -1              -1         -1  \n",
       "...             ...             ...        ...  \n",
       "864              -1              -1         -1  \n",
       "1065              1               1          1  \n",
       "507              -1              -1         -1  \n",
       "1149              1               1          1  \n",
       "1215             -1              -1         -1  \n",
       "\n",
       "[1208 rows x 9 columns]"
      ]
     },
     "execution_count": 39,
     "metadata": {},
     "output_type": "execute_result"
    }
   ],
   "source": [
    "X_train"
   ]
  },
  {
   "cell_type": "code",
   "execution_count": 136,
   "id": "b2ef0b9a",
   "metadata": {},
   "outputs": [
    {
     "name": "stderr",
     "output_type": "stream",
     "text": [
      "/Users/amitobe/opt/anaconda3/envs/nlp_course/lib/python3.7/site-packages/ipykernel_launcher.py:2: FutureWarning: Using a non-tuple sequence for multidimensional indexing is deprecated; use `arr[tuple(seq)]` instead of `arr[seq]`. In the future this will be interpreted as an array index, `arr[np.array(seq)]`, which will result either in an error or a different result.\n",
      "  \n"
     ]
    },
    {
     "ename": "IndexError",
     "evalue": "only integers, slices (`:`), ellipsis (`...`), numpy.newaxis (`None`) and integer or boolean arrays are valid indices",
     "output_type": "error",
     "traceback": [
      "\u001b[0;31m---------------------------------------------------------------------------\u001b[0m",
      "\u001b[0;31mIndexError\u001b[0m                                Traceback (most recent call last)",
      "\u001b[0;32m<ipython-input-136-93c722091139>\u001b[0m in \u001b[0;36m<module>\u001b[0;34m\u001b[0m\n\u001b[1;32m      1\u001b[0m \u001b[0mX_train_full\u001b[0m \u001b[0;34m=\u001b[0m \u001b[0mX_train\u001b[0m\u001b[0;34m\u001b[0m\u001b[0;34m\u001b[0m\u001b[0m\n\u001b[0;32m----> 2\u001b[0;31m \u001b[0mX_train\u001b[0m \u001b[0;34m=\u001b[0m \u001b[0mX_train\u001b[0m \u001b[0;34m[\u001b[0m\u001b[0;34m[\u001b[0m\u001b[0;34m'vader'\u001b[0m\u001b[0;34m,\u001b[0m\u001b[0;34m'textblob'\u001b[0m\u001b[0;34m,\u001b[0m\u001b[0;34m'bert'\u001b[0m\u001b[0;34m,\u001b[0m\u001b[0;34m'flair'\u001b[0m\u001b[0;34m]\u001b[0m\u001b[0;34m]\u001b[0m\u001b[0;34m\u001b[0m\u001b[0;34m\u001b[0m\u001b[0m\n\u001b[0m\u001b[1;32m      3\u001b[0m \u001b[0mX_train\u001b[0m \u001b[0;34m=\u001b[0m \u001b[0mmmscaler\u001b[0m\u001b[0;34m.\u001b[0m\u001b[0mfit_transform\u001b[0m\u001b[0;34m(\u001b[0m\u001b[0mX_train\u001b[0m\u001b[0;34m)\u001b[0m\u001b[0;34m\u001b[0m\u001b[0;34m\u001b[0m\u001b[0m\n",
      "\u001b[0;31mIndexError\u001b[0m: only integers, slices (`:`), ellipsis (`...`), numpy.newaxis (`None`) and integer or boolean arrays are valid indices"
     ]
    }
   ],
   "source": [
    "X_train_full = X_train\n",
    "X_train = X_train [['vader','textblob','bert','flair']]\n",
    "X_train = mmscaler.fit_transform(X_train)"
   ]
  },
  {
   "cell_type": "code",
   "execution_count": 137,
   "id": "273dd60f",
   "metadata": {},
   "outputs": [
    {
     "data": {
      "text/plain": [
       "array([[9.44352558e-02, 0.00000000e+00, 7.35319837e-02, 6.37789619e-06],\n",
       "       [3.45088833e-01, 2.50000000e-01, 4.32310580e-02, 6.65983497e-04],\n",
       "       [5.44576642e-01, 2.60416667e-01, 5.33490269e-02, 4.11284895e-06],\n",
       "       ...,\n",
       "       [2.65965961e-01, 5.71428571e-01, 1.22771747e-01, 2.22958137e-04],\n",
       "       [3.21079870e-01, 5.61904762e-01, 9.20070480e-01, 9.89152242e-01],\n",
       "       [2.56575788e-01, 4.75000000e-01, 1.30970052e-02, 4.69699271e-05]])"
      ]
     },
     "execution_count": 137,
     "metadata": {},
     "output_type": "execute_result"
    }
   ],
   "source": [
    "X_train"
   ]
  },
  {
   "cell_type": "code",
   "execution_count": 41,
   "id": "f9cc7b0d",
   "metadata": {},
   "outputs": [],
   "source": [
    "X_test_full = X_test\n",
    "X_test = X_test [['vader','textblob','bert','flair']]\n",
    "X_test = mmscaler.fit_transform(X_test)\n"
   ]
  },
  {
   "cell_type": "code",
   "execution_count": 42,
   "id": "c93de08b",
   "metadata": {},
   "outputs": [
    {
     "data": {
      "text/plain": [
       "LogisticRegression()"
      ]
     },
     "execution_count": 42,
     "metadata": {},
     "output_type": "execute_result"
    }
   ],
   "source": [
    "\n",
    "\n",
    "logmodel.fit(X_train,y_train) # Outputs are -1 and 1"
   ]
  },
  {
   "cell_type": "code",
   "execution_count": 43,
   "id": "af43c6e3",
   "metadata": {},
   "outputs": [
    {
     "data": {
      "text/plain": [
       "array([[9.44352558e-02, 0.00000000e+00, 7.35319837e-02, 6.37789619e-06],\n",
       "       [3.45088833e-01, 2.50000000e-01, 4.32310580e-02, 6.65983497e-04],\n",
       "       [5.44576642e-01, 2.60416667e-01, 5.33490269e-02, 4.11284895e-06],\n",
       "       ...,\n",
       "       [2.65965961e-01, 5.71428571e-01, 1.22771747e-01, 2.22958137e-04],\n",
       "       [3.21079870e-01, 5.61904762e-01, 9.20070480e-01, 9.89152242e-01],\n",
       "       [2.56575788e-01, 4.75000000e-01, 1.30970052e-02, 4.69699271e-05]])"
      ]
     },
     "execution_count": 43,
     "metadata": {},
     "output_type": "execute_result"
    }
   ],
   "source": [
    "X_train"
   ]
  },
  {
   "cell_type": "code",
   "execution_count": 44,
   "id": "2341bd48",
   "metadata": {},
   "outputs": [],
   "source": [
    "predictions = logmodel.predict(X_train)\n",
    "probs = logmodel.predict_proba(X_train)\n"
   ]
  },
  {
   "cell_type": "code",
   "execution_count": 45,
   "id": "15fd1703",
   "metadata": {},
   "outputs": [
    {
     "name": "stderr",
     "output_type": "stream",
     "text": [
      "/Users/amitobe/opt/anaconda3/envs/nlp_course/lib/python3.7/site-packages/sklearn/base.py:444: UserWarning: X has feature names, but LogisticRegression was fitted without feature names\n",
      "  f\"X has feature names, but {self.__class__.__name__} was fitted without\"\n"
     ]
    },
    {
     "data": {
      "text/plain": [
       "array([[0.05305713, 0.94694287]])"
      ]
     },
     "execution_count": 45,
     "metadata": {},
     "output_type": "execute_result"
    }
   ],
   "source": [
    "xx =pd.DataFrame([{'vader':.8,'textblob':.4,'bert':.8,'flair':.62}])\n",
    "tem = logmodel.predict_proba(xx)\n",
    "tem\n",
    "\n"
   ]
  },
  {
   "cell_type": "code",
   "execution_count": 46,
   "id": "5c9f3a15",
   "metadata": {},
   "outputs": [
    {
     "data": {
      "text/plain": [
       "(1208, 2)"
      ]
     },
     "execution_count": 46,
     "metadata": {},
     "output_type": "execute_result"
    }
   ],
   "source": [
    "probs.shape\n",
    "\n",
    "\n"
   ]
  },
  {
   "cell_type": "code",
   "execution_count": 47,
   "id": "118ef202",
   "metadata": {},
   "outputs": [
    {
     "data": {
      "text/plain": [
       "(1208, 3)"
      ]
     },
     "execution_count": 47,
     "metadata": {},
     "output_type": "execute_result"
    }
   ],
   "source": [
    "\n",
    "probsdf = pd.DataFrame(probs)\n",
    "probsdf['trth'] = y_train.to_numpy()\n",
    "#aplha = 0.80\n",
    "#high_prob_data = probsdf[(probsdf[1] > aplha) | (probsdf[0] > aplha)]\n",
    "#probsdf = high_prob_data\n",
    "probsdf.shape\n"
   ]
  },
  {
   "attachments": {},
   "cell_type": "markdown",
   "id": "68e9fd78",
   "metadata": {},
   "source": [
    "### ROC Curve Analysis"
   ]
  },
  {
   "cell_type": "code",
   "execution_count": 48,
   "id": "b273daab",
   "metadata": {},
   "outputs": [],
   "source": [
    "import matplotlib\n",
    "import matplotlib.pyplot as pyplot"
   ]
  },
  {
   "cell_type": "code",
   "execution_count": 49,
   "id": "a5a5bdbd",
   "metadata": {},
   "outputs": [
    {
     "name": "stdout",
     "output_type": "stream",
     "text": [
      "Logistic: ROC AUC=0.962\n"
     ]
    },
    {
     "data": {
      "image/png": "[encoded data removed]",
      "text/plain": [
       "<Figure size 432x288 with 1 Axes>"
      ]
     },
     "metadata": {
      "needs_background": "light"
     },
     "output_type": "display_data"
    }
   ],
   "source": [
    "lr_probs = probs[:,[1]]\n",
    "lr_auc = roc_auc_score(y_train, lr_probs)\n",
    "# summarize scores\n",
    "\n",
    "print('Logistic: ROC AUC=%.3f' % (lr_auc))\n",
    "# calculate roc curves\n",
    "\n",
    "lr_fpr, lr_tpr, thr = roc_curve(y_train, lr_probs)\n",
    "# plot the roc curve for the model # pyplot.plot(ns_fpr, ns_tpr, linestyle='--', label='No Skill')\n",
    "pyplot.plot(lr_fpr, lr_tpr, marker='.', label='Logistic')\n",
    "# axis labels\n",
    "pyplot.xlabel('False Positive Rate')\n",
    "pyplot.ylabel('True Positive Rate')\n",
    "# show the legend\n",
    "pyplot.legend()\n",
    "# show the plot\n",
    "pyplot.show()"
   ]
  },
  {
   "cell_type": "code",
   "execution_count": 50,
   "id": "4665c23b",
   "metadata": {},
   "outputs": [
    {
     "data": {
      "text/plain": [
       "0.41859062174299927"
      ]
     },
     "execution_count": 50,
     "metadata": {},
     "output_type": "execute_result"
    }
   ],
   "source": [
    "optimal_idx = np.argmax(lr_tpr - lr_fpr) #we need to maximise TP-FP\n",
    "thr[optimal_idx]"
   ]
  },
  {
   "cell_type": "code",
   "execution_count": 51,
   "id": "0e5d47e6",
   "metadata": {},
   "outputs": [],
   "source": [
    "alpha_thresh = thr[optimal_idx]\n",
    "\n",
    "def label_pol (prob_score):\n",
    "    \n",
    "    if prob_score[1] > alpha_thresh:\n",
    "        return 1\n",
    "    else:\n",
    "       return -1\n"
   ]
  },
  {
   "cell_type": "code",
   "execution_count": 52,
   "id": "64af43f8",
   "metadata": {},
   "outputs": [
    {
     "data": {
      "text/html": [
       "<div>\n",
       "<style scoped>\n",
       "    .dataframe tbody tr th:only-of-type {\n",
       "        vertical-align: middle;\n",
       "    }\n",
       "\n",
       "    .dataframe tbody tr th {\n",
       "        vertical-align: top;\n",
       "    }\n",
       "\n",
       "    .dataframe thead th {\n",
       "        text-align: right;\n",
       "    }\n",
       "</style>\n",
       "<table border=\"1\" class=\"dataframe\">\n",
       "  <thead>\n",
       "    <tr style=\"text-align: right;\">\n",
       "      <th></th>\n",
       "      <th>0</th>\n",
       "      <th>1</th>\n",
       "      <th>trth</th>\n",
       "      <th>label_pol_pred</th>\n",
       "    </tr>\n",
       "  </thead>\n",
       "  <tbody>\n",
       "    <tr>\n",
       "      <th>0</th>\n",
       "      <td>0.965628</td>\n",
       "      <td>0.034372</td>\n",
       "      <td>-1</td>\n",
       "      <td>-1</td>\n",
       "    </tr>\n",
       "    <tr>\n",
       "      <th>1</th>\n",
       "      <td>0.969696</td>\n",
       "      <td>0.030304</td>\n",
       "      <td>-1</td>\n",
       "      <td>-1</td>\n",
       "    </tr>\n",
       "    <tr>\n",
       "      <th>2</th>\n",
       "      <td>0.960974</td>\n",
       "      <td>0.039026</td>\n",
       "      <td>-1</td>\n",
       "      <td>-1</td>\n",
       "    </tr>\n",
       "    <tr>\n",
       "      <th>3</th>\n",
       "      <td>0.494135</td>\n",
       "      <td>0.505865</td>\n",
       "      <td>-1</td>\n",
       "      <td>1</td>\n",
       "    </tr>\n",
       "    <tr>\n",
       "      <th>4</th>\n",
       "      <td>0.960804</td>\n",
       "      <td>0.039196</td>\n",
       "      <td>-1</td>\n",
       "      <td>-1</td>\n",
       "    </tr>\n",
       "  </tbody>\n",
       "</table>\n",
       "</div>"
      ],
      "text/plain": [
       "          0         1  trth  label_pol_pred\n",
       "0  0.965628  0.034372    -1              -1\n",
       "1  0.969696  0.030304    -1              -1\n",
       "2  0.960974  0.039026    -1              -1\n",
       "3  0.494135  0.505865    -1               1\n",
       "4  0.960804  0.039196    -1              -1"
      ]
     },
     "execution_count": 52,
     "metadata": {},
     "output_type": "execute_result"
    }
   ],
   "source": [
    "probsdf['label_pol_pred'] = probsdf.apply (lambda row: label_pol(row), axis=1)\n",
    "probsdf.head()\n",
    "\n"
   ]
  },
  {
   "cell_type": "code",
   "execution_count": 53,
   "id": "9059a365",
   "metadata": {},
   "outputs": [
    {
     "name": "stdout",
     "output_type": "stream",
     "text": [
      "                   -1           1  accuracy    macro avg  weighted avg\n",
      "precision    0.956863    0.836676  0.887417     0.896769      0.896570\n",
      "recall       0.810631    0.963696  0.887417     0.887164      0.887417\n",
      "f1-score     0.877698    0.895706  0.887417     0.886702      0.886731\n",
      "support    602.000000  606.000000  0.887417  1208.000000   1208.000000\n"
     ]
    }
   ],
   "source": [
    "from sklearn import metrics\n",
    "print(pd.DataFrame(metrics.classification_report(probsdf['trth'],probsdf['label_pol_pred'],output_dict=True)))\n",
    "\n",
    "\n"
   ]
  },
  {
   "attachments": {},
   "cell_type": "markdown",
   "id": "d8ee8922",
   "metadata": {},
   "source": [
    "\n",
    "### Data Capture Threshold Analysis"
   ]
  },
  {
   "cell_type": "code",
   "execution_count": 54,
   "id": "a2afb7d4",
   "metadata": {},
   "outputs": [],
   "source": [
    "threshold_analysis = pd.DataFrame({'Thresh_alpha':[0],'Accuracy':[0],'Percent_data_capture':[0],'Precision':[0],'Recall':[0],'f1':[0]})\n",
    "detl_threshold = pd.DataFrame({'Thresh_alpha':[],'Accuracy':[],'Percent_data_capture':[],'Precision':[],'Recall':[],'f1':[]})\n",
    "for i in range (4,92):\n",
    "    alpha_th = i*.01\n",
    "    res1 = pd.DataFrame(classification_report(probsdf['trth'][(probsdf[1]>alpha_th)|(probsdf[0]>alpha_th)],probsdf['label_pol_pred'][(probsdf[1]>alpha_th)|(probsdf[0]>alpha_th)],output_dict=True))\n",
    "    threshold_analysis['Accuracy']= res1['accuracy'].iloc[0]\n",
    "    threshold_analysis['Percent_data_capture'] = probsdf['trth'][(probsdf[1]>alpha_th)|(probsdf[0]>alpha_th)].count()/probsdf['trth'].count()\n",
    "    threshold_analysis['Thresh_alpha'] = alpha_th\n",
    "    threshold_analysis['Precision'] = res1['1'].loc['precision']\n",
    "    threshold_analysis['Recall'] = res1['1'].loc['recall']\n",
    "    threshold_analysis['f1'] = res1['1'].loc['f1-score']\n",
    "    detl_threshold = detl_threshold.append(threshold_analysis)"
   ]
  },
  {
   "cell_type": "code",
   "execution_count": 55,
   "id": "ce77bc18",
   "metadata": {},
   "outputs": [
    {
     "data": {
      "text/html": [
       "<div>\n",
       "<style scoped>\n",
       "    .dataframe tbody tr th:only-of-type {\n",
       "        vertical-align: middle;\n",
       "    }\n",
       "\n",
       "    .dataframe tbody tr th {\n",
       "        vertical-align: top;\n",
       "    }\n",
       "\n",
       "    .dataframe thead th {\n",
       "        text-align: right;\n",
       "    }\n",
       "</style>\n",
       "<table border=\"1\" class=\"dataframe\">\n",
       "  <thead>\n",
       "    <tr style=\"text-align: right;\">\n",
       "      <th></th>\n",
       "      <th>-1</th>\n",
       "      <th>1</th>\n",
       "      <th>accuracy</th>\n",
       "      <th>macro avg</th>\n",
       "      <th>weighted avg</th>\n",
       "    </tr>\n",
       "  </thead>\n",
       "  <tbody>\n",
       "    <tr>\n",
       "      <th>precision</th>\n",
       "      <td>0.982456</td>\n",
       "      <td>0.979849</td>\n",
       "      <td>0.981156</td>\n",
       "      <td>0.981153</td>\n",
       "      <td>0.981159</td>\n",
       "    </tr>\n",
       "    <tr>\n",
       "      <th>recall</th>\n",
       "      <td>0.980000</td>\n",
       "      <td>0.982323</td>\n",
       "      <td>0.981156</td>\n",
       "      <td>0.981162</td>\n",
       "      <td>0.981156</td>\n",
       "    </tr>\n",
       "    <tr>\n",
       "      <th>f1-score</th>\n",
       "      <td>0.981227</td>\n",
       "      <td>0.981084</td>\n",
       "      <td>0.981156</td>\n",
       "      <td>0.981156</td>\n",
       "      <td>0.981156</td>\n",
       "    </tr>\n",
       "    <tr>\n",
       "      <th>support</th>\n",
       "      <td>400.000000</td>\n",
       "      <td>396.000000</td>\n",
       "      <td>0.981156</td>\n",
       "      <td>796.000000</td>\n",
       "      <td>796.000000</td>\n",
       "    </tr>\n",
       "  </tbody>\n",
       "</table>\n",
       "</div>"
      ],
      "text/plain": [
       "                   -1           1  accuracy   macro avg  weighted avg\n",
       "precision    0.982456    0.979849  0.981156    0.981153      0.981159\n",
       "recall       0.980000    0.982323  0.981156    0.981162      0.981156\n",
       "f1-score     0.981227    0.981084  0.981156    0.981156      0.981156\n",
       "support    400.000000  396.000000  0.981156  796.000000    796.000000"
      ]
     },
     "execution_count": 55,
     "metadata": {},
     "output_type": "execute_result"
    }
   ],
   "source": [
    "res1"
   ]
  },
  {
   "cell_type": "code",
   "execution_count": 56,
   "id": "8e0154e6",
   "metadata": {},
   "outputs": [
    {
     "data": {
      "text/html": [
       "<div>\n",
       "<style scoped>\n",
       "    .dataframe tbody tr th:only-of-type {\n",
       "        vertical-align: middle;\n",
       "    }\n",
       "\n",
       "    .dataframe tbody tr th {\n",
       "        vertical-align: top;\n",
       "    }\n",
       "\n",
       "    .dataframe thead th {\n",
       "        text-align: right;\n",
       "    }\n",
       "</style>\n",
       "<table border=\"1\" class=\"dataframe\">\n",
       "  <thead>\n",
       "    <tr style=\"text-align: right;\">\n",
       "      <th></th>\n",
       "      <th>Thresh_alpha</th>\n",
       "      <th>Accuracy</th>\n",
       "      <th>Percent_data_capture</th>\n",
       "      <th>Precision</th>\n",
       "      <th>Recall</th>\n",
       "      <th>f1</th>\n",
       "    </tr>\n",
       "  </thead>\n",
       "  <tbody>\n",
       "    <tr>\n",
       "      <th>0</th>\n",
       "      <td>0.04</td>\n",
       "      <td>0.887417</td>\n",
       "      <td>1.0</td>\n",
       "      <td>0.836676</td>\n",
       "      <td>0.963696</td>\n",
       "      <td>0.895706</td>\n",
       "    </tr>\n",
       "    <tr>\n",
       "      <th>0</th>\n",
       "      <td>0.05</td>\n",
       "      <td>0.887417</td>\n",
       "      <td>1.0</td>\n",
       "      <td>0.836676</td>\n",
       "      <td>0.963696</td>\n",
       "      <td>0.895706</td>\n",
       "    </tr>\n",
       "    <tr>\n",
       "      <th>0</th>\n",
       "      <td>0.06</td>\n",
       "      <td>0.887417</td>\n",
       "      <td>1.0</td>\n",
       "      <td>0.836676</td>\n",
       "      <td>0.963696</td>\n",
       "      <td>0.895706</td>\n",
       "    </tr>\n",
       "    <tr>\n",
       "      <th>0</th>\n",
       "      <td>0.07</td>\n",
       "      <td>0.887417</td>\n",
       "      <td>1.0</td>\n",
       "      <td>0.836676</td>\n",
       "      <td>0.963696</td>\n",
       "      <td>0.895706</td>\n",
       "    </tr>\n",
       "    <tr>\n",
       "      <th>0</th>\n",
       "      <td>0.08</td>\n",
       "      <td>0.887417</td>\n",
       "      <td>1.0</td>\n",
       "      <td>0.836676</td>\n",
       "      <td>0.963696</td>\n",
       "      <td>0.895706</td>\n",
       "    </tr>\n",
       "  </tbody>\n",
       "</table>\n",
       "</div>"
      ],
      "text/plain": [
       "   Thresh_alpha  Accuracy  Percent_data_capture  Precision    Recall        f1\n",
       "0          0.04  0.887417                   1.0   0.836676  0.963696  0.895706\n",
       "0          0.05  0.887417                   1.0   0.836676  0.963696  0.895706\n",
       "0          0.06  0.887417                   1.0   0.836676  0.963696  0.895706\n",
       "0          0.07  0.887417                   1.0   0.836676  0.963696  0.895706\n",
       "0          0.08  0.887417                   1.0   0.836676  0.963696  0.895706"
      ]
     },
     "execution_count": 56,
     "metadata": {},
     "output_type": "execute_result"
    }
   ],
   "source": [
    "detl_threshold.head()"
   ]
  },
  {
   "cell_type": "code",
   "execution_count": 57,
   "id": "c7c7d30e",
   "metadata": {},
   "outputs": [
    {
     "data": {
      "image/png": "[encoded data removed]",
      "text/plain": [
       "<Figure size 720x432 with 1 Axes>"
      ]
     },
     "metadata": {
      "needs_background": "light"
     },
     "output_type": "display_data"
    }
   ],
   "source": [
    "plt.rcParams['figure.figsize'] = [10, 6]\n",
    "#pyplot.plot(detl_threshold['Thresh_alpha'], detl_threshold['Accuracy'], marker='.', label='Accuracy')\n",
    "pyplot.plot(detl_threshold['Thresh_alpha'], detl_threshold['Percent_data_capture'], marker='.', label='Percentage_of_Data_captured')\n",
    "#pyplot.plot(detl_threshold['Thresh_alpha'], detl_threshold['Precision'], marker='.', label='Precision')\n",
    "#pyplot.plot(detl_threshold['Thresh_alpha'], detl_threshold['Recall'], marker='.', label='Recall')\n",
    "pyplot.plot(detl_threshold['Thresh_alpha'], detl_threshold['f1'], marker='.', label='f1')\n",
    "pyplot.xlabel('Threshold for Data Selection')\n",
    "pyplot.ylabel('Value')\n",
    "pyplot.grid(visible=True, which='both', axis='both')\n",
    "#pyplot.grid(True)\n",
    "pyplot.title('Meta_Model - LogisticRegression : Semeval_data')\n",
    "# show the legend\n",
    "pyplot.legend()\n",
    "# show the plot\n",
    "pyplot.show()  # we find that doe data selection threshold of 0.78 we should have good results; tradeoof is that we would miss 65% of dta and look at only 35% of data points for an assured accuracy of 90% and f1 score of approx .8"
   ]
  },
  {
   "cell_type": "code",
   "execution_count": 58,
   "id": "f8def17d",
   "metadata": {},
   "outputs": [
    {
     "data": {
      "text/plain": [
       "(array([-1,  1]), array([602, 606]))"
      ]
     },
     "execution_count": 58,
     "metadata": {},
     "output_type": "execute_result"
    }
   ],
   "source": [
    "np.unique(y_train,return_counts = True)  # we realise that the dataset is not balanced"
   ]
  },
  {
   "attachments": {},
   "cell_type": "markdown",
   "id": "ed45599e",
   "metadata": {},
   "source": [
    "### We look at Precision Recall curve which is more promising since this dataset is imbalanced.\n",
    "\n",
    "https://journals.plos.org/plosone/article?id=10.1371/journal.pone.0118432"
   ]
  },
  {
   "cell_type": "code",
   "execution_count": 59,
   "id": "92a0d486",
   "metadata": {},
   "outputs": [
    {
     "data": {
      "text/html": [
       "<div>\n",
       "<style scoped>\n",
       "    .dataframe tbody tr th:only-of-type {\n",
       "        vertical-align: middle;\n",
       "    }\n",
       "\n",
       "    .dataframe tbody tr th {\n",
       "        vertical-align: top;\n",
       "    }\n",
       "\n",
       "    .dataframe thead th {\n",
       "        text-align: right;\n",
       "    }\n",
       "</style>\n",
       "<table border=\"1\" class=\"dataframe\">\n",
       "  <thead>\n",
       "    <tr style=\"text-align: right;\">\n",
       "      <th></th>\n",
       "      <th>0</th>\n",
       "      <th>1</th>\n",
       "      <th>trth</th>\n",
       "      <th>label_pol_pred</th>\n",
       "    </tr>\n",
       "  </thead>\n",
       "  <tbody>\n",
       "    <tr>\n",
       "      <th>0</th>\n",
       "      <td>0.965628</td>\n",
       "      <td>0.034372</td>\n",
       "      <td>-1</td>\n",
       "      <td>-1</td>\n",
       "    </tr>\n",
       "    <tr>\n",
       "      <th>1</th>\n",
       "      <td>0.969696</td>\n",
       "      <td>0.030304</td>\n",
       "      <td>-1</td>\n",
       "      <td>-1</td>\n",
       "    </tr>\n",
       "    <tr>\n",
       "      <th>2</th>\n",
       "      <td>0.960974</td>\n",
       "      <td>0.039026</td>\n",
       "      <td>-1</td>\n",
       "      <td>-1</td>\n",
       "    </tr>\n",
       "    <tr>\n",
       "      <th>3</th>\n",
       "      <td>0.494135</td>\n",
       "      <td>0.505865</td>\n",
       "      <td>-1</td>\n",
       "      <td>1</td>\n",
       "    </tr>\n",
       "    <tr>\n",
       "      <th>4</th>\n",
       "      <td>0.960804</td>\n",
       "      <td>0.039196</td>\n",
       "      <td>-1</td>\n",
       "      <td>-1</td>\n",
       "    </tr>\n",
       "  </tbody>\n",
       "</table>\n",
       "</div>"
      ],
      "text/plain": [
       "          0         1  trth  label_pol_pred\n",
       "0  0.965628  0.034372    -1              -1\n",
       "1  0.969696  0.030304    -1              -1\n",
       "2  0.960974  0.039026    -1              -1\n",
       "3  0.494135  0.505865    -1               1\n",
       "4  0.960804  0.039196    -1              -1"
      ]
     },
     "execution_count": 59,
     "metadata": {},
     "output_type": "execute_result"
    }
   ],
   "source": [
    "probsdf.head() # vector containing predicted prob for +1"
   ]
  },
  {
   "cell_type": "code",
   "execution_count": 60,
   "id": "b4d0ec76",
   "metadata": {},
   "outputs": [],
   "source": [
    "precision, recall, thresholds = sklearn.metrics.precision_recall_curve(y_train, probsdf[1])\n"
   ]
  },
  {
   "cell_type": "code",
   "execution_count": 61,
   "id": "a2c7b284",
   "metadata": {},
   "outputs": [
    {
     "data": {
      "text/plain": [
       "0.9623049134223719"
      ]
     },
     "execution_count": 61,
     "metadata": {},
     "output_type": "execute_result"
    }
   ],
   "source": [
    "auc_pr = sklearn.metrics.auc(recall,precision)\n",
    "auc_pr"
   ]
  },
  {
   "cell_type": "code",
   "execution_count": 62,
   "id": "183c3135",
   "metadata": {},
   "outputs": [
    {
     "data": {
      "image/png": "[encoded data removed]",
      "text/plain": [
       "<Figure size 720x432 with 1 Axes>"
      ]
     },
     "metadata": {
      "needs_background": "light"
     },
     "output_type": "display_data"
    }
   ],
   "source": [
    "pyplot.plot(recall, precision, marker='.', label='Logistic')\n",
    "pyplot.xlabel('Recall')\n",
    "pyplot.ylabel('Precision')\n",
    "# show the legend\n",
    "pyplot.legend()\n",
    "# show the plot\n",
    "pyplot.show()"
   ]
  },
  {
   "attachments": {},
   "cell_type": "markdown",
   "id": "3a9735a7",
   "metadata": {},
   "source": [
    "## Model Test"
   ]
  },
  {
   "cell_type": "code",
   "execution_count": 63,
   "id": "2aa0fbb4",
   "metadata": {},
   "outputs": [
    {
     "data": {
      "text/plain": [
       "(518, 4)"
      ]
     },
     "execution_count": 63,
     "metadata": {},
     "output_type": "execute_result"
    }
   ],
   "source": [
    "#we now test the logistic regressor\n",
    "X_test.shape"
   ]
  },
  {
   "cell_type": "code",
   "execution_count": 64,
   "id": "aec244e1",
   "metadata": {},
   "outputs": [],
   "source": [
    "predictions_test = logmodel.predict(X_test)\n",
    "probs_test = logmodel.predict_proba(X_test)"
   ]
  },
  {
   "cell_type": "code",
   "execution_count": 65,
   "id": "aa62b7de",
   "metadata": {},
   "outputs": [
    {
     "name": "stdout",
     "output_type": "stream",
     "text": [
      "Logistic: ROC AUC=0.961\n"
     ]
    },
    {
     "data": {
      "image/png": "[encoded data removed]",
      "text/plain": [
       "<Figure size 720x432 with 1 Axes>"
      ]
     },
     "metadata": {
      "needs_background": "light"
     },
     "output_type": "display_data"
    }
   ],
   "source": [
    "lr_probs = probs_test[:,[1]]\n",
    "lr_auc = roc_auc_score(y_test, lr_probs)\n",
    "# summarize scores\n",
    "\n",
    "print('Logistic: ROC AUC=%.3f' % (lr_auc))\n",
    "# calculate roc curves\n",
    "\n",
    "lr_fpr, lr_tpr, thr = roc_curve(y_test, lr_probs)\n",
    "# plot the roc curve for the model # pyplot.plot(ns_fpr, ns_tpr, linestyle='--', label='No Skill')\n",
    "pyplot.plot(lr_fpr, lr_tpr, marker='.', label='Logistic')\n",
    "# axis labels\n",
    "pyplot.xlabel('False Positive Rate')\n",
    "pyplot.ylabel('True Positive Rate')\n",
    "# show the legend\n",
    "pyplot.legend()\n",
    "# show the plot\n",
    "pyplot.show()"
   ]
  },
  {
   "cell_type": "code",
   "execution_count": 66,
   "id": "6c2b9101",
   "metadata": {},
   "outputs": [
    {
     "data": {
      "text/plain": [
       "0.40795629307741266"
      ]
     },
     "execution_count": 66,
     "metadata": {},
     "output_type": "execute_result"
    }
   ],
   "source": [
    "optimal_idx = np.argmax(lr_tpr - lr_fpr) #we need to maximise TP-FP\n",
    "thr[optimal_idx]"
   ]
  },
  {
   "cell_type": "code",
   "execution_count": 67,
   "id": "830270d6",
   "metadata": {},
   "outputs": [],
   "source": [
    "alpha_thresh = thr[optimal_idx]\n",
    "\n",
    "def label_pol (prob_score):\n",
    "    \n",
    "    if prob_score[1] > alpha_thresh:\n",
    "        return 1\n",
    "    else:\n",
    "       return -1"
   ]
  },
  {
   "cell_type": "code",
   "execution_count": 68,
   "id": "b6932f06",
   "metadata": {},
   "outputs": [
    {
     "data": {
      "text/html": [
       "<div>\n",
       "<style scoped>\n",
       "    .dataframe tbody tr th:only-of-type {\n",
       "        vertical-align: middle;\n",
       "    }\n",
       "\n",
       "    .dataframe tbody tr th {\n",
       "        vertical-align: top;\n",
       "    }\n",
       "\n",
       "    .dataframe thead th {\n",
       "        text-align: right;\n",
       "    }\n",
       "</style>\n",
       "<table border=\"1\" class=\"dataframe\">\n",
       "  <thead>\n",
       "    <tr style=\"text-align: right;\">\n",
       "      <th></th>\n",
       "      <th>0</th>\n",
       "      <th>1</th>\n",
       "      <th>trth</th>\n",
       "      <th>label_pol_pred</th>\n",
       "    </tr>\n",
       "  </thead>\n",
       "  <tbody>\n",
       "    <tr>\n",
       "      <th>0</th>\n",
       "      <td>0.581587</td>\n",
       "      <td>0.418413</td>\n",
       "      <td>1</td>\n",
       "      <td>1</td>\n",
       "    </tr>\n",
       "    <tr>\n",
       "      <th>1</th>\n",
       "      <td>0.960170</td>\n",
       "      <td>0.039830</td>\n",
       "      <td>-1</td>\n",
       "      <td>-1</td>\n",
       "    </tr>\n",
       "    <tr>\n",
       "      <th>2</th>\n",
       "      <td>0.583993</td>\n",
       "      <td>0.416007</td>\n",
       "      <td>1</td>\n",
       "      <td>1</td>\n",
       "    </tr>\n",
       "    <tr>\n",
       "      <th>3</th>\n",
       "      <td>0.971582</td>\n",
       "      <td>0.028418</td>\n",
       "      <td>-1</td>\n",
       "      <td>-1</td>\n",
       "    </tr>\n",
       "    <tr>\n",
       "      <th>4</th>\n",
       "      <td>0.023527</td>\n",
       "      <td>0.976473</td>\n",
       "      <td>1</td>\n",
       "      <td>1</td>\n",
       "    </tr>\n",
       "  </tbody>\n",
       "</table>\n",
       "</div>"
      ],
      "text/plain": [
       "          0         1  trth  label_pol_pred\n",
       "0  0.581587  0.418413     1               1\n",
       "1  0.960170  0.039830    -1              -1\n",
       "2  0.583993  0.416007     1               1\n",
       "3  0.971582  0.028418    -1              -1\n",
       "4  0.023527  0.976473     1               1"
      ]
     },
     "execution_count": 68,
     "metadata": {},
     "output_type": "execute_result"
    }
   ],
   "source": [
    "probsdf_test = pd.DataFrame(probs_test)\n",
    "probsdf_test['trth'] = y_test.to_numpy()\n",
    "probsdf_test['label_pol_pred'] = probsdf_test.apply (lambda row: label_pol(row), axis=1)\n",
    "probsdf_test.head()\n"
   ]
  },
  {
   "cell_type": "code",
   "execution_count": 69,
   "id": "862782c1",
   "metadata": {},
   "outputs": [
    {
     "name": "stdout",
     "output_type": "stream",
     "text": [
      "                   -1           1  accuracy   macro avg  weighted avg\n",
      "precision    0.963636    0.835570  0.889961    0.899603      0.900098\n",
      "recall       0.812261    0.968872  0.889961    0.890566      0.889961\n",
      "f1-score     0.881497    0.897297  0.889961    0.889397      0.889336\n",
      "support    261.000000  257.000000  0.889961  518.000000    518.000000\n"
     ]
    }
   ],
   "source": [
    "print(pd.DataFrame(metrics.classification_report(probsdf_test['trth'],probsdf_test['label_pol_pred'],output_dict=True)))"
   ]
  },
  {
   "cell_type": "code",
   "execution_count": 70,
   "id": "d83b9327",
   "metadata": {},
   "outputs": [
    {
     "data": {
      "text/html": [
       "<div>\n",
       "<style scoped>\n",
       "    .dataframe tbody tr th:only-of-type {\n",
       "        vertical-align: middle;\n",
       "    }\n",
       "\n",
       "    .dataframe tbody tr th {\n",
       "        vertical-align: top;\n",
       "    }\n",
       "\n",
       "    .dataframe thead th {\n",
       "        text-align: right;\n",
       "    }\n",
       "</style>\n",
       "<table border=\"1\" class=\"dataframe\">\n",
       "  <thead>\n",
       "    <tr style=\"text-align: right;\">\n",
       "      <th></th>\n",
       "      <th>trth</th>\n",
       "      <th>label_pol_pred</th>\n",
       "    </tr>\n",
       "  </thead>\n",
       "  <tbody>\n",
       "    <tr>\n",
       "      <th>trth</th>\n",
       "      <td>1.000000</td>\n",
       "      <td>0.790118</td>\n",
       "    </tr>\n",
       "    <tr>\n",
       "      <th>label_pol_pred</th>\n",
       "      <td>0.790118</td>\n",
       "      <td>1.000000</td>\n",
       "    </tr>\n",
       "  </tbody>\n",
       "</table>\n",
       "</div>"
      ],
      "text/plain": [
       "                    trth  label_pol_pred\n",
       "trth            1.000000        0.790118\n",
       "label_pol_pred  0.790118        1.000000"
      ]
     },
     "execution_count": 70,
     "metadata": {},
     "output_type": "execute_result"
    }
   ],
   "source": [
    "probsdf_test[['trth','label_pol_pred']].corr()"
   ]
  },
  {
   "cell_type": "code",
   "execution_count": 71,
   "id": "5584550d",
   "metadata": {},
   "outputs": [
    {
     "data": {
      "text/plain": [
       "411"
      ]
     },
     "execution_count": 71,
     "metadata": {},
     "output_type": "execute_result"
    }
   ],
   "source": [
    "alpha_th_test = .7\n",
    "probsdf_test['trth'][(probsdf_test[1]>alpha_th_test)|(probsdf_test[0]>alpha_th_test)].count()"
   ]
  },
  {
   "cell_type": "code",
   "execution_count": 72,
   "id": "eb7cf9bb",
   "metadata": {},
   "outputs": [
    {
     "name": "stdout",
     "output_type": "stream",
     "text": [
      "                   -1           1  accuracy   macro avg  weighted avg\n",
      "precision    0.980952    0.955224   0.96837    0.968088      0.968683\n",
      "recall       0.958140    0.979592   0.96837    0.968866      0.968370\n",
      "f1-score     0.969412    0.967254   0.96837    0.968333      0.968383\n",
      "support    215.000000  196.000000   0.96837  411.000000    411.000000\n"
     ]
    }
   ],
   "source": [
    "print(pd.DataFrame(metrics.classification_report(probsdf_test['trth'][(probsdf_test[1]>alpha_th_test)|(probsdf_test[0]>alpha_th_test) ],probsdf_test['label_pol_pred'][(probsdf_test[1]>alpha_th_test)|(probsdf_test[0]>alpha_th_test)],output_dict=True)))"
   ]
  },
  {
   "cell_type": "code",
   "execution_count": 73,
   "id": "f1bde451",
   "metadata": {},
   "outputs": [
    {
     "data": {
      "text/plain": [
       "0.6891891891891891"
      ]
     },
     "execution_count": 73,
     "metadata": {},
     "output_type": "execute_result"
    }
   ],
   "source": [
    "probsdf_test['trth'][(probsdf_test[1]>alpha_th)|(probsdf_test[0]>alpha_th)].count()/probsdf_test['trth'].count()"
   ]
  },
  {
   "cell_type": "code",
   "execution_count": 74,
   "id": "b583fd8a",
   "metadata": {},
   "outputs": [],
   "source": [
    "test_results=pd.DataFrame({'Prob':[],'label_pol_predict':[]})\n",
    "test_results['Prob'] = probsdf_test[1]\n",
    "test_results['label_pol_pred'] = probsdf_test['label_pol_pred']"
   ]
  },
  {
   "attachments": {},
   "cell_type": "markdown",
   "id": "c7a616e6",
   "metadata": {},
   "source": [
    "### We need to analyse sentences\n",
    "#### Also we need to compare with the four Base Models /  Tools"
   ]
  },
  {
   "cell_type": "code",
   "execution_count": 75,
   "id": "affbcec4",
   "metadata": {},
   "outputs": [],
   "source": [
    "result_base_tools_tb = pd.DataFrame(metrics.classification_report(X_test_full['Sentiment'],X_test_full['textblob_polarity'],output_dict=True))"
   ]
  },
  {
   "cell_type": "code",
   "execution_count": 76,
   "id": "c73ea765",
   "metadata": {},
   "outputs": [],
   "source": [
    "result_base_tools_vader = pd.DataFrame(metrics.classification_report(X_test_full['Sentiment'],X_test_full['vader_polarity'],output_dict=True))"
   ]
  },
  {
   "cell_type": "code",
   "execution_count": 77,
   "id": "8e12feb5",
   "metadata": {},
   "outputs": [],
   "source": [
    "result_base_tools_bert = pd.DataFrame(metrics.classification_report(X_test_full['Sentiment'],X_test_full['bert_polarity'],output_dict=True))"
   ]
  },
  {
   "cell_type": "code",
   "execution_count": 78,
   "id": "168ec8b0",
   "metadata": {},
   "outputs": [],
   "source": [
    "result_base_tools_flair = pd.DataFrame(metrics.classification_report(X_test_full['Sentiment'],X_test_full['flair_polarity'],output_dict=True))"
   ]
  },
  {
   "cell_type": "code",
   "execution_count": 79,
   "id": "edbb7851",
   "metadata": {},
   "outputs": [
    {
     "data": {
      "text/html": [
       "<div>\n",
       "<style scoped>\n",
       "    .dataframe tbody tr th:only-of-type {\n",
       "        vertical-align: middle;\n",
       "    }\n",
       "\n",
       "    .dataframe tbody tr th {\n",
       "        vertical-align: top;\n",
       "    }\n",
       "\n",
       "    .dataframe thead th {\n",
       "        text-align: right;\n",
       "    }\n",
       "</style>\n",
       "<table border=\"1\" class=\"dataframe\">\n",
       "  <thead>\n",
       "    <tr style=\"text-align: right;\">\n",
       "      <th></th>\n",
       "      <th>-1</th>\n",
       "      <th>1</th>\n",
       "      <th>accuracy</th>\n",
       "      <th>macro avg</th>\n",
       "      <th>weighted avg</th>\n",
       "    </tr>\n",
       "  </thead>\n",
       "  <tbody>\n",
       "    <tr>\n",
       "      <th>precision</th>\n",
       "      <td>0.748031</td>\n",
       "      <td>0.575448</td>\n",
       "      <td>0.617761</td>\n",
       "      <td>0.661740</td>\n",
       "      <td>0.662406</td>\n",
       "    </tr>\n",
       "    <tr>\n",
       "      <th>recall</th>\n",
       "      <td>0.363985</td>\n",
       "      <td>0.875486</td>\n",
       "      <td>0.617761</td>\n",
       "      <td>0.619736</td>\n",
       "      <td>0.617761</td>\n",
       "    </tr>\n",
       "    <tr>\n",
       "      <th>f1-score</th>\n",
       "      <td>0.489691</td>\n",
       "      <td>0.694444</td>\n",
       "      <td>0.617761</td>\n",
       "      <td>0.592068</td>\n",
       "      <td>0.591277</td>\n",
       "    </tr>\n",
       "    <tr>\n",
       "      <th>support</th>\n",
       "      <td>261.000000</td>\n",
       "      <td>257.000000</td>\n",
       "      <td>0.617761</td>\n",
       "      <td>518.000000</td>\n",
       "      <td>518.000000</td>\n",
       "    </tr>\n",
       "  </tbody>\n",
       "</table>\n",
       "</div>"
      ],
      "text/plain": [
       "                   -1           1  accuracy   macro avg  weighted avg\n",
       "precision    0.748031    0.575448  0.617761    0.661740      0.662406\n",
       "recall       0.363985    0.875486  0.617761    0.619736      0.617761\n",
       "f1-score     0.489691    0.694444  0.617761    0.592068      0.591277\n",
       "support    261.000000  257.000000  0.617761  518.000000    518.000000"
      ]
     },
     "execution_count": 79,
     "metadata": {},
     "output_type": "execute_result"
    }
   ],
   "source": [
    "result_base_tools_tb"
   ]
  },
  {
   "cell_type": "code",
   "execution_count": 80,
   "id": "c7a70166",
   "metadata": {},
   "outputs": [
    {
     "data": {
      "text/html": [
       "<div>\n",
       "<style scoped>\n",
       "    .dataframe tbody tr th:only-of-type {\n",
       "        vertical-align: middle;\n",
       "    }\n",
       "\n",
       "    .dataframe tbody tr th {\n",
       "        vertical-align: top;\n",
       "    }\n",
       "\n",
       "    .dataframe thead th {\n",
       "        text-align: right;\n",
       "    }\n",
       "</style>\n",
       "<table border=\"1\" class=\"dataframe\">\n",
       "  <thead>\n",
       "    <tr style=\"text-align: right;\">\n",
       "      <th></th>\n",
       "      <th>-1</th>\n",
       "      <th>1</th>\n",
       "      <th>accuracy</th>\n",
       "      <th>macro avg</th>\n",
       "      <th>weighted avg</th>\n",
       "    </tr>\n",
       "  </thead>\n",
       "  <tbody>\n",
       "    <tr>\n",
       "      <th>precision</th>\n",
       "      <td>0.865385</td>\n",
       "      <td>0.651934</td>\n",
       "      <td>0.716216</td>\n",
       "      <td>0.758659</td>\n",
       "      <td>0.759483</td>\n",
       "    </tr>\n",
       "    <tr>\n",
       "      <th>recall</th>\n",
       "      <td>0.517241</td>\n",
       "      <td>0.918288</td>\n",
       "      <td>0.716216</td>\n",
       "      <td>0.717765</td>\n",
       "      <td>0.716216</td>\n",
       "    </tr>\n",
       "    <tr>\n",
       "      <th>f1-score</th>\n",
       "      <td>0.647482</td>\n",
       "      <td>0.762520</td>\n",
       "      <td>0.716216</td>\n",
       "      <td>0.705001</td>\n",
       "      <td>0.704557</td>\n",
       "    </tr>\n",
       "    <tr>\n",
       "      <th>support</th>\n",
       "      <td>261.000000</td>\n",
       "      <td>257.000000</td>\n",
       "      <td>0.716216</td>\n",
       "      <td>518.000000</td>\n",
       "      <td>518.000000</td>\n",
       "    </tr>\n",
       "  </tbody>\n",
       "</table>\n",
       "</div>"
      ],
      "text/plain": [
       "                   -1           1  accuracy   macro avg  weighted avg\n",
       "precision    0.865385    0.651934  0.716216    0.758659      0.759483\n",
       "recall       0.517241    0.918288  0.716216    0.717765      0.716216\n",
       "f1-score     0.647482    0.762520  0.716216    0.705001      0.704557\n",
       "support    261.000000  257.000000  0.716216  518.000000    518.000000"
      ]
     },
     "execution_count": 80,
     "metadata": {},
     "output_type": "execute_result"
    }
   ],
   "source": [
    "result_base_tools_vader"
   ]
  },
  {
   "cell_type": "code",
   "execution_count": 81,
   "id": "4735c193",
   "metadata": {},
   "outputs": [
    {
     "data": {
      "text/html": [
       "<div>\n",
       "<style scoped>\n",
       "    .dataframe tbody tr th:only-of-type {\n",
       "        vertical-align: middle;\n",
       "    }\n",
       "\n",
       "    .dataframe tbody tr th {\n",
       "        vertical-align: top;\n",
       "    }\n",
       "\n",
       "    .dataframe thead th {\n",
       "        text-align: right;\n",
       "    }\n",
       "</style>\n",
       "<table border=\"1\" class=\"dataframe\">\n",
       "  <thead>\n",
       "    <tr style=\"text-align: right;\">\n",
       "      <th></th>\n",
       "      <th>-1</th>\n",
       "      <th>1</th>\n",
       "      <th>accuracy</th>\n",
       "      <th>macro avg</th>\n",
       "      <th>weighted avg</th>\n",
       "    </tr>\n",
       "  </thead>\n",
       "  <tbody>\n",
       "    <tr>\n",
       "      <th>precision</th>\n",
       "      <td>0.980952</td>\n",
       "      <td>0.821429</td>\n",
       "      <td>0.8861</td>\n",
       "      <td>0.901190</td>\n",
       "      <td>0.901806</td>\n",
       "    </tr>\n",
       "    <tr>\n",
       "      <th>recall</th>\n",
       "      <td>0.789272</td>\n",
       "      <td>0.984436</td>\n",
       "      <td>0.8861</td>\n",
       "      <td>0.886854</td>\n",
       "      <td>0.886100</td>\n",
       "    </tr>\n",
       "    <tr>\n",
       "      <th>f1-score</th>\n",
       "      <td>0.874735</td>\n",
       "      <td>0.895575</td>\n",
       "      <td>0.8861</td>\n",
       "      <td>0.885155</td>\n",
       "      <td>0.885074</td>\n",
       "    </tr>\n",
       "    <tr>\n",
       "      <th>support</th>\n",
       "      <td>261.000000</td>\n",
       "      <td>257.000000</td>\n",
       "      <td>0.8861</td>\n",
       "      <td>518.000000</td>\n",
       "      <td>518.000000</td>\n",
       "    </tr>\n",
       "  </tbody>\n",
       "</table>\n",
       "</div>"
      ],
      "text/plain": [
       "                   -1           1  accuracy   macro avg  weighted avg\n",
       "precision    0.980952    0.821429    0.8861    0.901190      0.901806\n",
       "recall       0.789272    0.984436    0.8861    0.886854      0.886100\n",
       "f1-score     0.874735    0.895575    0.8861    0.885155      0.885074\n",
       "support    261.000000  257.000000    0.8861  518.000000    518.000000"
      ]
     },
     "execution_count": 81,
     "metadata": {},
     "output_type": "execute_result"
    }
   ],
   "source": [
    "result_base_tools_bert"
   ]
  },
  {
   "cell_type": "code",
   "execution_count": 82,
   "id": "1a1da487",
   "metadata": {},
   "outputs": [
    {
     "data": {
      "text/html": [
       "<div>\n",
       "<style scoped>\n",
       "    .dataframe tbody tr th:only-of-type {\n",
       "        vertical-align: middle;\n",
       "    }\n",
       "\n",
       "    .dataframe tbody tr th {\n",
       "        vertical-align: top;\n",
       "    }\n",
       "\n",
       "    .dataframe thead th {\n",
       "        text-align: right;\n",
       "    }\n",
       "</style>\n",
       "<table border=\"1\" class=\"dataframe\">\n",
       "  <thead>\n",
       "    <tr style=\"text-align: right;\">\n",
       "      <th></th>\n",
       "      <th>-1</th>\n",
       "      <th>1</th>\n",
       "      <th>accuracy</th>\n",
       "      <th>macro avg</th>\n",
       "      <th>weighted avg</th>\n",
       "    </tr>\n",
       "  </thead>\n",
       "  <tbody>\n",
       "    <tr>\n",
       "      <th>precision</th>\n",
       "      <td>0.730640</td>\n",
       "      <td>0.800905</td>\n",
       "      <td>0.760618</td>\n",
       "      <td>0.765772</td>\n",
       "      <td>0.765501</td>\n",
       "    </tr>\n",
       "    <tr>\n",
       "      <th>recall</th>\n",
       "      <td>0.831418</td>\n",
       "      <td>0.688716</td>\n",
       "      <td>0.760618</td>\n",
       "      <td>0.760067</td>\n",
       "      <td>0.760618</td>\n",
       "    </tr>\n",
       "    <tr>\n",
       "      <th>f1-score</th>\n",
       "      <td>0.777778</td>\n",
       "      <td>0.740586</td>\n",
       "      <td>0.760618</td>\n",
       "      <td>0.759182</td>\n",
       "      <td>0.759325</td>\n",
       "    </tr>\n",
       "    <tr>\n",
       "      <th>support</th>\n",
       "      <td>261.000000</td>\n",
       "      <td>257.000000</td>\n",
       "      <td>0.760618</td>\n",
       "      <td>518.000000</td>\n",
       "      <td>518.000000</td>\n",
       "    </tr>\n",
       "  </tbody>\n",
       "</table>\n",
       "</div>"
      ],
      "text/plain": [
       "                   -1           1  accuracy   macro avg  weighted avg\n",
       "precision    0.730640    0.800905  0.760618    0.765772      0.765501\n",
       "recall       0.831418    0.688716  0.760618    0.760067      0.760618\n",
       "f1-score     0.777778    0.740586  0.760618    0.759182      0.759325\n",
       "support    261.000000  257.000000  0.760618  518.000000    518.000000"
      ]
     },
     "execution_count": 82,
     "metadata": {},
     "output_type": "execute_result"
    }
   ],
   "source": [
    "result_base_tools_flair"
   ]
  },
  {
   "cell_type": "code",
   "execution_count": 83,
   "id": "1ae391d5",
   "metadata": {},
   "outputs": [],
   "source": [
    "probsdf_test[['tb','vader','bert','flair','textblob_polarity','vader_polarity','bert_polarity','flair_polarity'\t]] = X_test_full[['vader','vader','bert','flair','textblob_polarity','vader_polarity','bert_polarity','flair_polarity']].to_numpy()"
   ]
  },
  {
   "cell_type": "code",
   "execution_count": 84,
   "id": "26e3525f",
   "metadata": {},
   "outputs": [
    {
     "data": {
      "text/html": [
       "<div>\n",
       "<style scoped>\n",
       "    .dataframe tbody tr th:only-of-type {\n",
       "        vertical-align: middle;\n",
       "    }\n",
       "\n",
       "    .dataframe tbody tr th {\n",
       "        vertical-align: top;\n",
       "    }\n",
       "\n",
       "    .dataframe thead th {\n",
       "        text-align: right;\n",
       "    }\n",
       "</style>\n",
       "<table border=\"1\" class=\"dataframe\">\n",
       "  <thead>\n",
       "    <tr style=\"text-align: right;\">\n",
       "      <th></th>\n",
       "      <th>0</th>\n",
       "      <th>1</th>\n",
       "      <th>trth</th>\n",
       "      <th>label_pol_pred</th>\n",
       "      <th>tb</th>\n",
       "      <th>vader</th>\n",
       "      <th>bert</th>\n",
       "      <th>flair</th>\n",
       "      <th>textblob_polarity</th>\n",
       "      <th>vader_polarity</th>\n",
       "      <th>bert_polarity</th>\n",
       "      <th>flair_polarity</th>\n",
       "    </tr>\n",
       "  </thead>\n",
       "  <tbody>\n",
       "    <tr>\n",
       "      <th>0</th>\n",
       "      <td>0.581587</td>\n",
       "      <td>0.418413</td>\n",
       "      <td>1</td>\n",
       "      <td>1</td>\n",
       "      <td>0.0000</td>\n",
       "      <td>0.0000</td>\n",
       "      <td>0.000000</td>\n",
       "      <td>-0.998799</td>\n",
       "      <td>1.0</td>\n",
       "      <td>1.0</td>\n",
       "      <td>1.0</td>\n",
       "      <td>-1.0</td>\n",
       "    </tr>\n",
       "    <tr>\n",
       "      <th>1</th>\n",
       "      <td>0.960170</td>\n",
       "      <td>0.039830</td>\n",
       "      <td>-1</td>\n",
       "      <td>-1</td>\n",
       "      <td>-0.0258</td>\n",
       "      <td>-0.0258</td>\n",
       "      <td>-0.737471</td>\n",
       "      <td>-0.994933</td>\n",
       "      <td>1.0</td>\n",
       "      <td>-1.0</td>\n",
       "      <td>-1.0</td>\n",
       "      <td>-1.0</td>\n",
       "    </tr>\n",
       "    <tr>\n",
       "      <th>2</th>\n",
       "      <td>0.583993</td>\n",
       "      <td>0.416007</td>\n",
       "      <td>1</td>\n",
       "      <td>1</td>\n",
       "      <td>0.0129</td>\n",
       "      <td>0.0129</td>\n",
       "      <td>0.000000</td>\n",
       "      <td>-0.755804</td>\n",
       "      <td>1.0</td>\n",
       "      <td>1.0</td>\n",
       "      <td>1.0</td>\n",
       "      <td>-1.0</td>\n",
       "    </tr>\n",
       "    <tr>\n",
       "      <th>3</th>\n",
       "      <td>0.971582</td>\n",
       "      <td>0.028418</td>\n",
       "      <td>-1</td>\n",
       "      <td>-1</td>\n",
       "      <td>-0.5334</td>\n",
       "      <td>-0.5334</td>\n",
       "      <td>-0.806515</td>\n",
       "      <td>-0.981972</td>\n",
       "      <td>1.0</td>\n",
       "      <td>-1.0</td>\n",
       "      <td>-1.0</td>\n",
       "      <td>-1.0</td>\n",
       "    </tr>\n",
       "    <tr>\n",
       "      <th>4</th>\n",
       "      <td>0.023527</td>\n",
       "      <td>0.976473</td>\n",
       "      <td>1</td>\n",
       "      <td>1</td>\n",
       "      <td>0.5859</td>\n",
       "      <td>0.5859</td>\n",
       "      <td>0.758257</td>\n",
       "      <td>0.969718</td>\n",
       "      <td>1.0</td>\n",
       "      <td>1.0</td>\n",
       "      <td>1.0</td>\n",
       "      <td>1.0</td>\n",
       "    </tr>\n",
       "    <tr>\n",
       "      <th>...</th>\n",
       "      <td>...</td>\n",
       "      <td>...</td>\n",
       "      <td>...</td>\n",
       "      <td>...</td>\n",
       "      <td>...</td>\n",
       "      <td>...</td>\n",
       "      <td>...</td>\n",
       "      <td>...</td>\n",
       "      <td>...</td>\n",
       "      <td>...</td>\n",
       "      <td>...</td>\n",
       "      <td>...</td>\n",
       "    </tr>\n",
       "    <tr>\n",
       "      <th>513</th>\n",
       "      <td>0.973946</td>\n",
       "      <td>0.026054</td>\n",
       "      <td>-1</td>\n",
       "      <td>-1</td>\n",
       "      <td>-0.3612</td>\n",
       "      <td>-0.3612</td>\n",
       "      <td>-0.876151</td>\n",
       "      <td>-0.998469</td>\n",
       "      <td>-1.0</td>\n",
       "      <td>-1.0</td>\n",
       "      <td>-1.0</td>\n",
       "      <td>-1.0</td>\n",
       "    </tr>\n",
       "    <tr>\n",
       "      <th>514</th>\n",
       "      <td>0.979776</td>\n",
       "      <td>0.020224</td>\n",
       "      <td>-1</td>\n",
       "      <td>-1</td>\n",
       "      <td>-0.4003</td>\n",
       "      <td>-0.4003</td>\n",
       "      <td>-0.952544</td>\n",
       "      <td>-0.998901</td>\n",
       "      <td>-1.0</td>\n",
       "      <td>-1.0</td>\n",
       "      <td>-1.0</td>\n",
       "      <td>-1.0</td>\n",
       "    </tr>\n",
       "    <tr>\n",
       "      <th>515</th>\n",
       "      <td>0.966139</td>\n",
       "      <td>0.033861</td>\n",
       "      <td>-1</td>\n",
       "      <td>-1</td>\n",
       "      <td>-0.4158</td>\n",
       "      <td>-0.4158</td>\n",
       "      <td>-0.804400</td>\n",
       "      <td>-0.935471</td>\n",
       "      <td>-1.0</td>\n",
       "      <td>-1.0</td>\n",
       "      <td>-1.0</td>\n",
       "      <td>-1.0</td>\n",
       "    </tr>\n",
       "    <tr>\n",
       "      <th>516</th>\n",
       "      <td>0.973574</td>\n",
       "      <td>0.026426</td>\n",
       "      <td>-1</td>\n",
       "      <td>-1</td>\n",
       "      <td>0.3818</td>\n",
       "      <td>0.3818</td>\n",
       "      <td>-0.934049</td>\n",
       "      <td>-0.999993</td>\n",
       "      <td>1.0</td>\n",
       "      <td>1.0</td>\n",
       "      <td>-1.0</td>\n",
       "      <td>-1.0</td>\n",
       "    </tr>\n",
       "    <tr>\n",
       "      <th>517</th>\n",
       "      <td>0.851088</td>\n",
       "      <td>0.148912</td>\n",
       "      <td>-1</td>\n",
       "      <td>-1</td>\n",
       "      <td>-0.3182</td>\n",
       "      <td>-0.3182</td>\n",
       "      <td>-0.576716</td>\n",
       "      <td>0.811057</td>\n",
       "      <td>1.0</td>\n",
       "      <td>-1.0</td>\n",
       "      <td>-1.0</td>\n",
       "      <td>1.0</td>\n",
       "    </tr>\n",
       "  </tbody>\n",
       "</table>\n",
       "<p>518 rows × 12 columns</p>\n",
       "</div>"
      ],
      "text/plain": [
       "            0         1  trth  label_pol_pred      tb   vader      bert  \\\n",
       "0    0.581587  0.418413     1               1  0.0000  0.0000  0.000000   \n",
       "1    0.960170  0.039830    -1              -1 -0.0258 -0.0258 -0.737471   \n",
       "2    0.583993  0.416007     1               1  0.0129  0.0129  0.000000   \n",
       "3    0.971582  0.028418    -1              -1 -0.5334 -0.5334 -0.806515   \n",
       "4    0.023527  0.976473     1               1  0.5859  0.5859  0.758257   \n",
       "..        ...       ...   ...             ...     ...     ...       ...   \n",
       "513  0.973946  0.026054    -1              -1 -0.3612 -0.3612 -0.876151   \n",
       "514  0.979776  0.020224    -1              -1 -0.4003 -0.4003 -0.952544   \n",
       "515  0.966139  0.033861    -1              -1 -0.4158 -0.4158 -0.804400   \n",
       "516  0.973574  0.026426    -1              -1  0.3818  0.3818 -0.934049   \n",
       "517  0.851088  0.148912    -1              -1 -0.3182 -0.3182 -0.576716   \n",
       "\n",
       "        flair  textblob_polarity  vader_polarity  bert_polarity  \\\n",
       "0   -0.998799                1.0             1.0            1.0   \n",
       "1   -0.994933                1.0            -1.0           -1.0   \n",
       "2   -0.755804                1.0             1.0            1.0   \n",
       "3   -0.981972                1.0            -1.0           -1.0   \n",
       "4    0.969718                1.0             1.0            1.0   \n",
       "..        ...                ...             ...            ...   \n",
       "513 -0.998469               -1.0            -1.0           -1.0   \n",
       "514 -0.998901               -1.0            -1.0           -1.0   \n",
       "515 -0.935471               -1.0            -1.0           -1.0   \n",
       "516 -0.999993                1.0             1.0           -1.0   \n",
       "517  0.811057                1.0            -1.0           -1.0   \n",
       "\n",
       "     flair_polarity  \n",
       "0              -1.0  \n",
       "1              -1.0  \n",
       "2              -1.0  \n",
       "3              -1.0  \n",
       "4               1.0  \n",
       "..              ...  \n",
       "513            -1.0  \n",
       "514            -1.0  \n",
       "515            -1.0  \n",
       "516            -1.0  \n",
       "517             1.0  \n",
       "\n",
       "[518 rows x 12 columns]"
      ]
     },
     "execution_count": 84,
     "metadata": {},
     "output_type": "execute_result"
    }
   ],
   "source": [
    "probsdf_test"
   ]
  },
  {
   "cell_type": "code",
   "execution_count": 85,
   "id": "1f100578",
   "metadata": {},
   "outputs": [
    {
     "data": {
      "text/plain": [
       "count    518.000000\n",
       "mean       0.381878\n",
       "std        0.290778\n",
       "min        0.000000\n",
       "25%        0.077200\n",
       "50%        0.388800\n",
       "75%        0.624900\n",
       "max        0.963300\n",
       "Name: vader, dtype: float64"
      ]
     },
     "execution_count": 85,
     "metadata": {},
     "output_type": "execute_result"
    }
   ],
   "source": [
    "abs(probsdf_test['vader']).describe()"
   ]
  },
  {
   "cell_type": "code",
   "execution_count": 86,
   "id": "a67af16d",
   "metadata": {},
   "outputs": [
    {
     "data": {
      "text/html": [
       "<div>\n",
       "<style scoped>\n",
       "    .dataframe tbody tr th:only-of-type {\n",
       "        vertical-align: middle;\n",
       "    }\n",
       "\n",
       "    .dataframe tbody tr th {\n",
       "        vertical-align: top;\n",
       "    }\n",
       "\n",
       "    .dataframe thead th {\n",
       "        text-align: right;\n",
       "    }\n",
       "</style>\n",
       "<table border=\"1\" class=\"dataframe\">\n",
       "  <thead>\n",
       "    <tr style=\"text-align: right;\">\n",
       "      <th></th>\n",
       "      <th>-1</th>\n",
       "      <th>1</th>\n",
       "      <th>accuracy</th>\n",
       "      <th>macro avg</th>\n",
       "      <th>weighted avg</th>\n",
       "    </tr>\n",
       "  </thead>\n",
       "  <tbody>\n",
       "    <tr>\n",
       "      <th>precision</th>\n",
       "      <td>0.942857</td>\n",
       "      <td>0.757576</td>\n",
       "      <td>0.821782</td>\n",
       "      <td>0.850216</td>\n",
       "      <td>0.847465</td>\n",
       "    </tr>\n",
       "    <tr>\n",
       "      <th>recall</th>\n",
       "      <td>0.673469</td>\n",
       "      <td>0.961538</td>\n",
       "      <td>0.821782</td>\n",
       "      <td>0.817504</td>\n",
       "      <td>0.821782</td>\n",
       "    </tr>\n",
       "    <tr>\n",
       "      <th>f1-score</th>\n",
       "      <td>0.785714</td>\n",
       "      <td>0.847458</td>\n",
       "      <td>0.821782</td>\n",
       "      <td>0.816586</td>\n",
       "      <td>0.817503</td>\n",
       "    </tr>\n",
       "    <tr>\n",
       "      <th>support</th>\n",
       "      <td>98.000000</td>\n",
       "      <td>104.000000</td>\n",
       "      <td>0.821782</td>\n",
       "      <td>202.000000</td>\n",
       "      <td>202.000000</td>\n",
       "    </tr>\n",
       "  </tbody>\n",
       "</table>\n",
       "</div>"
      ],
      "text/plain": [
       "                  -1           1  accuracy   macro avg  weighted avg\n",
       "precision   0.942857    0.757576  0.821782    0.850216      0.847465\n",
       "recall      0.673469    0.961538  0.821782    0.817504      0.821782\n",
       "f1-score    0.785714    0.847458  0.821782    0.816586      0.817503\n",
       "support    98.000000  104.000000  0.821782  202.000000    202.000000"
      ]
     },
     "execution_count": 86,
     "metadata": {},
     "output_type": "execute_result"
    }
   ],
   "source": [
    "alpha_th_test = .48\n",
    "pd.DataFrame(metrics.classification_report(probsdf_test['trth'][abs(probsdf_test['vader'])>alpha_th_test],probsdf_test['vader_polarity'][abs(probsdf_test['vader'])>alpha_th_test],output_dict=True))"
   ]
  },
  {
   "cell_type": "code",
   "execution_count": 87,
   "id": "8c81be9f",
   "metadata": {},
   "outputs": [
    {
     "data": {
      "text/plain": [
       "count    518.000000\n",
       "mean       0.626858\n",
       "std        0.358189\n",
       "min        0.000000\n",
       "25%        0.523107\n",
       "50%        0.769915\n",
       "75%        0.902602\n",
       "max        0.992722\n",
       "Name: bert, dtype: float64"
      ]
     },
     "execution_count": 87,
     "metadata": {},
     "output_type": "execute_result"
    }
   ],
   "source": [
    "abs(probsdf_test['bert']).describe()"
   ]
  },
  {
   "cell_type": "code",
   "execution_count": 88,
   "id": "85c95bab",
   "metadata": {},
   "outputs": [
    {
     "data": {
      "text/html": [
       "<div>\n",
       "<style scoped>\n",
       "    .dataframe tbody tr th:only-of-type {\n",
       "        vertical-align: middle;\n",
       "    }\n",
       "\n",
       "    .dataframe tbody tr th {\n",
       "        vertical-align: top;\n",
       "    }\n",
       "\n",
       "    .dataframe thead th {\n",
       "        text-align: right;\n",
       "    }\n",
       "</style>\n",
       "<table border=\"1\" class=\"dataframe\">\n",
       "  <thead>\n",
       "    <tr style=\"text-align: right;\">\n",
       "      <th></th>\n",
       "      <th>-1</th>\n",
       "      <th>1</th>\n",
       "      <th>accuracy</th>\n",
       "      <th>macro avg</th>\n",
       "      <th>weighted avg</th>\n",
       "    </tr>\n",
       "  </thead>\n",
       "  <tbody>\n",
       "    <tr>\n",
       "      <th>precision</th>\n",
       "      <td>1.000000</td>\n",
       "      <td>0.96800</td>\n",
       "      <td>0.983936</td>\n",
       "      <td>0.984000</td>\n",
       "      <td>0.984450</td>\n",
       "    </tr>\n",
       "    <tr>\n",
       "      <th>recall</th>\n",
       "      <td>0.968750</td>\n",
       "      <td>1.00000</td>\n",
       "      <td>0.983936</td>\n",
       "      <td>0.984375</td>\n",
       "      <td>0.983936</td>\n",
       "    </tr>\n",
       "    <tr>\n",
       "      <th>f1-score</th>\n",
       "      <td>0.984127</td>\n",
       "      <td>0.98374</td>\n",
       "      <td>0.983936</td>\n",
       "      <td>0.983933</td>\n",
       "      <td>0.983939</td>\n",
       "    </tr>\n",
       "    <tr>\n",
       "      <th>support</th>\n",
       "      <td>128.000000</td>\n",
       "      <td>121.00000</td>\n",
       "      <td>0.983936</td>\n",
       "      <td>249.000000</td>\n",
       "      <td>249.000000</td>\n",
       "    </tr>\n",
       "  </tbody>\n",
       "</table>\n",
       "</div>"
      ],
      "text/plain": [
       "                   -1          1  accuracy   macro avg  weighted avg\n",
       "precision    1.000000    0.96800  0.983936    0.984000      0.984450\n",
       "recall       0.968750    1.00000  0.983936    0.984375      0.983936\n",
       "f1-score     0.984127    0.98374  0.983936    0.983933      0.983939\n",
       "support    128.000000  121.00000  0.983936  249.000000    249.000000"
      ]
     },
     "execution_count": 88,
     "metadata": {},
     "output_type": "execute_result"
    }
   ],
   "source": [
    "alpha_th_test = .78\n",
    "res2 =pd.DataFrame(metrics.classification_report(probsdf_test['trth'][abs(probsdf_test['bert'])>alpha_th_test],probsdf_test['label_pol_pred'][abs(probsdf_test['bert'])>alpha_th_test],output_dict=True))\n",
    "res2"
   ]
  },
  {
   "cell_type": "code",
   "execution_count": 89,
   "id": "cba8a9cd",
   "metadata": {},
   "outputs": [],
   "source": [
    "try:\n",
    "    res2['1']\n",
    "except KeyError:\n",
    "    0"
   ]
  },
  {
   "cell_type": "code",
   "execution_count": 90,
   "id": "c70f6ba5",
   "metadata": {},
   "outputs": [
    {
     "data": {
      "image/png": "[encoded data removed]",
      "text/plain": [
       "<Figure size 720x432 with 1 Axes>"
      ]
     },
     "metadata": {
      "needs_background": "light"
     },
     "output_type": "display_data"
    }
   ],
   "source": [
    "threshold_analysis = pd.DataFrame({'Thresh_alpha':[0],'Accuracy':[0],'Percent_data_capture':[0],'Precision':[0],'Recall':[0],'f1':[0]})\n",
    "detl_threshold = pd.DataFrame({'Thresh_alpha':[],'Accuracy':[],'Percent_data_capture':[],'Precision':[],'Recall':[],'f1':[]})\n",
    "for i in range (0,75):\n",
    "    alpha_th = i*.01\n",
    "    res1 = pd.DataFrame(classification_report(probsdf_test['trth'][abs(probsdf_test['bert'])>=alpha_th],probsdf_test['bert_polarity'][abs(probsdf_test['bert'])>=alpha_th],output_dict=True))\n",
    "    threshold_analysis['Accuracy']= res1['accuracy'].loc['precision']\n",
    "    threshold_analysis['Percent_data_capture'] =  probsdf_test['trth'][abs(probsdf_test['bert'])>=alpha_th].count()/probsdf_test['trth'].count() if  probsdf_test['trth'].count()>0 else 0\n",
    "    threshold_analysis['Thresh_alpha'] = alpha_th\n",
    "    try:\n",
    "        threshold_analysis['Precision'] = res1['1'].loc['precision']\n",
    "    except KeyError:\n",
    "        threshold_analysis['Precision']=0\n",
    "    try:\n",
    "        threshold_analysis['Recall'] = res1['1'].loc['recall']\n",
    "    except KeyError:\n",
    "       threshold_analysis['Recall'] =0\n",
    "    try:\n",
    "        threshold_analysis['f1'] = res1['1'].loc['f1-score']\n",
    "    except KeyError:\n",
    "        threshold_analysis['f1'] \n",
    "    detl_threshold = detl_threshold.append(threshold_analysis)\n",
    "\n",
    "plt.rcParams['figure.figsize'] = [10, 6]\n",
    "pyplot.plot(detl_threshold['Thresh_alpha'], detl_threshold['Accuracy'], marker='.', label='Accuracy')\n",
    "pyplot.plot(detl_threshold['Thresh_alpha'], detl_threshold['Percent_data_capture'], marker='.', label='Percentage_of_Data_captured')\n",
    "pyplot.plot(detl_threshold['Thresh_alpha'], detl_threshold['Precision'], marker='.', label='Precision')\n",
    "pyplot.plot(detl_threshold['Thresh_alpha'], detl_threshold['Recall'], marker='.', label='Recall')\n",
    "pyplot.plot(detl_threshold['Thresh_alpha'], detl_threshold['f1'], marker='.', label='f1')\n",
    "pyplot.xlabel('Threshold for Data Selection')\n",
    "pyplot.ylabel('Value')\n",
    "pyplot.grid(visible=True, which='both', axis='both')\n",
    "#pyplot.grid(True)\n",
    "pyplot.title('Base_Model - bert: Semeval_data')\n",
    "# show the legend\n",
    "pyplot.legend()\n",
    "# show the plot\n",
    "pyplot.show()"
   ]
  },
  {
   "cell_type": "code",
   "execution_count": 91,
   "id": "42a3a969",
   "metadata": {},
   "outputs": [
    {
     "data": {
      "image/png": "[encoded data removed]",
      "text/plain": [
       "<Figure size 720x432 with 1 Axes>"
      ]
     },
     "metadata": {
      "needs_background": "light"
     },
     "output_type": "display_data"
    }
   ],
   "source": [
    "threshold_analysis = pd.DataFrame({'Thresh_alpha':[0],'Accuracy':[0],'Percent_data_capture':[0],'Precision':[0],'Recall':[0],'f1':[0]})\n",
    "detl_threshold = pd.DataFrame({'Thresh_alpha':[],'Accuracy':[],'Percent_data_capture':[],'Precision':[],'Recall':[],'f1':[]})\n",
    "for i in range (0,95):\n",
    "    alpha_th = i*.01\n",
    "    res1 = pd.DataFrame(classification_report(probsdf_test['trth'][abs(probsdf_test['vader'])>=alpha_th],probsdf_test['vader_polarity'][abs(probsdf_test['vader'])>=alpha_th],output_dict=True))\n",
    "    threshold_analysis['Accuracy']= res1['accuracy'].iloc[0]\n",
    "    threshold_analysis['Percent_data_capture'] = probsdf_test['trth'][abs(probsdf_test['vader'])>=alpha_th].count()/probsdf_test['trth'].count()\n",
    "    threshold_analysis['Thresh_alpha'] = alpha_th\n",
    "    try:\n",
    "        threshold_analysis['Precision'] = res1['1'].loc['precision']\n",
    "        threshold_analysis['Recall'] = res1['1'].loc['recall']\n",
    "        threshold_analysis['f1'] = res1['1'].loc['f1-score']\n",
    "    except KeyError:\n",
    "        threshold_analysis['Precision'] = 0\n",
    "        threshold_analysis['Recall'] = 0\n",
    "        threshold_analysis['f1'] = 0\n",
    "    detl_threshold = detl_threshold.append(threshold_analysis)\n",
    "\n",
    "plt.rcParams['figure.figsize'] = [10, 6]\n",
    "pyplot.plot(detl_threshold['Thresh_alpha'], detl_threshold['Accuracy'], marker='.', label='Accuracy')\n",
    "pyplot.plot(detl_threshold['Thresh_alpha'], detl_threshold['Percent_data_capture'], marker='.', label='Percentage_of_Data_captured')\n",
    "pyplot.plot(detl_threshold['Thresh_alpha'], detl_threshold['Precision'], marker='.', label='Precision')\n",
    "pyplot.plot(detl_threshold['Thresh_alpha'], detl_threshold['Recall'], marker='.', label='Recall')\n",
    "pyplot.plot(detl_threshold['Thresh_alpha'], detl_threshold['f1'], marker='.', label='f1')\n",
    "pyplot.xlabel('Threshold for Data Selection')\n",
    "pyplot.ylabel('Value')\n",
    "pyplot.grid(visible=True, which='both', axis='both')\n",
    "#pyplot.grid(True)\n",
    "pyplot.title('Base_Model - VADER: Semeval_data')\n",
    "# show the legend\n",
    "pyplot.legend()\n",
    "# show the plot\n",
    "pyplot.show()"
   ]
  },
  {
   "cell_type": "code",
   "execution_count": 92,
   "id": "bcc6a0f6",
   "metadata": {},
   "outputs": [
    {
     "data": {
      "image/png": "[encoded data removed]",
      "text/plain": [
       "<Figure size 720x432 with 1 Axes>"
      ]
     },
     "metadata": {
      "needs_background": "light"
     },
     "output_type": "display_data"
    }
   ],
   "source": [
    "threshold_analysis = pd.DataFrame({'Thresh_alpha':[0],'Accuracy':[0],'Percent_data_capture':[0],'Precision':[0],'Recall':[0],'f1':[0]})\n",
    "detl_threshold = pd.DataFrame({'Thresh_alpha':[],'Accuracy':[],'Percent_data_capture':[],'Precision':[],'Recall':[],'f1':[]})\n",
    "for i in range (0,95):\n",
    "    alpha_th = i*.01\n",
    "    res1 = pd.DataFrame(classification_report(probsdf_test['trth'][abs(probsdf_test['flair'])>=alpha_th],probsdf_test['flair_polarity'][abs(probsdf_test['flair'])>=alpha_th],output_dict=True))\n",
    "    threshold_analysis['Accuracy']= res1['accuracy'].iloc[0]\n",
    "    threshold_analysis['Percent_data_capture'] = probsdf_test['trth'][abs(probsdf_test['flair'])>=alpha_th].count()/probsdf_test['trth'].count()\n",
    "    threshold_analysis['Thresh_alpha'] = alpha_th\n",
    "    try:\n",
    "        threshold_analysis['Precision'] = res1['1'].loc['precision']\n",
    "        threshold_analysis['Recall'] = res1['1'].loc['recall']\n",
    "        threshold_analysis['f1'] = res1['1'].loc['f1-score']\n",
    "    except KeyError:\n",
    "        threshold_analysis['Precision'] = 0\n",
    "        threshold_analysis['Recall'] = 0\n",
    "        threshold_analysis['f1'] = 0\n",
    "    detl_threshold = detl_threshold.append(threshold_analysis)\n",
    "\n",
    "plt.rcParams['figure.figsize'] = [10, 6]\n",
    "pyplot.plot(detl_threshold['Thresh_alpha'], detl_threshold['Accuracy'], marker='.', label='Accuracy')\n",
    "pyplot.plot(detl_threshold['Thresh_alpha'], detl_threshold['Percent_data_capture'], marker='.', label='Percentage_of_Data_captured')\n",
    "pyplot.plot(detl_threshold['Thresh_alpha'], detl_threshold['Precision'], marker='.', label='Precision')\n",
    "pyplot.plot(detl_threshold['Thresh_alpha'], detl_threshold['Recall'], marker='.', label='Recall')\n",
    "pyplot.plot(detl_threshold['Thresh_alpha'], detl_threshold['f1'], marker='.', label='f1')\n",
    "pyplot.xlabel('Threshold for Data Selection')\n",
    "pyplot.ylabel('Value')\n",
    "pyplot.grid(visible=True, which='both', axis='both')\n",
    "#pyplot.grid(True)\n",
    "pyplot.title('Base_Model - Flair: Semeval_data')\n",
    "# show the legend\n",
    "pyplot.legend()\n",
    "# show the plot\n",
    "pyplot.show()"
   ]
  },
  {
   "cell_type": "code",
   "execution_count": 93,
   "id": "d884bc4d",
   "metadata": {},
   "outputs": [
    {
     "data": {
      "image/png": "[encoded data removed]",
      "text/plain": [
       "<Figure size 720x432 with 1 Axes>"
      ]
     },
     "metadata": {
      "needs_background": "light"
     },
     "output_type": "display_data"
    }
   ],
   "source": [
    "threshold_analysis = pd.DataFrame({'Thresh_alpha':[0],'Accuracy':[0],'Percent_data_capture':[0],'Precision':[0],'Recall':[0],'f1':[0]})\n",
    "detl_threshold = pd.DataFrame({'Thresh_alpha':[],'Accuracy':[],'Percent_data_capture':[],'Precision':[],'Recall':[],'f1':[]})\n",
    "for i in range (0,95):\n",
    "    alpha_th = i*.01\n",
    "    res1 = pd.DataFrame(classification_report(probsdf_test['trth'][abs(probsdf_test['tb'])>=alpha_th],probsdf_test['textblob_polarity'][abs(probsdf_test['tb'])>=alpha_th],output_dict=True))\n",
    "    threshold_analysis['Accuracy']= res1['accuracy'].iloc[0]\n",
    "    threshold_analysis['Percent_data_capture'] = probsdf_test['trth'][abs(probsdf_test['tb'])>=alpha_th].count()/probsdf_test['trth'].count()\n",
    "    threshold_analysis['Thresh_alpha'] = alpha_th\n",
    "    try:\n",
    "        threshold_analysis['Precision'] = res1['1'].loc['precision']\n",
    "        threshold_analysis['Recall'] = res1['1'].loc['recall']\n",
    "        threshold_analysis['f1'] = res1['1'].loc['f1-score']\n",
    "    except KeyError:\n",
    "        threshold_analysis['Precision'] = 0\n",
    "        threshold_analysis['Recall'] = 0\n",
    "        threshold_analysis['f1'] = 0\n",
    "    detl_threshold = detl_threshold.append(threshold_analysis)\n",
    "\n",
    "plt.rcParams['figure.figsize'] = [10, 6]\n",
    "pyplot.plot(detl_threshold['Thresh_alpha'], detl_threshold['Accuracy'], marker='.', label='Accuracy')\n",
    "pyplot.plot(detl_threshold['Thresh_alpha'], detl_threshold['Percent_data_capture'], marker='.', label='Percentage_of_Data_captured')\n",
    "pyplot.plot(detl_threshold['Thresh_alpha'], detl_threshold['Precision'], marker='.', label='Precision')\n",
    "pyplot.plot(detl_threshold['Thresh_alpha'], detl_threshold['Recall'], marker='.', label='Recall')\n",
    "pyplot.plot(detl_threshold['Thresh_alpha'], detl_threshold['f1'], marker='.', label='f1')\n",
    "pyplot.xlabel('Threshold for Data Selection')\n",
    "pyplot.ylabel('Value')\n",
    "pyplot.grid(visible=True, which='both', axis='both')\n",
    "#pyplot.grid(True)\n",
    "pyplot.title('Base_Model - Textblob : Semeval_data')\n",
    "# show the legend\n",
    "pyplot.legend()\n",
    "# show the plot\n",
    "pyplot.show()"
   ]
  },
  {
   "cell_type": "code",
   "execution_count": 94,
   "id": "b2c87f04",
   "metadata": {},
   "outputs": [
    {
     "data": {
      "text/html": [
       "<div>\n",
       "<style scoped>\n",
       "    .dataframe tbody tr th:only-of-type {\n",
       "        vertical-align: middle;\n",
       "    }\n",
       "\n",
       "    .dataframe tbody tr th {\n",
       "        vertical-align: top;\n",
       "    }\n",
       "\n",
       "    .dataframe thead th {\n",
       "        text-align: right;\n",
       "    }\n",
       "</style>\n",
       "<table border=\"1\" class=\"dataframe\">\n",
       "  <thead>\n",
       "    <tr style=\"text-align: right;\">\n",
       "      <th></th>\n",
       "      <th>0</th>\n",
       "      <th>1</th>\n",
       "      <th>trth</th>\n",
       "      <th>label_pol_pred</th>\n",
       "      <th>tb</th>\n",
       "      <th>vader</th>\n",
       "      <th>bert</th>\n",
       "      <th>flair</th>\n",
       "      <th>textblob_polarity</th>\n",
       "      <th>vader_polarity</th>\n",
       "      <th>bert_polarity</th>\n",
       "      <th>flair_polarity</th>\n",
       "    </tr>\n",
       "  </thead>\n",
       "  <tbody>\n",
       "    <tr>\n",
       "      <th>0</th>\n",
       "      <td>0.581587</td>\n",
       "      <td>0.418413</td>\n",
       "      <td>1</td>\n",
       "      <td>1</td>\n",
       "      <td>0.0000</td>\n",
       "      <td>0.0000</td>\n",
       "      <td>0.000000</td>\n",
       "      <td>-0.998799</td>\n",
       "      <td>1.0</td>\n",
       "      <td>1.0</td>\n",
       "      <td>1.0</td>\n",
       "      <td>-1.0</td>\n",
       "    </tr>\n",
       "    <tr>\n",
       "      <th>1</th>\n",
       "      <td>0.960170</td>\n",
       "      <td>0.039830</td>\n",
       "      <td>-1</td>\n",
       "      <td>-1</td>\n",
       "      <td>-0.0258</td>\n",
       "      <td>-0.0258</td>\n",
       "      <td>-0.737471</td>\n",
       "      <td>-0.994933</td>\n",
       "      <td>1.0</td>\n",
       "      <td>-1.0</td>\n",
       "      <td>-1.0</td>\n",
       "      <td>-1.0</td>\n",
       "    </tr>\n",
       "    <tr>\n",
       "      <th>2</th>\n",
       "      <td>0.583993</td>\n",
       "      <td>0.416007</td>\n",
       "      <td>1</td>\n",
       "      <td>1</td>\n",
       "      <td>0.0129</td>\n",
       "      <td>0.0129</td>\n",
       "      <td>0.000000</td>\n",
       "      <td>-0.755804</td>\n",
       "      <td>1.0</td>\n",
       "      <td>1.0</td>\n",
       "      <td>1.0</td>\n",
       "      <td>-1.0</td>\n",
       "    </tr>\n",
       "    <tr>\n",
       "      <th>3</th>\n",
       "      <td>0.971582</td>\n",
       "      <td>0.028418</td>\n",
       "      <td>-1</td>\n",
       "      <td>-1</td>\n",
       "      <td>-0.5334</td>\n",
       "      <td>-0.5334</td>\n",
       "      <td>-0.806515</td>\n",
       "      <td>-0.981972</td>\n",
       "      <td>1.0</td>\n",
       "      <td>-1.0</td>\n",
       "      <td>-1.0</td>\n",
       "      <td>-1.0</td>\n",
       "    </tr>\n",
       "    <tr>\n",
       "      <th>4</th>\n",
       "      <td>0.023527</td>\n",
       "      <td>0.976473</td>\n",
       "      <td>1</td>\n",
       "      <td>1</td>\n",
       "      <td>0.5859</td>\n",
       "      <td>0.5859</td>\n",
       "      <td>0.758257</td>\n",
       "      <td>0.969718</td>\n",
       "      <td>1.0</td>\n",
       "      <td>1.0</td>\n",
       "      <td>1.0</td>\n",
       "      <td>1.0</td>\n",
       "    </tr>\n",
       "    <tr>\n",
       "      <th>...</th>\n",
       "      <td>...</td>\n",
       "      <td>...</td>\n",
       "      <td>...</td>\n",
       "      <td>...</td>\n",
       "      <td>...</td>\n",
       "      <td>...</td>\n",
       "      <td>...</td>\n",
       "      <td>...</td>\n",
       "      <td>...</td>\n",
       "      <td>...</td>\n",
       "      <td>...</td>\n",
       "      <td>...</td>\n",
       "    </tr>\n",
       "    <tr>\n",
       "      <th>513</th>\n",
       "      <td>0.973946</td>\n",
       "      <td>0.026054</td>\n",
       "      <td>-1</td>\n",
       "      <td>-1</td>\n",
       "      <td>-0.3612</td>\n",
       "      <td>-0.3612</td>\n",
       "      <td>-0.876151</td>\n",
       "      <td>-0.998469</td>\n",
       "      <td>-1.0</td>\n",
       "      <td>-1.0</td>\n",
       "      <td>-1.0</td>\n",
       "      <td>-1.0</td>\n",
       "    </tr>\n",
       "    <tr>\n",
       "      <th>514</th>\n",
       "      <td>0.979776</td>\n",
       "      <td>0.020224</td>\n",
       "      <td>-1</td>\n",
       "      <td>-1</td>\n",
       "      <td>-0.4003</td>\n",
       "      <td>-0.4003</td>\n",
       "      <td>-0.952544</td>\n",
       "      <td>-0.998901</td>\n",
       "      <td>-1.0</td>\n",
       "      <td>-1.0</td>\n",
       "      <td>-1.0</td>\n",
       "      <td>-1.0</td>\n",
       "    </tr>\n",
       "    <tr>\n",
       "      <th>515</th>\n",
       "      <td>0.966139</td>\n",
       "      <td>0.033861</td>\n",
       "      <td>-1</td>\n",
       "      <td>-1</td>\n",
       "      <td>-0.4158</td>\n",
       "      <td>-0.4158</td>\n",
       "      <td>-0.804400</td>\n",
       "      <td>-0.935471</td>\n",
       "      <td>-1.0</td>\n",
       "      <td>-1.0</td>\n",
       "      <td>-1.0</td>\n",
       "      <td>-1.0</td>\n",
       "    </tr>\n",
       "    <tr>\n",
       "      <th>516</th>\n",
       "      <td>0.973574</td>\n",
       "      <td>0.026426</td>\n",
       "      <td>-1</td>\n",
       "      <td>-1</td>\n",
       "      <td>0.3818</td>\n",
       "      <td>0.3818</td>\n",
       "      <td>-0.934049</td>\n",
       "      <td>-0.999993</td>\n",
       "      <td>1.0</td>\n",
       "      <td>1.0</td>\n",
       "      <td>-1.0</td>\n",
       "      <td>-1.0</td>\n",
       "    </tr>\n",
       "    <tr>\n",
       "      <th>517</th>\n",
       "      <td>0.851088</td>\n",
       "      <td>0.148912</td>\n",
       "      <td>-1</td>\n",
       "      <td>-1</td>\n",
       "      <td>-0.3182</td>\n",
       "      <td>-0.3182</td>\n",
       "      <td>-0.576716</td>\n",
       "      <td>0.811057</td>\n",
       "      <td>1.0</td>\n",
       "      <td>-1.0</td>\n",
       "      <td>-1.0</td>\n",
       "      <td>1.0</td>\n",
       "    </tr>\n",
       "  </tbody>\n",
       "</table>\n",
       "<p>518 rows × 12 columns</p>\n",
       "</div>"
      ],
      "text/plain": [
       "            0         1  trth  label_pol_pred      tb   vader      bert  \\\n",
       "0    0.581587  0.418413     1               1  0.0000  0.0000  0.000000   \n",
       "1    0.960170  0.039830    -1              -1 -0.0258 -0.0258 -0.737471   \n",
       "2    0.583993  0.416007     1               1  0.0129  0.0129  0.000000   \n",
       "3    0.971582  0.028418    -1              -1 -0.5334 -0.5334 -0.806515   \n",
       "4    0.023527  0.976473     1               1  0.5859  0.5859  0.758257   \n",
       "..        ...       ...   ...             ...     ...     ...       ...   \n",
       "513  0.973946  0.026054    -1              -1 -0.3612 -0.3612 -0.876151   \n",
       "514  0.979776  0.020224    -1              -1 -0.4003 -0.4003 -0.952544   \n",
       "515  0.966139  0.033861    -1              -1 -0.4158 -0.4158 -0.804400   \n",
       "516  0.973574  0.026426    -1              -1  0.3818  0.3818 -0.934049   \n",
       "517  0.851088  0.148912    -1              -1 -0.3182 -0.3182 -0.576716   \n",
       "\n",
       "        flair  textblob_polarity  vader_polarity  bert_polarity  \\\n",
       "0   -0.998799                1.0             1.0            1.0   \n",
       "1   -0.994933                1.0            -1.0           -1.0   \n",
       "2   -0.755804                1.0             1.0            1.0   \n",
       "3   -0.981972                1.0            -1.0           -1.0   \n",
       "4    0.969718                1.0             1.0            1.0   \n",
       "..        ...                ...             ...            ...   \n",
       "513 -0.998469               -1.0            -1.0           -1.0   \n",
       "514 -0.998901               -1.0            -1.0           -1.0   \n",
       "515 -0.935471               -1.0            -1.0           -1.0   \n",
       "516 -0.999993                1.0             1.0           -1.0   \n",
       "517  0.811057                1.0            -1.0           -1.0   \n",
       "\n",
       "     flair_polarity  \n",
       "0              -1.0  \n",
       "1              -1.0  \n",
       "2              -1.0  \n",
       "3              -1.0  \n",
       "4               1.0  \n",
       "..              ...  \n",
       "513            -1.0  \n",
       "514            -1.0  \n",
       "515            -1.0  \n",
       "516            -1.0  \n",
       "517             1.0  \n",
       "\n",
       "[518 rows x 12 columns]"
      ]
     },
     "execution_count": 94,
     "metadata": {},
     "output_type": "execute_result"
    }
   ],
   "source": [
    "probsdf_test"
   ]
  },
  {
   "cell_type": "code",
   "execution_count": 95,
   "id": "48945934",
   "metadata": {},
   "outputs": [],
   "source": [
    "import numpy as np\n",
    "from sklearn.model_selection import train_test_split, cross_val_score\n",
    "from sklearn.linear_model import LogisticRegression\n",
    "from sklearn.svm import SVC\n",
    "from sklearn.ensemble import RandomForestClassifier\n",
    "from sklearn.naive_bayes import GaussianNB\n",
    "from sklearn.metrics import accuracy_score"
   ]
  },
  {
   "cell_type": "code",
   "execution_count": 96,
   "id": "91b6e039",
   "metadata": {},
   "outputs": [
    {
     "name": "stdout",
     "output_type": "stream",
     "text": [
      "Logistic Regression Mean Accuracy: 0.8808\n",
      "Support Vector Machine Mean Accuracy: 0.8717\n",
      "Random Forest Mean Accuracy: 0.8618\n",
      "Naive Bayes Mean Accuracy: 0.8758\n",
      "Best Model Test Accuracy: 0.8822\n"
     ]
    }
   ],
   "source": [
    "\n",
    "\n",
    "# List of classifiers to evaluate\n",
    "classifiers = [\n",
    "    ('Logistic Regression', LogisticRegression()),\n",
    "    ('Support Vector Machine', SVC()),\n",
    "    ('Random Forest', RandomForestClassifier()),\n",
    "    ('Naive Bayes', GaussianNB())\n",
    "]\n",
    "\n",
    "# Iterate over classifiers and evaluate using cross-validation\n",
    "for name, classifier in classifiers:\n",
    "    scores = cross_val_score(classifier, X_train, y_train, cv=5)\n",
    "    mean_score = np.mean(scores)\n",
    "    print(f\"{name} Mean Accuracy: {mean_score:.4f}\")\n",
    "\n",
    "# Choose the best model based on cross-validation scores\n",
    "best_classifier = max(classifiers, key=lambda x: np.mean(cross_val_score(x[1], X_train, y_train, cv=5)))[1]\n",
    "\n",
    "# Train the best classifier on the full training set\n",
    "best_classifier.fit(X_train, y_train)\n",
    "\n",
    "# Test the model on the test set\n",
    "y_pred = best_classifier.predict(X_test)\n",
    "accuracy = accuracy_score(y_test, y_pred)\n",
    "print(f\"Best Model Test Accuracy: {accuracy:.4f}\")\n"
   ]
  },
  {
   "cell_type": "code",
   "execution_count": 97,
   "id": "89b8e842",
   "metadata": {},
   "outputs": [],
   "source": [
    "model_eval = pd.DataFrame({'Model':[],'Mean_Score':[]})"
   ]
  },
  {
   "cell_type": "code",
   "execution_count": 98,
   "id": "32350d1e",
   "metadata": {},
   "outputs": [
    {
     "data": {
      "text/html": [
       "<div>\n",
       "<style scoped>\n",
       "    .dataframe tbody tr th:only-of-type {\n",
       "        vertical-align: middle;\n",
       "    }\n",
       "\n",
       "    .dataframe tbody tr th {\n",
       "        vertical-align: top;\n",
       "    }\n",
       "\n",
       "    .dataframe thead th {\n",
       "        text-align: right;\n",
       "    }\n",
       "</style>\n",
       "<table border=\"1\" class=\"dataframe\">\n",
       "  <thead>\n",
       "    <tr style=\"text-align: right;\">\n",
       "      <th></th>\n",
       "      <th>Model</th>\n",
       "      <th>Mean_Score</th>\n",
       "    </tr>\n",
       "  </thead>\n",
       "  <tbody>\n",
       "  </tbody>\n",
       "</table>\n",
       "</div>"
      ],
      "text/plain": [
       "Empty DataFrame\n",
       "Columns: [Model, Mean_Score]\n",
       "Index: []"
      ]
     },
     "execution_count": 98,
     "metadata": {},
     "output_type": "execute_result"
    }
   ],
   "source": [
    "model_eval"
   ]
  },
  {
   "cell_type": "code",
   "execution_count": 99,
   "id": "3b3953af",
   "metadata": {},
   "outputs": [
    {
     "name": "stdout",
     "output_type": "stream",
     "text": [
      "Logistic Regression Mean Accuracy: 0.8808\n",
      "Support Vector Machine Mean Accuracy: 0.8717\n",
      "Random Forest Mean Accuracy: 0.8643\n",
      "Naive Bayes Mean Accuracy: 0.8758\n",
      "Decision Tree Mean Accuracy: 0.8444\n",
      "Gradient Boosting Mean Accuracy: 0.8792\n",
      "AdaBoost Mean Accuracy: 0.8626\n",
      "Ridge Classifier Mean Accuracy: 0.8742\n",
      "Best Model Test Accuracy: 0.8822\n"
     ]
    }
   ],
   "source": [
    "import numpy as np\n",
    "from sklearn.model_selection import train_test_split, cross_val_score\n",
    "from sklearn.linear_model import LogisticRegression, RidgeClassifier\n",
    "from sklearn.svm import SVC\n",
    "from sklearn.ensemble import RandomForestClassifier, GradientBoostingClassifier, AdaBoostClassifier\n",
    "from sklearn.naive_bayes import GaussianNB\n",
    "from sklearn.tree import DecisionTreeClassifier\n",
    "from sklearn.metrics import accuracy_score\n",
    "model_eval = pd.DataFrame({'Model':[],'Mean_Score':[]})\n",
    "\n",
    "# List of classifiers to evaluate\n",
    "classifiers = [\n",
    "    ('Logistic Regression', LogisticRegression()),\n",
    "    ('Support Vector Machine', SVC()),\n",
    "    ('Random Forest', RandomForestClassifier()),\n",
    "    ('Naive Bayes', GaussianNB()),\n",
    "    ('Decision Tree', DecisionTreeClassifier()),\n",
    "    ('Gradient Boosting', GradientBoostingClassifier()),\n",
    "    ('AdaBoost', AdaBoostClassifier()),\n",
    "    ('Ridge Classifier', RidgeClassifier())\n",
    "]\n",
    "\n",
    "# Iterate over classifiers and evaluate using cross-validation\n",
    "for name, classifier in classifiers:\n",
    "    scores = cross_val_score(classifier, X_train, y_train, cv=5)\n",
    "    mean_score = np.mean(scores)\n",
    "    scores_temp = pd.DataFrame({'Model':[name],'Mean_Score':[mean_score]})\n",
    "    model_eval = model_eval.append(scores_temp)\n",
    "    print(f\"{name} Mean Accuracy: {mean_score:.4f}\")\n",
    "\n",
    "# Choose the best model based on cross-validation scores\n",
    "best_classifier = max(classifiers, key=lambda x: np.mean(cross_val_score(x[1], X_train, y_train, cv=5)))[1]\n",
    "\n",
    "# Train the best classifier on the full training set\n",
    "best_classifier.fit(X_train, y_train)\n",
    "\n",
    "# Test the model on the test set\n",
    "y_pred = best_classifier.predict(X_test)\n",
    "accuracy = accuracy_score(y_test, y_pred)\n",
    "print(f\"Best Model Test Accuracy: {accuracy:.4f}\")\n"
   ]
  },
  {
   "attachments": {},
   "cell_type": "markdown",
   "id": "f99ae242",
   "metadata": {},
   "source": []
  },
  {
   "cell_type": "code",
   "execution_count": 100,
   "id": "308023b2",
   "metadata": {},
   "outputs": [
    {
     "data": {
      "text/html": [
       "<div>\n",
       "<style scoped>\n",
       "    .dataframe tbody tr th:only-of-type {\n",
       "        vertical-align: middle;\n",
       "    }\n",
       "\n",
       "    .dataframe tbody tr th {\n",
       "        vertical-align: top;\n",
       "    }\n",
       "\n",
       "    .dataframe thead th {\n",
       "        text-align: right;\n",
       "    }\n",
       "</style>\n",
       "<table border=\"1\" class=\"dataframe\">\n",
       "  <thead>\n",
       "    <tr style=\"text-align: right;\">\n",
       "      <th></th>\n",
       "      <th>Model</th>\n",
       "      <th>Mean_Score</th>\n",
       "    </tr>\n",
       "  </thead>\n",
       "  <tbody>\n",
       "    <tr>\n",
       "      <th>0</th>\n",
       "      <td>Logistic Regression</td>\n",
       "      <td>0.880796</td>\n",
       "    </tr>\n",
       "    <tr>\n",
       "      <th>0</th>\n",
       "      <td>Support Vector Machine</td>\n",
       "      <td>0.871699</td>\n",
       "    </tr>\n",
       "    <tr>\n",
       "      <th>0</th>\n",
       "      <td>Random Forest</td>\n",
       "      <td>0.864257</td>\n",
       "    </tr>\n",
       "    <tr>\n",
       "      <th>0</th>\n",
       "      <td>Naive Bayes</td>\n",
       "      <td>0.875824</td>\n",
       "    </tr>\n",
       "    <tr>\n",
       "      <th>0</th>\n",
       "      <td>Decision Tree</td>\n",
       "      <td>0.844388</td>\n",
       "    </tr>\n",
       "    <tr>\n",
       "      <th>0</th>\n",
       "      <td>Gradient Boosting</td>\n",
       "      <td>0.879154</td>\n",
       "    </tr>\n",
       "    <tr>\n",
       "      <th>0</th>\n",
       "      <td>AdaBoost</td>\n",
       "      <td>0.862601</td>\n",
       "    </tr>\n",
       "    <tr>\n",
       "      <th>0</th>\n",
       "      <td>Ridge Classifier</td>\n",
       "      <td>0.874178</td>\n",
       "    </tr>\n",
       "  </tbody>\n",
       "</table>\n",
       "</div>"
      ],
      "text/plain": [
       "                    Model  Mean_Score\n",
       "0     Logistic Regression    0.880796\n",
       "0  Support Vector Machine    0.871699\n",
       "0           Random Forest    0.864257\n",
       "0             Naive Bayes    0.875824\n",
       "0           Decision Tree    0.844388\n",
       "0       Gradient Boosting    0.879154\n",
       "0                AdaBoost    0.862601\n",
       "0        Ridge Classifier    0.874178"
      ]
     },
     "execution_count": 100,
     "metadata": {},
     "output_type": "execute_result"
    }
   ],
   "source": [
    "model_eval"
   ]
  },
  {
   "cell_type": "code",
   "execution_count": 101,
   "id": "28ad7e98",
   "metadata": {},
   "outputs": [
    {
     "data": {
      "text/plain": [
       "LogisticRegression()"
      ]
     },
     "execution_count": 101,
     "metadata": {},
     "output_type": "execute_result"
    }
   ],
   "source": [
    "best_classifier"
   ]
  },
  {
   "cell_type": "code",
   "execution_count": 102,
   "id": "ee9edb27",
   "metadata": {},
   "outputs": [
    {
     "name": "stdout",
     "output_type": "stream",
     "text": [
      "Accuracy: 0.89\n",
      "Classification Report:\n",
      "              precision    recall  f1-score   support\n",
      "\n",
      "          -1       0.88      0.90      0.89       261\n",
      "           1       0.90      0.88      0.89       257\n",
      "\n",
      "    accuracy                           0.89       518\n",
      "   macro avg       0.89      0.89      0.89       518\n",
      "weighted avg       0.89      0.89      0.89       518\n",
      "\n"
     ]
    }
   ],
   "source": [
    "\n",
    "gb_classifier = GradientBoostingClassifier(n_estimators=150, learning_rate=0.01,random_state=42)\n",
    "# Train the classifier on the training data\n",
    "gb_classifier.fit(X_train, y_train)\n",
    "\n",
    "# Make predictions on the test data\n",
    "y_pred = gb_classifier.predict(X_test)\n",
    "\n",
    "# Evaluate the classifier's performance\n",
    "accuracy = accuracy_score(y_test, y_pred)\n",
    "print(f\"Accuracy: {accuracy:.2f}\")\n",
    "\n",
    "# Print the classification report\n",
    "print(\"Classification Report:\")\n",
    "print(classification_report(y_test, y_pred))\n",
    "\n",
    "\n"
   ]
  },
  {
   "cell_type": "code",
   "execution_count": 103,
   "id": "a1d19f6d",
   "metadata": {},
   "outputs": [
    {
     "data": {
      "text/plain": [
       "(1208, 2)"
      ]
     },
     "execution_count": 103,
     "metadata": {},
     "output_type": "execute_result"
    }
   ],
   "source": [
    "y_probs = gb_classifier.predict_proba(X_train)\n",
    "y_probs.shape"
   ]
  },
  {
   "cell_type": "code",
   "execution_count": 104,
   "id": "ff381c76",
   "metadata": {},
   "outputs": [
    {
     "name": "stdout",
     "output_type": "stream",
     "text": [
      "Logistic: ROC AUC=0.970\n"
     ]
    },
    {
     "data": {
      "image/png": "[encoded data removed]",
      "text/plain": [
       "<Figure size 720x432 with 1 Axes>"
      ]
     },
     "metadata": {
      "needs_background": "light"
     },
     "output_type": "display_data"
    }
   ],
   "source": [
    "gb_probs = y_probs[:,[1]]\n",
    "gb_auc = roc_auc_score(y_train, gb_probs)\n",
    "# summarize scores\n",
    "\n",
    "print('Logistic: ROC AUC=%.3f' % (gb_auc))\n",
    "# calculate roc curves\n",
    "\n",
    "gb_fpr, gb_tpr, thr = roc_curve(y_train, gb_probs)\n",
    "# plot the roc curve for the model # pyplot.plot(ns_fpr, ns_tpr, linestyle='--', label='No Skill')\n",
    "pyplot.plot(gb_fpr, gb_tpr, marker='.', label='Gradient Boost')\n",
    "pyplot.plot(lr_fpr, lr_tpr, marker='.', label='Logistic')\n",
    "# axis labels\n",
    "pyplot.xlabel('False Positive Rate')\n",
    "pyplot.ylabel('True Positive Rate')\n",
    "# show the legend\n",
    "pyplot.legend()\n",
    "# show the plot\n",
    "pyplot.show()"
   ]
  },
  {
   "cell_type": "code",
   "execution_count": 105,
   "id": "d3331300",
   "metadata": {},
   "outputs": [
    {
     "name": "stdout",
     "output_type": "stream",
     "text": [
      "Logistic: ROC AUC=0.962\n"
     ]
    },
    {
     "data": {
      "image/png": "[encoded data removed]",
      "text/plain": [
       "<Figure size 720x432 with 1 Axes>"
      ]
     },
     "metadata": {
      "needs_background": "light"
     },
     "output_type": "display_data"
    }
   ],
   "source": [
    "lr_probs = probs[:,[1]]\n",
    "lr_auc = roc_auc_score(y_train, lr_probs)\n",
    "# summarize scores\n",
    "\n",
    "print('Logistic: ROC AUC=%.3f' % (lr_auc))\n",
    "# calculate roc curves\n",
    "\n",
    "lr_fpr, lr_tpr, thr = roc_curve(y_train, lr_probs)\n",
    "# plot the roc curve for the model # pyplot.plot(ns_fpr, ns_tpr, linestyle='--', label='No Skill')\n",
    "pyplot.plot(lr_fpr, lr_tpr, marker='.', label='Logistic')\n",
    "# axis labels\n",
    "pyplot.xlabel('False Positive Rate')\n",
    "pyplot.ylabel('True Positive Rate')\n",
    "# show the legend\n",
    "pyplot.legend()\n",
    "# show the plot\n",
    "pyplot.show()"
   ]
  },
  {
   "cell_type": "code",
   "execution_count": 106,
   "id": "92e966e5",
   "metadata": {},
   "outputs": [],
   "source": [
    "y_probs = gb_classifier.predict_proba(X_test)"
   ]
  },
  {
   "cell_type": "code",
   "execution_count": 107,
   "id": "e89c0b16",
   "metadata": {},
   "outputs": [
    {
     "name": "stdout",
     "output_type": "stream",
     "text": [
      "Logistic: ROC AUC=0.953\n"
     ]
    },
    {
     "data": {
      "image/png": "[encoded data removed]",
      "text/plain": [
       "<Figure size 720x432 with 1 Axes>"
      ]
     },
     "metadata": {
      "needs_background": "light"
     },
     "output_type": "display_data"
    }
   ],
   "source": [
    "gb_probs = y_probs[:,[1]]\n",
    "gb_auc = roc_auc_score(y_test, gb_probs)\n",
    "# summarize scores\n",
    "\n",
    "print('Logistic: ROC AUC=%.3f' % (gb_auc))\n",
    "# calculate roc curves\n",
    "\n",
    "gb_fpr, gb_tpr, thr = roc_curve(y_test, gb_probs)\n",
    "# plot the roc curve for the model # pyplot.plot(ns_fpr, ns_tpr, linestyle='--', label='No Skill')\n",
    "pyplot.plot(gb_fpr, gb_tpr, marker='.', label='Gradient Boost')\n",
    "pyplot.plot(lr_fpr, lr_tpr, marker='.', label='Logistic')\n",
    "# axis labels\n",
    "pyplot.xlabel('False Positive Rate')\n",
    "pyplot.ylabel('True Positive Rate')\n",
    "# show the legend\n",
    "pyplot.legend()\n",
    "# show the plot\n",
    "pyplot.show()"
   ]
  },
  {
   "cell_type": "code",
   "execution_count": 108,
   "id": "d07dbb5c",
   "metadata": {},
   "outputs": [
    {
     "name": "stdout",
     "output_type": "stream",
     "text": [
      "Best Hyperparameters: {'learning_rate': 0.1, 'max_depth': 3, 'n_estimators': 50}\n",
      "Accuracy: 0.90\n",
      "Classification Report:\n",
      "              precision    recall  f1-score   support\n",
      "\n",
      "          -1       0.93      0.86      0.89       261\n",
      "           1       0.87      0.93      0.90       257\n",
      "\n",
      "    accuracy                           0.90       518\n",
      "   macro avg       0.90      0.90      0.90       518\n",
      "weighted avg       0.90      0.90      0.90       518\n",
      "\n"
     ]
    }
   ],
   "source": [
    "from sklearn.model_selection import GridSearchCV\n",
    "from sklearn.metrics import accuracy_score, classification_report\n",
    "\n",
    "gb_classifier1 = GradientBoostingClassifier()\n",
    "\n",
    "# Define a grid of hyperparameters to search\n",
    "param_grid = {\n",
    "    'n_estimators': [50, 100, 150],\n",
    "    'learning_rate': [0.1, 0.01],\n",
    "    'max_depth': [3, 4, 5]\n",
    "}\n",
    "\n",
    "# Initialize GridSearchCV with the classifier and parameter grid\n",
    "grid_search = GridSearchCV(gb_classifier1, param_grid, cv=3, scoring='accuracy')\n",
    "\n",
    "# Perform hyperparameter tuning on the training data\n",
    "grid_search.fit(X_train, y_train)\n",
    "\n",
    "# Get the best hyperparameters from the grid search\n",
    "best_params = grid_search.best_params_\n",
    "print(\"Best Hyperparameters:\", best_params)\n",
    "\n",
    "# Use the best model for prediction\n",
    "best_model = grid_search.best_estimator_\n",
    "y_pred = best_model.predict(X_test)\n",
    "\n",
    "# Evaluate the classifier's performance\n",
    "accuracy = accuracy_score(y_test, y_pred)\n",
    "print(f\"Accuracy: {accuracy:.2f}\")\n",
    "\n",
    "# Print the classification report\n",
    "print(\"Classification Report:\")\n",
    "print(classification_report(y_test, y_pred))"
   ]
  },
  {
   "attachments": {},
   "cell_type": "markdown",
   "id": "90cdde6c",
   "metadata": {},
   "source": [
    "# Best Model Analysis\n",
    "The best meta model was found to be GradientBoost. here after hyperparameter tuning we found the accuracy score to be 0.73\n",
    "Now we will see if we can custom threshold and improve acuraccy."
   ]
  },
  {
   "cell_type": "code",
   "execution_count": 109,
   "id": "37dd9123",
   "metadata": {},
   "outputs": [
    {
     "data": {
      "text/html": [
       "<div>\n",
       "<style scoped>\n",
       "    .dataframe tbody tr th:only-of-type {\n",
       "        vertical-align: middle;\n",
       "    }\n",
       "\n",
       "    .dataframe tbody tr th {\n",
       "        vertical-align: top;\n",
       "    }\n",
       "\n",
       "    .dataframe thead th {\n",
       "        text-align: right;\n",
       "    }\n",
       "</style>\n",
       "<table border=\"1\" class=\"dataframe\">\n",
       "  <thead>\n",
       "    <tr style=\"text-align: right;\">\n",
       "      <th></th>\n",
       "      <th>0</th>\n",
       "      <th>1</th>\n",
       "      <th>trth</th>\n",
       "      <th>label_pol_pred</th>\n",
       "      <th>tb</th>\n",
       "      <th>vader</th>\n",
       "      <th>bert</th>\n",
       "      <th>flair</th>\n",
       "      <th>textblob_polarity</th>\n",
       "      <th>vader_polarity</th>\n",
       "      <th>bert_polarity</th>\n",
       "      <th>flair_polarity</th>\n",
       "      <th>GBprobs_0</th>\n",
       "      <th>GBprobs_1</th>\n",
       "    </tr>\n",
       "  </thead>\n",
       "  <tbody>\n",
       "    <tr>\n",
       "      <th>0</th>\n",
       "      <td>0.581587</td>\n",
       "      <td>0.418413</td>\n",
       "      <td>1</td>\n",
       "      <td>1</td>\n",
       "      <td>0.0000</td>\n",
       "      <td>0.0000</td>\n",
       "      <td>0.000000</td>\n",
       "      <td>-0.998799</td>\n",
       "      <td>1.0</td>\n",
       "      <td>1.0</td>\n",
       "      <td>1.0</td>\n",
       "      <td>-1.0</td>\n",
       "      <td>0.505568</td>\n",
       "      <td>0.494432</td>\n",
       "    </tr>\n",
       "    <tr>\n",
       "      <th>1</th>\n",
       "      <td>0.960170</td>\n",
       "      <td>0.039830</td>\n",
       "      <td>-1</td>\n",
       "      <td>-1</td>\n",
       "      <td>-0.0258</td>\n",
       "      <td>-0.0258</td>\n",
       "      <td>-0.737471</td>\n",
       "      <td>-0.994933</td>\n",
       "      <td>1.0</td>\n",
       "      <td>-1.0</td>\n",
       "      <td>-1.0</td>\n",
       "      <td>-1.0</td>\n",
       "      <td>0.880427</td>\n",
       "      <td>0.119573</td>\n",
       "    </tr>\n",
       "    <tr>\n",
       "      <th>2</th>\n",
       "      <td>0.583993</td>\n",
       "      <td>0.416007</td>\n",
       "      <td>1</td>\n",
       "      <td>1</td>\n",
       "      <td>0.0129</td>\n",
       "      <td>0.0129</td>\n",
       "      <td>0.000000</td>\n",
       "      <td>-0.755804</td>\n",
       "      <td>1.0</td>\n",
       "      <td>1.0</td>\n",
       "      <td>1.0</td>\n",
       "      <td>-1.0</td>\n",
       "      <td>0.367719</td>\n",
       "      <td>0.632281</td>\n",
       "    </tr>\n",
       "    <tr>\n",
       "      <th>3</th>\n",
       "      <td>0.971582</td>\n",
       "      <td>0.028418</td>\n",
       "      <td>-1</td>\n",
       "      <td>-1</td>\n",
       "      <td>-0.5334</td>\n",
       "      <td>-0.5334</td>\n",
       "      <td>-0.806515</td>\n",
       "      <td>-0.981972</td>\n",
       "      <td>1.0</td>\n",
       "      <td>-1.0</td>\n",
       "      <td>-1.0</td>\n",
       "      <td>-1.0</td>\n",
       "      <td>0.882273</td>\n",
       "      <td>0.117727</td>\n",
       "    </tr>\n",
       "    <tr>\n",
       "      <th>4</th>\n",
       "      <td>0.023527</td>\n",
       "      <td>0.976473</td>\n",
       "      <td>1</td>\n",
       "      <td>1</td>\n",
       "      <td>0.5859</td>\n",
       "      <td>0.5859</td>\n",
       "      <td>0.758257</td>\n",
       "      <td>0.969718</td>\n",
       "      <td>1.0</td>\n",
       "      <td>1.0</td>\n",
       "      <td>1.0</td>\n",
       "      <td>1.0</td>\n",
       "      <td>0.117424</td>\n",
       "      <td>0.882576</td>\n",
       "    </tr>\n",
       "  </tbody>\n",
       "</table>\n",
       "</div>"
      ],
      "text/plain": [
       "          0         1  trth  label_pol_pred      tb   vader      bert  \\\n",
       "0  0.581587  0.418413     1               1  0.0000  0.0000  0.000000   \n",
       "1  0.960170  0.039830    -1              -1 -0.0258 -0.0258 -0.737471   \n",
       "2  0.583993  0.416007     1               1  0.0129  0.0129  0.000000   \n",
       "3  0.971582  0.028418    -1              -1 -0.5334 -0.5334 -0.806515   \n",
       "4  0.023527  0.976473     1               1  0.5859  0.5859  0.758257   \n",
       "\n",
       "      flair  textblob_polarity  vader_polarity  bert_polarity  flair_polarity  \\\n",
       "0 -0.998799                1.0             1.0            1.0            -1.0   \n",
       "1 -0.994933                1.0            -1.0           -1.0            -1.0   \n",
       "2 -0.755804                1.0             1.0            1.0            -1.0   \n",
       "3 -0.981972                1.0            -1.0           -1.0            -1.0   \n",
       "4  0.969718                1.0             1.0            1.0             1.0   \n",
       "\n",
       "   GBprobs_0  GBprobs_1  \n",
       "0   0.505568   0.494432  \n",
       "1   0.880427   0.119573  \n",
       "2   0.367719   0.632281  \n",
       "3   0.882273   0.117727  \n",
       "4   0.117424   0.882576  "
      ]
     },
     "execution_count": 109,
     "metadata": {},
     "output_type": "execute_result"
    }
   ],
   "source": [
    "probsdf_test['GBprobs_0']=gb_classifier.predict_proba(X_test)[:,0]\n",
    "probsdf_test['GBprobs_1']=gb_classifier.predict_proba(X_test)[:,1]\n",
    "probsdf_test.head()"
   ]
  },
  {
   "cell_type": "code",
   "execution_count": 110,
   "id": "4a030026",
   "metadata": {},
   "outputs": [],
   "source": [
    "def Gb_polarity(val):\n",
    "    if val >= 0.5:\n",
    "        return 1\n",
    "    else:\n",
    "        return -1"
   ]
  },
  {
   "cell_type": "code",
   "execution_count": 111,
   "id": "12b7da91",
   "metadata": {},
   "outputs": [],
   "source": [
    "probsdf_test['GBoost_polarity']= probsdf_test.apply (lambda x : Gb_polarity(x['GBprobs_1']),axis=1)\n",
    "probsdf_test['GBoost_Pred']=gb_classifier.predict(X_test)"
   ]
  },
  {
   "cell_type": "code",
   "execution_count": 112,
   "id": "6be02706",
   "metadata": {},
   "outputs": [],
   "source": [
    "probsdf_test['trth1']=y_test"
   ]
  },
  {
   "cell_type": "code",
   "execution_count": 113,
   "id": "3c5f2306",
   "metadata": {},
   "outputs": [
    {
     "data": {
      "text/html": [
       "<div>\n",
       "<style scoped>\n",
       "    .dataframe tbody tr th:only-of-type {\n",
       "        vertical-align: middle;\n",
       "    }\n",
       "\n",
       "    .dataframe tbody tr th {\n",
       "        vertical-align: top;\n",
       "    }\n",
       "\n",
       "    .dataframe thead th {\n",
       "        text-align: right;\n",
       "    }\n",
       "</style>\n",
       "<table border=\"1\" class=\"dataframe\">\n",
       "  <thead>\n",
       "    <tr style=\"text-align: right;\">\n",
       "      <th></th>\n",
       "      <th>0</th>\n",
       "      <th>1</th>\n",
       "      <th>trth</th>\n",
       "      <th>label_pol_pred</th>\n",
       "      <th>tb</th>\n",
       "      <th>vader</th>\n",
       "      <th>bert</th>\n",
       "      <th>flair</th>\n",
       "      <th>textblob_polarity</th>\n",
       "      <th>vader_polarity</th>\n",
       "      <th>bert_polarity</th>\n",
       "      <th>flair_polarity</th>\n",
       "      <th>GBprobs_0</th>\n",
       "      <th>GBprobs_1</th>\n",
       "      <th>GBoost_polarity</th>\n",
       "      <th>GBoost_Pred</th>\n",
       "      <th>trth1</th>\n",
       "    </tr>\n",
       "  </thead>\n",
       "  <tbody>\n",
       "    <tr>\n",
       "      <th>0</th>\n",
       "      <td>0.581587</td>\n",
       "      <td>0.418413</td>\n",
       "      <td>1</td>\n",
       "      <td>1</td>\n",
       "      <td>0.0000</td>\n",
       "      <td>0.0000</td>\n",
       "      <td>0.000000</td>\n",
       "      <td>-0.998799</td>\n",
       "      <td>1.0</td>\n",
       "      <td>1.0</td>\n",
       "      <td>1.0</td>\n",
       "      <td>-1.0</td>\n",
       "      <td>0.505568</td>\n",
       "      <td>0.494432</td>\n",
       "      <td>-1</td>\n",
       "      <td>-1</td>\n",
       "      <td>NaN</td>\n",
       "    </tr>\n",
       "    <tr>\n",
       "      <th>1</th>\n",
       "      <td>0.960170</td>\n",
       "      <td>0.039830</td>\n",
       "      <td>-1</td>\n",
       "      <td>-1</td>\n",
       "      <td>-0.0258</td>\n",
       "      <td>-0.0258</td>\n",
       "      <td>-0.737471</td>\n",
       "      <td>-0.994933</td>\n",
       "      <td>1.0</td>\n",
       "      <td>-1.0</td>\n",
       "      <td>-1.0</td>\n",
       "      <td>-1.0</td>\n",
       "      <td>0.880427</td>\n",
       "      <td>0.119573</td>\n",
       "      <td>-1</td>\n",
       "      <td>-1</td>\n",
       "      <td>NaN</td>\n",
       "    </tr>\n",
       "    <tr>\n",
       "      <th>2</th>\n",
       "      <td>0.583993</td>\n",
       "      <td>0.416007</td>\n",
       "      <td>1</td>\n",
       "      <td>1</td>\n",
       "      <td>0.0129</td>\n",
       "      <td>0.0129</td>\n",
       "      <td>0.000000</td>\n",
       "      <td>-0.755804</td>\n",
       "      <td>1.0</td>\n",
       "      <td>1.0</td>\n",
       "      <td>1.0</td>\n",
       "      <td>-1.0</td>\n",
       "      <td>0.367719</td>\n",
       "      <td>0.632281</td>\n",
       "      <td>1</td>\n",
       "      <td>1</td>\n",
       "      <td>-1.0</td>\n",
       "    </tr>\n",
       "    <tr>\n",
       "      <th>3</th>\n",
       "      <td>0.971582</td>\n",
       "      <td>0.028418</td>\n",
       "      <td>-1</td>\n",
       "      <td>-1</td>\n",
       "      <td>-0.5334</td>\n",
       "      <td>-0.5334</td>\n",
       "      <td>-0.806515</td>\n",
       "      <td>-0.981972</td>\n",
       "      <td>1.0</td>\n",
       "      <td>-1.0</td>\n",
       "      <td>-1.0</td>\n",
       "      <td>-1.0</td>\n",
       "      <td>0.882273</td>\n",
       "      <td>0.117727</td>\n",
       "      <td>-1</td>\n",
       "      <td>-1</td>\n",
       "      <td>1.0</td>\n",
       "    </tr>\n",
       "    <tr>\n",
       "      <th>4</th>\n",
       "      <td>0.023527</td>\n",
       "      <td>0.976473</td>\n",
       "      <td>1</td>\n",
       "      <td>1</td>\n",
       "      <td>0.5859</td>\n",
       "      <td>0.5859</td>\n",
       "      <td>0.758257</td>\n",
       "      <td>0.969718</td>\n",
       "      <td>1.0</td>\n",
       "      <td>1.0</td>\n",
       "      <td>1.0</td>\n",
       "      <td>1.0</td>\n",
       "      <td>0.117424</td>\n",
       "      <td>0.882576</td>\n",
       "      <td>1</td>\n",
       "      <td>1</td>\n",
       "      <td>1.0</td>\n",
       "    </tr>\n",
       "  </tbody>\n",
       "</table>\n",
       "</div>"
      ],
      "text/plain": [
       "          0         1  trth  label_pol_pred      tb   vader      bert  \\\n",
       "0  0.581587  0.418413     1               1  0.0000  0.0000  0.000000   \n",
       "1  0.960170  0.039830    -1              -1 -0.0258 -0.0258 -0.737471   \n",
       "2  0.583993  0.416007     1               1  0.0129  0.0129  0.000000   \n",
       "3  0.971582  0.028418    -1              -1 -0.5334 -0.5334 -0.806515   \n",
       "4  0.023527  0.976473     1               1  0.5859  0.5859  0.758257   \n",
       "\n",
       "      flair  textblob_polarity  vader_polarity  bert_polarity  flair_polarity  \\\n",
       "0 -0.998799                1.0             1.0            1.0            -1.0   \n",
       "1 -0.994933                1.0            -1.0           -1.0            -1.0   \n",
       "2 -0.755804                1.0             1.0            1.0            -1.0   \n",
       "3 -0.981972                1.0            -1.0           -1.0            -1.0   \n",
       "4  0.969718                1.0             1.0            1.0             1.0   \n",
       "\n",
       "   GBprobs_0  GBprobs_1  GBoost_polarity  GBoost_Pred  trth1  \n",
       "0   0.505568   0.494432               -1           -1    NaN  \n",
       "1   0.880427   0.119573               -1           -1    NaN  \n",
       "2   0.367719   0.632281                1            1   -1.0  \n",
       "3   0.882273   0.117727               -1           -1    1.0  \n",
       "4   0.117424   0.882576                1            1    1.0  "
      ]
     },
     "execution_count": 113,
     "metadata": {},
     "output_type": "execute_result"
    }
   ],
   "source": [
    "probsdf_test.head()"
   ]
  },
  {
   "attachments": {},
   "cell_type": "markdown",
   "id": "46b67460",
   "metadata": {},
   "source": [
    "### Stacked Ensemble with Meta Model as LR : Semeval_data"
   ]
  },
  {
   "cell_type": "code",
   "execution_count": 114,
   "id": "2dc071b6",
   "metadata": {},
   "outputs": [
    {
     "data": {
      "image/png": "[encoded data removed]",
      "text/plain": [
       "<Figure size 720x432 with 1 Axes>"
      ]
     },
     "metadata": {
      "needs_background": "light"
     },
     "output_type": "display_data"
    }
   ],
   "source": [
    "\n",
    "threshold_analysis = pd.DataFrame({'Thresh_alpha':[0],'Accuracy':[0],'Percent_data_capture':[0],'Precision':[0],'Recall':[0],'f1':[0]})\n",
    "detl_threshold = pd.DataFrame({'Thresh_alpha':[],'Accuracy':[],'Percent_data_capture':[],'Precision':[],'Recall':[],'f1':[]})\n",
    "for i in range (0,99):\n",
    "    alpha_th = i*.01\n",
    "    res1 = pd.DataFrame(classification_report(probsdf_test['trth'][(probsdf_test[0]>=alpha_th)|(probsdf_test[1]>=alpha_th)],probsdf_test['label_pol_pred'][(probsdf_test[0]>=alpha_th)|(probsdf_test[1]>=alpha_th)],output_dict=True))\n",
    "    threshold_analysis['Accuracy']= res1['accuracy'].iloc[0]\n",
    "    threshold_analysis['Percent_data_capture'] = probsdf_test['trth'][(probsdf_test[0]>=alpha_th)|(probsdf_test[1]>=alpha_th)].count()/probsdf_test[0].count()\n",
    "    threshold_analysis['Thresh_alpha'] = alpha_th\n",
    "    try:\n",
    "        threshold_analysis['Precision'] = res1['1'].loc['precision']\n",
    "        threshold_analysis['Recall'] = res1['1'].loc['recall']\n",
    "        threshold_analysis['f1'] = res1['1'].loc['f1-score']\n",
    "    except KeyError:\n",
    "        threshold_analysis['Precision'] = 0\n",
    "        threshold_analysis['Recall'] = 0\n",
    "        threshold_analysis['f1'] = 0\n",
    "    detl_threshold = detl_threshold.append(threshold_analysis)\n",
    "\n",
    "plt.rcParams['figure.figsize'] = [10, 6]\n",
    "pyplot.plot(detl_threshold['Thresh_alpha'], detl_threshold['Accuracy'], marker='.', label='Accuracy')\n",
    "pyplot.plot(detl_threshold['Thresh_alpha'], detl_threshold['Percent_data_capture'], marker='.', label='Percentage_of_Data_captured')\n",
    "pyplot.plot(detl_threshold['Thresh_alpha'], detl_threshold['Precision'], marker='.', label='Precision')\n",
    "pyplot.plot(detl_threshold['Thresh_alpha'], detl_threshold['Recall'], marker='.', label='Recall')\n",
    "pyplot.plot(detl_threshold['Thresh_alpha'], detl_threshold['f1'], marker='.', label='f1')\n",
    "pyplot.xlabel('Threshold for Data Selection')\n",
    "pyplot.ylabel('Value')\n",
    "pyplot.grid(visible=True, which='both', axis='both')\n",
    "#pyplot.grid(True)\n",
    "pyplot.title('Stacked Ensemble with Meta Model as Logistic Regressor : Semeval_data')\n",
    "# show the legend\n",
    "pyplot.legend()\n",
    "# show the plot\n",
    "pyplot.show()"
   ]
  },
  {
   "attachments": {},
   "cell_type": "markdown",
   "id": "3fab3e4c",
   "metadata": {},
   "source": [
    "### Stacked Ensemble with Meta Model as GradientBoost : Semeval_data"
   ]
  },
  {
   "attachments": {},
   "cell_type": "markdown",
   "id": "a8a81592",
   "metadata": {},
   "source": []
  },
  {
   "cell_type": "code",
   "execution_count": 115,
   "id": "10d7214e",
   "metadata": {},
   "outputs": [
    {
     "name": "stderr",
     "output_type": "stream",
     "text": [
      "/Users/amitobe/opt/anaconda3/envs/nlp_course/lib/python3.7/site-packages/sklearn/metrics/_classification.py:1318: UndefinedMetricWarning: Precision and F-score are ill-defined and being set to 0.0 due to no predicted samples. Use `zero_division` parameter to control this behavior.\n",
      "  _warn_prf(average, modifier, msg_start, len(result))\n",
      "/Users/amitobe/opt/anaconda3/envs/nlp_course/lib/python3.7/site-packages/sklearn/metrics/_classification.py:1318: UndefinedMetricWarning: Recall and F-score are ill-defined and being set to 0.0 due to no true samples. Use `zero_division` parameter to control this behavior.\n",
      "  _warn_prf(average, modifier, msg_start, len(result))\n",
      "/Users/amitobe/opt/anaconda3/envs/nlp_course/lib/python3.7/site-packages/numpy/lib/function_base.py:380: RuntimeWarning: Mean of empty slice.\n",
      "  avg = a.mean(axis)\n",
      "/Users/amitobe/opt/anaconda3/envs/nlp_course/lib/python3.7/site-packages/numpy/core/_methods.py:189: RuntimeWarning: invalid value encountered in double_scalars\n",
      "  ret = ret.dtype.type(ret / rcount)\n",
      "/Users/amitobe/opt/anaconda3/envs/nlp_course/lib/python3.7/site-packages/sklearn/metrics/_classification.py:1318: UndefinedMetricWarning: Precision and F-score are ill-defined and being set to 0.0 due to no predicted samples. Use `zero_division` parameter to control this behavior.\n",
      "  _warn_prf(average, modifier, msg_start, len(result))\n",
      "/Users/amitobe/opt/anaconda3/envs/nlp_course/lib/python3.7/site-packages/sklearn/metrics/_classification.py:1318: UndefinedMetricWarning: Recall and F-score are ill-defined and being set to 0.0 due to no true samples. Use `zero_division` parameter to control this behavior.\n",
      "  _warn_prf(average, modifier, msg_start, len(result))\n",
      "/Users/amitobe/opt/anaconda3/envs/nlp_course/lib/python3.7/site-packages/numpy/lib/function_base.py:380: RuntimeWarning: Mean of empty slice.\n",
      "  avg = a.mean(axis)\n",
      "/Users/amitobe/opt/anaconda3/envs/nlp_course/lib/python3.7/site-packages/numpy/core/_methods.py:189: RuntimeWarning: invalid value encountered in double_scalars\n",
      "  ret = ret.dtype.type(ret / rcount)\n",
      "/Users/amitobe/opt/anaconda3/envs/nlp_course/lib/python3.7/site-packages/sklearn/metrics/_classification.py:1318: UndefinedMetricWarning: Precision and F-score are ill-defined and being set to 0.0 due to no predicted samples. Use `zero_division` parameter to control this behavior.\n",
      "  _warn_prf(average, modifier, msg_start, len(result))\n",
      "/Users/amitobe/opt/anaconda3/envs/nlp_course/lib/python3.7/site-packages/sklearn/metrics/_classification.py:1318: UndefinedMetricWarning: Recall and F-score are ill-defined and being set to 0.0 due to no true samples. Use `zero_division` parameter to control this behavior.\n",
      "  _warn_prf(average, modifier, msg_start, len(result))\n",
      "/Users/amitobe/opt/anaconda3/envs/nlp_course/lib/python3.7/site-packages/numpy/lib/function_base.py:380: RuntimeWarning: Mean of empty slice.\n",
      "  avg = a.mean(axis)\n",
      "/Users/amitobe/opt/anaconda3/envs/nlp_course/lib/python3.7/site-packages/numpy/core/_methods.py:189: RuntimeWarning: invalid value encountered in double_scalars\n",
      "  ret = ret.dtype.type(ret / rcount)\n",
      "/Users/amitobe/opt/anaconda3/envs/nlp_course/lib/python3.7/site-packages/sklearn/metrics/_classification.py:1318: UndefinedMetricWarning: Precision and F-score are ill-defined and being set to 0.0 due to no predicted samples. Use `zero_division` parameter to control this behavior.\n",
      "  _warn_prf(average, modifier, msg_start, len(result))\n",
      "/Users/amitobe/opt/anaconda3/envs/nlp_course/lib/python3.7/site-packages/sklearn/metrics/_classification.py:1318: UndefinedMetricWarning: Recall and F-score are ill-defined and being set to 0.0 due to no true samples. Use `zero_division` parameter to control this behavior.\n",
      "  _warn_prf(average, modifier, msg_start, len(result))\n",
      "/Users/amitobe/opt/anaconda3/envs/nlp_course/lib/python3.7/site-packages/numpy/lib/function_base.py:380: RuntimeWarning: Mean of empty slice.\n",
      "  avg = a.mean(axis)\n",
      "/Users/amitobe/opt/anaconda3/envs/nlp_course/lib/python3.7/site-packages/numpy/core/_methods.py:189: RuntimeWarning: invalid value encountered in double_scalars\n",
      "  ret = ret.dtype.type(ret / rcount)\n",
      "/Users/amitobe/opt/anaconda3/envs/nlp_course/lib/python3.7/site-packages/sklearn/metrics/_classification.py:1318: UndefinedMetricWarning: Precision and F-score are ill-defined and being set to 0.0 due to no predicted samples. Use `zero_division` parameter to control this behavior.\n",
      "  _warn_prf(average, modifier, msg_start, len(result))\n",
      "/Users/amitobe/opt/anaconda3/envs/nlp_course/lib/python3.7/site-packages/sklearn/metrics/_classification.py:1318: UndefinedMetricWarning: Recall and F-score are ill-defined and being set to 0.0 due to no true samples. Use `zero_division` parameter to control this behavior.\n",
      "  _warn_prf(average, modifier, msg_start, len(result))\n",
      "/Users/amitobe/opt/anaconda3/envs/nlp_course/lib/python3.7/site-packages/numpy/lib/function_base.py:380: RuntimeWarning: Mean of empty slice.\n",
      "  avg = a.mean(axis)\n",
      "/Users/amitobe/opt/anaconda3/envs/nlp_course/lib/python3.7/site-packages/numpy/core/_methods.py:189: RuntimeWarning: invalid value encountered in double_scalars\n",
      "  ret = ret.dtype.type(ret / rcount)\n",
      "/Users/amitobe/opt/anaconda3/envs/nlp_course/lib/python3.7/site-packages/sklearn/metrics/_classification.py:1318: UndefinedMetricWarning: Precision and F-score are ill-defined and being set to 0.0 due to no predicted samples. Use `zero_division` parameter to control this behavior.\n",
      "  _warn_prf(average, modifier, msg_start, len(result))\n",
      "/Users/amitobe/opt/anaconda3/envs/nlp_course/lib/python3.7/site-packages/sklearn/metrics/_classification.py:1318: UndefinedMetricWarning: Recall and F-score are ill-defined and being set to 0.0 due to no true samples. Use `zero_division` parameter to control this behavior.\n",
      "  _warn_prf(average, modifier, msg_start, len(result))\n",
      "/Users/amitobe/opt/anaconda3/envs/nlp_course/lib/python3.7/site-packages/numpy/lib/function_base.py:380: RuntimeWarning: Mean of empty slice.\n",
      "  avg = a.mean(axis)\n",
      "/Users/amitobe/opt/anaconda3/envs/nlp_course/lib/python3.7/site-packages/numpy/core/_methods.py:189: RuntimeWarning: invalid value encountered in double_scalars\n",
      "  ret = ret.dtype.type(ret / rcount)\n",
      "/Users/amitobe/opt/anaconda3/envs/nlp_course/lib/python3.7/site-packages/sklearn/metrics/_classification.py:1318: UndefinedMetricWarning: Precision and F-score are ill-defined and being set to 0.0 due to no predicted samples. Use `zero_division` parameter to control this behavior.\n",
      "  _warn_prf(average, modifier, msg_start, len(result))\n",
      "/Users/amitobe/opt/anaconda3/envs/nlp_course/lib/python3.7/site-packages/sklearn/metrics/_classification.py:1318: UndefinedMetricWarning: Recall and F-score are ill-defined and being set to 0.0 due to no true samples. Use `zero_division` parameter to control this behavior.\n",
      "  _warn_prf(average, modifier, msg_start, len(result))\n",
      "/Users/amitobe/opt/anaconda3/envs/nlp_course/lib/python3.7/site-packages/numpy/lib/function_base.py:380: RuntimeWarning: Mean of empty slice.\n",
      "  avg = a.mean(axis)\n",
      "/Users/amitobe/opt/anaconda3/envs/nlp_course/lib/python3.7/site-packages/numpy/core/_methods.py:189: RuntimeWarning: invalid value encountered in double_scalars\n",
      "  ret = ret.dtype.type(ret / rcount)\n",
      "/Users/amitobe/opt/anaconda3/envs/nlp_course/lib/python3.7/site-packages/sklearn/metrics/_classification.py:1318: UndefinedMetricWarning: Precision and F-score are ill-defined and being set to 0.0 due to no predicted samples. Use `zero_division` parameter to control this behavior.\n",
      "  _warn_prf(average, modifier, msg_start, len(result))\n",
      "/Users/amitobe/opt/anaconda3/envs/nlp_course/lib/python3.7/site-packages/sklearn/metrics/_classification.py:1318: UndefinedMetricWarning: Recall and F-score are ill-defined and being set to 0.0 due to no true samples. Use `zero_division` parameter to control this behavior.\n",
      "  _warn_prf(average, modifier, msg_start, len(result))\n",
      "/Users/amitobe/opt/anaconda3/envs/nlp_course/lib/python3.7/site-packages/numpy/lib/function_base.py:380: RuntimeWarning: Mean of empty slice.\n",
      "  avg = a.mean(axis)\n",
      "/Users/amitobe/opt/anaconda3/envs/nlp_course/lib/python3.7/site-packages/numpy/core/_methods.py:189: RuntimeWarning: invalid value encountered in double_scalars\n",
      "  ret = ret.dtype.type(ret / rcount)\n",
      "/Users/amitobe/opt/anaconda3/envs/nlp_course/lib/python3.7/site-packages/sklearn/metrics/_classification.py:1318: UndefinedMetricWarning: Precision and F-score are ill-defined and being set to 0.0 due to no predicted samples. Use `zero_division` parameter to control this behavior.\n",
      "  _warn_prf(average, modifier, msg_start, len(result))\n",
      "/Users/amitobe/opt/anaconda3/envs/nlp_course/lib/python3.7/site-packages/sklearn/metrics/_classification.py:1318: UndefinedMetricWarning: Recall and F-score are ill-defined and being set to 0.0 due to no true samples. Use `zero_division` parameter to control this behavior.\n",
      "  _warn_prf(average, modifier, msg_start, len(result))\n",
      "/Users/amitobe/opt/anaconda3/envs/nlp_course/lib/python3.7/site-packages/numpy/lib/function_base.py:380: RuntimeWarning: Mean of empty slice.\n",
      "  avg = a.mean(axis)\n",
      "/Users/amitobe/opt/anaconda3/envs/nlp_course/lib/python3.7/site-packages/numpy/core/_methods.py:189: RuntimeWarning: invalid value encountered in double_scalars\n",
      "  ret = ret.dtype.type(ret / rcount)\n",
      "/Users/amitobe/opt/anaconda3/envs/nlp_course/lib/python3.7/site-packages/sklearn/metrics/_classification.py:1318: UndefinedMetricWarning: Precision and F-score are ill-defined and being set to 0.0 due to no predicted samples. Use `zero_division` parameter to control this behavior.\n",
      "  _warn_prf(average, modifier, msg_start, len(result))\n",
      "/Users/amitobe/opt/anaconda3/envs/nlp_course/lib/python3.7/site-packages/sklearn/metrics/_classification.py:1318: UndefinedMetricWarning: Recall and F-score are ill-defined and being set to 0.0 due to no true samples. Use `zero_division` parameter to control this behavior.\n",
      "  _warn_prf(average, modifier, msg_start, len(result))\n",
      "/Users/amitobe/opt/anaconda3/envs/nlp_course/lib/python3.7/site-packages/numpy/lib/function_base.py:380: RuntimeWarning: Mean of empty slice.\n",
      "  avg = a.mean(axis)\n",
      "/Users/amitobe/opt/anaconda3/envs/nlp_course/lib/python3.7/site-packages/numpy/core/_methods.py:189: RuntimeWarning: invalid value encountered in double_scalars\n",
      "  ret = ret.dtype.type(ret / rcount)\n"
     ]
    },
    {
     "data": {
      "image/png": "[encoded data removed]",
      "text/plain": [
       "<Figure size 720x432 with 1 Axes>"
      ]
     },
     "metadata": {
      "needs_background": "light"
     },
     "output_type": "display_data"
    }
   ],
   "source": [
    "threshold_analysis = pd.DataFrame({'Thresh_alpha':[0],'Accuracy':[0],'Percent_data_capture':[0],'Precision':[0],'Recall':[0],'f1':[0]})\n",
    "detl_threshold = pd.DataFrame({'Thresh_alpha':[],'Accuracy':[],'Percent_data_capture':[],'Precision':[],'Recall':[],'f1':[]})\n",
    "for i in range (0,99):\n",
    "    alpha_th = i*.01\n",
    "    res1 = pd.DataFrame(classification_report(probsdf_test['trth'][(probsdf_test['GBprobs_1']>alpha_th) | (probsdf_test['GBprobs_0']>alpha_th)],probsdf_test['GBoost_Pred'][(probsdf_test['GBprobs_1']>alpha_th) | (probsdf_test['GBprobs_0']>alpha_th)],output_dict=True))\n",
    "    threshold_analysis['Accuracy']= res1['accuracy'].iloc[0]\n",
    "    threshold_analysis['Percent_data_capture'] = probsdf_test['trth'][(probsdf_test['GBprobs_1']>alpha_th) | (probsdf_test['GBprobs_0']>alpha_th)].count()/probsdf_test['GBprobs_1'].count()\n",
    "    threshold_analysis['Thresh_alpha'] = alpha_th\n",
    "    try:\n",
    "        threshold_analysis['Precision'] = res1['1'].loc['precision']\n",
    "        threshold_analysis['Recall'] = res1['1'].loc['recall']\n",
    "        threshold_analysis['f1'] = res1['1'].loc['f1-score']\n",
    "    except KeyError:\n",
    "        threshold_analysis['Precision'] = 0\n",
    "        threshold_analysis['Recall'] = 0\n",
    "        threshold_analysis['f1'] = 0\n",
    "    detl_threshold = detl_threshold.append(threshold_analysis)\n",
    "\n",
    "plt.rcParams['figure.figsize'] = [10, 6]\n",
    "pyplot.plot(detl_threshold['Thresh_alpha'], detl_threshold['Accuracy'], marker='.', label='Accuracy')\n",
    "pyplot.plot(detl_threshold['Thresh_alpha'], detl_threshold['Percent_data_capture'], marker='.', label='Percentage_of_Data_captured')\n",
    "pyplot.plot(detl_threshold['Thresh_alpha'], detl_threshold['Precision'], marker='.', label='Precision')\n",
    "pyplot.plot(detl_threshold['Thresh_alpha'], detl_threshold['Recall'], marker='.', label='Recall')\n",
    "pyplot.plot(detl_threshold['Thresh_alpha'], detl_threshold['f1'], marker='.', label='f1')\n",
    "pyplot.xlabel('Threshold for Data Selection')\n",
    "pyplot.ylabel('Value')\n",
    "pyplot.grid(visible=True, which='both', axis='both')\n",
    "#pyplot.grid(True)\n",
    "pyplot.title('Stacked Ensemble with Meta Model as GradientBoost : Semeval_data')\n",
    "# show the legend\n",
    "pyplot.legend()\n",
    "# show the plot\n",
    "pyplot.show()"
   ]
  },
  {
   "cell_type": "code",
   "execution_count": 116,
   "id": "04bf2001",
   "metadata": {},
   "outputs": [],
   "source": [
    "corr_analysis = probsdf_test[['label_pol_pred','GBoost_Pred','textblob_polarity','flair_polarity','vader_polarity','bert_polarity','trth']].corr()"
   ]
  },
  {
   "cell_type": "code",
   "execution_count": 117,
   "id": "a3a04f80",
   "metadata": {},
   "outputs": [],
   "source": [
    "probsdf_test[['label_pol_pred','GBoost_Pred','textblob_polarity','flair_polarity','vader_polarity','bert_polarity','trth']].corr().to_csv('semeval_final_corrdata.csv')"
   ]
  },
  {
   "cell_type": "code",
   "execution_count": 118,
   "id": "4e956341",
   "metadata": {},
   "outputs": [
    {
     "data": {
      "text/plain": [
       "(array([181.,  12.,   8.,  40.,   8.,  50.,   9.,   4.,  12., 194.]),\n",
       " array([0.00892245, 0.10650714, 0.20409183, 0.30167652, 0.39926122,\n",
       "        0.49684591, 0.5944306 , 0.69201529, 0.78959998, 0.88718467,\n",
       "        0.98476936]),\n",
       " <a list of 10 Patch objects>)"
      ]
     },
     "execution_count": 118,
     "metadata": {},
     "output_type": "execute_result"
    },
    {
     "data": {
      "image/png": "[encoded data removed]",
      "text/plain": [
       "<Figure size 720x432 with 1 Axes>"
      ]
     },
     "metadata": {
      "needs_background": "light"
     },
     "output_type": "display_data"
    }
   ],
   "source": [
    "plt.hist(probsdf_test[0])"
   ]
  },
  {
   "cell_type": "code",
   "execution_count": 119,
   "id": "1d5a9bd0",
   "metadata": {},
   "outputs": [
    {
     "data": {
      "text/plain": [
       "(array([173.,  20.,  34.,  25.,   0.,  52.,   1.,   5.,   8., 200.]),\n",
       " array([0.11718019, 0.19368951, 0.27019884, 0.34670816, 0.42321749,\n",
       "        0.49972681, 0.57623614, 0.65274546, 0.72925479, 0.80576411,\n",
       "        0.88227343]),\n",
       " <a list of 10 Patch objects>)"
      ]
     },
     "execution_count": 119,
     "metadata": {},
     "output_type": "execute_result"
    },
    {
     "data": {
      "image/png": "[encoded data removed]",
      "text/plain": [
       "<Figure size 720x432 with 1 Axes>"
      ]
     },
     "metadata": {
      "needs_background": "light"
     },
     "output_type": "display_data"
    }
   ],
   "source": [
    "plt.hist(probsdf_test['GBprobs_0'])"
   ]
  },
  {
   "cell_type": "code",
   "execution_count": 120,
   "id": "c4bcbc96",
   "metadata": {},
   "outputs": [],
   "source": [
    "dat = corr_analysis['trth'].to_numpy()"
   ]
  },
  {
   "cell_type": "code",
   "execution_count": 121,
   "id": "b53ebd43",
   "metadata": {},
   "outputs": [],
   "source": [
    "zz = corr_analysis.index"
   ]
  },
  {
   "cell_type": "code",
   "execution_count": 122,
   "id": "f5c13f92",
   "metadata": {},
   "outputs": [
    {
     "data": {
      "text/plain": [
       "<BarContainer object of 7 artists>"
      ]
     },
     "execution_count": 122,
     "metadata": {},
     "output_type": "execute_result"
    },
    {
     "data": {
      "image/png": "[encoded data removed]",
      "text/plain": [
       "<Figure size 720x432 with 1 Axes>"
      ]
     },
     "metadata": {
      "needs_background": "light"
     },
     "output_type": "display_data"
    }
   ],
   "source": [
    "\n",
    "matplotlib.pyplot.bar(zz,dat)"
   ]
  },
  {
   "cell_type": "code",
   "execution_count": 123,
   "id": "b60b41b6",
   "metadata": {},
   "outputs": [
    {
     "data": {
      "text/plain": [
       "['label_pol_pred',\n",
       " 'GBoost_Pred',\n",
       " 'textblob_polarity',\n",
       " 'flair_polarity',\n",
       " 'vader_polarity',\n",
       " 'bert_polarity',\n",
       " 'trth']"
      ]
     },
     "execution_count": 123,
     "metadata": {},
     "output_type": "execute_result"
    }
   ],
   "source": [
    "zz.to_list()"
   ]
  },
  {
   "cell_type": "code",
   "execution_count": 124,
   "id": "072581a3",
   "metadata": {},
   "outputs": [
    {
     "data": {
      "text/plain": [
       "array([0.7901178 , 0.78002226, 0.27832333, 0.52580819, 0.47466545,\n",
       "       0.78791397, 1.        ])"
      ]
     },
     "execution_count": 124,
     "metadata": {},
     "output_type": "execute_result"
    }
   ],
   "source": [
    "dat"
   ]
  },
  {
   "attachments": {},
   "cell_type": "markdown",
   "id": "bacd9617",
   "metadata": {},
   "source": [
    "# Final Analysis LR vs GBoost"
   ]
  },
  {
   "cell_type": "code",
   "execution_count": 125,
   "id": "e50126f9",
   "metadata": {},
   "outputs": [
    {
     "data": {
      "text/html": [
       "<div>\n",
       "<style scoped>\n",
       "    .dataframe tbody tr th:only-of-type {\n",
       "        vertical-align: middle;\n",
       "    }\n",
       "\n",
       "    .dataframe tbody tr th {\n",
       "        vertical-align: top;\n",
       "    }\n",
       "\n",
       "    .dataframe thead th {\n",
       "        text-align: right;\n",
       "    }\n",
       "</style>\n",
       "<table border=\"1\" class=\"dataframe\">\n",
       "  <thead>\n",
       "    <tr style=\"text-align: right;\">\n",
       "      <th></th>\n",
       "      <th>-1</th>\n",
       "      <th>1</th>\n",
       "      <th>accuracy</th>\n",
       "      <th>macro avg</th>\n",
       "      <th>weighted avg</th>\n",
       "    </tr>\n",
       "  </thead>\n",
       "  <tbody>\n",
       "    <tr>\n",
       "      <th>precision</th>\n",
       "      <td>0.883459</td>\n",
       "      <td>0.896825</td>\n",
       "      <td>0.889961</td>\n",
       "      <td>0.890142</td>\n",
       "      <td>0.890090</td>\n",
       "    </tr>\n",
       "    <tr>\n",
       "      <th>recall</th>\n",
       "      <td>0.900383</td>\n",
       "      <td>0.879377</td>\n",
       "      <td>0.889961</td>\n",
       "      <td>0.889880</td>\n",
       "      <td>0.889961</td>\n",
       "    </tr>\n",
       "    <tr>\n",
       "      <th>f1-score</th>\n",
       "      <td>0.891841</td>\n",
       "      <td>0.888016</td>\n",
       "      <td>0.889961</td>\n",
       "      <td>0.889928</td>\n",
       "      <td>0.889943</td>\n",
       "    </tr>\n",
       "    <tr>\n",
       "      <th>support</th>\n",
       "      <td>261.000000</td>\n",
       "      <td>257.000000</td>\n",
       "      <td>0.889961</td>\n",
       "      <td>518.000000</td>\n",
       "      <td>518.000000</td>\n",
       "    </tr>\n",
       "  </tbody>\n",
       "</table>\n",
       "</div>"
      ],
      "text/plain": [
       "                   -1           1  accuracy   macro avg  weighted avg\n",
       "precision    0.883459    0.896825  0.889961    0.890142      0.890090\n",
       "recall       0.900383    0.879377  0.889961    0.889880      0.889961\n",
       "f1-score     0.891841    0.888016  0.889961    0.889928      0.889943\n",
       "support    261.000000  257.000000  0.889961  518.000000    518.000000"
      ]
     },
     "execution_count": 125,
     "metadata": {},
     "output_type": "execute_result"
    }
   ],
   "source": [
    "alpha_th_test = 0\n",
    "pd.DataFrame(metrics.classification_report(probsdf_test['trth'][(probsdf_test['GBprobs_1']>alpha_th_test) | (probsdf_test['GBprobs_0']>alpha_th_test)],probsdf_test['GBoost_Pred'][(probsdf_test['GBprobs_1']>alpha_th_test) | (probsdf_test['GBprobs_0']>alpha_th_test)],output_dict=True))"
   ]
  },
  {
   "cell_type": "code",
   "execution_count": 126,
   "id": "ebfa29fc",
   "metadata": {},
   "outputs": [
    {
     "data": {
      "text/html": [
       "<div>\n",
       "<style scoped>\n",
       "    .dataframe tbody tr th:only-of-type {\n",
       "        vertical-align: middle;\n",
       "    }\n",
       "\n",
       "    .dataframe tbody tr th {\n",
       "        vertical-align: top;\n",
       "    }\n",
       "\n",
       "    .dataframe thead th {\n",
       "        text-align: right;\n",
       "    }\n",
       "</style>\n",
       "<table border=\"1\" class=\"dataframe\">\n",
       "  <thead>\n",
       "    <tr style=\"text-align: right;\">\n",
       "      <th></th>\n",
       "      <th>-1</th>\n",
       "      <th>1</th>\n",
       "      <th>accuracy</th>\n",
       "      <th>macro avg</th>\n",
       "      <th>weighted avg</th>\n",
       "    </tr>\n",
       "  </thead>\n",
       "  <tbody>\n",
       "    <tr>\n",
       "      <th>precision</th>\n",
       "      <td>0.963636</td>\n",
       "      <td>0.835570</td>\n",
       "      <td>0.889961</td>\n",
       "      <td>0.899603</td>\n",
       "      <td>0.900098</td>\n",
       "    </tr>\n",
       "    <tr>\n",
       "      <th>recall</th>\n",
       "      <td>0.812261</td>\n",
       "      <td>0.968872</td>\n",
       "      <td>0.889961</td>\n",
       "      <td>0.890566</td>\n",
       "      <td>0.889961</td>\n",
       "    </tr>\n",
       "    <tr>\n",
       "      <th>f1-score</th>\n",
       "      <td>0.881497</td>\n",
       "      <td>0.897297</td>\n",
       "      <td>0.889961</td>\n",
       "      <td>0.889397</td>\n",
       "      <td>0.889336</td>\n",
       "    </tr>\n",
       "    <tr>\n",
       "      <th>support</th>\n",
       "      <td>261.000000</td>\n",
       "      <td>257.000000</td>\n",
       "      <td>0.889961</td>\n",
       "      <td>518.000000</td>\n",
       "      <td>518.000000</td>\n",
       "    </tr>\n",
       "  </tbody>\n",
       "</table>\n",
       "</div>"
      ],
      "text/plain": [
       "                   -1           1  accuracy   macro avg  weighted avg\n",
       "precision    0.963636    0.835570  0.889961    0.899603      0.900098\n",
       "recall       0.812261    0.968872  0.889961    0.890566      0.889961\n",
       "f1-score     0.881497    0.897297  0.889961    0.889397      0.889336\n",
       "support    261.000000  257.000000  0.889961  518.000000    518.000000"
      ]
     },
     "execution_count": 126,
     "metadata": {},
     "output_type": "execute_result"
    }
   ],
   "source": [
    "alpha_th_test = 0\n",
    "pd.DataFrame(metrics.classification_report(probsdf_test['trth'][(probsdf_test[0]>alpha_th_test) | (probsdf_test[1]>alpha_th_test)],probsdf_test['label_pol_pred'][(probsdf_test[0]>alpha_th_test) | (probsdf_test[1]>alpha_th_test)],output_dict=True))"
   ]
  },
  {
   "cell_type": "code",
   "execution_count": 127,
   "id": "9adcabd1",
   "metadata": {},
   "outputs": [
    {
     "data": {
      "text/html": [
       "<div>\n",
       "<style scoped>\n",
       "    .dataframe tbody tr th:only-of-type {\n",
       "        vertical-align: middle;\n",
       "    }\n",
       "\n",
       "    .dataframe tbody tr th {\n",
       "        vertical-align: top;\n",
       "    }\n",
       "\n",
       "    .dataframe thead th {\n",
       "        text-align: right;\n",
       "    }\n",
       "</style>\n",
       "<table border=\"1\" class=\"dataframe\">\n",
       "  <thead>\n",
       "    <tr style=\"text-align: right;\">\n",
       "      <th></th>\n",
       "      <th>0</th>\n",
       "      <th>1</th>\n",
       "      <th>trth</th>\n",
       "      <th>label_pol_pred</th>\n",
       "      <th>tb</th>\n",
       "      <th>vader</th>\n",
       "      <th>bert</th>\n",
       "      <th>flair</th>\n",
       "      <th>textblob_polarity</th>\n",
       "      <th>vader_polarity</th>\n",
       "      <th>bert_polarity</th>\n",
       "      <th>flair_polarity</th>\n",
       "      <th>GBprobs_0</th>\n",
       "      <th>GBprobs_1</th>\n",
       "      <th>GBoost_polarity</th>\n",
       "      <th>GBoost_Pred</th>\n",
       "      <th>trth1</th>\n",
       "    </tr>\n",
       "  </thead>\n",
       "  <tbody>\n",
       "    <tr>\n",
       "      <th>0</th>\n",
       "      <td>0.581587</td>\n",
       "      <td>0.418413</td>\n",
       "      <td>1</td>\n",
       "      <td>1</td>\n",
       "      <td>0.0000</td>\n",
       "      <td>0.0000</td>\n",
       "      <td>0.000000</td>\n",
       "      <td>-0.998799</td>\n",
       "      <td>1.0</td>\n",
       "      <td>1.0</td>\n",
       "      <td>1.0</td>\n",
       "      <td>-1.0</td>\n",
       "      <td>0.505568</td>\n",
       "      <td>0.494432</td>\n",
       "      <td>-1</td>\n",
       "      <td>-1</td>\n",
       "      <td>NaN</td>\n",
       "    </tr>\n",
       "    <tr>\n",
       "      <th>1</th>\n",
       "      <td>0.960170</td>\n",
       "      <td>0.039830</td>\n",
       "      <td>-1</td>\n",
       "      <td>-1</td>\n",
       "      <td>-0.0258</td>\n",
       "      <td>-0.0258</td>\n",
       "      <td>-0.737471</td>\n",
       "      <td>-0.994933</td>\n",
       "      <td>1.0</td>\n",
       "      <td>-1.0</td>\n",
       "      <td>-1.0</td>\n",
       "      <td>-1.0</td>\n",
       "      <td>0.880427</td>\n",
       "      <td>0.119573</td>\n",
       "      <td>-1</td>\n",
       "      <td>-1</td>\n",
       "      <td>NaN</td>\n",
       "    </tr>\n",
       "    <tr>\n",
       "      <th>2</th>\n",
       "      <td>0.583993</td>\n",
       "      <td>0.416007</td>\n",
       "      <td>1</td>\n",
       "      <td>1</td>\n",
       "      <td>0.0129</td>\n",
       "      <td>0.0129</td>\n",
       "      <td>0.000000</td>\n",
       "      <td>-0.755804</td>\n",
       "      <td>1.0</td>\n",
       "      <td>1.0</td>\n",
       "      <td>1.0</td>\n",
       "      <td>-1.0</td>\n",
       "      <td>0.367719</td>\n",
       "      <td>0.632281</td>\n",
       "      <td>1</td>\n",
       "      <td>1</td>\n",
       "      <td>-1.0</td>\n",
       "    </tr>\n",
       "    <tr>\n",
       "      <th>3</th>\n",
       "      <td>0.971582</td>\n",
       "      <td>0.028418</td>\n",
       "      <td>-1</td>\n",
       "      <td>-1</td>\n",
       "      <td>-0.5334</td>\n",
       "      <td>-0.5334</td>\n",
       "      <td>-0.806515</td>\n",
       "      <td>-0.981972</td>\n",
       "      <td>1.0</td>\n",
       "      <td>-1.0</td>\n",
       "      <td>-1.0</td>\n",
       "      <td>-1.0</td>\n",
       "      <td>0.882273</td>\n",
       "      <td>0.117727</td>\n",
       "      <td>-1</td>\n",
       "      <td>-1</td>\n",
       "      <td>1.0</td>\n",
       "    </tr>\n",
       "    <tr>\n",
       "      <th>4</th>\n",
       "      <td>0.023527</td>\n",
       "      <td>0.976473</td>\n",
       "      <td>1</td>\n",
       "      <td>1</td>\n",
       "      <td>0.5859</td>\n",
       "      <td>0.5859</td>\n",
       "      <td>0.758257</td>\n",
       "      <td>0.969718</td>\n",
       "      <td>1.0</td>\n",
       "      <td>1.0</td>\n",
       "      <td>1.0</td>\n",
       "      <td>1.0</td>\n",
       "      <td>0.117424</td>\n",
       "      <td>0.882576</td>\n",
       "      <td>1</td>\n",
       "      <td>1</td>\n",
       "      <td>1.0</td>\n",
       "    </tr>\n",
       "  </tbody>\n",
       "</table>\n",
       "</div>"
      ],
      "text/plain": [
       "          0         1  trth  label_pol_pred      tb   vader      bert  \\\n",
       "0  0.581587  0.418413     1               1  0.0000  0.0000  0.000000   \n",
       "1  0.960170  0.039830    -1              -1 -0.0258 -0.0258 -0.737471   \n",
       "2  0.583993  0.416007     1               1  0.0129  0.0129  0.000000   \n",
       "3  0.971582  0.028418    -1              -1 -0.5334 -0.5334 -0.806515   \n",
       "4  0.023527  0.976473     1               1  0.5859  0.5859  0.758257   \n",
       "\n",
       "      flair  textblob_polarity  vader_polarity  bert_polarity  flair_polarity  \\\n",
       "0 -0.998799                1.0             1.0            1.0            -1.0   \n",
       "1 -0.994933                1.0            -1.0           -1.0            -1.0   \n",
       "2 -0.755804                1.0             1.0            1.0            -1.0   \n",
       "3 -0.981972                1.0            -1.0           -1.0            -1.0   \n",
       "4  0.969718                1.0             1.0            1.0             1.0   \n",
       "\n",
       "   GBprobs_0  GBprobs_1  GBoost_polarity  GBoost_Pred  trth1  \n",
       "0   0.505568   0.494432               -1           -1    NaN  \n",
       "1   0.880427   0.119573               -1           -1    NaN  \n",
       "2   0.367719   0.632281                1            1   -1.0  \n",
       "3   0.882273   0.117727               -1           -1    1.0  \n",
       "4   0.117424   0.882576                1            1    1.0  "
      ]
     },
     "execution_count": 127,
     "metadata": {},
     "output_type": "execute_result"
    }
   ],
   "source": [
    "probsdf_test.head()"
   ]
  },
  {
   "cell_type": "code",
   "execution_count": 128,
   "id": "3d78d380",
   "metadata": {},
   "outputs": [
    {
     "name": "stderr",
     "output_type": "stream",
     "text": [
      "/Users/amitobe/opt/anaconda3/envs/nlp_course/lib/python3.7/site-packages/pandas/core/indexing.py:1732: SettingWithCopyWarning: \n",
      "A value is trying to be set on a copy of a slice from a DataFrame\n",
      "\n",
      "See the caveats in the documentation: https://pandas.pydata.org/pandas-docs/stable/user_guide/indexing.html#returning-a-view-versus-a-copy\n",
      "  self._setitem_single_block(indexer, value, name)\n"
     ]
    },
    {
     "data": {
      "text/html": [
       "<div>\n",
       "<style scoped>\n",
       "    .dataframe tbody tr th:only-of-type {\n",
       "        vertical-align: middle;\n",
       "    }\n",
       "\n",
       "    .dataframe tbody tr th {\n",
       "        vertical-align: top;\n",
       "    }\n",
       "\n",
       "    .dataframe thead th {\n",
       "        text-align: right;\n",
       "    }\n",
       "</style>\n",
       "<table border=\"1\" class=\"dataframe\">\n",
       "  <thead>\n",
       "    <tr style=\"text-align: right;\">\n",
       "      <th></th>\n",
       "      <th>Dataset</th>\n",
       "      <th>Log_reg_meta</th>\n",
       "      <th>GBoost_meta</th>\n",
       "      <th>VADER</th>\n",
       "      <th>TextBlob</th>\n",
       "      <th>Flair</th>\n",
       "      <th>BERT</th>\n",
       "    </tr>\n",
       "  </thead>\n",
       "  <tbody>\n",
       "    <tr>\n",
       "      <th>0</th>\n",
       "      <td>semeval</td>\n",
       "      <td>0.889961</td>\n",
       "      <td>0.889961</td>\n",
       "      <td>0.706837</td>\n",
       "      <td>0.617613</td>\n",
       "      <td>0.761298</td>\n",
       "      <td>0.874855</td>\n",
       "    </tr>\n",
       "  </tbody>\n",
       "</table>\n",
       "</div>"
      ],
      "text/plain": [
       "   Dataset  Log_reg_meta  GBoost_meta     VADER  TextBlob     Flair      BERT\n",
       "0  semeval      0.889961     0.889961  0.706837  0.617613  0.761298  0.874855"
      ]
     },
     "execution_count": 128,
     "metadata": {},
     "output_type": "execute_result"
    }
   ],
   "source": [
    "semeval_vader_acc = pd.DataFrame(metrics.classification_report(dataset_analysis['Sentiment'], dataset_analysis['vader_polarity'],output_dict=True))\n",
    "semeval_tb_acc = pd.DataFrame(metrics.classification_report(dataset_analysis['Sentiment'], dataset_analysis['textblob_polarity'],output_dict=True))\n",
    "semeval_bert_acc = pd.DataFrame(metrics.classification_report(dataset_analysis['Sentiment'], dataset_analysis['bert_polarity'],output_dict=True))\n",
    "semeval_flair_acc = pd.DataFrame(metrics.classification_report(dataset_analysis['Sentiment'], dataset_analysis['flair_polarity'],output_dict=True))\n",
    "\n",
    "alpha_th_test = 0\n",
    "semeval_gboost_acc = pd.DataFrame(metrics.classification_report(probsdf_test['trth'][(probsdf_test['GBprobs_1']>alpha_th_test) | (probsdf_test['GBprobs_0']>alpha_th_test)],probsdf_test['GBoost_Pred'][(probsdf_test['GBprobs_1']>alpha_th_test) | (probsdf_test['GBprobs_0']>alpha_th_test)],output_dict=True))\n",
    "semeval_LR_acc = pd.DataFrame(metrics.classification_report(probsdf_test['trth'][(probsdf_test[0]>alpha_th_test) | (probsdf_test[1]>alpha_th_test)],probsdf_test['label_pol_pred'][(probsdf_test[0]>alpha_th_test) | (probsdf_test[1]>alpha_th_test)],output_dict=True))\n",
    "semeval_acc_compare = pd.DataFrame({'Dataset':'semeval','Log_reg_meta':[0],'GBoost_meta':[0],'VADER':[0],'TextBlob':[0],'Flair':[0],'BERT':[0]})\n",
    "semeval_acc_compare['GBoost_meta'].iloc[0]=semeval_gboost_acc['accuracy'].loc['precision']\n",
    "semeval_acc_compare['Log_reg_meta'].iloc[0]=semeval_LR_acc['accuracy'].loc['precision']\n",
    "semeval_acc_compare['VADER'].iloc[0]=semeval_vader_acc['accuracy'].loc['precision']\n",
    "semeval_acc_compare['BERT'].iloc[0]=semeval_bert_acc['accuracy'].loc['precision']\n",
    "semeval_acc_compare['Flair'].iloc[0]=semeval_flair_acc['accuracy'].loc['precision']\n",
    "semeval_acc_compare['TextBlob'].iloc[0]=semeval_tb_acc['accuracy'].loc['precision']\n",
    "semeval_acc_compare.to_csv('semeval_acc_analysis.csv')\n",
    "semeval_acc_compare"
   ]
  },
  {
   "attachments": {},
   "cell_type": "markdown",
   "id": "eb1b4a26",
   "metadata": {},
   "source": [
    "## SemEval 2017 Test Data Analysis\n",
    "Here we found that this dataset is the same as the original dataset \n",
    "So below we test the Log Regressor on the entire ensemble and see results once again\n",
    "We find consistent accuraccy"
   ]
  },
  {
   "cell_type": "code",
   "execution_count": 129,
   "id": "f7e713f4",
   "metadata": {},
   "outputs": [
    {
     "data": {
      "text/html": [
       "<div>\n",
       "<style scoped>\n",
       "    .dataframe tbody tr th:only-of-type {\n",
       "        vertical-align: middle;\n",
       "    }\n",
       "\n",
       "    .dataframe tbody tr th {\n",
       "        vertical-align: top;\n",
       "    }\n",
       "\n",
       "    .dataframe thead th {\n",
       "        text-align: right;\n",
       "    }\n",
       "</style>\n",
       "<table border=\"1\" class=\"dataframe\">\n",
       "  <thead>\n",
       "    <tr style=\"text-align: right;\">\n",
       "      <th></th>\n",
       "      <th>0</th>\n",
       "      <th>1</th>\n",
       "      <th>trth</th>\n",
       "      <th>label_pol_pred</th>\n",
       "      <th>tb</th>\n",
       "      <th>vader</th>\n",
       "      <th>bert</th>\n",
       "      <th>flair</th>\n",
       "      <th>textblob_polarity</th>\n",
       "      <th>vader_polarity</th>\n",
       "      <th>bert_polarity</th>\n",
       "      <th>flair_polarity</th>\n",
       "      <th>GBprobs_0</th>\n",
       "      <th>GBprobs_1</th>\n",
       "      <th>GBoost_polarity</th>\n",
       "      <th>GBoost_Pred</th>\n",
       "      <th>trth1</th>\n",
       "    </tr>\n",
       "  </thead>\n",
       "  <tbody>\n",
       "    <tr>\n",
       "      <th>0</th>\n",
       "      <td>0.581587</td>\n",
       "      <td>0.418413</td>\n",
       "      <td>1</td>\n",
       "      <td>1</td>\n",
       "      <td>0.0000</td>\n",
       "      <td>0.0000</td>\n",
       "      <td>0.000000</td>\n",
       "      <td>-0.998799</td>\n",
       "      <td>1.0</td>\n",
       "      <td>1.0</td>\n",
       "      <td>1.0</td>\n",
       "      <td>-1.0</td>\n",
       "      <td>0.505568</td>\n",
       "      <td>0.494432</td>\n",
       "      <td>-1</td>\n",
       "      <td>-1</td>\n",
       "      <td>NaN</td>\n",
       "    </tr>\n",
       "    <tr>\n",
       "      <th>1</th>\n",
       "      <td>0.960170</td>\n",
       "      <td>0.039830</td>\n",
       "      <td>-1</td>\n",
       "      <td>-1</td>\n",
       "      <td>-0.0258</td>\n",
       "      <td>-0.0258</td>\n",
       "      <td>-0.737471</td>\n",
       "      <td>-0.994933</td>\n",
       "      <td>1.0</td>\n",
       "      <td>-1.0</td>\n",
       "      <td>-1.0</td>\n",
       "      <td>-1.0</td>\n",
       "      <td>0.880427</td>\n",
       "      <td>0.119573</td>\n",
       "      <td>-1</td>\n",
       "      <td>-1</td>\n",
       "      <td>NaN</td>\n",
       "    </tr>\n",
       "    <tr>\n",
       "      <th>2</th>\n",
       "      <td>0.583993</td>\n",
       "      <td>0.416007</td>\n",
       "      <td>1</td>\n",
       "      <td>1</td>\n",
       "      <td>0.0129</td>\n",
       "      <td>0.0129</td>\n",
       "      <td>0.000000</td>\n",
       "      <td>-0.755804</td>\n",
       "      <td>1.0</td>\n",
       "      <td>1.0</td>\n",
       "      <td>1.0</td>\n",
       "      <td>-1.0</td>\n",
       "      <td>0.367719</td>\n",
       "      <td>0.632281</td>\n",
       "      <td>1</td>\n",
       "      <td>1</td>\n",
       "      <td>-1.0</td>\n",
       "    </tr>\n",
       "    <tr>\n",
       "      <th>3</th>\n",
       "      <td>0.971582</td>\n",
       "      <td>0.028418</td>\n",
       "      <td>-1</td>\n",
       "      <td>-1</td>\n",
       "      <td>-0.5334</td>\n",
       "      <td>-0.5334</td>\n",
       "      <td>-0.806515</td>\n",
       "      <td>-0.981972</td>\n",
       "      <td>1.0</td>\n",
       "      <td>-1.0</td>\n",
       "      <td>-1.0</td>\n",
       "      <td>-1.0</td>\n",
       "      <td>0.882273</td>\n",
       "      <td>0.117727</td>\n",
       "      <td>-1</td>\n",
       "      <td>-1</td>\n",
       "      <td>1.0</td>\n",
       "    </tr>\n",
       "    <tr>\n",
       "      <th>4</th>\n",
       "      <td>0.023527</td>\n",
       "      <td>0.976473</td>\n",
       "      <td>1</td>\n",
       "      <td>1</td>\n",
       "      <td>0.5859</td>\n",
       "      <td>0.5859</td>\n",
       "      <td>0.758257</td>\n",
       "      <td>0.969718</td>\n",
       "      <td>1.0</td>\n",
       "      <td>1.0</td>\n",
       "      <td>1.0</td>\n",
       "      <td>1.0</td>\n",
       "      <td>0.117424</td>\n",
       "      <td>0.882576</td>\n",
       "      <td>1</td>\n",
       "      <td>1</td>\n",
       "      <td>1.0</td>\n",
       "    </tr>\n",
       "    <tr>\n",
       "      <th>...</th>\n",
       "      <td>...</td>\n",
       "      <td>...</td>\n",
       "      <td>...</td>\n",
       "      <td>...</td>\n",
       "      <td>...</td>\n",
       "      <td>...</td>\n",
       "      <td>...</td>\n",
       "      <td>...</td>\n",
       "      <td>...</td>\n",
       "      <td>...</td>\n",
       "      <td>...</td>\n",
       "      <td>...</td>\n",
       "      <td>...</td>\n",
       "      <td>...</td>\n",
       "      <td>...</td>\n",
       "      <td>...</td>\n",
       "      <td>...</td>\n",
       "    </tr>\n",
       "    <tr>\n",
       "      <th>513</th>\n",
       "      <td>0.973946</td>\n",
       "      <td>0.026054</td>\n",
       "      <td>-1</td>\n",
       "      <td>-1</td>\n",
       "      <td>-0.3612</td>\n",
       "      <td>-0.3612</td>\n",
       "      <td>-0.876151</td>\n",
       "      <td>-0.998469</td>\n",
       "      <td>-1.0</td>\n",
       "      <td>-1.0</td>\n",
       "      <td>-1.0</td>\n",
       "      <td>-1.0</td>\n",
       "      <td>0.882273</td>\n",
       "      <td>0.117727</td>\n",
       "      <td>-1</td>\n",
       "      <td>-1</td>\n",
       "      <td>NaN</td>\n",
       "    </tr>\n",
       "    <tr>\n",
       "      <th>514</th>\n",
       "      <td>0.979776</td>\n",
       "      <td>0.020224</td>\n",
       "      <td>-1</td>\n",
       "      <td>-1</td>\n",
       "      <td>-0.4003</td>\n",
       "      <td>-0.4003</td>\n",
       "      <td>-0.952544</td>\n",
       "      <td>-0.998901</td>\n",
       "      <td>-1.0</td>\n",
       "      <td>-1.0</td>\n",
       "      <td>-1.0</td>\n",
       "      <td>-1.0</td>\n",
       "      <td>0.882273</td>\n",
       "      <td>0.117727</td>\n",
       "      <td>-1</td>\n",
       "      <td>-1</td>\n",
       "      <td>NaN</td>\n",
       "    </tr>\n",
       "    <tr>\n",
       "      <th>515</th>\n",
       "      <td>0.966139</td>\n",
       "      <td>0.033861</td>\n",
       "      <td>-1</td>\n",
       "      <td>-1</td>\n",
       "      <td>-0.4158</td>\n",
       "      <td>-0.4158</td>\n",
       "      <td>-0.804400</td>\n",
       "      <td>-0.935471</td>\n",
       "      <td>-1.0</td>\n",
       "      <td>-1.0</td>\n",
       "      <td>-1.0</td>\n",
       "      <td>-1.0</td>\n",
       "      <td>0.882273</td>\n",
       "      <td>0.117727</td>\n",
       "      <td>-1</td>\n",
       "      <td>-1</td>\n",
       "      <td>NaN</td>\n",
       "    </tr>\n",
       "    <tr>\n",
       "      <th>516</th>\n",
       "      <td>0.973574</td>\n",
       "      <td>0.026426</td>\n",
       "      <td>-1</td>\n",
       "      <td>-1</td>\n",
       "      <td>0.3818</td>\n",
       "      <td>0.3818</td>\n",
       "      <td>-0.934049</td>\n",
       "      <td>-0.999993</td>\n",
       "      <td>1.0</td>\n",
       "      <td>1.0</td>\n",
       "      <td>-1.0</td>\n",
       "      <td>-1.0</td>\n",
       "      <td>0.882273</td>\n",
       "      <td>0.117727</td>\n",
       "      <td>-1</td>\n",
       "      <td>-1</td>\n",
       "      <td>NaN</td>\n",
       "    </tr>\n",
       "    <tr>\n",
       "      <th>517</th>\n",
       "      <td>0.851088</td>\n",
       "      <td>0.148912</td>\n",
       "      <td>-1</td>\n",
       "      <td>-1</td>\n",
       "      <td>-0.3182</td>\n",
       "      <td>-0.3182</td>\n",
       "      <td>-0.576716</td>\n",
       "      <td>0.811057</td>\n",
       "      <td>1.0</td>\n",
       "      <td>-1.0</td>\n",
       "      <td>-1.0</td>\n",
       "      <td>1.0</td>\n",
       "      <td>0.849738</td>\n",
       "      <td>0.150262</td>\n",
       "      <td>-1</td>\n",
       "      <td>-1</td>\n",
       "      <td>-1.0</td>\n",
       "    </tr>\n",
       "  </tbody>\n",
       "</table>\n",
       "<p>518 rows × 17 columns</p>\n",
       "</div>"
      ],
      "text/plain": [
       "            0         1  trth  label_pol_pred      tb   vader      bert  \\\n",
       "0    0.581587  0.418413     1               1  0.0000  0.0000  0.000000   \n",
       "1    0.960170  0.039830    -1              -1 -0.0258 -0.0258 -0.737471   \n",
       "2    0.583993  0.416007     1               1  0.0129  0.0129  0.000000   \n",
       "3    0.971582  0.028418    -1              -1 -0.5334 -0.5334 -0.806515   \n",
       "4    0.023527  0.976473     1               1  0.5859  0.5859  0.758257   \n",
       "..        ...       ...   ...             ...     ...     ...       ...   \n",
       "513  0.973946  0.026054    -1              -1 -0.3612 -0.3612 -0.876151   \n",
       "514  0.979776  0.020224    -1              -1 -0.4003 -0.4003 -0.952544   \n",
       "515  0.966139  0.033861    -1              -1 -0.4158 -0.4158 -0.804400   \n",
       "516  0.973574  0.026426    -1              -1  0.3818  0.3818 -0.934049   \n",
       "517  0.851088  0.148912    -1              -1 -0.3182 -0.3182 -0.576716   \n",
       "\n",
       "        flair  textblob_polarity  vader_polarity  bert_polarity  \\\n",
       "0   -0.998799                1.0             1.0            1.0   \n",
       "1   -0.994933                1.0            -1.0           -1.0   \n",
       "2   -0.755804                1.0             1.0            1.0   \n",
       "3   -0.981972                1.0            -1.0           -1.0   \n",
       "4    0.969718                1.0             1.0            1.0   \n",
       "..        ...                ...             ...            ...   \n",
       "513 -0.998469               -1.0            -1.0           -1.0   \n",
       "514 -0.998901               -1.0            -1.0           -1.0   \n",
       "515 -0.935471               -1.0            -1.0           -1.0   \n",
       "516 -0.999993                1.0             1.0           -1.0   \n",
       "517  0.811057                1.0            -1.0           -1.0   \n",
       "\n",
       "     flair_polarity  GBprobs_0  GBprobs_1  GBoost_polarity  GBoost_Pred  trth1  \n",
       "0              -1.0   0.505568   0.494432               -1           -1    NaN  \n",
       "1              -1.0   0.880427   0.119573               -1           -1    NaN  \n",
       "2              -1.0   0.367719   0.632281                1            1   -1.0  \n",
       "3              -1.0   0.882273   0.117727               -1           -1    1.0  \n",
       "4               1.0   0.117424   0.882576                1            1    1.0  \n",
       "..              ...        ...        ...              ...          ...    ...  \n",
       "513            -1.0   0.882273   0.117727               -1           -1    NaN  \n",
       "514            -1.0   0.882273   0.117727               -1           -1    NaN  \n",
       "515            -1.0   0.882273   0.117727               -1           -1    NaN  \n",
       "516            -1.0   0.882273   0.117727               -1           -1    NaN  \n",
       "517             1.0   0.849738   0.150262               -1           -1   -1.0  \n",
       "\n",
       "[518 rows x 17 columns]"
      ]
     },
     "execution_count": 129,
     "metadata": {},
     "output_type": "execute_result"
    }
   ],
   "source": [
    "probsdf_test\n"
   ]
  },
  {
   "attachments": {},
   "cell_type": "markdown",
   "id": "fd8c817d",
   "metadata": {},
   "source": [
    "# Ensemble Select"
   ]
  },
  {
   "cell_type": "code",
   "execution_count": 202,
   "id": "4a7f5c12",
   "metadata": {},
   "outputs": [],
   "source": [
    "from sklearn.metrics import accuracy_score"
   ]
  },
  {
   "cell_type": "code",
   "execution_count": 152,
   "id": "f8cf0723",
   "metadata": {},
   "outputs": [
    {
     "name": "stdout",
     "output_type": "stream",
     "text": [
      "Ensemble 1: ['vader']\n",
      "Ensemble 2: ['textblob']\n",
      "Ensemble 3: ['bert']\n",
      "Ensemble 4: ['flair']\n",
      "Ensemble 5: ['vader' 'textblob']\n",
      "Ensemble 6: ['vader' 'bert']\n",
      "Ensemble 7: ['vader' 'flair']\n",
      "Ensemble 8: ['textblob' 'bert']\n",
      "Ensemble 9: ['textblob' 'flair']\n",
      "Ensemble 10: ['bert' 'flair']\n",
      "Ensemble 11: ['vader' 'textblob' 'bert']\n",
      "Ensemble 12: ['vader' 'textblob' 'flair']\n",
      "Ensemble 13: ['vader' 'bert' 'flair']\n",
      "Ensemble 14: ['textblob' 'bert' 'flair']\n",
      "Ensemble 15: ['vader' 'textblob' 'bert' 'flair']\n"
     ]
    }
   ],
   "source": [
    "from itertools import combinations\n",
    "\n",
    "# List of base models (replace with your actual base models)\n",
    "base_models = ['vader','textblob','bert','flair']\n",
    "\n",
    "# Generate all possible combinations of base models\n",
    "ensemble_combinations = []\n",
    "for r in range(1, len(base_models) + 1):\n",
    "    ensemble_combinations.extend(combinations(base_models, r))\n",
    "\n",
    "# Store each ensemble as a list\n",
    "ensembles = []\n",
    "for combination in ensemble_combinations:\n",
    "    ensembles.append(np.array(combination))\n",
    "\n",
    "# Print the generated ensembles\n",
    "for idx, ensemble in enumerate(ensembles, start=1):\n",
    "    print(f\"Ensemble {idx}: {ensemble}\")\n",
    "\n"
   ]
  },
  {
   "cell_type": "code",
   "execution_count": 220,
   "id": "b073cc5e",
   "metadata": {},
   "outputs": [
    {
     "name": "stdout",
     "output_type": "stream",
     "text": [
      "['vader']\n",
      "0.6525096525096525\n",
      "['textblob']\n",
      "0.6332046332046332\n",
      "['bert']\n",
      "0.8706563706563707\n",
      "['flair']\n",
      "0.7335907335907336\n",
      "['vader' 'textblob']\n",
      "0.6602316602316602\n",
      "['vader' 'bert']\n",
      "0.8783783783783784\n",
      "['vader' 'flair']\n",
      "0.747104247104247\n",
      "['textblob' 'bert']\n",
      "0.8725868725868726\n",
      "['textblob' 'flair']\n",
      "0.7297297297297297\n",
      "['bert' 'flair']\n",
      "0.8687258687258688\n",
      "['vader' 'textblob' 'bert']\n",
      "0.8745173745173745\n",
      "['vader' 'textblob' 'flair']\n",
      "0.750965250965251\n",
      "['vader' 'bert' 'flair']\n",
      "0.8725868725868726\n",
      "['textblob' 'bert' 'flair']\n",
      "0.8687258687258688\n",
      "['vader' 'textblob' 'bert' 'flair']\n",
      "0.8725868725868726\n"
     ]
    }
   ],
   "source": [
    "X = our_data[['textblob','vader','bert','flair','vader_polarity','textblob_polarity','bert_polarity','flair_polarity','Sentiment']]\n",
    "y = our_data['Sentiment']\n",
    "acc_sc_en = []\n",
    "ens = []\n",
    "logmodel1 = LogisticRegression()\n",
    "from sklearn.model_selection import train_test_split\n",
    "X_train,X_test,y_train,y_test = train_test_split(X,y,test_size=0.3)\n",
    "X_t = X_train\n",
    "X_te = X_test\n",
    "y_t = y_train\n",
    "y_te = y_test\n",
    "for i in range(15):\n",
    "    X_train = X_t[ensembles[i]]\n",
    "    X_test = X_te[ensembles[i]]\n",
    "    y_train = y_t\n",
    "    y_test = y_te\n",
    "    X_train = mmscaler.fit_transform(X_train)\n",
    "    X_test = mmscaler.fit_transform(X_test)\n",
    "    logmodel1.fit(X_train,y_train)\n",
    "    preds = logmodel1.predict(X_test)\n",
    "    acc_ensemble = accuracy_score(y_test,preds)\n",
    "    print (ensembles[i])\n",
    "    print(acc_ensemble)\n",
    "    acc_sc_en.append(acc_ensemble)\n",
    "    ens.append(ensembles[i])"
   ]
  },
  {
   "cell_type": "code",
   "execution_count": 221,
   "id": "0550e516",
   "metadata": {},
   "outputs": [
    {
     "data": {
      "text/plain": [
       "[0.6525096525096525,\n",
       " 0.6332046332046332,\n",
       " 0.8706563706563707,\n",
       " 0.7335907335907336,\n",
       " 0.6602316602316602,\n",
       " 0.8783783783783784,\n",
       " 0.747104247104247,\n",
       " 0.8725868725868726,\n",
       " 0.7297297297297297,\n",
       " 0.8687258687258688,\n",
       " 0.8745173745173745,\n",
       " 0.750965250965251,\n",
       " 0.8725868725868726,\n",
       " 0.8687258687258688,\n",
       " 0.8725868725868726]"
      ]
     },
     "execution_count": 221,
     "metadata": {},
     "output_type": "execute_result"
    }
   ],
   "source": [
    "acc_sc_en"
   ]
  },
  {
   "cell_type": "code",
   "execution_count": 222,
   "id": "c6b15922",
   "metadata": {},
   "outputs": [
    {
     "data": {
      "text/plain": [
       "[array(['vader'], dtype='<U5'),\n",
       " array(['textblob'], dtype='<U8'),\n",
       " array(['bert'], dtype='<U4'),\n",
       " array(['flair'], dtype='<U5'),\n",
       " array(['vader', 'textblob'], dtype='<U8'),\n",
       " array(['vader', 'bert'], dtype='<U5'),\n",
       " array(['vader', 'flair'], dtype='<U5'),\n",
       " array(['textblob', 'bert'], dtype='<U8'),\n",
       " array(['textblob', 'flair'], dtype='<U8'),\n",
       " array(['bert', 'flair'], dtype='<U5'),\n",
       " array(['vader', 'textblob', 'bert'], dtype='<U8'),\n",
       " array(['vader', 'textblob', 'flair'], dtype='<U8'),\n",
       " array(['vader', 'bert', 'flair'], dtype='<U5'),\n",
       " array(['textblob', 'bert', 'flair'], dtype='<U8'),\n",
       " array(['vader', 'textblob', 'bert', 'flair'], dtype='<U8')]"
      ]
     },
     "execution_count": 222,
     "metadata": {},
     "output_type": "execute_result"
    }
   ],
   "source": [
    "ens"
   ]
  },
  {
   "cell_type": "code",
   "execution_count": 246,
   "id": "7c0aedda",
   "metadata": {},
   "outputs": [],
   "source": [
    "result_ensembles = pd.DataFrame(ens)"
   ]
  },
  {
   "cell_type": "code",
   "execution_count": 247,
   "id": "c4a896ff",
   "metadata": {},
   "outputs": [],
   "source": [
    "result_ensembles['Accuracy_semeval']=acc_sc_en"
   ]
  },
  {
   "cell_type": "code",
   "execution_count": 248,
   "id": "123b0709",
   "metadata": {},
   "outputs": [
    {
     "data": {
      "text/html": [
       "<div>\n",
       "<style scoped>\n",
       "    .dataframe tbody tr th:only-of-type {\n",
       "        vertical-align: middle;\n",
       "    }\n",
       "\n",
       "    .dataframe tbody tr th {\n",
       "        vertical-align: top;\n",
       "    }\n",
       "\n",
       "    .dataframe thead th {\n",
       "        text-align: right;\n",
       "    }\n",
       "</style>\n",
       "<table border=\"1\" class=\"dataframe\">\n",
       "  <thead>\n",
       "    <tr style=\"text-align: right;\">\n",
       "      <th></th>\n",
       "      <th>0</th>\n",
       "      <th>1</th>\n",
       "      <th>2</th>\n",
       "      <th>3</th>\n",
       "      <th>Accuracy_semeval</th>\n",
       "    </tr>\n",
       "  </thead>\n",
       "  <tbody>\n",
       "    <tr>\n",
       "      <th>5</th>\n",
       "      <td>vader</td>\n",
       "      <td>bert</td>\n",
       "      <td>None</td>\n",
       "      <td>None</td>\n",
       "      <td>0.878378</td>\n",
       "    </tr>\n",
       "    <tr>\n",
       "      <th>10</th>\n",
       "      <td>vader</td>\n",
       "      <td>textblob</td>\n",
       "      <td>bert</td>\n",
       "      <td>None</td>\n",
       "      <td>0.874517</td>\n",
       "    </tr>\n",
       "    <tr>\n",
       "      <th>7</th>\n",
       "      <td>textblob</td>\n",
       "      <td>bert</td>\n",
       "      <td>None</td>\n",
       "      <td>None</td>\n",
       "      <td>0.872587</td>\n",
       "    </tr>\n",
       "    <tr>\n",
       "      <th>12</th>\n",
       "      <td>vader</td>\n",
       "      <td>bert</td>\n",
       "      <td>flair</td>\n",
       "      <td>None</td>\n",
       "      <td>0.872587</td>\n",
       "    </tr>\n",
       "    <tr>\n",
       "      <th>14</th>\n",
       "      <td>vader</td>\n",
       "      <td>textblob</td>\n",
       "      <td>bert</td>\n",
       "      <td>flair</td>\n",
       "      <td>0.872587</td>\n",
       "    </tr>\n",
       "    <tr>\n",
       "      <th>2</th>\n",
       "      <td>bert</td>\n",
       "      <td>None</td>\n",
       "      <td>None</td>\n",
       "      <td>None</td>\n",
       "      <td>0.870656</td>\n",
       "    </tr>\n",
       "    <tr>\n",
       "      <th>9</th>\n",
       "      <td>bert</td>\n",
       "      <td>flair</td>\n",
       "      <td>None</td>\n",
       "      <td>None</td>\n",
       "      <td>0.868726</td>\n",
       "    </tr>\n",
       "    <tr>\n",
       "      <th>13</th>\n",
       "      <td>textblob</td>\n",
       "      <td>bert</td>\n",
       "      <td>flair</td>\n",
       "      <td>None</td>\n",
       "      <td>0.868726</td>\n",
       "    </tr>\n",
       "    <tr>\n",
       "      <th>11</th>\n",
       "      <td>vader</td>\n",
       "      <td>textblob</td>\n",
       "      <td>flair</td>\n",
       "      <td>None</td>\n",
       "      <td>0.750965</td>\n",
       "    </tr>\n",
       "    <tr>\n",
       "      <th>6</th>\n",
       "      <td>vader</td>\n",
       "      <td>flair</td>\n",
       "      <td>None</td>\n",
       "      <td>None</td>\n",
       "      <td>0.747104</td>\n",
       "    </tr>\n",
       "    <tr>\n",
       "      <th>3</th>\n",
       "      <td>flair</td>\n",
       "      <td>None</td>\n",
       "      <td>None</td>\n",
       "      <td>None</td>\n",
       "      <td>0.733591</td>\n",
       "    </tr>\n",
       "    <tr>\n",
       "      <th>8</th>\n",
       "      <td>textblob</td>\n",
       "      <td>flair</td>\n",
       "      <td>None</td>\n",
       "      <td>None</td>\n",
       "      <td>0.729730</td>\n",
       "    </tr>\n",
       "    <tr>\n",
       "      <th>4</th>\n",
       "      <td>vader</td>\n",
       "      <td>textblob</td>\n",
       "      <td>None</td>\n",
       "      <td>None</td>\n",
       "      <td>0.660232</td>\n",
       "    </tr>\n",
       "    <tr>\n",
       "      <th>0</th>\n",
       "      <td>vader</td>\n",
       "      <td>None</td>\n",
       "      <td>None</td>\n",
       "      <td>None</td>\n",
       "      <td>0.652510</td>\n",
       "    </tr>\n",
       "    <tr>\n",
       "      <th>1</th>\n",
       "      <td>textblob</td>\n",
       "      <td>None</td>\n",
       "      <td>None</td>\n",
       "      <td>None</td>\n",
       "      <td>0.633205</td>\n",
       "    </tr>\n",
       "  </tbody>\n",
       "</table>\n",
       "</div>"
      ],
      "text/plain": [
       "           0         1      2      3  Accuracy_semeval\n",
       "5      vader      bert   None   None          0.878378\n",
       "10     vader  textblob   bert   None          0.874517\n",
       "7   textblob      bert   None   None          0.872587\n",
       "12     vader      bert  flair   None          0.872587\n",
       "14     vader  textblob   bert  flair          0.872587\n",
       "2       bert      None   None   None          0.870656\n",
       "9       bert     flair   None   None          0.868726\n",
       "13  textblob      bert  flair   None          0.868726\n",
       "11     vader  textblob  flair   None          0.750965\n",
       "6      vader     flair   None   None          0.747104\n",
       "3      flair      None   None   None          0.733591\n",
       "8   textblob     flair   None   None          0.729730\n",
       "4      vader  textblob   None   None          0.660232\n",
       "0      vader      None   None   None          0.652510\n",
       "1   textblob      None   None   None          0.633205"
      ]
     },
     "execution_count": 248,
     "metadata": {},
     "output_type": "execute_result"
    }
   ],
   "source": [
    "result_ensembles.sort_values(by = 'Accuracy_semeval',ascending=False)"
   ]
  },
  {
   "cell_type": "code",
   "execution_count": 249,
   "id": "6db8767b",
   "metadata": {},
   "outputs": [],
   "source": [
    "def concatenate_columns(row):\n",
    "    non_null_values = [str(val) for val in row if not pd.isnull(val)]\n",
    "    return ', '.join(non_null_values)\n",
    "\n",
    "result_ensembles['Ensemble'] = result_ensembles[[0,1,2,3]].apply(concatenate_columns, axis=1)"
   ]
  },
  {
   "cell_type": "code",
   "execution_count": 250,
   "id": "1bb70ecb",
   "metadata": {},
   "outputs": [
    {
     "data": {
      "text/html": [
       "<div>\n",
       "<style scoped>\n",
       "    .dataframe tbody tr th:only-of-type {\n",
       "        vertical-align: middle;\n",
       "    }\n",
       "\n",
       "    .dataframe tbody tr th {\n",
       "        vertical-align: top;\n",
       "    }\n",
       "\n",
       "    .dataframe thead th {\n",
       "        text-align: right;\n",
       "    }\n",
       "</style>\n",
       "<table border=\"1\" class=\"dataframe\">\n",
       "  <thead>\n",
       "    <tr style=\"text-align: right;\">\n",
       "      <th></th>\n",
       "      <th>0</th>\n",
       "      <th>1</th>\n",
       "      <th>2</th>\n",
       "      <th>3</th>\n",
       "      <th>Accuracy_semeval</th>\n",
       "      <th>Ensemble</th>\n",
       "    </tr>\n",
       "  </thead>\n",
       "  <tbody>\n",
       "    <tr>\n",
       "      <th>0</th>\n",
       "      <td>vader</td>\n",
       "      <td>None</td>\n",
       "      <td>None</td>\n",
       "      <td>None</td>\n",
       "      <td>0.652510</td>\n",
       "      <td>vader</td>\n",
       "    </tr>\n",
       "    <tr>\n",
       "      <th>1</th>\n",
       "      <td>textblob</td>\n",
       "      <td>None</td>\n",
       "      <td>None</td>\n",
       "      <td>None</td>\n",
       "      <td>0.633205</td>\n",
       "      <td>textblob</td>\n",
       "    </tr>\n",
       "    <tr>\n",
       "      <th>2</th>\n",
       "      <td>bert</td>\n",
       "      <td>None</td>\n",
       "      <td>None</td>\n",
       "      <td>None</td>\n",
       "      <td>0.870656</td>\n",
       "      <td>bert</td>\n",
       "    </tr>\n",
       "    <tr>\n",
       "      <th>3</th>\n",
       "      <td>flair</td>\n",
       "      <td>None</td>\n",
       "      <td>None</td>\n",
       "      <td>None</td>\n",
       "      <td>0.733591</td>\n",
       "      <td>flair</td>\n",
       "    </tr>\n",
       "    <tr>\n",
       "      <th>4</th>\n",
       "      <td>vader</td>\n",
       "      <td>textblob</td>\n",
       "      <td>None</td>\n",
       "      <td>None</td>\n",
       "      <td>0.660232</td>\n",
       "      <td>vader, textblob</td>\n",
       "    </tr>\n",
       "    <tr>\n",
       "      <th>5</th>\n",
       "      <td>vader</td>\n",
       "      <td>bert</td>\n",
       "      <td>None</td>\n",
       "      <td>None</td>\n",
       "      <td>0.878378</td>\n",
       "      <td>vader, bert</td>\n",
       "    </tr>\n",
       "    <tr>\n",
       "      <th>6</th>\n",
       "      <td>vader</td>\n",
       "      <td>flair</td>\n",
       "      <td>None</td>\n",
       "      <td>None</td>\n",
       "      <td>0.747104</td>\n",
       "      <td>vader, flair</td>\n",
       "    </tr>\n",
       "    <tr>\n",
       "      <th>7</th>\n",
       "      <td>textblob</td>\n",
       "      <td>bert</td>\n",
       "      <td>None</td>\n",
       "      <td>None</td>\n",
       "      <td>0.872587</td>\n",
       "      <td>textblob, bert</td>\n",
       "    </tr>\n",
       "    <tr>\n",
       "      <th>8</th>\n",
       "      <td>textblob</td>\n",
       "      <td>flair</td>\n",
       "      <td>None</td>\n",
       "      <td>None</td>\n",
       "      <td>0.729730</td>\n",
       "      <td>textblob, flair</td>\n",
       "    </tr>\n",
       "    <tr>\n",
       "      <th>9</th>\n",
       "      <td>bert</td>\n",
       "      <td>flair</td>\n",
       "      <td>None</td>\n",
       "      <td>None</td>\n",
       "      <td>0.868726</td>\n",
       "      <td>bert, flair</td>\n",
       "    </tr>\n",
       "    <tr>\n",
       "      <th>10</th>\n",
       "      <td>vader</td>\n",
       "      <td>textblob</td>\n",
       "      <td>bert</td>\n",
       "      <td>None</td>\n",
       "      <td>0.874517</td>\n",
       "      <td>vader, textblob, bert</td>\n",
       "    </tr>\n",
       "    <tr>\n",
       "      <th>11</th>\n",
       "      <td>vader</td>\n",
       "      <td>textblob</td>\n",
       "      <td>flair</td>\n",
       "      <td>None</td>\n",
       "      <td>0.750965</td>\n",
       "      <td>vader, textblob, flair</td>\n",
       "    </tr>\n",
       "    <tr>\n",
       "      <th>12</th>\n",
       "      <td>vader</td>\n",
       "      <td>bert</td>\n",
       "      <td>flair</td>\n",
       "      <td>None</td>\n",
       "      <td>0.872587</td>\n",
       "      <td>vader, bert, flair</td>\n",
       "    </tr>\n",
       "    <tr>\n",
       "      <th>13</th>\n",
       "      <td>textblob</td>\n",
       "      <td>bert</td>\n",
       "      <td>flair</td>\n",
       "      <td>None</td>\n",
       "      <td>0.868726</td>\n",
       "      <td>textblob, bert, flair</td>\n",
       "    </tr>\n",
       "    <tr>\n",
       "      <th>14</th>\n",
       "      <td>vader</td>\n",
       "      <td>textblob</td>\n",
       "      <td>bert</td>\n",
       "      <td>flair</td>\n",
       "      <td>0.872587</td>\n",
       "      <td>vader, textblob, bert, flair</td>\n",
       "    </tr>\n",
       "  </tbody>\n",
       "</table>\n",
       "</div>"
      ],
      "text/plain": [
       "           0         1      2      3  Accuracy_semeval  \\\n",
       "0      vader      None   None   None          0.652510   \n",
       "1   textblob      None   None   None          0.633205   \n",
       "2       bert      None   None   None          0.870656   \n",
       "3      flair      None   None   None          0.733591   \n",
       "4      vader  textblob   None   None          0.660232   \n",
       "5      vader      bert   None   None          0.878378   \n",
       "6      vader     flair   None   None          0.747104   \n",
       "7   textblob      bert   None   None          0.872587   \n",
       "8   textblob     flair   None   None          0.729730   \n",
       "9       bert     flair   None   None          0.868726   \n",
       "10     vader  textblob   bert   None          0.874517   \n",
       "11     vader  textblob  flair   None          0.750965   \n",
       "12     vader      bert  flair   None          0.872587   \n",
       "13  textblob      bert  flair   None          0.868726   \n",
       "14     vader  textblob   bert  flair          0.872587   \n",
       "\n",
       "                        Ensemble  \n",
       "0                          vader  \n",
       "1                       textblob  \n",
       "2                           bert  \n",
       "3                          flair  \n",
       "4                vader, textblob  \n",
       "5                    vader, bert  \n",
       "6                   vader, flair  \n",
       "7                 textblob, bert  \n",
       "8                textblob, flair  \n",
       "9                    bert, flair  \n",
       "10         vader, textblob, bert  \n",
       "11        vader, textblob, flair  \n",
       "12            vader, bert, flair  \n",
       "13         textblob, bert, flair  \n",
       "14  vader, textblob, bert, flair  "
      ]
     },
     "execution_count": 250,
     "metadata": {},
     "output_type": "execute_result"
    }
   ],
   "source": [
    "result_ensembles"
   ]
  },
  {
   "cell_type": "code",
   "execution_count": 258,
   "id": "b540a99d",
   "metadata": {},
   "outputs": [
    {
     "data": {
      "image/png": "[encoded data removed]",
      "text/plain": [
       "<Figure size 1008x468 with 1 Axes>"
      ]
     },
     "metadata": {
      "needs_background": "light"
     },
     "output_type": "display_data"
    }
   ],
   "source": [
    "ax = result_ensembles.sort_values(by=\"Accuracy_semeval\").plot(x=\"Ensemble\", y=[\"Accuracy_semeval\"],kind=\"bar\",figsize=(14,6.5))\n",
    "#ax.legend([\"Log_reg_meta\",\"GBoost_meta\",\"VADER\",\"TextBlob\",\"Flair\",\"BERT\"],loc = 'upper left',fontsize=11)\n",
    "ax.set_xlabel('Dataset', fontsize=12)  # Change label and font size\n",
    "ax.set_ylabel('Accuracy', fontsize=12)  # Change label and font size\n",
    "ax.set_title('Accuracy Scores : Ensemble Base Models - Options for Semeval Dataset')\n",
    "y_ticks = [(i*.05) for i in range(0,20)]\n",
    "ax.set_yticks(y_ticks)\n",
    "ax.yaxis.grid(True)\n",
    "# Increase font size of tick labels\n",
    "\n"
   ]
  },
  {
   "cell_type": "code",
   "execution_count": null,
   "id": "d8d5c2f4",
   "metadata": {},
   "outputs": [],
   "source": []
  }
 ],
 "metadata": {
  "kernelspec": {
   "display_name": "Python 3",
   "language": "python",
   "name": "python3"
  },
  "language_info": {
   "codemirror_mode": {
    "name": "ipython",
    "version": 3
   },
   "file_extension": ".py",
   "mimetype": "text/x-python",
   "name": "python",
   "nbconvert_exporter": "python",
   "pygments_lexer": "ipython3",
   "version": "3.7.9"
  }
 },
 "nbformat": 4,
 "nbformat_minor": 5
}
