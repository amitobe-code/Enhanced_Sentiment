{
 "cells": [
  {
   "attachments": {},
   "cell_type": "markdown",
   "id": "3816c678",
   "metadata": {},
   "source": [
    "# Enhanced Sentiment Analyser : Using Stacked Ensemble Learning (Amazon Reviews Dataset)\n",
    "We use four tools namely BERT, VADER, Textblob and Flair to give sentiment scores all of which are fed to a Logistic Regressor First."
   ]
  },
  {
   "cell_type": "markdown",
   "id": "471f66ea",
   "metadata": {},
   "source": []
  },
  {
   "attachments": {},
   "cell_type": "markdown",
   "id": "20701590",
   "metadata": {},
   "source": [
    "## Basic Data Loading and Checking the Base Models or Tools"
   ]
  },
  {
   "cell_type": "code",
   "execution_count": 4,
   "id": "3bfbe93e",
   "metadata": {},
   "outputs": [
    {
     "name": "stdout",
     "output_type": "stream",
     "text": [
      "Requirement already satisfied: pandas in /Users/amitobe/opt/anaconda3/envs/nlp_course/lib/python3.7/site-packages (1.3.5)\n",
      "Requirement already satisfied: pytz>=2017.3 in /Users/amitobe/opt/anaconda3/envs/nlp_course/lib/python3.7/site-packages (from pandas) (2020.4)\n",
      "Requirement already satisfied: numpy>=1.17.3; platform_machine != \"aarch64\" and platform_machine != \"arm64\" and python_version < \"3.10\" in /Users/amitobe/opt/anaconda3/envs/nlp_course/lib/python3.7/site-packages (from pandas) (1.21.6)\n",
      "Requirement already satisfied: python-dateutil>=2.7.3 in /Users/amitobe/opt/anaconda3/envs/nlp_course/lib/python3.7/site-packages (from pandas) (2.8.1)\n",
      "Requirement already satisfied: six>=1.5 in /Users/amitobe/opt/anaconda3/envs/nlp_course/lib/python3.7/site-packages (from python-dateutil>=2.7.3->pandas) (1.15.0)\n"
     ]
    }
   ],
   "source": [
    "!pip install pandas"
   ]
  },
  {
   "cell_type": "code",
   "execution_count": 5,
   "id": "b3dba3b5",
   "metadata": {},
   "outputs": [
    {
     "name": "stdout",
     "output_type": "stream",
     "text": [
      "Requirement already satisfied: textblob in /Users/amitobe/opt/anaconda3/envs/nlp_course/lib/python3.7/site-packages (0.17.1)\n",
      "Requirement already satisfied: nltk>=3.1; python_version >= \"3\" in /Users/amitobe/opt/anaconda3/envs/nlp_course/lib/python3.7/site-packages (from textblob) (3.3)\n",
      "Requirement already satisfied: six in /Users/amitobe/opt/anaconda3/envs/nlp_course/lib/python3.7/site-packages (from nltk>=3.1; python_version >= \"3\"->textblob) (1.15.0)\n"
     ]
    }
   ],
   "source": [
    "!pip install textblob"
   ]
  },
  {
   "cell_type": "code",
   "execution_count": 6,
   "id": "285b6f68",
   "metadata": {},
   "outputs": [
    {
     "name": "stderr",
     "output_type": "stream",
     "text": [
      "/Users/amitobe/opt/anaconda3/envs/nlp_course/lib/python3.7/site-packages/nltk/twitter/__init__.py:20: UserWarning: The twython library has not been installed. Some functionality from the twitter package will not be available.\n",
      "  warnings.warn(\"The twython library has not been installed. \"\n"
     ]
    }
   ],
   "source": [
    "import pandas as pd\n",
    "import numpy as np\n",
    "import matplotlib.pyplot as plt\n",
    "from sklearn.cluster import KMeans\n",
    "from sklearn.preprocessing import MinMaxScaler\n",
    "from nltk.sentiment.vader import SentimentIntensityAnalyzer\n",
    "import textblob\n",
    "from scipy.spatial.distance import cdist\n",
    "import seaborn as sns\n",
    "import nltk\n",
    "import sklearn.metrics\n",
    "from sklearn.metrics import accuracy_score, confusion_matrix, roc_auc_score, roc_curve\n"
   ]
  },
  {
   "cell_type": "code",
   "execution_count": 5,
   "id": "c7335ca8",
   "metadata": {},
   "outputs": [],
   "source": [
    "from nltk.sentiment.vader import SentimentIntensityAnalyzer"
   ]
  },
  {
   "cell_type": "code",
   "execution_count": 6,
   "id": "07df1744",
   "metadata": {},
   "outputs": [],
   "source": [
    "from textblob import TextBlob"
   ]
  },
  {
   "cell_type": "code",
   "execution_count": 7,
   "id": "e695e3ec",
   "metadata": {},
   "outputs": [],
   "source": [
    "newsheadline_corr_analysis  = pd.read_csv('amazon_reviews.csv').sample(10000)\n",
    "\n",
    "#newsheadline_corr_analysis  = pd.read_csv('amazon_test.csv').sample(2000)\n",
    "\n"
   ]
  },
  {
   "cell_type": "code",
   "execution_count": 8,
   "id": "fc612d78",
   "metadata": {},
   "outputs": [],
   "source": [
    "# Assuming you have a dataset 'original_data' with a 'class' column\n",
    "class_0_data = newsheadline_corr_analysis[newsheadline_corr_analysis['sentiment'] == -1]\n",
    "class_1_data = newsheadline_corr_analysis[newsheadline_corr_analysis['sentiment'] == 1]\n",
    "\n",
    "# Calculate the size of the balanced sample for each class\n",
    "sample_size_per_class = 1000\n",
    "\n",
    "# Randomly sample data from each class\n",
    "sampled_class_0 = class_0_data.sample(n=sample_size_per_class, random_state=42)\n",
    "sampled_class_1 = class_1_data.sample(n=sample_size_per_class, random_state=42)\n",
    "\n",
    "# Combine the sampled data to create the balanced sample\n",
    "balanced_sample = pd.concat([sampled_class_0, sampled_class_1])\n",
    "\n",
    "# Shuffle the balanced sample\n",
    "balanced_sample = balanced_sample.sample(frac=1, random_state=42).reset_index(drop=True)\n"
   ]
  },
  {
   "cell_type": "code",
   "execution_count": 9,
   "id": "133f0af3",
   "metadata": {},
   "outputs": [
    {
     "data": {
      "text/html": [
       "<div>\n",
       "<style scoped>\n",
       "    .dataframe tbody tr th:only-of-type {\n",
       "        vertical-align: middle;\n",
       "    }\n",
       "\n",
       "    .dataframe tbody tr th {\n",
       "        vertical-align: top;\n",
       "    }\n",
       "\n",
       "    .dataframe thead th {\n",
       "        text-align: right;\n",
       "    }\n",
       "</style>\n",
       "<table border=\"1\" class=\"dataframe\">\n",
       "  <thead>\n",
       "    <tr style=\"text-align: right;\">\n",
       "      <th></th>\n",
       "      <th>Unnamed: 0</th>\n",
       "      <th>sentiment</th>\n",
       "      <th>review</th>\n",
       "    </tr>\n",
       "  </thead>\n",
       "  <tbody>\n",
       "    <tr>\n",
       "      <th>2724834</th>\n",
       "      <td>2724834</td>\n",
       "      <td>-1</td>\n",
       "      <td>It made good toast, but was slow (over five mi...</td>\n",
       "    </tr>\n",
       "    <tr>\n",
       "      <th>823043</th>\n",
       "      <td>823043</td>\n",
       "      <td>1</td>\n",
       "      <td>This album is very much underrated. Some excel...</td>\n",
       "    </tr>\n",
       "    <tr>\n",
       "      <th>1968027</th>\n",
       "      <td>1968027</td>\n",
       "      <td>1</td>\n",
       "      <td>I bought this dvd set for my husband because h...</td>\n",
       "    </tr>\n",
       "    <tr>\n",
       "      <th>3064642</th>\n",
       "      <td>3064642</td>\n",
       "      <td>1</td>\n",
       "      <td>The refurbished Klipsch igroove HG all in one ...</td>\n",
       "    </tr>\n",
       "    <tr>\n",
       "      <th>384642</th>\n",
       "      <td>384642</td>\n",
       "      <td>1</td>\n",
       "      <td>My first review of this item was not good, how...</td>\n",
       "    </tr>\n",
       "  </tbody>\n",
       "</table>\n",
       "</div>"
      ],
      "text/plain": [
       "         Unnamed: 0  sentiment  \\\n",
       "2724834     2724834         -1   \n",
       "823043       823043          1   \n",
       "1968027     1968027          1   \n",
       "3064642     3064642          1   \n",
       "384642       384642          1   \n",
       "\n",
       "                                                    review  \n",
       "2724834  It made good toast, but was slow (over five mi...  \n",
       "823043   This album is very much underrated. Some excel...  \n",
       "1968027  I bought this dvd set for my husband because h...  \n",
       "3064642  The refurbished Klipsch igroove HG all in one ...  \n",
       "384642   My first review of this item was not good, how...  "
      ]
     },
     "execution_count": 9,
     "metadata": {},
     "output_type": "execute_result"
    }
   ],
   "source": [
    "newsheadline_corr_analysis.head()"
   ]
  },
  {
   "cell_type": "code",
   "execution_count": 10,
   "id": "236dc7fd",
   "metadata": {},
   "outputs": [],
   "source": [
    "newsheadline_corr_analysis.to_csv('amazon_test.csv')"
   ]
  },
  {
   "cell_type": "code",
   "execution_count": 11,
   "id": "58788ae1",
   "metadata": {},
   "outputs": [],
   "source": [
    "newsheadline_corr_analysis.rename(columns={'review':'Headline','sentiment':'Sentiment'},inplace = True  )"
   ]
  },
  {
   "cell_type": "code",
   "execution_count": 12,
   "id": "4a2df213",
   "metadata": {},
   "outputs": [],
   "source": [
    "import seaborn as sns\n",
    "import matplotlib"
   ]
  },
  {
   "cell_type": "code",
   "execution_count": null,
   "id": "1ac221c1",
   "metadata": {},
   "outputs": [],
   "source": []
  },
  {
   "attachments": {
    "image.png": {
     "image/png": "[encoded data removed]"
    }
   },
   "cell_type": "markdown",
   "id": "cb2dd4ea",
   "metadata": {},
   "source": [
    "### About Flair\n",
    "\n",
    "FLAIR Tagging -  language model (in yellow) and the sequence tagging (labeling) model (in blue). The bidirectional character language model receives the original text as input and computes contextual embeddings for each word. These are then passed into a BiLSTM-CRF sequence labeler. This special type of labeler makes use of a bidirectional LSTM (BiLSTM) recurrent neural model combined with a Conditional Random Field (CRF) – a type of combinatorial algorithm. It outputs the probability distribution of labels corresponding to individual words. The most probable label is then chosen for each word (as seen in the preceding figure in the top row). For example, the word Washington is labeled as E-PER in the preceding\n",
    "figure, where PER suggests the word relates to a person and E marks the ending of a two-word named entity chunk. Words are often also tagged with a special label, O (meaning other), used for words not considered named entities or named entities belonging to none of the defined categories.\n",
    "![image.png](attachment:image.png)"
   ]
  },
  {
   "cell_type": "code",
   "execution_count": 13,
   "id": "ea4353df",
   "metadata": {},
   "outputs": [],
   "source": [
    "import flair"
   ]
  },
  {
   "cell_type": "code",
   "execution_count": 14,
   "id": "1dcc9d64",
   "metadata": {},
   "outputs": [],
   "source": [
    "flair_model = flair.models.TextClassifier.load('en-sentiment')\n",
    "def process_flair(dialogue):   # returning the flair score\n",
    "    sentence = flair.data.Sentence(dialogue)\n",
    "    flair_model.predict(sentence)\n",
    "    label = sentence.labels[0].value\n",
    "    score = sentence.labels[0].score\n",
    "    if label == 'POSITIVE':\n",
    "        return score\n",
    "    elif label == 'NEGATIVE':\n",
    "        return -score"
   ]
  },
  {
   "cell_type": "code",
   "execution_count": 3,
   "id": "f1e1c050",
   "metadata": {},
   "outputs": [
    {
     "name": "stderr",
     "output_type": "stream",
     "text": [
      "Some weights of the model checkpoint at cardiffnlp/twitter-roberta-base-sentiment-latest were not used when initializing RobertaForSequenceClassification: ['roberta.pooler.dense.bias', 'roberta.pooler.dense.weight']\n",
      "- This IS expected if you are initializing RobertaForSequenceClassification from the checkpoint of a model trained on another task or with another architecture (e.g. initializing a BertForSequenceClassification model from a BertForPreTraining model).\n",
      "- This IS NOT expected if you are initializing RobertaForSequenceClassification from the checkpoint of a model that you expect to be exactly identical (initializing a BertForSequenceClassification model from a BertForSequenceClassification model).\n"
     ]
    }
   ],
   "source": [
    "from transformers import AutoModelForSequenceClassification\n",
    "from transformers import TFAutoModelForSequenceClassification\n",
    "from transformers import AutoTokenizer, AutoConfig\n",
    "from scipy.special import softmax\n",
    "\n",
    "MODEL = f\"cardiffnlp/twitter-roberta-base-sentiment-latest\"\n",
    "tokenizer = AutoTokenizer.from_pretrained(MODEL)\n",
    "config = AutoConfig.from_pretrained(MODEL)\n",
    "bert_model = AutoModelForSequenceClassification.from_pretrained(MODEL)"
   ]
  },
  {
   "cell_type": "code",
   "execution_count": 32,
   "id": "baf57d2d",
   "metadata": {},
   "outputs": [],
   "source": [
    "def return_sentiment(txt):  # returning single-sentence BERT score\n",
    "    encoded_input = tokenizer(txt, return_tensors='pt',padding=True,truncation=True)\n",
    "    output = bert_model(**encoded_input)\n",
    "    score = output[0][0].detach().numpy() \n",
    "    scores = softmax(score)\n",
    "    if np.argsort(scores)[2] == 1: # this is the highest score\n",
    "        return 0 #this is neutral\n",
    "    else:\n",
    "        return (np.argsort(scores)[2]-1)*scores[np.argsort(scores)[2]] #converts prob to + or - polarities"
   ]
  },
  {
   "cell_type": "code",
   "execution_count": 29,
   "id": "cc90bc11",
   "metadata": {},
   "outputs": [],
   "source": [
    "encoded_input = tokenizer(\"I dont love this Ice Cream\", return_tensors='pt',padding=True,truncation=True)"
   ]
  },
  {
   "cell_type": "code",
   "execution_count": 30,
   "id": "4ca25a28",
   "metadata": {},
   "outputs": [],
   "source": [
    "output = bert_model(**encoded_input)"
   ]
  },
  {
   "cell_type": "code",
   "execution_count": 31,
   "id": "42e42a58",
   "metadata": {},
   "outputs": [
    {
     "data": {
      "text/plain": [
       "0"
      ]
     },
     "execution_count": 31,
     "metadata": {},
     "output_type": "execute_result"
    }
   ],
   "source": [
    "np.argmax(softmax(output[0][0].detach().numpy()))"
   ]
  },
  {
   "cell_type": "code",
   "execution_count": 1,
   "id": "92adc8af",
   "metadata": {},
   "outputs": [],
   "source": [
    "def cal_vader_textblob_bert_flair(txt):\n",
    "    tb_score = TextBlob(txt).sentiment.polarity\n",
    "    obj = SentimentIntensityAnalyzer()\n",
    "    vader_score = obj.polarity_scores(txt)['compound']\n",
    "    flair_score = process_flair(txt)\n",
    "    bert_score = return_sentiment(txt)\n",
    "    #prob = logmodel3.predict_proba([[tb_score,vader_score,flair_score,bert_score]])[0]      \n",
    "    return pd.Series({'vader':vader_score,'textblob': tb_score,'bert':bert_score,'flair':flair_score})\n"
   ]
  },
  {
   "cell_type": "code",
   "execution_count": 18,
   "id": "85e67e32",
   "metadata": {},
   "outputs": [],
   "source": [
    "def tb_score(txt):\n",
    "    sen = TextBlob(txt)\n",
    "    return pd.Series({'tb': sen.sentiment.polarity})"
   ]
  },
  {
   "cell_type": "code",
   "execution_count": null,
   "id": "d10788af",
   "metadata": {},
   "outputs": [],
   "source": []
  },
  {
   "cell_type": "code",
   "execution_count": 19,
   "id": "020849bc",
   "metadata": {},
   "outputs": [
    {
     "data": {
      "text/html": [
       "<div>\n",
       "<style scoped>\n",
       "    .dataframe tbody tr th:only-of-type {\n",
       "        vertical-align: middle;\n",
       "    }\n",
       "\n",
       "    .dataframe tbody tr th {\n",
       "        vertical-align: top;\n",
       "    }\n",
       "\n",
       "    .dataframe thead th {\n",
       "        text-align: right;\n",
       "    }\n",
       "</style>\n",
       "<table border=\"1\" class=\"dataframe\">\n",
       "  <thead>\n",
       "    <tr style=\"text-align: right;\">\n",
       "      <th></th>\n",
       "      <th>Unnamed: 0</th>\n",
       "      <th>Sentiment</th>\n",
       "      <th>Headline</th>\n",
       "    </tr>\n",
       "  </thead>\n",
       "  <tbody>\n",
       "    <tr>\n",
       "      <th>2724834</th>\n",
       "      <td>2724834</td>\n",
       "      <td>-1</td>\n",
       "      <td>It made good toast, but was slow (over five mi...</td>\n",
       "    </tr>\n",
       "    <tr>\n",
       "      <th>823043</th>\n",
       "      <td>823043</td>\n",
       "      <td>1</td>\n",
       "      <td>This album is very much underrated. Some excel...</td>\n",
       "    </tr>\n",
       "    <tr>\n",
       "      <th>1968027</th>\n",
       "      <td>1968027</td>\n",
       "      <td>1</td>\n",
       "      <td>I bought this dvd set for my husband because h...</td>\n",
       "    </tr>\n",
       "    <tr>\n",
       "      <th>3064642</th>\n",
       "      <td>3064642</td>\n",
       "      <td>1</td>\n",
       "      <td>The refurbished Klipsch igroove HG all in one ...</td>\n",
       "    </tr>\n",
       "    <tr>\n",
       "      <th>384642</th>\n",
       "      <td>384642</td>\n",
       "      <td>1</td>\n",
       "      <td>My first review of this item was not good, how...</td>\n",
       "    </tr>\n",
       "  </tbody>\n",
       "</table>\n",
       "</div>"
      ],
      "text/plain": [
       "         Unnamed: 0  Sentiment  \\\n",
       "2724834     2724834         -1   \n",
       "823043       823043          1   \n",
       "1968027     1968027          1   \n",
       "3064642     3064642          1   \n",
       "384642       384642          1   \n",
       "\n",
       "                                                  Headline  \n",
       "2724834  It made good toast, but was slow (over five mi...  \n",
       "823043   This album is very much underrated. Some excel...  \n",
       "1968027  I bought this dvd set for my husband because h...  \n",
       "3064642  The refurbished Klipsch igroove HG all in one ...  \n",
       "384642   My first review of this item was not good, how...  "
      ]
     },
     "execution_count": 19,
     "metadata": {},
     "output_type": "execute_result"
    }
   ],
   "source": [
    "\n",
    "newsheadline_corr_analysis.head()"
   ]
  },
  {
   "cell_type": "code",
   "execution_count": 20,
   "id": "57291460",
   "metadata": {},
   "outputs": [
    {
     "data": {
      "text/plain": [
       "2724834   -1.0\n",
       "823043     1.0\n",
       "1968027    1.0\n",
       "3064642    1.0\n",
       "384642     1.0\n",
       "          ... \n",
       "3463364   -1.0\n",
       "2609640    1.0\n",
       "3598229   -1.0\n",
       "994136     1.0\n",
       "3043880    1.0\n",
       "Name: Sentiment, Length: 10000, dtype: float64"
      ]
     },
     "execution_count": 20,
     "metadata": {},
     "output_type": "execute_result"
    }
   ],
   "source": [
    "newsheadline_corr_analysis['Sentiment'].astype(float)"
   ]
  },
  {
   "cell_type": "code",
   "execution_count": 21,
   "id": "913d5ffe",
   "metadata": {},
   "outputs": [
    {
     "data": {
      "text/plain": [
       " 1    5001\n",
       "-1    4999\n",
       "Name: Sentiment, dtype: int64"
      ]
     },
     "execution_count": 21,
     "metadata": {},
     "output_type": "execute_result"
    }
   ],
   "source": [
    "newsheadline_corr_analysis['Sentiment'].value_counts(dropna=True)"
   ]
  },
  {
   "cell_type": "code",
   "execution_count": 22,
   "id": "aa96403c",
   "metadata": {},
   "outputs": [],
   "source": [
    "#newsheadline_corr_analysis = pd.concat([newsheadline_corr_analysis, newsheadline_corr_analysis['Headline'].apply(cal_vader_textblob_bert_flair)], axis=1)"
   ]
  },
  {
   "cell_type": "code",
   "execution_count": 23,
   "id": "92eb9da9",
   "metadata": {},
   "outputs": [],
   "source": [
    "#newsheadline_corr_analysis.to_csv('amazon_test_results.csv')\n",
    "newsheadline_corr_analysis = pd.read_csv('amazon_test_results.csv')"
   ]
  },
  {
   "cell_type": "code",
   "execution_count": 24,
   "id": "98943630",
   "metadata": {},
   "outputs": [
    {
     "data": {
      "text/html": [
       "<div>\n",
       "<style scoped>\n",
       "    .dataframe tbody tr th:only-of-type {\n",
       "        vertical-align: middle;\n",
       "    }\n",
       "\n",
       "    .dataframe tbody tr th {\n",
       "        vertical-align: top;\n",
       "    }\n",
       "\n",
       "    .dataframe thead th {\n",
       "        text-align: right;\n",
       "    }\n",
       "</style>\n",
       "<table border=\"1\" class=\"dataframe\">\n",
       "  <thead>\n",
       "    <tr style=\"text-align: right;\">\n",
       "      <th></th>\n",
       "      <th>Unnamed: 0</th>\n",
       "      <th>Unnamed: 0.1</th>\n",
       "      <th>Sentiment</th>\n",
       "      <th>Headline</th>\n",
       "      <th>vader</th>\n",
       "      <th>textblob</th>\n",
       "      <th>bert</th>\n",
       "      <th>flair</th>\n",
       "    </tr>\n",
       "  </thead>\n",
       "  <tbody>\n",
       "    <tr>\n",
       "      <th>0</th>\n",
       "      <td>377936</td>\n",
       "      <td>377936</td>\n",
       "      <td>-1</td>\n",
       "      <td>The movie Le Bambole is quite an interesting p...</td>\n",
       "      <td>0.3005</td>\n",
       "      <td>0.140000</td>\n",
       "      <td>-0.545708</td>\n",
       "      <td>-0.999974</td>\n",
       "    </tr>\n",
       "    <tr>\n",
       "      <th>1</th>\n",
       "      <td>681864</td>\n",
       "      <td>681864</td>\n",
       "      <td>1</td>\n",
       "      <td>Like other reviewers, I first caught The Ice H...</td>\n",
       "      <td>0.9396</td>\n",
       "      <td>0.342500</td>\n",
       "      <td>0.967779</td>\n",
       "      <td>0.999746</td>\n",
       "    </tr>\n",
       "    <tr>\n",
       "      <th>2</th>\n",
       "      <td>2730859</td>\n",
       "      <td>2730859</td>\n",
       "      <td>-1</td>\n",
       "      <td>I am very disappointed in this kit. The outsid...</td>\n",
       "      <td>0.9235</td>\n",
       "      <td>0.162037</td>\n",
       "      <td>-0.910500</td>\n",
       "      <td>-0.999998</td>\n",
       "    </tr>\n",
       "    <tr>\n",
       "      <th>3</th>\n",
       "      <td>1599595</td>\n",
       "      <td>1599595</td>\n",
       "      <td>-1</td>\n",
       "      <td>The shipping was as much as the item and the i...</td>\n",
       "      <td>-0.0541</td>\n",
       "      <td>0.113889</td>\n",
       "      <td>-0.889409</td>\n",
       "      <td>-0.999972</td>\n",
       "    </tr>\n",
       "    <tr>\n",
       "      <th>4</th>\n",
       "      <td>1921536</td>\n",
       "      <td>1921536</td>\n",
       "      <td>1</td>\n",
       "      <td>Needed to add USB card for added bandwidth nec...</td>\n",
       "      <td>0.6249</td>\n",
       "      <td>0.300000</td>\n",
       "      <td>0.855487</td>\n",
       "      <td>0.998260</td>\n",
       "    </tr>\n",
       "  </tbody>\n",
       "</table>\n",
       "</div>"
      ],
      "text/plain": [
       "   Unnamed: 0  Unnamed: 0.1  Sentiment  \\\n",
       "0      377936        377936         -1   \n",
       "1      681864        681864          1   \n",
       "2     2730859       2730859         -1   \n",
       "3     1599595       1599595         -1   \n",
       "4     1921536       1921536          1   \n",
       "\n",
       "                                            Headline   vader  textblob  \\\n",
       "0  The movie Le Bambole is quite an interesting p...  0.3005  0.140000   \n",
       "1  Like other reviewers, I first caught The Ice H...  0.9396  0.342500   \n",
       "2  I am very disappointed in this kit. The outsid...  0.9235  0.162037   \n",
       "3  The shipping was as much as the item and the i... -0.0541  0.113889   \n",
       "4  Needed to add USB card for added bandwidth nec...  0.6249  0.300000   \n",
       "\n",
       "       bert     flair  \n",
       "0 -0.545708 -0.999974  \n",
       "1  0.967779  0.999746  \n",
       "2 -0.910500 -0.999998  \n",
       "3 -0.889409 -0.999972  \n",
       "4  0.855487  0.998260  "
      ]
     },
     "execution_count": 24,
     "metadata": {},
     "output_type": "execute_result"
    }
   ],
   "source": [
    "newsheadline_corr_analysis.head()"
   ]
  },
  {
   "cell_type": "code",
   "execution_count": 25,
   "id": "0ca08a92",
   "metadata": {},
   "outputs": [
    {
     "data": {
      "text/plain": [
       "0      -1.0\n",
       "1       1.0\n",
       "2      -1.0\n",
       "3      -1.0\n",
       "4       1.0\n",
       "       ... \n",
       "1995    1.0\n",
       "1996   -1.0\n",
       "1997   -1.0\n",
       "1998   -1.0\n",
       "1999   -1.0\n",
       "Name: Sentiment, Length: 2000, dtype: float64"
      ]
     },
     "execution_count": 25,
     "metadata": {},
     "output_type": "execute_result"
    }
   ],
   "source": [
    "newsheadline_corr_analysis['Sentiment'].astype(float)"
   ]
  },
  {
   "cell_type": "code",
   "execution_count": 26,
   "id": "bdfd7f0a",
   "metadata": {},
   "outputs": [
    {
     "data": {
      "text/plain": [
       " 1    1014\n",
       "-1     986\n",
       "Name: Sentiment, dtype: int64"
      ]
     },
     "execution_count": 26,
     "metadata": {},
     "output_type": "execute_result"
    }
   ],
   "source": [
    "newsheadline_corr_analysis['Sentiment'].value_counts()\n"
   ]
  },
  {
   "cell_type": "markdown",
   "id": "3f3ea5f9",
   "metadata": {},
   "source": [
    "def senti_adjust(score):\n",
    "    if score == 0:\n",
    "        return float(-1.0)\n",
    "    else:\n",
    "        return float(1.0)"
   ]
  },
  {
   "cell_type": "code",
   "execution_count": 27,
   "id": "dc5566e8",
   "metadata": {},
   "outputs": [
    {
     "data": {
      "text/plain": [
       "1.0"
      ]
     },
     "execution_count": 27,
     "metadata": {},
     "output_type": "execute_result"
    }
   ],
   "source": [
    "float(1)"
   ]
  },
  {
   "cell_type": "code",
   "execution_count": 28,
   "id": "5ec7d071",
   "metadata": {},
   "outputs": [],
   "source": [
    "#newsheadline_corr_analysis['Sentiment'] = newsheadline_corr_analysis.apply(lambda x: senti_adjust(x['Sentiment']), axis=1)"
   ]
  },
  {
   "cell_type": "code",
   "execution_count": 29,
   "id": "ed69a50b",
   "metadata": {},
   "outputs": [
    {
     "data": {
      "text/plain": [
       "0      -1.0\n",
       "1       1.0\n",
       "2      -1.0\n",
       "3      -1.0\n",
       "4       1.0\n",
       "       ... \n",
       "1995    1.0\n",
       "1996   -1.0\n",
       "1997   -1.0\n",
       "1998   -1.0\n",
       "1999   -1.0\n",
       "Name: Sentiment, Length: 2000, dtype: float64"
      ]
     },
     "execution_count": 29,
     "metadata": {},
     "output_type": "execute_result"
    }
   ],
   "source": [
    "newsheadline_corr_analysis['Sentiment'].astype(float)"
   ]
  },
  {
   "cell_type": "code",
   "execution_count": 30,
   "id": "91f6621e",
   "metadata": {},
   "outputs": [],
   "source": [
    "#newsheadline_corr_analysis.to_csv('amazon_test_results.csv')"
   ]
  },
  {
   "cell_type": "code",
   "execution_count": 31,
   "id": "a271b4d6",
   "metadata": {},
   "outputs": [],
   "source": [
    "def polarity(val):\n",
    "    if val >= 0:\n",
    "        return 1\n",
    "    else:\n",
    "        return -1\n",
    "    \n",
    "    "
   ]
  },
  {
   "cell_type": "code",
   "execution_count": 32,
   "id": "28ff6560",
   "metadata": {},
   "outputs": [
    {
     "data": {
      "text/plain": [
       "(array([515., 205.,  88.,   5., 198.,   0.,  14.,  94., 134., 747.]),\n",
       " array([-0.96446502, -0.76907454, -0.57368405, -0.37829356, -0.18290308,\n",
       "         0.01248741,  0.2078779 ,  0.40326838,  0.59865887,  0.79404936,\n",
       "         0.98943985]),\n",
       " <a list of 10 Patch objects>)"
      ]
     },
     "execution_count": 32,
     "metadata": {},
     "output_type": "execute_result"
    },
    {
     "data": {
      "image/png": "[encoded data removed]",
      "text/plain": [
       "<Figure size 432x288 with 1 Axes>"
      ]
     },
     "metadata": {
      "needs_background": "light"
     },
     "output_type": "display_data"
    }
   ],
   "source": [
    "plt.hist(newsheadline_corr_analysis['bert'])\n"
   ]
  },
  {
   "cell_type": "code",
   "execution_count": 33,
   "id": "4ace7ce0",
   "metadata": {},
   "outputs": [
    {
     "data": {
      "text/html": [
       "<div>\n",
       "<style scoped>\n",
       "    .dataframe tbody tr th:only-of-type {\n",
       "        vertical-align: middle;\n",
       "    }\n",
       "\n",
       "    .dataframe tbody tr th {\n",
       "        vertical-align: top;\n",
       "    }\n",
       "\n",
       "    .dataframe thead th {\n",
       "        text-align: right;\n",
       "    }\n",
       "</style>\n",
       "<table border=\"1\" class=\"dataframe\">\n",
       "  <thead>\n",
       "    <tr style=\"text-align: right;\">\n",
       "      <th></th>\n",
       "      <th>bert</th>\n",
       "      <th>vader</th>\n",
       "      <th>textblob</th>\n",
       "      <th>flair</th>\n",
       "      <th>Sentiment</th>\n",
       "    </tr>\n",
       "  </thead>\n",
       "  <tbody>\n",
       "    <tr>\n",
       "      <th>bert</th>\n",
       "      <td>1.000000</td>\n",
       "      <td>0.625384</td>\n",
       "      <td>0.599022</td>\n",
       "      <td>0.811486</td>\n",
       "      <td>0.793903</td>\n",
       "    </tr>\n",
       "    <tr>\n",
       "      <th>vader</th>\n",
       "      <td>0.625384</td>\n",
       "      <td>1.000000</td>\n",
       "      <td>0.577443</td>\n",
       "      <td>0.510042</td>\n",
       "      <td>0.495085</td>\n",
       "    </tr>\n",
       "    <tr>\n",
       "      <th>textblob</th>\n",
       "      <td>0.599022</td>\n",
       "      <td>0.577443</td>\n",
       "      <td>1.000000</td>\n",
       "      <td>0.517864</td>\n",
       "      <td>0.499081</td>\n",
       "    </tr>\n",
       "    <tr>\n",
       "      <th>flair</th>\n",
       "      <td>0.811486</td>\n",
       "      <td>0.510042</td>\n",
       "      <td>0.517864</td>\n",
       "      <td>1.000000</td>\n",
       "      <td>0.869075</td>\n",
       "    </tr>\n",
       "    <tr>\n",
       "      <th>Sentiment</th>\n",
       "      <td>0.793903</td>\n",
       "      <td>0.495085</td>\n",
       "      <td>0.499081</td>\n",
       "      <td>0.869075</td>\n",
       "      <td>1.000000</td>\n",
       "    </tr>\n",
       "  </tbody>\n",
       "</table>\n",
       "</div>"
      ],
      "text/plain": [
       "               bert     vader  textblob     flair  Sentiment\n",
       "bert       1.000000  0.625384  0.599022  0.811486   0.793903\n",
       "vader      0.625384  1.000000  0.577443  0.510042   0.495085\n",
       "textblob   0.599022  0.577443  1.000000  0.517864   0.499081\n",
       "flair      0.811486  0.510042  0.517864  1.000000   0.869075\n",
       "Sentiment  0.793903  0.495085  0.499081  0.869075   1.000000"
      ]
     },
     "execution_count": 33,
     "metadata": {},
     "output_type": "execute_result"
    }
   ],
   "source": [
    "newsheadline_corr_analysis[['bert','vader','textblob','flair','Sentiment']].corr()"
   ]
  },
  {
   "cell_type": "code",
   "execution_count": 34,
   "id": "09127154",
   "metadata": {},
   "outputs": [],
   "source": [
    "newsheadline_corr_analysis['vader_polarity'] = newsheadline_corr_analysis.apply(lambda x: polarity(x['vader']), axis=1)\n",
    "newsheadline_corr_analysis['textblob_polarity'] = newsheadline_corr_analysis.apply(lambda x: polarity(x['textblob']), axis=1)\n",
    "newsheadline_corr_analysis['bert_polarity'] = newsheadline_corr_analysis.apply(lambda x: polarity(x['bert']), axis=1)\n",
    "newsheadline_corr_analysis['flair_polarity'] = newsheadline_corr_analysis.apply(lambda x: polarity(x['flair']), axis=1)"
   ]
  },
  {
   "cell_type": "code",
   "execution_count": 35,
   "id": "2adcf637",
   "metadata": {},
   "outputs": [
    {
     "data": {
      "text/html": [
       "<div>\n",
       "<style scoped>\n",
       "    .dataframe tbody tr th:only-of-type {\n",
       "        vertical-align: middle;\n",
       "    }\n",
       "\n",
       "    .dataframe tbody tr th {\n",
       "        vertical-align: top;\n",
       "    }\n",
       "\n",
       "    .dataframe thead th {\n",
       "        text-align: right;\n",
       "    }\n",
       "</style>\n",
       "<table border=\"1\" class=\"dataframe\">\n",
       "  <thead>\n",
       "    <tr style=\"text-align: right;\">\n",
       "      <th></th>\n",
       "      <th>bert_polarity</th>\n",
       "      <th>vader_polarity</th>\n",
       "      <th>textblob_polarity</th>\n",
       "      <th>flair_polarity</th>\n",
       "      <th>Sentiment</th>\n",
       "    </tr>\n",
       "  </thead>\n",
       "  <tbody>\n",
       "    <tr>\n",
       "      <th>bert_polarity</th>\n",
       "      <td>1.000000</td>\n",
       "      <td>0.512275</td>\n",
       "      <td>0.442117</td>\n",
       "      <td>0.721308</td>\n",
       "      <td>0.725245</td>\n",
       "    </tr>\n",
       "    <tr>\n",
       "      <th>vader_polarity</th>\n",
       "      <td>0.512275</td>\n",
       "      <td>1.000000</td>\n",
       "      <td>0.490160</td>\n",
       "      <td>0.433013</td>\n",
       "      <td>0.419939</td>\n",
       "    </tr>\n",
       "    <tr>\n",
       "      <th>textblob_polarity</th>\n",
       "      <td>0.442117</td>\n",
       "      <td>0.490160</td>\n",
       "      <td>1.000000</td>\n",
       "      <td>0.363512</td>\n",
       "      <td>0.371276</td>\n",
       "    </tr>\n",
       "    <tr>\n",
       "      <th>flair_polarity</th>\n",
       "      <td>0.721308</td>\n",
       "      <td>0.433013</td>\n",
       "      <td>0.363512</td>\n",
       "      <td>1.000000</td>\n",
       "      <td>0.858215</td>\n",
       "    </tr>\n",
       "    <tr>\n",
       "      <th>Sentiment</th>\n",
       "      <td>0.725245</td>\n",
       "      <td>0.419939</td>\n",
       "      <td>0.371276</td>\n",
       "      <td>0.858215</td>\n",
       "      <td>1.000000</td>\n",
       "    </tr>\n",
       "  </tbody>\n",
       "</table>\n",
       "</div>"
      ],
      "text/plain": [
       "                   bert_polarity  vader_polarity  textblob_polarity  \\\n",
       "bert_polarity           1.000000        0.512275           0.442117   \n",
       "vader_polarity          0.512275        1.000000           0.490160   \n",
       "textblob_polarity       0.442117        0.490160           1.000000   \n",
       "flair_polarity          0.721308        0.433013           0.363512   \n",
       "Sentiment               0.725245        0.419939           0.371276   \n",
       "\n",
       "                   flair_polarity  Sentiment  \n",
       "bert_polarity            0.721308   0.725245  \n",
       "vader_polarity           0.433013   0.419939  \n",
       "textblob_polarity        0.363512   0.371276  \n",
       "flair_polarity           1.000000   0.858215  \n",
       "Sentiment                0.858215   1.000000  "
      ]
     },
     "execution_count": 35,
     "metadata": {},
     "output_type": "execute_result"
    }
   ],
   "source": [
    "newsheadline_corr_analysis[['bert_polarity','vader_polarity','textblob_polarity','flair_polarity','Sentiment']].corr()"
   ]
  },
  {
   "cell_type": "code",
   "execution_count": 36,
   "id": "f336277d",
   "metadata": {},
   "outputs": [
    {
     "data": {
      "text/html": [
       "<div>\n",
       "<style scoped>\n",
       "    .dataframe tbody tr th:only-of-type {\n",
       "        vertical-align: middle;\n",
       "    }\n",
       "\n",
       "    .dataframe tbody tr th {\n",
       "        vertical-align: top;\n",
       "    }\n",
       "\n",
       "    .dataframe thead th {\n",
       "        text-align: right;\n",
       "    }\n",
       "</style>\n",
       "<table border=\"1\" class=\"dataframe\">\n",
       "  <thead>\n",
       "    <tr style=\"text-align: right;\">\n",
       "      <th></th>\n",
       "      <th>Unnamed: 0</th>\n",
       "      <th>Unnamed: 0.1</th>\n",
       "      <th>Sentiment</th>\n",
       "      <th>Headline</th>\n",
       "      <th>vader</th>\n",
       "      <th>textblob</th>\n",
       "      <th>bert</th>\n",
       "      <th>flair</th>\n",
       "      <th>vader_polarity</th>\n",
       "      <th>textblob_polarity</th>\n",
       "      <th>bert_polarity</th>\n",
       "      <th>flair_polarity</th>\n",
       "    </tr>\n",
       "  </thead>\n",
       "  <tbody>\n",
       "    <tr>\n",
       "      <th>0</th>\n",
       "      <td>377936</td>\n",
       "      <td>377936</td>\n",
       "      <td>-1</td>\n",
       "      <td>The movie Le Bambole is quite an interesting p...</td>\n",
       "      <td>0.3005</td>\n",
       "      <td>0.140000</td>\n",
       "      <td>-0.545708</td>\n",
       "      <td>-0.999974</td>\n",
       "      <td>1</td>\n",
       "      <td>1</td>\n",
       "      <td>-1</td>\n",
       "      <td>-1</td>\n",
       "    </tr>\n",
       "    <tr>\n",
       "      <th>1</th>\n",
       "      <td>681864</td>\n",
       "      <td>681864</td>\n",
       "      <td>1</td>\n",
       "      <td>Like other reviewers, I first caught The Ice H...</td>\n",
       "      <td>0.9396</td>\n",
       "      <td>0.342500</td>\n",
       "      <td>0.967779</td>\n",
       "      <td>0.999746</td>\n",
       "      <td>1</td>\n",
       "      <td>1</td>\n",
       "      <td>1</td>\n",
       "      <td>1</td>\n",
       "    </tr>\n",
       "    <tr>\n",
       "      <th>2</th>\n",
       "      <td>2730859</td>\n",
       "      <td>2730859</td>\n",
       "      <td>-1</td>\n",
       "      <td>I am very disappointed in this kit. The outsid...</td>\n",
       "      <td>0.9235</td>\n",
       "      <td>0.162037</td>\n",
       "      <td>-0.910500</td>\n",
       "      <td>-0.999998</td>\n",
       "      <td>1</td>\n",
       "      <td>1</td>\n",
       "      <td>-1</td>\n",
       "      <td>-1</td>\n",
       "    </tr>\n",
       "    <tr>\n",
       "      <th>3</th>\n",
       "      <td>1599595</td>\n",
       "      <td>1599595</td>\n",
       "      <td>-1</td>\n",
       "      <td>The shipping was as much as the item and the i...</td>\n",
       "      <td>-0.0541</td>\n",
       "      <td>0.113889</td>\n",
       "      <td>-0.889409</td>\n",
       "      <td>-0.999972</td>\n",
       "      <td>-1</td>\n",
       "      <td>1</td>\n",
       "      <td>-1</td>\n",
       "      <td>-1</td>\n",
       "    </tr>\n",
       "    <tr>\n",
       "      <th>4</th>\n",
       "      <td>1921536</td>\n",
       "      <td>1921536</td>\n",
       "      <td>1</td>\n",
       "      <td>Needed to add USB card for added bandwidth nec...</td>\n",
       "      <td>0.6249</td>\n",
       "      <td>0.300000</td>\n",
       "      <td>0.855487</td>\n",
       "      <td>0.998260</td>\n",
       "      <td>1</td>\n",
       "      <td>1</td>\n",
       "      <td>1</td>\n",
       "      <td>1</td>\n",
       "    </tr>\n",
       "  </tbody>\n",
       "</table>\n",
       "</div>"
      ],
      "text/plain": [
       "   Unnamed: 0  Unnamed: 0.1  Sentiment  \\\n",
       "0      377936        377936         -1   \n",
       "1      681864        681864          1   \n",
       "2     2730859       2730859         -1   \n",
       "3     1599595       1599595         -1   \n",
       "4     1921536       1921536          1   \n",
       "\n",
       "                                            Headline   vader  textblob  \\\n",
       "0  The movie Le Bambole is quite an interesting p...  0.3005  0.140000   \n",
       "1  Like other reviewers, I first caught The Ice H...  0.9396  0.342500   \n",
       "2  I am very disappointed in this kit. The outsid...  0.9235  0.162037   \n",
       "3  The shipping was as much as the item and the i... -0.0541  0.113889   \n",
       "4  Needed to add USB card for added bandwidth nec...  0.6249  0.300000   \n",
       "\n",
       "       bert     flair  vader_polarity  textblob_polarity  bert_polarity  \\\n",
       "0 -0.545708 -0.999974               1                  1             -1   \n",
       "1  0.967779  0.999746               1                  1              1   \n",
       "2 -0.910500 -0.999998               1                  1             -1   \n",
       "3 -0.889409 -0.999972              -1                  1             -1   \n",
       "4  0.855487  0.998260               1                  1              1   \n",
       "\n",
       "   flair_polarity  \n",
       "0              -1  \n",
       "1               1  \n",
       "2              -1  \n",
       "3              -1  \n",
       "4               1  "
      ]
     },
     "execution_count": 36,
     "metadata": {},
     "output_type": "execute_result"
    }
   ],
   "source": [
    "newsheadline_corr_analysis.head()"
   ]
  },
  {
   "cell_type": "code",
   "execution_count": 37,
   "id": "68c691db",
   "metadata": {},
   "outputs": [
    {
     "data": {
      "text/plain": [
       "<matplotlib.axes._subplots.AxesSubplot at 0x7f8a495f4d90>"
      ]
     },
     "execution_count": 37,
     "metadata": {},
     "output_type": "execute_result"
    },
    {
     "data": {
      "image/png": "[encoded data removed]",
      "text/plain": [
       "<Figure size 432x288 with 2 Axes>"
      ]
     },
     "metadata": {
      "needs_background": "light"
     },
     "output_type": "display_data"
    }
   ],
   "source": [
    "cordata = pd.DataFrame(newsheadline_corr_analysis[['bert_polarity','vader_polarity','textblob_polarity','flair_polarity','Sentiment']].corr())\n",
    "cordata.to_csv('corrdata_amazon.csv')\n",
    "sns.heatmap (cordata,cmap='Blues')"
   ]
  },
  {
   "cell_type": "code",
   "execution_count": 38,
   "id": "91503214",
   "metadata": {},
   "outputs": [
    {
     "data": {
      "text/html": [
       "<div>\n",
       "<style scoped>\n",
       "    .dataframe tbody tr th:only-of-type {\n",
       "        vertical-align: middle;\n",
       "    }\n",
       "\n",
       "    .dataframe tbody tr th {\n",
       "        vertical-align: top;\n",
       "    }\n",
       "\n",
       "    .dataframe thead th {\n",
       "        text-align: right;\n",
       "    }\n",
       "</style>\n",
       "<table border=\"1\" class=\"dataframe\">\n",
       "  <thead>\n",
       "    <tr style=\"text-align: right;\">\n",
       "      <th></th>\n",
       "      <th>bert_polarity</th>\n",
       "      <th>vader_polarity</th>\n",
       "      <th>textblob_polarity</th>\n",
       "      <th>flair_polarity</th>\n",
       "      <th>Sentiment</th>\n",
       "    </tr>\n",
       "  </thead>\n",
       "  <tbody>\n",
       "    <tr>\n",
       "      <th>bert_polarity</th>\n",
       "      <td>1.000000</td>\n",
       "      <td>0.512275</td>\n",
       "      <td>0.442117</td>\n",
       "      <td>0.721308</td>\n",
       "      <td>0.725245</td>\n",
       "    </tr>\n",
       "    <tr>\n",
       "      <th>vader_polarity</th>\n",
       "      <td>0.512275</td>\n",
       "      <td>1.000000</td>\n",
       "      <td>0.490160</td>\n",
       "      <td>0.433013</td>\n",
       "      <td>0.419939</td>\n",
       "    </tr>\n",
       "    <tr>\n",
       "      <th>textblob_polarity</th>\n",
       "      <td>0.442117</td>\n",
       "      <td>0.490160</td>\n",
       "      <td>1.000000</td>\n",
       "      <td>0.363512</td>\n",
       "      <td>0.371276</td>\n",
       "    </tr>\n",
       "    <tr>\n",
       "      <th>flair_polarity</th>\n",
       "      <td>0.721308</td>\n",
       "      <td>0.433013</td>\n",
       "      <td>0.363512</td>\n",
       "      <td>1.000000</td>\n",
       "      <td>0.858215</td>\n",
       "    </tr>\n",
       "    <tr>\n",
       "      <th>Sentiment</th>\n",
       "      <td>0.725245</td>\n",
       "      <td>0.419939</td>\n",
       "      <td>0.371276</td>\n",
       "      <td>0.858215</td>\n",
       "      <td>1.000000</td>\n",
       "    </tr>\n",
       "  </tbody>\n",
       "</table>\n",
       "</div>"
      ],
      "text/plain": [
       "                   bert_polarity  vader_polarity  textblob_polarity  \\\n",
       "bert_polarity           1.000000        0.512275           0.442117   \n",
       "vader_polarity          0.512275        1.000000           0.490160   \n",
       "textblob_polarity       0.442117        0.490160           1.000000   \n",
       "flair_polarity          0.721308        0.433013           0.363512   \n",
       "Sentiment               0.725245        0.419939           0.371276   \n",
       "\n",
       "                   flair_polarity  Sentiment  \n",
       "bert_polarity            0.721308   0.725245  \n",
       "vader_polarity           0.433013   0.419939  \n",
       "textblob_polarity        0.363512   0.371276  \n",
       "flair_polarity           1.000000   0.858215  \n",
       "Sentiment                0.858215   1.000000  "
      ]
     },
     "execution_count": 38,
     "metadata": {},
     "output_type": "execute_result"
    }
   ],
   "source": [
    "cordata.head()"
   ]
  },
  {
   "cell_type": "code",
   "execution_count": 39,
   "id": "2a9d76b7",
   "metadata": {},
   "outputs": [],
   "source": [
    "newsheadline_corr_analysis = newsheadline_corr_analysis[(newsheadline_corr_analysis['vader'] != 0) |\n",
    "                   (newsheadline_corr_analysis['textblob'] != 0) |\n",
    "                   (newsheadline_corr_analysis['bert'] != 0) |\n",
    "                   (newsheadline_corr_analysis['flair'] != 0) ]\n",
    "\n"
   ]
  },
  {
   "cell_type": "code",
   "execution_count": 40,
   "id": "e91350f7",
   "metadata": {},
   "outputs": [
    {
     "data": {
      "text/html": [
       "<div>\n",
       "<style scoped>\n",
       "    .dataframe tbody tr th:only-of-type {\n",
       "        vertical-align: middle;\n",
       "    }\n",
       "\n",
       "    .dataframe tbody tr th {\n",
       "        vertical-align: top;\n",
       "    }\n",
       "\n",
       "    .dataframe thead th {\n",
       "        text-align: right;\n",
       "    }\n",
       "</style>\n",
       "<table border=\"1\" class=\"dataframe\">\n",
       "  <thead>\n",
       "    <tr style=\"text-align: right;\">\n",
       "      <th></th>\n",
       "      <th>vader</th>\n",
       "      <th>textblob</th>\n",
       "      <th>bert</th>\n",
       "      <th>flair</th>\n",
       "      <th>Sentiment</th>\n",
       "    </tr>\n",
       "  </thead>\n",
       "  <tbody>\n",
       "    <tr>\n",
       "      <th>vader</th>\n",
       "      <td>1.000000</td>\n",
       "      <td>0.577443</td>\n",
       "      <td>0.625384</td>\n",
       "      <td>0.510042</td>\n",
       "      <td>0.495085</td>\n",
       "    </tr>\n",
       "    <tr>\n",
       "      <th>textblob</th>\n",
       "      <td>0.577443</td>\n",
       "      <td>1.000000</td>\n",
       "      <td>0.599022</td>\n",
       "      <td>0.517864</td>\n",
       "      <td>0.499081</td>\n",
       "    </tr>\n",
       "    <tr>\n",
       "      <th>bert</th>\n",
       "      <td>0.625384</td>\n",
       "      <td>0.599022</td>\n",
       "      <td>1.000000</td>\n",
       "      <td>0.811486</td>\n",
       "      <td>0.793903</td>\n",
       "    </tr>\n",
       "    <tr>\n",
       "      <th>flair</th>\n",
       "      <td>0.510042</td>\n",
       "      <td>0.517864</td>\n",
       "      <td>0.811486</td>\n",
       "      <td>1.000000</td>\n",
       "      <td>0.869075</td>\n",
       "    </tr>\n",
       "    <tr>\n",
       "      <th>Sentiment</th>\n",
       "      <td>0.495085</td>\n",
       "      <td>0.499081</td>\n",
       "      <td>0.793903</td>\n",
       "      <td>0.869075</td>\n",
       "      <td>1.000000</td>\n",
       "    </tr>\n",
       "  </tbody>\n",
       "</table>\n",
       "</div>"
      ],
      "text/plain": [
       "              vader  textblob      bert     flair  Sentiment\n",
       "vader      1.000000  0.577443  0.625384  0.510042   0.495085\n",
       "textblob   0.577443  1.000000  0.599022  0.517864   0.499081\n",
       "bert       0.625384  0.599022  1.000000  0.811486   0.793903\n",
       "flair      0.510042  0.517864  0.811486  1.000000   0.869075\n",
       "Sentiment  0.495085  0.499081  0.793903  0.869075   1.000000"
      ]
     },
     "execution_count": 40,
     "metadata": {},
     "output_type": "execute_result"
    }
   ],
   "source": [
    "newsheadline_corr_analysis[['vader','textblob','bert','flair','Sentiment']].corr()\n",
    "\n",
    "\n"
   ]
  },
  {
   "cell_type": "code",
   "execution_count": 41,
   "id": "76d42fd7",
   "metadata": {},
   "outputs": [
    {
     "data": {
      "text/html": [
       "<div>\n",
       "<style scoped>\n",
       "    .dataframe tbody tr th:only-of-type {\n",
       "        vertical-align: middle;\n",
       "    }\n",
       "\n",
       "    .dataframe tbody tr th {\n",
       "        vertical-align: top;\n",
       "    }\n",
       "\n",
       "    .dataframe thead th {\n",
       "        text-align: right;\n",
       "    }\n",
       "</style>\n",
       "<table border=\"1\" class=\"dataframe\">\n",
       "  <thead>\n",
       "    <tr style=\"text-align: right;\">\n",
       "      <th></th>\n",
       "      <th>Unnamed: 0</th>\n",
       "      <th>Unnamed: 0.1</th>\n",
       "      <th>Sentiment</th>\n",
       "      <th>Headline</th>\n",
       "      <th>vader</th>\n",
       "      <th>textblob</th>\n",
       "      <th>bert</th>\n",
       "      <th>flair</th>\n",
       "      <th>vader_polarity</th>\n",
       "      <th>textblob_polarity</th>\n",
       "      <th>bert_polarity</th>\n",
       "      <th>flair_polarity</th>\n",
       "    </tr>\n",
       "  </thead>\n",
       "  <tbody>\n",
       "    <tr>\n",
       "      <th>0</th>\n",
       "      <td>377936</td>\n",
       "      <td>377936</td>\n",
       "      <td>-1</td>\n",
       "      <td>The movie Le Bambole is quite an interesting p...</td>\n",
       "      <td>0.3005</td>\n",
       "      <td>0.140000</td>\n",
       "      <td>-0.545708</td>\n",
       "      <td>-0.999974</td>\n",
       "      <td>1</td>\n",
       "      <td>1</td>\n",
       "      <td>-1</td>\n",
       "      <td>-1</td>\n",
       "    </tr>\n",
       "    <tr>\n",
       "      <th>1</th>\n",
       "      <td>681864</td>\n",
       "      <td>681864</td>\n",
       "      <td>1</td>\n",
       "      <td>Like other reviewers, I first caught The Ice H...</td>\n",
       "      <td>0.9396</td>\n",
       "      <td>0.342500</td>\n",
       "      <td>0.967779</td>\n",
       "      <td>0.999746</td>\n",
       "      <td>1</td>\n",
       "      <td>1</td>\n",
       "      <td>1</td>\n",
       "      <td>1</td>\n",
       "    </tr>\n",
       "    <tr>\n",
       "      <th>2</th>\n",
       "      <td>2730859</td>\n",
       "      <td>2730859</td>\n",
       "      <td>-1</td>\n",
       "      <td>I am very disappointed in this kit. The outsid...</td>\n",
       "      <td>0.9235</td>\n",
       "      <td>0.162037</td>\n",
       "      <td>-0.910500</td>\n",
       "      <td>-0.999998</td>\n",
       "      <td>1</td>\n",
       "      <td>1</td>\n",
       "      <td>-1</td>\n",
       "      <td>-1</td>\n",
       "    </tr>\n",
       "    <tr>\n",
       "      <th>3</th>\n",
       "      <td>1599595</td>\n",
       "      <td>1599595</td>\n",
       "      <td>-1</td>\n",
       "      <td>The shipping was as much as the item and the i...</td>\n",
       "      <td>-0.0541</td>\n",
       "      <td>0.113889</td>\n",
       "      <td>-0.889409</td>\n",
       "      <td>-0.999972</td>\n",
       "      <td>-1</td>\n",
       "      <td>1</td>\n",
       "      <td>-1</td>\n",
       "      <td>-1</td>\n",
       "    </tr>\n",
       "    <tr>\n",
       "      <th>4</th>\n",
       "      <td>1921536</td>\n",
       "      <td>1921536</td>\n",
       "      <td>1</td>\n",
       "      <td>Needed to add USB card for added bandwidth nec...</td>\n",
       "      <td>0.6249</td>\n",
       "      <td>0.300000</td>\n",
       "      <td>0.855487</td>\n",
       "      <td>0.998260</td>\n",
       "      <td>1</td>\n",
       "      <td>1</td>\n",
       "      <td>1</td>\n",
       "      <td>1</td>\n",
       "    </tr>\n",
       "  </tbody>\n",
       "</table>\n",
       "</div>"
      ],
      "text/plain": [
       "   Unnamed: 0  Unnamed: 0.1  Sentiment  \\\n",
       "0      377936        377936         -1   \n",
       "1      681864        681864          1   \n",
       "2     2730859       2730859         -1   \n",
       "3     1599595       1599595         -1   \n",
       "4     1921536       1921536          1   \n",
       "\n",
       "                                            Headline   vader  textblob  \\\n",
       "0  The movie Le Bambole is quite an interesting p...  0.3005  0.140000   \n",
       "1  Like other reviewers, I first caught The Ice H...  0.9396  0.342500   \n",
       "2  I am very disappointed in this kit. The outsid...  0.9235  0.162037   \n",
       "3  The shipping was as much as the item and the i... -0.0541  0.113889   \n",
       "4  Needed to add USB card for added bandwidth nec...  0.6249  0.300000   \n",
       "\n",
       "       bert     flair  vader_polarity  textblob_polarity  bert_polarity  \\\n",
       "0 -0.545708 -0.999974               1                  1             -1   \n",
       "1  0.967779  0.999746               1                  1              1   \n",
       "2 -0.910500 -0.999998               1                  1             -1   \n",
       "3 -0.889409 -0.999972              -1                  1             -1   \n",
       "4  0.855487  0.998260               1                  1              1   \n",
       "\n",
       "   flair_polarity  \n",
       "0              -1  \n",
       "1               1  \n",
       "2              -1  \n",
       "3              -1  \n",
       "4               1  "
      ]
     },
     "execution_count": 41,
     "metadata": {},
     "output_type": "execute_result"
    }
   ],
   "source": [
    "newsheadline_corr_analysis.head()"
   ]
  },
  {
   "cell_type": "code",
   "execution_count": 42,
   "id": "718eade5",
   "metadata": {},
   "outputs": [],
   "source": [
    "from sklearn import metrics\n",
    "from sklearn.metrics import classification_report\n",
    "\n",
    "#\n"
   ]
  },
  {
   "attachments": {},
   "cell_type": "markdown",
   "id": "f6e05bb1",
   "metadata": {},
   "source": [
    "### Vader"
   ]
  },
  {
   "cell_type": "code",
   "execution_count": 43,
   "id": "7f7ac32a",
   "metadata": {},
   "outputs": [
    {
     "name": "stdout",
     "output_type": "stream",
     "text": [
      "              precision    recall  f1-score   support\n",
      "\n",
      "          -1       0.84      0.45      0.59       986\n",
      "           1       0.63      0.92      0.75      1014\n",
      "\n",
      "    accuracy                           0.69      2000\n",
      "   macro avg       0.74      0.69      0.67      2000\n",
      "weighted avg       0.74      0.69      0.67      2000\n",
      "\n"
     ]
    },
    {
     "data": {
      "image/png": "[encoded data removed]",
      "text/plain": [
       "<Figure size 432x288 with 2 Axes>"
      ]
     },
     "metadata": {
      "needs_background": "light"
     },
     "output_type": "display_data"
    }
   ],
   "source": [
    "print(classification_report(newsheadline_corr_analysis['Sentiment'],newsheadline_corr_analysis['vader_polarity'])) # \n",
    "confusion_matrix_vader = metrics.confusion_matrix(newsheadline_corr_analysis['Sentiment'], newsheadline_corr_analysis['vader_polarity'])\n",
    "cm_bert = metrics.ConfusionMatrixDisplay(confusion_matrix = confusion_matrix_vader, display_labels = [False, True])\n",
    "cm_bert.plot()\n",
    "plt.show()"
   ]
  },
  {
   "attachments": {},
   "cell_type": "markdown",
   "id": "f1b75b31",
   "metadata": {},
   "source": [
    "### Textblob"
   ]
  },
  {
   "cell_type": "code",
   "execution_count": 44,
   "id": "2444f94d",
   "metadata": {},
   "outputs": [
    {
     "name": "stdout",
     "output_type": "stream",
     "text": [
      "              precision    recall  f1-score   support\n",
      "\n",
      "          -1       0.86      0.36      0.50       986\n",
      "           1       0.60      0.94      0.73      1014\n",
      "\n",
      "    accuracy                           0.65      2000\n",
      "   macro avg       0.73      0.65      0.62      2000\n",
      "weighted avg       0.73      0.65      0.62      2000\n",
      "\n"
     ]
    },
    {
     "data": {
      "image/png": "[encoded data removed]",
      "text/plain": [
       "<Figure size 432x288 with 2 Axes>"
      ]
     },
     "metadata": {
      "needs_background": "light"
     },
     "output_type": "display_data"
    }
   ],
   "source": [
    "print(classification_report(newsheadline_corr_analysis['Sentiment'],newsheadline_corr_analysis['textblob_polarity'])) # \n",
    "confusion_matrix_tb = metrics.confusion_matrix(newsheadline_corr_analysis['Sentiment'], newsheadline_corr_analysis['textblob_polarity'])\n",
    "cm_tb = metrics.ConfusionMatrixDisplay(confusion_matrix = confusion_matrix_tb, display_labels = [False, True])\n",
    "cm_tb.plot()\n",
    "plt.show()"
   ]
  },
  {
   "attachments": {},
   "cell_type": "markdown",
   "id": "e77a752e",
   "metadata": {},
   "source": [
    "### Bert"
   ]
  },
  {
   "cell_type": "code",
   "execution_count": 45,
   "id": "ff29e2e8",
   "metadata": {},
   "outputs": [
    {
     "name": "stdout",
     "output_type": "stream",
     "text": [
      "              precision    recall  f1-score   support\n",
      "\n",
      "          -1       0.93      0.77      0.84       986\n",
      "           1       0.81      0.94      0.87      1014\n",
      "\n",
      "    accuracy                           0.86      2000\n",
      "   macro avg       0.87      0.86      0.86      2000\n",
      "weighted avg       0.87      0.86      0.86      2000\n",
      "\n"
     ]
    },
    {
     "data": {
      "image/png": "[encoded data removed]",
      "text/plain": [
       "<Figure size 432x288 with 2 Axes>"
      ]
     },
     "metadata": {
      "needs_background": "light"
     },
     "output_type": "display_data"
    }
   ],
   "source": [
    "print(classification_report(newsheadline_corr_analysis['Sentiment'],newsheadline_corr_analysis['bert_polarity'])) # \n",
    "confusion_matrix_bert = metrics.confusion_matrix(newsheadline_corr_analysis['Sentiment'], newsheadline_corr_analysis['bert_polarity'])\n",
    "cm_bert = metrics.ConfusionMatrixDisplay(confusion_matrix = confusion_matrix_bert, display_labels = [False, True])\n",
    "cm_bert.plot()\n",
    "plt.show()"
   ]
  },
  {
   "attachments": {},
   "cell_type": "markdown",
   "id": "a8070aaa",
   "metadata": {},
   "source": [
    "### Flair"
   ]
  },
  {
   "cell_type": "code",
   "execution_count": 46,
   "id": "24c26fac",
   "metadata": {},
   "outputs": [
    {
     "name": "stdout",
     "output_type": "stream",
     "text": [
      "              precision    recall  f1-score   support\n",
      "\n",
      "          -1       0.90      0.96      0.93       986\n",
      "           1       0.96      0.89      0.93      1014\n",
      "\n",
      "    accuracy                           0.93      2000\n",
      "   macro avg       0.93      0.93      0.93      2000\n",
      "weighted avg       0.93      0.93      0.93      2000\n",
      "\n"
     ]
    },
    {
     "data": {
      "image/png": "[encoded data removed]",
      "text/plain": [
       "<Figure size 432x288 with 2 Axes>"
      ]
     },
     "metadata": {
      "needs_background": "light"
     },
     "output_type": "display_data"
    }
   ],
   "source": [
    "print(classification_report(newsheadline_corr_analysis['Sentiment'],newsheadline_corr_analysis['flair_polarity'])) # \n",
    "confusion_matrix_flair = metrics.confusion_matrix(newsheadline_corr_analysis['Sentiment'], newsheadline_corr_analysis['flair_polarity'])\n",
    "cm_flair = metrics.ConfusionMatrixDisplay(confusion_matrix = confusion_matrix_flair, display_labels = [False, True])\n",
    "cm_flair.plot()\n",
    "plt.show()"
   ]
  },
  {
   "attachments": {},
   "cell_type": "markdown",
   "id": "7d18b672",
   "metadata": {},
   "source": [
    "### Data analysis"
   ]
  },
  {
   "cell_type": "code",
   "execution_count": 47,
   "id": "80e0799f",
   "metadata": {},
   "outputs": [
    {
     "data": {
      "text/html": [
       "<div>\n",
       "<style scoped>\n",
       "    .dataframe tbody tr th:only-of-type {\n",
       "        vertical-align: middle;\n",
       "    }\n",
       "\n",
       "    .dataframe tbody tr th {\n",
       "        vertical-align: top;\n",
       "    }\n",
       "\n",
       "    .dataframe thead th {\n",
       "        text-align: right;\n",
       "    }\n",
       "</style>\n",
       "<table border=\"1\" class=\"dataframe\">\n",
       "  <thead>\n",
       "    <tr style=\"text-align: right;\">\n",
       "      <th></th>\n",
       "      <th>Unnamed: 0</th>\n",
       "      <th>Unnamed: 0.1</th>\n",
       "      <th>Sentiment</th>\n",
       "      <th>Headline</th>\n",
       "      <th>vader</th>\n",
       "      <th>textblob</th>\n",
       "      <th>bert</th>\n",
       "      <th>flair</th>\n",
       "      <th>vader_polarity</th>\n",
       "      <th>textblob_polarity</th>\n",
       "      <th>bert_polarity</th>\n",
       "      <th>flair_polarity</th>\n",
       "    </tr>\n",
       "  </thead>\n",
       "  <tbody>\n",
       "    <tr>\n",
       "      <th>0</th>\n",
       "      <td>377936</td>\n",
       "      <td>377936</td>\n",
       "      <td>-1</td>\n",
       "      <td>The movie Le Bambole is quite an interesting p...</td>\n",
       "      <td>0.3005</td>\n",
       "      <td>0.140000</td>\n",
       "      <td>-0.545708</td>\n",
       "      <td>-0.999974</td>\n",
       "      <td>1</td>\n",
       "      <td>1</td>\n",
       "      <td>-1</td>\n",
       "      <td>-1</td>\n",
       "    </tr>\n",
       "    <tr>\n",
       "      <th>1</th>\n",
       "      <td>681864</td>\n",
       "      <td>681864</td>\n",
       "      <td>1</td>\n",
       "      <td>Like other reviewers, I first caught The Ice H...</td>\n",
       "      <td>0.9396</td>\n",
       "      <td>0.342500</td>\n",
       "      <td>0.967779</td>\n",
       "      <td>0.999746</td>\n",
       "      <td>1</td>\n",
       "      <td>1</td>\n",
       "      <td>1</td>\n",
       "      <td>1</td>\n",
       "    </tr>\n",
       "    <tr>\n",
       "      <th>2</th>\n",
       "      <td>2730859</td>\n",
       "      <td>2730859</td>\n",
       "      <td>-1</td>\n",
       "      <td>I am very disappointed in this kit. The outsid...</td>\n",
       "      <td>0.9235</td>\n",
       "      <td>0.162037</td>\n",
       "      <td>-0.910500</td>\n",
       "      <td>-0.999998</td>\n",
       "      <td>1</td>\n",
       "      <td>1</td>\n",
       "      <td>-1</td>\n",
       "      <td>-1</td>\n",
       "    </tr>\n",
       "    <tr>\n",
       "      <th>3</th>\n",
       "      <td>1599595</td>\n",
       "      <td>1599595</td>\n",
       "      <td>-1</td>\n",
       "      <td>The shipping was as much as the item and the i...</td>\n",
       "      <td>-0.0541</td>\n",
       "      <td>0.113889</td>\n",
       "      <td>-0.889409</td>\n",
       "      <td>-0.999972</td>\n",
       "      <td>-1</td>\n",
       "      <td>1</td>\n",
       "      <td>-1</td>\n",
       "      <td>-1</td>\n",
       "    </tr>\n",
       "    <tr>\n",
       "      <th>4</th>\n",
       "      <td>1921536</td>\n",
       "      <td>1921536</td>\n",
       "      <td>1</td>\n",
       "      <td>Needed to add USB card for added bandwidth nec...</td>\n",
       "      <td>0.6249</td>\n",
       "      <td>0.300000</td>\n",
       "      <td>0.855487</td>\n",
       "      <td>0.998260</td>\n",
       "      <td>1</td>\n",
       "      <td>1</td>\n",
       "      <td>1</td>\n",
       "      <td>1</td>\n",
       "    </tr>\n",
       "  </tbody>\n",
       "</table>\n",
       "</div>"
      ],
      "text/plain": [
       "   Unnamed: 0  Unnamed: 0.1  Sentiment  \\\n",
       "0      377936        377936         -1   \n",
       "1      681864        681864          1   \n",
       "2     2730859       2730859         -1   \n",
       "3     1599595       1599595         -1   \n",
       "4     1921536       1921536          1   \n",
       "\n",
       "                                            Headline   vader  textblob  \\\n",
       "0  The movie Le Bambole is quite an interesting p...  0.3005  0.140000   \n",
       "1  Like other reviewers, I first caught The Ice H...  0.9396  0.342500   \n",
       "2  I am very disappointed in this kit. The outsid...  0.9235  0.162037   \n",
       "3  The shipping was as much as the item and the i... -0.0541  0.113889   \n",
       "4  Needed to add USB card for added bandwidth nec...  0.6249  0.300000   \n",
       "\n",
       "       bert     flair  vader_polarity  textblob_polarity  bert_polarity  \\\n",
       "0 -0.545708 -0.999974               1                  1             -1   \n",
       "1  0.967779  0.999746               1                  1              1   \n",
       "2 -0.910500 -0.999998               1                  1             -1   \n",
       "3 -0.889409 -0.999972              -1                  1             -1   \n",
       "4  0.855487  0.998260               1                  1              1   \n",
       "\n",
       "   flair_polarity  \n",
       "0              -1  \n",
       "1               1  \n",
       "2              -1  \n",
       "3              -1  \n",
       "4               1  "
      ]
     },
     "execution_count": 47,
     "metadata": {},
     "output_type": "execute_result"
    }
   ],
   "source": [
    "\n",
    "newsheadline_corr_analysis.head()\n",
    "\n"
   ]
  },
  {
   "cell_type": "code",
   "execution_count": 48,
   "id": "c489c6e4",
   "metadata": {},
   "outputs": [
    {
     "data": {
      "text/plain": [
       " 1    1014\n",
       "-1     986\n",
       "Name: Sentiment, dtype: int64"
      ]
     },
     "execution_count": 48,
     "metadata": {},
     "output_type": "execute_result"
    }
   ],
   "source": [
    "newsheadline_corr_analysis['Sentiment'].value_counts()\n",
    "## This is a skewed dataset\n",
    "# Therefore Precision - Recall curve will be bette than the ROC curve in this case"
   ]
  },
  {
   "cell_type": "code",
   "execution_count": 49,
   "id": "9ed84306",
   "metadata": {},
   "outputs": [
    {
     "data": {
      "text/plain": [
       "(array([ 986.,    0.,    0.,    0.,    0.,    0.,    0.,    0.,    0.,\n",
       "        1014.]),\n",
       " array([-1. , -0.8, -0.6, -0.4, -0.2,  0. ,  0.2,  0.4,  0.6,  0.8,  1. ]),\n",
       " <a list of 10 Patch objects>)"
      ]
     },
     "execution_count": 49,
     "metadata": {},
     "output_type": "execute_result"
    },
    {
     "data": {
      "image/png": "[encoded data removed]",
      "text/plain": [
       "<Figure size 432x288 with 1 Axes>"
      ]
     },
     "metadata": {
      "needs_background": "light"
     },
     "output_type": "display_data"
    }
   ],
   "source": [
    "plt.hist(newsheadline_corr_analysis['Sentiment'])"
   ]
  },
  {
   "attachments": {},
   "cell_type": "markdown",
   "id": "5cf1b83c",
   "metadata": {},
   "source": [
    "## Training and Testing using Logistic Regressor"
   ]
  },
  {
   "attachments": {},
   "cell_type": "markdown",
   "id": "8a7fec56",
   "metadata": {},
   "source": [
    "### Training and Checking "
   ]
  },
  {
   "cell_type": "code",
   "execution_count": 50,
   "id": "d52f9bb1",
   "metadata": {},
   "outputs": [],
   "source": [
    "from sklearn.linear_model import LogisticRegression\n",
    "from sklearn.preprocessing import MinMaxScaler\n"
   ]
  },
  {
   "cell_type": "code",
   "execution_count": 51,
   "id": "9ebd9fbc",
   "metadata": {},
   "outputs": [],
   "source": [
    "mmscaler = MinMaxScaler()"
   ]
  },
  {
   "cell_type": "code",
   "execution_count": 52,
   "id": "fdb32c44",
   "metadata": {},
   "outputs": [],
   "source": [
    "logmodel = LogisticRegression()\n"
   ]
  },
  {
   "cell_type": "code",
   "execution_count": 53,
   "id": "51e20d33",
   "metadata": {},
   "outputs": [],
   "source": [
    "\n",
    "our_data=newsheadline_corr_analysis\n",
    "\n"
   ]
  },
  {
   "cell_type": "code",
   "execution_count": 54,
   "id": "f0d2cab3",
   "metadata": {},
   "outputs": [],
   "source": [
    "X = our_data[['textblob','vader','bert','flair','vader_polarity','textblob_polarity','bert_polarity','flair_polarity','Sentiment']]\n",
    "y = our_data['Sentiment']"
   ]
  },
  {
   "cell_type": "code",
   "execution_count": 55,
   "id": "e1fd3f94",
   "metadata": {},
   "outputs": [],
   "source": [
    "from sklearn.model_selection import train_test_split"
   ]
  },
  {
   "cell_type": "code",
   "execution_count": 56,
   "id": "bf50a9bf",
   "metadata": {},
   "outputs": [],
   "source": [
    "X_train,X_test,y_train,y_test = train_test_split(X,y,test_size=0.3)"
   ]
  },
  {
   "cell_type": "code",
   "execution_count": 57,
   "id": "039442c1",
   "metadata": {},
   "outputs": [
    {
     "data": {
      "text/plain": [
       "(600,)"
      ]
     },
     "execution_count": 57,
     "metadata": {},
     "output_type": "execute_result"
    }
   ],
   "source": [
    "y_test.shape\n",
    "\n"
   ]
  },
  {
   "cell_type": "code",
   "execution_count": 58,
   "id": "516649ac",
   "metadata": {},
   "outputs": [
    {
     "data": {
      "text/html": [
       "<div>\n",
       "<style scoped>\n",
       "    .dataframe tbody tr th:only-of-type {\n",
       "        vertical-align: middle;\n",
       "    }\n",
       "\n",
       "    .dataframe tbody tr th {\n",
       "        vertical-align: top;\n",
       "    }\n",
       "\n",
       "    .dataframe thead th {\n",
       "        text-align: right;\n",
       "    }\n",
       "</style>\n",
       "<table border=\"1\" class=\"dataframe\">\n",
       "  <thead>\n",
       "    <tr style=\"text-align: right;\">\n",
       "      <th></th>\n",
       "      <th>textblob</th>\n",
       "      <th>vader</th>\n",
       "      <th>bert</th>\n",
       "      <th>flair</th>\n",
       "      <th>vader_polarity</th>\n",
       "      <th>textblob_polarity</th>\n",
       "      <th>bert_polarity</th>\n",
       "      <th>flair_polarity</th>\n",
       "      <th>Sentiment</th>\n",
       "    </tr>\n",
       "  </thead>\n",
       "  <tbody>\n",
       "    <tr>\n",
       "      <th>498</th>\n",
       "      <td>0.257114</td>\n",
       "      <td>0.9572</td>\n",
       "      <td>0.958878</td>\n",
       "      <td>0.999993</td>\n",
       "      <td>1</td>\n",
       "      <td>1</td>\n",
       "      <td>1</td>\n",
       "      <td>1</td>\n",
       "      <td>1</td>\n",
       "    </tr>\n",
       "    <tr>\n",
       "      <th>749</th>\n",
       "      <td>0.088889</td>\n",
       "      <td>0.8225</td>\n",
       "      <td>0.581096</td>\n",
       "      <td>0.999918</td>\n",
       "      <td>1</td>\n",
       "      <td>1</td>\n",
       "      <td>1</td>\n",
       "      <td>1</td>\n",
       "      <td>1</td>\n",
       "    </tr>\n",
       "    <tr>\n",
       "      <th>1436</th>\n",
       "      <td>0.155069</td>\n",
       "      <td>0.8181</td>\n",
       "      <td>0.968198</td>\n",
       "      <td>0.999845</td>\n",
       "      <td>1</td>\n",
       "      <td>1</td>\n",
       "      <td>1</td>\n",
       "      <td>1</td>\n",
       "      <td>1</td>\n",
       "    </tr>\n",
       "    <tr>\n",
       "      <th>116</th>\n",
       "      <td>0.550000</td>\n",
       "      <td>0.8255</td>\n",
       "      <td>0.987808</td>\n",
       "      <td>0.998033</td>\n",
       "      <td>1</td>\n",
       "      <td>1</td>\n",
       "      <td>1</td>\n",
       "      <td>1</td>\n",
       "      <td>1</td>\n",
       "    </tr>\n",
       "    <tr>\n",
       "      <th>165</th>\n",
       "      <td>0.200000</td>\n",
       "      <td>0.4203</td>\n",
       "      <td>-0.695962</td>\n",
       "      <td>-0.999980</td>\n",
       "      <td>1</td>\n",
       "      <td>1</td>\n",
       "      <td>-1</td>\n",
       "      <td>-1</td>\n",
       "      <td>-1</td>\n",
       "    </tr>\n",
       "    <tr>\n",
       "      <th>...</th>\n",
       "      <td>...</td>\n",
       "      <td>...</td>\n",
       "      <td>...</td>\n",
       "      <td>...</td>\n",
       "      <td>...</td>\n",
       "      <td>...</td>\n",
       "      <td>...</td>\n",
       "      <td>...</td>\n",
       "      <td>...</td>\n",
       "    </tr>\n",
       "    <tr>\n",
       "      <th>547</th>\n",
       "      <td>0.277500</td>\n",
       "      <td>0.9014</td>\n",
       "      <td>-0.529161</td>\n",
       "      <td>0.999967</td>\n",
       "      <td>1</td>\n",
       "      <td>1</td>\n",
       "      <td>-1</td>\n",
       "      <td>1</td>\n",
       "      <td>1</td>\n",
       "    </tr>\n",
       "    <tr>\n",
       "      <th>795</th>\n",
       "      <td>0.475000</td>\n",
       "      <td>0.9693</td>\n",
       "      <td>0.911618</td>\n",
       "      <td>0.999829</td>\n",
       "      <td>1</td>\n",
       "      <td>1</td>\n",
       "      <td>1</td>\n",
       "      <td>1</td>\n",
       "      <td>1</td>\n",
       "    </tr>\n",
       "    <tr>\n",
       "      <th>206</th>\n",
       "      <td>0.086824</td>\n",
       "      <td>0.0181</td>\n",
       "      <td>0.596046</td>\n",
       "      <td>-0.999992</td>\n",
       "      <td>1</td>\n",
       "      <td>1</td>\n",
       "      <td>1</td>\n",
       "      <td>-1</td>\n",
       "      <td>-1</td>\n",
       "    </tr>\n",
       "    <tr>\n",
       "      <th>763</th>\n",
       "      <td>0.322500</td>\n",
       "      <td>0.9110</td>\n",
       "      <td>0.826410</td>\n",
       "      <td>0.999149</td>\n",
       "      <td>1</td>\n",
       "      <td>1</td>\n",
       "      <td>1</td>\n",
       "      <td>1</td>\n",
       "      <td>1</td>\n",
       "    </tr>\n",
       "    <tr>\n",
       "      <th>1734</th>\n",
       "      <td>0.377778</td>\n",
       "      <td>0.7003</td>\n",
       "      <td>0.893462</td>\n",
       "      <td>0.993740</td>\n",
       "      <td>1</td>\n",
       "      <td>1</td>\n",
       "      <td>1</td>\n",
       "      <td>1</td>\n",
       "      <td>1</td>\n",
       "    </tr>\n",
       "  </tbody>\n",
       "</table>\n",
       "<p>1400 rows × 9 columns</p>\n",
       "</div>"
      ],
      "text/plain": [
       "      textblob   vader      bert     flair  vader_polarity  textblob_polarity  \\\n",
       "498   0.257114  0.9572  0.958878  0.999993               1                  1   \n",
       "749   0.088889  0.8225  0.581096  0.999918               1                  1   \n",
       "1436  0.155069  0.8181  0.968198  0.999845               1                  1   \n",
       "116   0.550000  0.8255  0.987808  0.998033               1                  1   \n",
       "165   0.200000  0.4203 -0.695962 -0.999980               1                  1   \n",
       "...        ...     ...       ...       ...             ...                ...   \n",
       "547   0.277500  0.9014 -0.529161  0.999967               1                  1   \n",
       "795   0.475000  0.9693  0.911618  0.999829               1                  1   \n",
       "206   0.086824  0.0181  0.596046 -0.999992               1                  1   \n",
       "763   0.322500  0.9110  0.826410  0.999149               1                  1   \n",
       "1734  0.377778  0.7003  0.893462  0.993740               1                  1   \n",
       "\n",
       "      bert_polarity  flair_polarity  Sentiment  \n",
       "498               1               1          1  \n",
       "749               1               1          1  \n",
       "1436              1               1          1  \n",
       "116               1               1          1  \n",
       "165              -1              -1         -1  \n",
       "...             ...             ...        ...  \n",
       "547              -1               1          1  \n",
       "795               1               1          1  \n",
       "206               1              -1         -1  \n",
       "763               1               1          1  \n",
       "1734              1               1          1  \n",
       "\n",
       "[1400 rows x 9 columns]"
      ]
     },
     "execution_count": 58,
     "metadata": {},
     "output_type": "execute_result"
    }
   ],
   "source": [
    "X_train"
   ]
  },
  {
   "cell_type": "code",
   "execution_count": 59,
   "id": "b2ef0b9a",
   "metadata": {},
   "outputs": [],
   "source": [
    "X_train_full = X_train\n",
    "X_train = X_train [['vader','textblob','bert','flair']]\n",
    "X_train = mmscaler.fit_transform(X_train)"
   ]
  },
  {
   "cell_type": "code",
   "execution_count": 60,
   "id": "f9cc7b0d",
   "metadata": {},
   "outputs": [],
   "source": [
    "X_test_full = X_test\n",
    "X_test = X_test [['vader','textblob','bert','flair']]\n",
    "X_test = mmscaler.fit_transform(X_test)\n"
   ]
  },
  {
   "cell_type": "code",
   "execution_count": 61,
   "id": "c93de08b",
   "metadata": {},
   "outputs": [
    {
     "data": {
      "text/plain": [
       "LogisticRegression()"
      ]
     },
     "execution_count": 61,
     "metadata": {},
     "output_type": "execute_result"
    }
   ],
   "source": [
    "\n",
    "\n",
    "logmodel.fit(X_train,y_train) # Outputs are -1 and 1"
   ]
  },
  {
   "cell_type": "code",
   "execution_count": 62,
   "id": "af43c6e3",
   "metadata": {},
   "outputs": [
    {
     "data": {
      "text/plain": [
       "array([[9.79800537e-01, 6.28556985e-01, 9.84547016e-01, 9.99998391e-01],\n",
       "       [9.11608363e-01, 5.44444444e-01, 7.90747210e-01, 9.99961018e-01],\n",
       "       [9.09380854e-01, 5.77534271e-01, 9.89328154e-01, 9.99924242e-01],\n",
       "       ...,\n",
       "       [5.04379082e-01, 5.43411797e-01, 7.98416783e-01, 3.57628572e-06],\n",
       "       [9.56411684e-01, 6.61250000e-01, 9.16591993e-01, 9.99576508e-01],\n",
       "       [8.49744343e-01, 6.88888889e-01, 9.50989003e-01, 9.96871584e-01]])"
      ]
     },
     "execution_count": 62,
     "metadata": {},
     "output_type": "execute_result"
    }
   ],
   "source": [
    "X_train"
   ]
  },
  {
   "cell_type": "code",
   "execution_count": 63,
   "id": "2341bd48",
   "metadata": {},
   "outputs": [],
   "source": [
    "predictions = logmodel.predict(X_train)\n",
    "probs = logmodel.predict_proba(X_train)\n"
   ]
  },
  {
   "cell_type": "code",
   "execution_count": 64,
   "id": "15fd1703",
   "metadata": {},
   "outputs": [
    {
     "name": "stderr",
     "output_type": "stream",
     "text": [
      "/Users/amitobe/opt/anaconda3/envs/nlp_course/lib/python3.7/site-packages/sklearn/base.py:444: UserWarning: X has feature names, but LogisticRegression was fitted without feature names\n",
      "  f\"X has feature names, but {self.__class__.__name__} was fitted without\"\n"
     ]
    },
    {
     "data": {
      "text/plain": [
       "array([[0.18576849, 0.81423151]])"
      ]
     },
     "execution_count": 64,
     "metadata": {},
     "output_type": "execute_result"
    }
   ],
   "source": [
    "xx =pd.DataFrame([{'vader':.8,'textblob':.4,'bert':.8,'flair':.62}])\n",
    "tem = logmodel.predict_proba(xx)\n",
    "tem\n",
    "\n"
   ]
  },
  {
   "cell_type": "code",
   "execution_count": 65,
   "id": "5c9f3a15",
   "metadata": {},
   "outputs": [
    {
     "data": {
      "text/plain": [
       "(1400, 2)"
      ]
     },
     "execution_count": 65,
     "metadata": {},
     "output_type": "execute_result"
    }
   ],
   "source": [
    "probs.shape\n",
    "\n",
    "\n"
   ]
  },
  {
   "cell_type": "code",
   "execution_count": 66,
   "id": "118ef202",
   "metadata": {},
   "outputs": [
    {
     "data": {
      "text/plain": [
       "(1400, 3)"
      ]
     },
     "execution_count": 66,
     "metadata": {},
     "output_type": "execute_result"
    }
   ],
   "source": [
    "\n",
    "probsdf = pd.DataFrame(probs)\n",
    "probsdf['trth'] = y_train.to_numpy()\n",
    "#aplha = 0.80\n",
    "#high_prob_data = probsdf[(probsdf[1] > aplha) | (probsdf[0] > aplha)]\n",
    "#probsdf = high_prob_data\n",
    "probsdf.shape\n"
   ]
  },
  {
   "attachments": {},
   "cell_type": "markdown",
   "id": "68e9fd78",
   "metadata": {},
   "source": [
    "### ROC Curve Analysis"
   ]
  },
  {
   "cell_type": "code",
   "execution_count": 67,
   "id": "b273daab",
   "metadata": {},
   "outputs": [],
   "source": [
    "import matplotlib\n",
    "import matplotlib.pyplot as pyplot"
   ]
  },
  {
   "cell_type": "code",
   "execution_count": 68,
   "id": "a5a5bdbd",
   "metadata": {},
   "outputs": [
    {
     "name": "stdout",
     "output_type": "stream",
     "text": [
      "Logistic: ROC AUC=0.974\n"
     ]
    },
    {
     "data": {
      "image/png": "[encoded data removed]",
      "text/plain": [
       "<Figure size 432x288 with 1 Axes>"
      ]
     },
     "metadata": {
      "needs_background": "light"
     },
     "output_type": "display_data"
    }
   ],
   "source": [
    "lr_probs = probs[:,[1]]\n",
    "lr_auc = roc_auc_score(y_train, lr_probs)\n",
    "# summarize scores\n",
    "\n",
    "print('Logistic: ROC AUC=%.3f' % (lr_auc))\n",
    "# calculate roc curves\n",
    "\n",
    "lr_fpr, lr_tpr, thr = roc_curve(y_train, lr_probs)\n",
    "# plot the roc curve for the model # pyplot.plot(ns_fpr, ns_tpr, linestyle='--', label='No Skill')\n",
    "pyplot.plot(lr_fpr, lr_tpr, marker='.', label='Logistic')\n",
    "# axis labels\n",
    "pyplot.xlabel('False Positive Rate')\n",
    "pyplot.ylabel('True Positive Rate')\n",
    "# show the legend\n",
    "pyplot.legend()\n",
    "# show the plot\n",
    "pyplot.show()"
   ]
  },
  {
   "cell_type": "code",
   "execution_count": 69,
   "id": "4665c23b",
   "metadata": {},
   "outputs": [
    {
     "data": {
      "text/plain": [
       "0.42381004503526565"
      ]
     },
     "execution_count": 69,
     "metadata": {},
     "output_type": "execute_result"
    }
   ],
   "source": [
    "optimal_idx = np.argmax(lr_tpr - lr_fpr) #we need to maximise TP-FP\n",
    "thr[optimal_idx]"
   ]
  },
  {
   "cell_type": "code",
   "execution_count": 70,
   "id": "0e5d47e6",
   "metadata": {},
   "outputs": [],
   "source": [
    "alpha_thresh = thr[optimal_idx]\n",
    "\n",
    "def label_pol (prob_score):\n",
    "    \n",
    "    if prob_score[1] > alpha_thresh:\n",
    "        return 1\n",
    "    else:\n",
    "       return -1\n"
   ]
  },
  {
   "cell_type": "code",
   "execution_count": 71,
   "id": "64af43f8",
   "metadata": {},
   "outputs": [
    {
     "data": {
      "text/html": [
       "<div>\n",
       "<style scoped>\n",
       "    .dataframe tbody tr th:only-of-type {\n",
       "        vertical-align: middle;\n",
       "    }\n",
       "\n",
       "    .dataframe tbody tr th {\n",
       "        vertical-align: top;\n",
       "    }\n",
       "\n",
       "    .dataframe thead th {\n",
       "        text-align: right;\n",
       "    }\n",
       "</style>\n",
       "<table border=\"1\" class=\"dataframe\">\n",
       "  <thead>\n",
       "    <tr style=\"text-align: right;\">\n",
       "      <th></th>\n",
       "      <th>0</th>\n",
       "      <th>1</th>\n",
       "      <th>trth</th>\n",
       "      <th>label_pol_pred</th>\n",
       "    </tr>\n",
       "  </thead>\n",
       "  <tbody>\n",
       "    <tr>\n",
       "      <th>0</th>\n",
       "      <td>0.023532</td>\n",
       "      <td>0.976468</td>\n",
       "      <td>1</td>\n",
       "      <td>1</td>\n",
       "    </tr>\n",
       "    <tr>\n",
       "      <th>1</th>\n",
       "      <td>0.044228</td>\n",
       "      <td>0.955772</td>\n",
       "      <td>1</td>\n",
       "      <td>1</td>\n",
       "    </tr>\n",
       "    <tr>\n",
       "      <th>2</th>\n",
       "      <td>0.024322</td>\n",
       "      <td>0.975678</td>\n",
       "      <td>1</td>\n",
       "      <td>1</td>\n",
       "    </tr>\n",
       "    <tr>\n",
       "      <th>3</th>\n",
       "      <td>0.020310</td>\n",
       "      <td>0.979690</td>\n",
       "      <td>1</td>\n",
       "      <td>1</td>\n",
       "    </tr>\n",
       "    <tr>\n",
       "      <th>4</th>\n",
       "      <td>0.942476</td>\n",
       "      <td>0.057524</td>\n",
       "      <td>-1</td>\n",
       "      <td>-1</td>\n",
       "    </tr>\n",
       "  </tbody>\n",
       "</table>\n",
       "</div>"
      ],
      "text/plain": [
       "          0         1  trth  label_pol_pred\n",
       "0  0.023532  0.976468     1               1\n",
       "1  0.044228  0.955772     1               1\n",
       "2  0.024322  0.975678     1               1\n",
       "3  0.020310  0.979690     1               1\n",
       "4  0.942476  0.057524    -1              -1"
      ]
     },
     "execution_count": 71,
     "metadata": {},
     "output_type": "execute_result"
    }
   ],
   "source": [
    "probsdf['label_pol_pred'] = probsdf.apply (lambda row: label_pol(row), axis=1)\n",
    "probsdf.head()\n",
    "\n"
   ]
  },
  {
   "cell_type": "code",
   "execution_count": 72,
   "id": "9059a365",
   "metadata": {},
   "outputs": [
    {
     "name": "stdout",
     "output_type": "stream",
     "text": [
      "                   -1           1  accuracy    macro avg  weighted avg\n",
      "precision    0.919178    0.953731  0.935714     0.936455      0.936405\n",
      "recall       0.955840    0.915473  0.935714     0.935657      0.935714\n",
      "f1-score     0.937151    0.934211  0.935714     0.935681      0.935685\n",
      "support    702.000000  698.000000  0.935714  1400.000000   1400.000000\n"
     ]
    }
   ],
   "source": [
    "from sklearn import metrics\n",
    "print(pd.DataFrame(metrics.classification_report(probsdf['trth'],probsdf['label_pol_pred'],output_dict=True)))\n",
    "\n",
    "\n"
   ]
  },
  {
   "attachments": {},
   "cell_type": "markdown",
   "id": "d8ee8922",
   "metadata": {},
   "source": [
    "\n",
    "### Data Capture Threshold Analysis"
   ]
  },
  {
   "cell_type": "code",
   "execution_count": 73,
   "id": "a2afb7d4",
   "metadata": {},
   "outputs": [],
   "source": [
    "threshold_analysis = pd.DataFrame({'Thresh_alpha':[0],'Accuracy':[0],'Percent_data_capture':[0],'Precision':[0],'Recall':[0],'f1':[0]})\n",
    "detl_threshold = pd.DataFrame({'Thresh_alpha':[],'Accuracy':[],'Percent_data_capture':[],'Precision':[],'Recall':[],'f1':[]})\n",
    "for i in range (4,92):\n",
    "    alpha_th = i*.01\n",
    "    res1 = pd.DataFrame(classification_report(probsdf['trth'][(probsdf[1]>alpha_th)|(probsdf[0]>alpha_th)],probsdf['label_pol_pred'][(probsdf[1]>alpha_th)|(probsdf[0]>alpha_th)],output_dict=True))\n",
    "    try:\n",
    "        res1 = pd.DataFrame(classification_report(probsdf['trth'][(probsdf[1]>alpha_th)|(probsdf[0]>alpha_th)],probsdf['label_pol_pred'][(probsdf[1]>alpha_th)|(probsdf[0]>alpha_th)],output_dict=True))\n",
    "        threshold_analysis['Accuracy']= res1['accuracy'].iloc[0]        \n",
    "    except KeyError:\n",
    "        threshold_analysis['Accuracy']= 0\n",
    "    try:\n",
    "        threshold_analysis['Percent_data_capture'] = probsdf['trth'][(probsdf[1]>alpha_th)|(probsdf[0]>alpha_th)].count()/probsdf['trth'].count()\n",
    "        threshold_analysis['Thresh_alpha'] = alpha_th\n",
    "        threshold_analysis['Precision'] = res1['1'].loc['precision']\n",
    "        threshold_analysis['Recall'] = res1['1'].loc['recall']\n",
    "        threshold_analysis['f1'] = res1['1'].loc['f1-score']\n",
    "    except KeyError:\n",
    "        threshold_analysis['Precision'] = 0\n",
    "        threshold_analysis['Recall'] = 0\n",
    "        threshold_analysis['f1'] = 0\n",
    "    detl_threshold = detl_threshold.append(threshold_analysis)"
   ]
  },
  {
   "cell_type": "code",
   "execution_count": 74,
   "id": "ce77bc18",
   "metadata": {},
   "outputs": [
    {
     "data": {
      "text/html": [
       "<div>\n",
       "<style scoped>\n",
       "    .dataframe tbody tr th:only-of-type {\n",
       "        vertical-align: middle;\n",
       "    }\n",
       "\n",
       "    .dataframe tbody tr th {\n",
       "        vertical-align: top;\n",
       "    }\n",
       "\n",
       "    .dataframe thead th {\n",
       "        text-align: right;\n",
       "    }\n",
       "</style>\n",
       "<table border=\"1\" class=\"dataframe\">\n",
       "  <thead>\n",
       "    <tr style=\"text-align: right;\">\n",
       "      <th></th>\n",
       "      <th>-1</th>\n",
       "      <th>1</th>\n",
       "      <th>accuracy</th>\n",
       "      <th>macro avg</th>\n",
       "      <th>weighted avg</th>\n",
       "    </tr>\n",
       "  </thead>\n",
       "  <tbody>\n",
       "    <tr>\n",
       "      <th>precision</th>\n",
       "      <td>0.964093</td>\n",
       "      <td>0.973958</td>\n",
       "      <td>0.969109</td>\n",
       "      <td>0.969026</td>\n",
       "      <td>0.969152</td>\n",
       "    </tr>\n",
       "    <tr>\n",
       "      <th>recall</th>\n",
       "      <td>0.972826</td>\n",
       "      <td>0.965577</td>\n",
       "      <td>0.969109</td>\n",
       "      <td>0.969201</td>\n",
       "      <td>0.969109</td>\n",
       "    </tr>\n",
       "    <tr>\n",
       "      <th>f1-score</th>\n",
       "      <td>0.968440</td>\n",
       "      <td>0.969749</td>\n",
       "      <td>0.969109</td>\n",
       "      <td>0.969095</td>\n",
       "      <td>0.969111</td>\n",
       "    </tr>\n",
       "    <tr>\n",
       "      <th>support</th>\n",
       "      <td>552.000000</td>\n",
       "      <td>581.000000</td>\n",
       "      <td>0.969109</td>\n",
       "      <td>1133.000000</td>\n",
       "      <td>1133.000000</td>\n",
       "    </tr>\n",
       "  </tbody>\n",
       "</table>\n",
       "</div>"
      ],
      "text/plain": [
       "                   -1           1  accuracy    macro avg  weighted avg\n",
       "precision    0.964093    0.973958  0.969109     0.969026      0.969152\n",
       "recall       0.972826    0.965577  0.969109     0.969201      0.969109\n",
       "f1-score     0.968440    0.969749  0.969109     0.969095      0.969111\n",
       "support    552.000000  581.000000  0.969109  1133.000000   1133.000000"
      ]
     },
     "execution_count": 74,
     "metadata": {},
     "output_type": "execute_result"
    }
   ],
   "source": [
    "res1"
   ]
  },
  {
   "cell_type": "code",
   "execution_count": 75,
   "id": "8e0154e6",
   "metadata": {},
   "outputs": [
    {
     "data": {
      "text/html": [
       "<div>\n",
       "<style scoped>\n",
       "    .dataframe tbody tr th:only-of-type {\n",
       "        vertical-align: middle;\n",
       "    }\n",
       "\n",
       "    .dataframe tbody tr th {\n",
       "        vertical-align: top;\n",
       "    }\n",
       "\n",
       "    .dataframe thead th {\n",
       "        text-align: right;\n",
       "    }\n",
       "</style>\n",
       "<table border=\"1\" class=\"dataframe\">\n",
       "  <thead>\n",
       "    <tr style=\"text-align: right;\">\n",
       "      <th></th>\n",
       "      <th>Thresh_alpha</th>\n",
       "      <th>Accuracy</th>\n",
       "      <th>Percent_data_capture</th>\n",
       "      <th>Precision</th>\n",
       "      <th>Recall</th>\n",
       "      <th>f1</th>\n",
       "    </tr>\n",
       "  </thead>\n",
       "  <tbody>\n",
       "    <tr>\n",
       "      <th>0</th>\n",
       "      <td>0.04</td>\n",
       "      <td>0.935714</td>\n",
       "      <td>1.0</td>\n",
       "      <td>0.953731</td>\n",
       "      <td>0.915473</td>\n",
       "      <td>0.934211</td>\n",
       "    </tr>\n",
       "    <tr>\n",
       "      <th>0</th>\n",
       "      <td>0.05</td>\n",
       "      <td>0.935714</td>\n",
       "      <td>1.0</td>\n",
       "      <td>0.953731</td>\n",
       "      <td>0.915473</td>\n",
       "      <td>0.934211</td>\n",
       "    </tr>\n",
       "    <tr>\n",
       "      <th>0</th>\n",
       "      <td>0.06</td>\n",
       "      <td>0.935714</td>\n",
       "      <td>1.0</td>\n",
       "      <td>0.953731</td>\n",
       "      <td>0.915473</td>\n",
       "      <td>0.934211</td>\n",
       "    </tr>\n",
       "    <tr>\n",
       "      <th>0</th>\n",
       "      <td>0.07</td>\n",
       "      <td>0.935714</td>\n",
       "      <td>1.0</td>\n",
       "      <td>0.953731</td>\n",
       "      <td>0.915473</td>\n",
       "      <td>0.934211</td>\n",
       "    </tr>\n",
       "    <tr>\n",
       "      <th>0</th>\n",
       "      <td>0.08</td>\n",
       "      <td>0.935714</td>\n",
       "      <td>1.0</td>\n",
       "      <td>0.953731</td>\n",
       "      <td>0.915473</td>\n",
       "      <td>0.934211</td>\n",
       "    </tr>\n",
       "  </tbody>\n",
       "</table>\n",
       "</div>"
      ],
      "text/plain": [
       "   Thresh_alpha  Accuracy  Percent_data_capture  Precision    Recall        f1\n",
       "0          0.04  0.935714                   1.0   0.953731  0.915473  0.934211\n",
       "0          0.05  0.935714                   1.0   0.953731  0.915473  0.934211\n",
       "0          0.06  0.935714                   1.0   0.953731  0.915473  0.934211\n",
       "0          0.07  0.935714                   1.0   0.953731  0.915473  0.934211\n",
       "0          0.08  0.935714                   1.0   0.953731  0.915473  0.934211"
      ]
     },
     "execution_count": 75,
     "metadata": {},
     "output_type": "execute_result"
    }
   ],
   "source": [
    "detl_threshold.head()"
   ]
  },
  {
   "cell_type": "code",
   "execution_count": 148,
   "id": "c7c7d30e",
   "metadata": {},
   "outputs": [
    {
     "data": {
      "image/png": "[encoded data removed]",
      "text/plain": [
       "<Figure size 720x432 with 1 Axes>"
      ]
     },
     "metadata": {
      "needs_background": "light"
     },
     "output_type": "display_data"
    }
   ],
   "source": [
    "plt.rcParams['figure.figsize'] = [10, 6]\n",
    "pyplot.plot(detl_threshold['Thresh_alpha'], detl_threshold['Accuracy'], marker='.', label='Accuracy')\n",
    "pyplot.plot(detl_threshold['Thresh_alpha'], detl_threshold['Percent_data_capture'], marker='.', label='Percentage_of_Data_captured')\n",
    "pyplot.plot(detl_threshold['Thresh_alpha'], detl_threshold['Precision'], marker='.', label='Precision')\n",
    "pyplot.plot(detl_threshold['Thresh_alpha'], detl_threshold['Recall'], marker='.', label='Recall')\n",
    "pyplot.plot(detl_threshold['Thresh_alpha'], detl_threshold['f1'], marker='.', label='f1')\n",
    "pyplot.xlabel('Threshold for Data Selection')\n",
    "pyplot.ylabel('Value')\n",
    "pyplot.grid(visible=True, which='both', axis='both')\n",
    "#pyplot.grid(True)\n",
    "pyplot.title('Meta_Model - LogisticRegression : Amazon Reviews')\n",
    "# show the legend\n",
    "pyplot.legend()\n",
    "# show the plot\n",
    "pyplot.show()  # we find that doe data selection threshold of 0.78 we should have good results; tradeoof is that we would miss 65% of dta and look at only 35% of data points for an assured accuracy of 90% and f1 score of approx .8"
   ]
  },
  {
   "cell_type": "code",
   "execution_count": 77,
   "id": "f8def17d",
   "metadata": {},
   "outputs": [
    {
     "data": {
      "text/plain": [
       "(array([-1,  1]), array([702, 698]))"
      ]
     },
     "execution_count": 77,
     "metadata": {},
     "output_type": "execute_result"
    }
   ],
   "source": [
    "np.unique(y_train,return_counts = True)  # we realise that the dataset is not balanced"
   ]
  },
  {
   "attachments": {},
   "cell_type": "markdown",
   "id": "ed45599e",
   "metadata": {},
   "source": [
    "### We look at Precision Recall curve which is more promising since this dataset is imbalanced.\n",
    "\n",
    "https://journals.plos.org/plosone/article?id=10.1371/journal.pone.0118432"
   ]
  },
  {
   "cell_type": "code",
   "execution_count": 78,
   "id": "92a0d486",
   "metadata": {},
   "outputs": [
    {
     "data": {
      "text/html": [
       "<div>\n",
       "<style scoped>\n",
       "    .dataframe tbody tr th:only-of-type {\n",
       "        vertical-align: middle;\n",
       "    }\n",
       "\n",
       "    .dataframe tbody tr th {\n",
       "        vertical-align: top;\n",
       "    }\n",
       "\n",
       "    .dataframe thead th {\n",
       "        text-align: right;\n",
       "    }\n",
       "</style>\n",
       "<table border=\"1\" class=\"dataframe\">\n",
       "  <thead>\n",
       "    <tr style=\"text-align: right;\">\n",
       "      <th></th>\n",
       "      <th>0</th>\n",
       "      <th>1</th>\n",
       "      <th>trth</th>\n",
       "      <th>label_pol_pred</th>\n",
       "    </tr>\n",
       "  </thead>\n",
       "  <tbody>\n",
       "    <tr>\n",
       "      <th>0</th>\n",
       "      <td>0.023532</td>\n",
       "      <td>0.976468</td>\n",
       "      <td>1</td>\n",
       "      <td>1</td>\n",
       "    </tr>\n",
       "    <tr>\n",
       "      <th>1</th>\n",
       "      <td>0.044228</td>\n",
       "      <td>0.955772</td>\n",
       "      <td>1</td>\n",
       "      <td>1</td>\n",
       "    </tr>\n",
       "    <tr>\n",
       "      <th>2</th>\n",
       "      <td>0.024322</td>\n",
       "      <td>0.975678</td>\n",
       "      <td>1</td>\n",
       "      <td>1</td>\n",
       "    </tr>\n",
       "    <tr>\n",
       "      <th>3</th>\n",
       "      <td>0.020310</td>\n",
       "      <td>0.979690</td>\n",
       "      <td>1</td>\n",
       "      <td>1</td>\n",
       "    </tr>\n",
       "    <tr>\n",
       "      <th>4</th>\n",
       "      <td>0.942476</td>\n",
       "      <td>0.057524</td>\n",
       "      <td>-1</td>\n",
       "      <td>-1</td>\n",
       "    </tr>\n",
       "  </tbody>\n",
       "</table>\n",
       "</div>"
      ],
      "text/plain": [
       "          0         1  trth  label_pol_pred\n",
       "0  0.023532  0.976468     1               1\n",
       "1  0.044228  0.955772     1               1\n",
       "2  0.024322  0.975678     1               1\n",
       "3  0.020310  0.979690     1               1\n",
       "4  0.942476  0.057524    -1              -1"
      ]
     },
     "execution_count": 78,
     "metadata": {},
     "output_type": "execute_result"
    }
   ],
   "source": [
    "probsdf.head() # vector containing predicted prob for +1"
   ]
  },
  {
   "cell_type": "code",
   "execution_count": 79,
   "id": "b4d0ec76",
   "metadata": {},
   "outputs": [],
   "source": [
    "precision, recall, thresholds = sklearn.metrics.precision_recall_curve(y_train, probsdf[1])\n"
   ]
  },
  {
   "cell_type": "code",
   "execution_count": 80,
   "id": "a2c7b284",
   "metadata": {},
   "outputs": [
    {
     "data": {
      "text/plain": [
       "0.9738261119134756"
      ]
     },
     "execution_count": 80,
     "metadata": {},
     "output_type": "execute_result"
    }
   ],
   "source": [
    "auc_pr = sklearn.metrics.auc(recall,precision)\n",
    "auc_pr"
   ]
  },
  {
   "cell_type": "code",
   "execution_count": 81,
   "id": "183c3135",
   "metadata": {},
   "outputs": [
    {
     "data": {
      "image/png": "[encoded data removed]",
      "text/plain": [
       "<Figure size 720x432 with 1 Axes>"
      ]
     },
     "metadata": {
      "needs_background": "light"
     },
     "output_type": "display_data"
    }
   ],
   "source": [
    "pyplot.plot(recall, precision, marker='.', label='Logistic')\n",
    "pyplot.xlabel('Recall')\n",
    "pyplot.ylabel('Precision')\n",
    "# show the legend\n",
    "pyplot.legend()\n",
    "# show the plot\n",
    "pyplot.show()"
   ]
  },
  {
   "attachments": {},
   "cell_type": "markdown",
   "id": "3a9735a7",
   "metadata": {},
   "source": [
    "## Model Test"
   ]
  },
  {
   "cell_type": "code",
   "execution_count": 82,
   "id": "2aa0fbb4",
   "metadata": {},
   "outputs": [
    {
     "data": {
      "text/plain": [
       "(600, 4)"
      ]
     },
     "execution_count": 82,
     "metadata": {},
     "output_type": "execute_result"
    }
   ],
   "source": [
    "#we now test the logistic regressor\n",
    "X_test.shape"
   ]
  },
  {
   "cell_type": "code",
   "execution_count": 83,
   "id": "aec244e1",
   "metadata": {},
   "outputs": [],
   "source": [
    "predictions_test = logmodel.predict(X_test)\n",
    "probs_test = logmodel.predict_proba(X_test)"
   ]
  },
  {
   "cell_type": "code",
   "execution_count": 84,
   "id": "aa62b7de",
   "metadata": {},
   "outputs": [
    {
     "name": "stdout",
     "output_type": "stream",
     "text": [
      "Logistic: ROC AUC=0.972\n"
     ]
    },
    {
     "data": {
      "image/png": "[encoded data removed]",
      "text/plain": [
       "<Figure size 720x432 with 1 Axes>"
      ]
     },
     "metadata": {
      "needs_background": "light"
     },
     "output_type": "display_data"
    }
   ],
   "source": [
    "lr_probs = probs_test[:,[1]]\n",
    "lr_auc = roc_auc_score(y_test, lr_probs)\n",
    "# summarize scores\n",
    "\n",
    "print('Logistic: ROC AUC=%.3f' % (lr_auc))\n",
    "# calculate roc curves\n",
    "\n",
    "lr_fpr, lr_tpr, thr = roc_curve(y_test, lr_probs)\n",
    "# plot the roc curve for the model # pyplot.plot(ns_fpr, ns_tpr, linestyle='--', label='No Skill')\n",
    "pyplot.plot(lr_fpr, lr_tpr, marker='.', label='Logistic')\n",
    "# axis labels\n",
    "pyplot.xlabel('False Positive Rate')\n",
    "pyplot.ylabel('True Positive Rate')\n",
    "# show the legend\n",
    "pyplot.legend()\n",
    "# show the plot\n",
    "pyplot.show()"
   ]
  },
  {
   "cell_type": "code",
   "execution_count": 85,
   "id": "6c2b9101",
   "metadata": {},
   "outputs": [
    {
     "data": {
      "text/plain": [
       "0.44732109780428814"
      ]
     },
     "execution_count": 85,
     "metadata": {},
     "output_type": "execute_result"
    }
   ],
   "source": [
    "optimal_idx = np.argmax(lr_tpr - lr_fpr) #we need to maximise TP-FP\n",
    "thr[optimal_idx]"
   ]
  },
  {
   "cell_type": "code",
   "execution_count": 86,
   "id": "830270d6",
   "metadata": {},
   "outputs": [],
   "source": [
    "alpha_thresh = thr[optimal_idx]\n",
    "\n",
    "def label_pol (prob_score):\n",
    "    \n",
    "    if prob_score[1] > alpha_thresh:\n",
    "        return 1\n",
    "    else:\n",
    "       return -1"
   ]
  },
  {
   "cell_type": "code",
   "execution_count": 87,
   "id": "b6932f06",
   "metadata": {},
   "outputs": [
    {
     "data": {
      "text/html": [
       "<div>\n",
       "<style scoped>\n",
       "    .dataframe tbody tr th:only-of-type {\n",
       "        vertical-align: middle;\n",
       "    }\n",
       "\n",
       "    .dataframe tbody tr th {\n",
       "        vertical-align: top;\n",
       "    }\n",
       "\n",
       "    .dataframe thead th {\n",
       "        text-align: right;\n",
       "    }\n",
       "</style>\n",
       "<table border=\"1\" class=\"dataframe\">\n",
       "  <thead>\n",
       "    <tr style=\"text-align: right;\">\n",
       "      <th></th>\n",
       "      <th>0</th>\n",
       "      <th>1</th>\n",
       "      <th>trth</th>\n",
       "      <th>label_pol_pred</th>\n",
       "    </tr>\n",
       "  </thead>\n",
       "  <tbody>\n",
       "    <tr>\n",
       "      <th>0</th>\n",
       "      <td>0.026807</td>\n",
       "      <td>0.973193</td>\n",
       "      <td>1</td>\n",
       "      <td>1</td>\n",
       "    </tr>\n",
       "    <tr>\n",
       "      <th>1</th>\n",
       "      <td>0.023811</td>\n",
       "      <td>0.976189</td>\n",
       "      <td>1</td>\n",
       "      <td>1</td>\n",
       "    </tr>\n",
       "    <tr>\n",
       "      <th>2</th>\n",
       "      <td>0.023394</td>\n",
       "      <td>0.976606</td>\n",
       "      <td>1</td>\n",
       "      <td>1</td>\n",
       "    </tr>\n",
       "    <tr>\n",
       "      <th>3</th>\n",
       "      <td>0.022840</td>\n",
       "      <td>0.977160</td>\n",
       "      <td>1</td>\n",
       "      <td>1</td>\n",
       "    </tr>\n",
       "    <tr>\n",
       "      <th>4</th>\n",
       "      <td>0.941055</td>\n",
       "      <td>0.058945</td>\n",
       "      <td>-1</td>\n",
       "      <td>-1</td>\n",
       "    </tr>\n",
       "  </tbody>\n",
       "</table>\n",
       "</div>"
      ],
      "text/plain": [
       "          0         1  trth  label_pol_pred\n",
       "0  0.026807  0.973193     1               1\n",
       "1  0.023811  0.976189     1               1\n",
       "2  0.023394  0.976606     1               1\n",
       "3  0.022840  0.977160     1               1\n",
       "4  0.941055  0.058945    -1              -1"
      ]
     },
     "execution_count": 87,
     "metadata": {},
     "output_type": "execute_result"
    }
   ],
   "source": [
    "probsdf_test = pd.DataFrame(probs_test)\n",
    "probsdf_test['trth'] = y_test.to_numpy()\n",
    "probsdf_test['label_pol_pred'] = probsdf_test.apply (lambda row: label_pol(row), axis=1)\n",
    "probsdf_test.head()\n"
   ]
  },
  {
   "cell_type": "code",
   "execution_count": 88,
   "id": "862782c1",
   "metadata": {},
   "outputs": [
    {
     "name": "stdout",
     "output_type": "stream",
     "text": [
      "                   -1           1  accuracy   macro avg  weighted avg\n",
      "precision    0.915825    0.960396  0.938333    0.938110      0.939299\n",
      "recall       0.957746    0.920886  0.938333    0.939316      0.938333\n",
      "f1-score     0.936317    0.940226  0.938333    0.938271      0.938376\n",
      "support    284.000000  316.000000  0.938333  600.000000    600.000000\n"
     ]
    }
   ],
   "source": [
    "print(pd.DataFrame(metrics.classification_report(probsdf_test['trth'],probsdf_test['label_pol_pred'],output_dict=True)))"
   ]
  },
  {
   "cell_type": "code",
   "execution_count": 89,
   "id": "d83b9327",
   "metadata": {},
   "outputs": [
    {
     "data": {
      "text/html": [
       "<div>\n",
       "<style scoped>\n",
       "    .dataframe tbody tr th:only-of-type {\n",
       "        vertical-align: middle;\n",
       "    }\n",
       "\n",
       "    .dataframe tbody tr th {\n",
       "        vertical-align: top;\n",
       "    }\n",
       "\n",
       "    .dataframe thead th {\n",
       "        text-align: right;\n",
       "    }\n",
       "</style>\n",
       "<table border=\"1\" class=\"dataframe\">\n",
       "  <thead>\n",
       "    <tr style=\"text-align: right;\">\n",
       "      <th></th>\n",
       "      <th>trth</th>\n",
       "      <th>label_pol_pred</th>\n",
       "    </tr>\n",
       "  </thead>\n",
       "  <tbody>\n",
       "    <tr>\n",
       "      <th>trth</th>\n",
       "      <td>1.000000</td>\n",
       "      <td>0.877426</td>\n",
       "    </tr>\n",
       "    <tr>\n",
       "      <th>label_pol_pred</th>\n",
       "      <td>0.877426</td>\n",
       "      <td>1.000000</td>\n",
       "    </tr>\n",
       "  </tbody>\n",
       "</table>\n",
       "</div>"
      ],
      "text/plain": [
       "                    trth  label_pol_pred\n",
       "trth            1.000000        0.877426\n",
       "label_pol_pred  0.877426        1.000000"
      ]
     },
     "execution_count": 89,
     "metadata": {},
     "output_type": "execute_result"
    }
   ],
   "source": [
    "probsdf_test[['trth','label_pol_pred']].corr()"
   ]
  },
  {
   "cell_type": "code",
   "execution_count": 90,
   "id": "5584550d",
   "metadata": {},
   "outputs": [
    {
     "data": {
      "text/plain": [
       "572"
      ]
     },
     "execution_count": 90,
     "metadata": {},
     "output_type": "execute_result"
    }
   ],
   "source": [
    "alpha_th_test = .7\n",
    "probsdf_test['trth'][(probsdf_test[1]>alpha_th_test)|(probsdf_test[0]>alpha_th_test)].count()"
   ]
  },
  {
   "cell_type": "code",
   "execution_count": 91,
   "id": "eb7cf9bb",
   "metadata": {},
   "outputs": [
    {
     "name": "stdout",
     "output_type": "stream",
     "text": [
      "                   -1           1  accuracy   macro avg  weighted avg\n",
      "precision    0.928315    0.969283  0.949301    0.948799      0.950089\n",
      "recall       0.966418    0.934211  0.949301    0.950314      0.949301\n",
      "f1-score     0.946984    0.951424  0.949301    0.949204      0.949343\n",
      "support    268.000000  304.000000  0.949301  572.000000    572.000000\n"
     ]
    }
   ],
   "source": [
    "print(pd.DataFrame(metrics.classification_report(probsdf_test['trth'][(probsdf_test[1]>alpha_th_test)|(probsdf_test[0]>alpha_th_test) ],probsdf_test['label_pol_pred'][(probsdf_test[1]>alpha_th_test)|(probsdf_test[0]>alpha_th_test)],output_dict=True)))"
   ]
  },
  {
   "cell_type": "code",
   "execution_count": 92,
   "id": "f1bde451",
   "metadata": {},
   "outputs": [
    {
     "data": {
      "text/plain": [
       "0.8016666666666666"
      ]
     },
     "execution_count": 92,
     "metadata": {},
     "output_type": "execute_result"
    }
   ],
   "source": [
    "probsdf_test['trth'][(probsdf_test[1]>alpha_th)|(probsdf_test[0]>alpha_th)].count()/probsdf_test['trth'].count()"
   ]
  },
  {
   "cell_type": "code",
   "execution_count": 93,
   "id": "b583fd8a",
   "metadata": {},
   "outputs": [],
   "source": [
    "test_results=pd.DataFrame({'Prob':[],'label_pol_predict':[]})\n",
    "test_results['Prob'] = probsdf_test[1]\n",
    "test_results['label_pol_pred'] = probsdf_test['label_pol_pred']"
   ]
  },
  {
   "attachments": {},
   "cell_type": "markdown",
   "id": "c7a616e6",
   "metadata": {},
   "source": [
    "### We need to analyse sentences\n",
    "#### Also we need to compare with the four Base Models /  Tools"
   ]
  },
  {
   "cell_type": "code",
   "execution_count": 94,
   "id": "affbcec4",
   "metadata": {},
   "outputs": [],
   "source": [
    "result_base_tools_tb = pd.DataFrame(metrics.classification_report(X_test_full['Sentiment'],X_test_full['textblob_polarity'],output_dict=True))"
   ]
  },
  {
   "cell_type": "code",
   "execution_count": 95,
   "id": "c73ea765",
   "metadata": {},
   "outputs": [],
   "source": [
    "result_base_tools_vader = pd.DataFrame(metrics.classification_report(X_test_full['Sentiment'],X_test_full['vader_polarity'],output_dict=True))"
   ]
  },
  {
   "cell_type": "code",
   "execution_count": 96,
   "id": "8e12feb5",
   "metadata": {},
   "outputs": [],
   "source": [
    "result_base_tools_bert = pd.DataFrame(metrics.classification_report(X_test_full['Sentiment'],X_test_full['bert_polarity'],output_dict=True))"
   ]
  },
  {
   "cell_type": "code",
   "execution_count": 97,
   "id": "168ec8b0",
   "metadata": {},
   "outputs": [],
   "source": [
    "result_base_tools_flair = pd.DataFrame(metrics.classification_report(X_test_full['Sentiment'],X_test_full['flair_polarity'],output_dict=True))"
   ]
  },
  {
   "cell_type": "code",
   "execution_count": 98,
   "id": "edbb7851",
   "metadata": {},
   "outputs": [
    {
     "data": {
      "text/html": [
       "<div>\n",
       "<style scoped>\n",
       "    .dataframe tbody tr th:only-of-type {\n",
       "        vertical-align: middle;\n",
       "    }\n",
       "\n",
       "    .dataframe tbody tr th {\n",
       "        vertical-align: top;\n",
       "    }\n",
       "\n",
       "    .dataframe thead th {\n",
       "        text-align: right;\n",
       "    }\n",
       "</style>\n",
       "<table border=\"1\" class=\"dataframe\">\n",
       "  <thead>\n",
       "    <tr style=\"text-align: right;\">\n",
       "      <th></th>\n",
       "      <th>-1</th>\n",
       "      <th>1</th>\n",
       "      <th>accuracy</th>\n",
       "      <th>macro avg</th>\n",
       "      <th>weighted avg</th>\n",
       "    </tr>\n",
       "  </thead>\n",
       "  <tbody>\n",
       "    <tr>\n",
       "      <th>precision</th>\n",
       "      <td>0.844262</td>\n",
       "      <td>0.621339</td>\n",
       "      <td>0.666667</td>\n",
       "      <td>0.732801</td>\n",
       "      <td>0.726856</td>\n",
       "    </tr>\n",
       "    <tr>\n",
       "      <th>recall</th>\n",
       "      <td>0.362676</td>\n",
       "      <td>0.939873</td>\n",
       "      <td>0.666667</td>\n",
       "      <td>0.651275</td>\n",
       "      <td>0.666667</td>\n",
       "    </tr>\n",
       "    <tr>\n",
       "      <th>f1-score</th>\n",
       "      <td>0.507389</td>\n",
       "      <td>0.748111</td>\n",
       "      <td>0.666667</td>\n",
       "      <td>0.627750</td>\n",
       "      <td>0.634169</td>\n",
       "    </tr>\n",
       "    <tr>\n",
       "      <th>support</th>\n",
       "      <td>284.000000</td>\n",
       "      <td>316.000000</td>\n",
       "      <td>0.666667</td>\n",
       "      <td>600.000000</td>\n",
       "      <td>600.000000</td>\n",
       "    </tr>\n",
       "  </tbody>\n",
       "</table>\n",
       "</div>"
      ],
      "text/plain": [
       "                   -1           1  accuracy   macro avg  weighted avg\n",
       "precision    0.844262    0.621339  0.666667    0.732801      0.726856\n",
       "recall       0.362676    0.939873  0.666667    0.651275      0.666667\n",
       "f1-score     0.507389    0.748111  0.666667    0.627750      0.634169\n",
       "support    284.000000  316.000000  0.666667  600.000000    600.000000"
      ]
     },
     "execution_count": 98,
     "metadata": {},
     "output_type": "execute_result"
    }
   ],
   "source": [
    "result_base_tools_tb"
   ]
  },
  {
   "cell_type": "code",
   "execution_count": 99,
   "id": "c7a70166",
   "metadata": {},
   "outputs": [
    {
     "data": {
      "text/html": [
       "<div>\n",
       "<style scoped>\n",
       "    .dataframe tbody tr th:only-of-type {\n",
       "        vertical-align: middle;\n",
       "    }\n",
       "\n",
       "    .dataframe tbody tr th {\n",
       "        vertical-align: top;\n",
       "    }\n",
       "\n",
       "    .dataframe thead th {\n",
       "        text-align: right;\n",
       "    }\n",
       "</style>\n",
       "<table border=\"1\" class=\"dataframe\">\n",
       "  <thead>\n",
       "    <tr style=\"text-align: right;\">\n",
       "      <th></th>\n",
       "      <th>-1</th>\n",
       "      <th>1</th>\n",
       "      <th>accuracy</th>\n",
       "      <th>macro avg</th>\n",
       "      <th>weighted avg</th>\n",
       "    </tr>\n",
       "  </thead>\n",
       "  <tbody>\n",
       "    <tr>\n",
       "      <th>precision</th>\n",
       "      <td>0.849057</td>\n",
       "      <td>0.662132</td>\n",
       "      <td>0.711667</td>\n",
       "      <td>0.755594</td>\n",
       "      <td>0.750609</td>\n",
       "    </tr>\n",
       "    <tr>\n",
       "      <th>recall</th>\n",
       "      <td>0.475352</td>\n",
       "      <td>0.924051</td>\n",
       "      <td>0.711667</td>\n",
       "      <td>0.699701</td>\n",
       "      <td>0.711667</td>\n",
       "    </tr>\n",
       "    <tr>\n",
       "      <th>f1-score</th>\n",
       "      <td>0.609481</td>\n",
       "      <td>0.771466</td>\n",
       "      <td>0.711667</td>\n",
       "      <td>0.690474</td>\n",
       "      <td>0.694793</td>\n",
       "    </tr>\n",
       "    <tr>\n",
       "      <th>support</th>\n",
       "      <td>284.000000</td>\n",
       "      <td>316.000000</td>\n",
       "      <td>0.711667</td>\n",
       "      <td>600.000000</td>\n",
       "      <td>600.000000</td>\n",
       "    </tr>\n",
       "  </tbody>\n",
       "</table>\n",
       "</div>"
      ],
      "text/plain": [
       "                   -1           1  accuracy   macro avg  weighted avg\n",
       "precision    0.849057    0.662132  0.711667    0.755594      0.750609\n",
       "recall       0.475352    0.924051  0.711667    0.699701      0.711667\n",
       "f1-score     0.609481    0.771466  0.711667    0.690474      0.694793\n",
       "support    284.000000  316.000000  0.711667  600.000000    600.000000"
      ]
     },
     "execution_count": 99,
     "metadata": {},
     "output_type": "execute_result"
    }
   ],
   "source": [
    "result_base_tools_vader"
   ]
  },
  {
   "cell_type": "code",
   "execution_count": 100,
   "id": "4735c193",
   "metadata": {},
   "outputs": [
    {
     "data": {
      "text/html": [
       "<div>\n",
       "<style scoped>\n",
       "    .dataframe tbody tr th:only-of-type {\n",
       "        vertical-align: middle;\n",
       "    }\n",
       "\n",
       "    .dataframe tbody tr th {\n",
       "        vertical-align: top;\n",
       "    }\n",
       "\n",
       "    .dataframe thead th {\n",
       "        text-align: right;\n",
       "    }\n",
       "</style>\n",
       "<table border=\"1\" class=\"dataframe\">\n",
       "  <thead>\n",
       "    <tr style=\"text-align: right;\">\n",
       "      <th></th>\n",
       "      <th>-1</th>\n",
       "      <th>1</th>\n",
       "      <th>accuracy</th>\n",
       "      <th>macro avg</th>\n",
       "      <th>weighted avg</th>\n",
       "    </tr>\n",
       "  </thead>\n",
       "  <tbody>\n",
       "    <tr>\n",
       "      <th>precision</th>\n",
       "      <td>0.918103</td>\n",
       "      <td>0.807065</td>\n",
       "      <td>0.85</td>\n",
       "      <td>0.862584</td>\n",
       "      <td>0.859623</td>\n",
       "    </tr>\n",
       "    <tr>\n",
       "      <th>recall</th>\n",
       "      <td>0.750000</td>\n",
       "      <td>0.939873</td>\n",
       "      <td>0.85</td>\n",
       "      <td>0.844937</td>\n",
       "      <td>0.850000</td>\n",
       "    </tr>\n",
       "    <tr>\n",
       "      <th>f1-score</th>\n",
       "      <td>0.825581</td>\n",
       "      <td>0.868421</td>\n",
       "      <td>0.85</td>\n",
       "      <td>0.847001</td>\n",
       "      <td>0.848144</td>\n",
       "    </tr>\n",
       "    <tr>\n",
       "      <th>support</th>\n",
       "      <td>284.000000</td>\n",
       "      <td>316.000000</td>\n",
       "      <td>0.85</td>\n",
       "      <td>600.000000</td>\n",
       "      <td>600.000000</td>\n",
       "    </tr>\n",
       "  </tbody>\n",
       "</table>\n",
       "</div>"
      ],
      "text/plain": [
       "                   -1           1  accuracy   macro avg  weighted avg\n",
       "precision    0.918103    0.807065      0.85    0.862584      0.859623\n",
       "recall       0.750000    0.939873      0.85    0.844937      0.850000\n",
       "f1-score     0.825581    0.868421      0.85    0.847001      0.848144\n",
       "support    284.000000  316.000000      0.85  600.000000    600.000000"
      ]
     },
     "execution_count": 100,
     "metadata": {},
     "output_type": "execute_result"
    }
   ],
   "source": [
    "result_base_tools_bert"
   ]
  },
  {
   "cell_type": "code",
   "execution_count": 101,
   "id": "1a1da487",
   "metadata": {},
   "outputs": [
    {
     "data": {
      "text/html": [
       "<div>\n",
       "<style scoped>\n",
       "    .dataframe tbody tr th:only-of-type {\n",
       "        vertical-align: middle;\n",
       "    }\n",
       "\n",
       "    .dataframe tbody tr th {\n",
       "        vertical-align: top;\n",
       "    }\n",
       "\n",
       "    .dataframe thead th {\n",
       "        text-align: right;\n",
       "    }\n",
       "</style>\n",
       "<table border=\"1\" class=\"dataframe\">\n",
       "  <thead>\n",
       "    <tr style=\"text-align: right;\">\n",
       "      <th></th>\n",
       "      <th>-1</th>\n",
       "      <th>1</th>\n",
       "      <th>accuracy</th>\n",
       "      <th>macro avg</th>\n",
       "      <th>weighted avg</th>\n",
       "    </tr>\n",
       "  </thead>\n",
       "  <tbody>\n",
       "    <tr>\n",
       "      <th>precision</th>\n",
       "      <td>0.897690</td>\n",
       "      <td>0.959596</td>\n",
       "      <td>0.928333</td>\n",
       "      <td>0.928643</td>\n",
       "      <td>0.930294</td>\n",
       "    </tr>\n",
       "    <tr>\n",
       "      <th>recall</th>\n",
       "      <td>0.957746</td>\n",
       "      <td>0.901899</td>\n",
       "      <td>0.928333</td>\n",
       "      <td>0.929823</td>\n",
       "      <td>0.928333</td>\n",
       "    </tr>\n",
       "    <tr>\n",
       "      <th>f1-score</th>\n",
       "      <td>0.926746</td>\n",
       "      <td>0.929853</td>\n",
       "      <td>0.928333</td>\n",
       "      <td>0.928300</td>\n",
       "      <td>0.928383</td>\n",
       "    </tr>\n",
       "    <tr>\n",
       "      <th>support</th>\n",
       "      <td>284.000000</td>\n",
       "      <td>316.000000</td>\n",
       "      <td>0.928333</td>\n",
       "      <td>600.000000</td>\n",
       "      <td>600.000000</td>\n",
       "    </tr>\n",
       "  </tbody>\n",
       "</table>\n",
       "</div>"
      ],
      "text/plain": [
       "                   -1           1  accuracy   macro avg  weighted avg\n",
       "precision    0.897690    0.959596  0.928333    0.928643      0.930294\n",
       "recall       0.957746    0.901899  0.928333    0.929823      0.928333\n",
       "f1-score     0.926746    0.929853  0.928333    0.928300      0.928383\n",
       "support    284.000000  316.000000  0.928333  600.000000    600.000000"
      ]
     },
     "execution_count": 101,
     "metadata": {},
     "output_type": "execute_result"
    }
   ],
   "source": [
    "result_base_tools_flair"
   ]
  },
  {
   "cell_type": "code",
   "execution_count": 102,
   "id": "1ae391d5",
   "metadata": {},
   "outputs": [],
   "source": [
    "probsdf_test[['tb','vader','bert','flair','textblob_polarity','vader_polarity','bert_polarity','flair_polarity'\t]] = X_test_full[['vader','vader','bert','flair','textblob_polarity','vader_polarity','bert_polarity','flair_polarity']].to_numpy()"
   ]
  },
  {
   "cell_type": "code",
   "execution_count": 103,
   "id": "26e3525f",
   "metadata": {},
   "outputs": [
    {
     "data": {
      "text/html": [
       "<div>\n",
       "<style scoped>\n",
       "    .dataframe tbody tr th:only-of-type {\n",
       "        vertical-align: middle;\n",
       "    }\n",
       "\n",
       "    .dataframe tbody tr th {\n",
       "        vertical-align: top;\n",
       "    }\n",
       "\n",
       "    .dataframe thead th {\n",
       "        text-align: right;\n",
       "    }\n",
       "</style>\n",
       "<table border=\"1\" class=\"dataframe\">\n",
       "  <thead>\n",
       "    <tr style=\"text-align: right;\">\n",
       "      <th></th>\n",
       "      <th>0</th>\n",
       "      <th>1</th>\n",
       "      <th>trth</th>\n",
       "      <th>label_pol_pred</th>\n",
       "      <th>tb</th>\n",
       "      <th>vader</th>\n",
       "      <th>bert</th>\n",
       "      <th>flair</th>\n",
       "      <th>textblob_polarity</th>\n",
       "      <th>vader_polarity</th>\n",
       "      <th>bert_polarity</th>\n",
       "      <th>flair_polarity</th>\n",
       "    </tr>\n",
       "  </thead>\n",
       "  <tbody>\n",
       "    <tr>\n",
       "      <th>0</th>\n",
       "      <td>0.026807</td>\n",
       "      <td>0.973193</td>\n",
       "      <td>1</td>\n",
       "      <td>1</td>\n",
       "      <td>0.8983</td>\n",
       "      <td>0.8983</td>\n",
       "      <td>0.883419</td>\n",
       "      <td>0.999508</td>\n",
       "      <td>1.0</td>\n",
       "      <td>1.0</td>\n",
       "      <td>1.0</td>\n",
       "      <td>1.0</td>\n",
       "    </tr>\n",
       "    <tr>\n",
       "      <th>1</th>\n",
       "      <td>0.023811</td>\n",
       "      <td>0.976189</td>\n",
       "      <td>1</td>\n",
       "      <td>1</td>\n",
       "      <td>0.8462</td>\n",
       "      <td>0.8462</td>\n",
       "      <td>0.958900</td>\n",
       "      <td>0.999885</td>\n",
       "      <td>1.0</td>\n",
       "      <td>1.0</td>\n",
       "      <td>1.0</td>\n",
       "      <td>1.0</td>\n",
       "    </tr>\n",
       "    <tr>\n",
       "      <th>2</th>\n",
       "      <td>0.023394</td>\n",
       "      <td>0.976606</td>\n",
       "      <td>1</td>\n",
       "      <td>1</td>\n",
       "      <td>0.8620</td>\n",
       "      <td>0.8620</td>\n",
       "      <td>0.942564</td>\n",
       "      <td>0.998770</td>\n",
       "      <td>1.0</td>\n",
       "      <td>1.0</td>\n",
       "      <td>1.0</td>\n",
       "      <td>1.0</td>\n",
       "    </tr>\n",
       "    <tr>\n",
       "      <th>3</th>\n",
       "      <td>0.022840</td>\n",
       "      <td>0.977160</td>\n",
       "      <td>1</td>\n",
       "      <td>1</td>\n",
       "      <td>0.8689</td>\n",
       "      <td>0.8689</td>\n",
       "      <td>0.901197</td>\n",
       "      <td>0.999877</td>\n",
       "      <td>1.0</td>\n",
       "      <td>1.0</td>\n",
       "      <td>1.0</td>\n",
       "      <td>1.0</td>\n",
       "    </tr>\n",
       "    <tr>\n",
       "      <th>4</th>\n",
       "      <td>0.941055</td>\n",
       "      <td>0.058945</td>\n",
       "      <td>-1</td>\n",
       "      <td>-1</td>\n",
       "      <td>0.9245</td>\n",
       "      <td>0.9245</td>\n",
       "      <td>-0.648101</td>\n",
       "      <td>-0.999966</td>\n",
       "      <td>1.0</td>\n",
       "      <td>1.0</td>\n",
       "      <td>-1.0</td>\n",
       "      <td>-1.0</td>\n",
       "    </tr>\n",
       "    <tr>\n",
       "      <th>...</th>\n",
       "      <td>...</td>\n",
       "      <td>...</td>\n",
       "      <td>...</td>\n",
       "      <td>...</td>\n",
       "      <td>...</td>\n",
       "      <td>...</td>\n",
       "      <td>...</td>\n",
       "      <td>...</td>\n",
       "      <td>...</td>\n",
       "      <td>...</td>\n",
       "      <td>...</td>\n",
       "      <td>...</td>\n",
       "    </tr>\n",
       "    <tr>\n",
       "      <th>595</th>\n",
       "      <td>0.024086</td>\n",
       "      <td>0.975914</td>\n",
       "      <td>1</td>\n",
       "      <td>1</td>\n",
       "      <td>0.6808</td>\n",
       "      <td>0.6808</td>\n",
       "      <td>0.950877</td>\n",
       "      <td>0.996381</td>\n",
       "      <td>1.0</td>\n",
       "      <td>1.0</td>\n",
       "      <td>1.0</td>\n",
       "      <td>1.0</td>\n",
       "    </tr>\n",
       "    <tr>\n",
       "      <th>596</th>\n",
       "      <td>0.941397</td>\n",
       "      <td>0.058603</td>\n",
       "      <td>-1</td>\n",
       "      <td>-1</td>\n",
       "      <td>-0.2500</td>\n",
       "      <td>-0.2500</td>\n",
       "      <td>-0.602714</td>\n",
       "      <td>-0.999997</td>\n",
       "      <td>1.0</td>\n",
       "      <td>-1.0</td>\n",
       "      <td>-1.0</td>\n",
       "      <td>-1.0</td>\n",
       "    </tr>\n",
       "    <tr>\n",
       "      <th>597</th>\n",
       "      <td>0.025978</td>\n",
       "      <td>0.974022</td>\n",
       "      <td>1</td>\n",
       "      <td>1</td>\n",
       "      <td>0.7640</td>\n",
       "      <td>0.7640</td>\n",
       "      <td>0.940615</td>\n",
       "      <td>0.999871</td>\n",
       "      <td>1.0</td>\n",
       "      <td>1.0</td>\n",
       "      <td>1.0</td>\n",
       "      <td>1.0</td>\n",
       "    </tr>\n",
       "    <tr>\n",
       "      <th>598</th>\n",
       "      <td>0.797625</td>\n",
       "      <td>0.202375</td>\n",
       "      <td>1</td>\n",
       "      <td>-1</td>\n",
       "      <td>0.7906</td>\n",
       "      <td>0.7906</td>\n",
       "      <td>0.000000</td>\n",
       "      <td>-0.849488</td>\n",
       "      <td>1.0</td>\n",
       "      <td>1.0</td>\n",
       "      <td>1.0</td>\n",
       "      <td>-1.0</td>\n",
       "    </tr>\n",
       "    <tr>\n",
       "      <th>599</th>\n",
       "      <td>0.948499</td>\n",
       "      <td>0.051501</td>\n",
       "      <td>-1</td>\n",
       "      <td>-1</td>\n",
       "      <td>0.5943</td>\n",
       "      <td>0.5943</td>\n",
       "      <td>-0.881416</td>\n",
       "      <td>-0.999999</td>\n",
       "      <td>1.0</td>\n",
       "      <td>1.0</td>\n",
       "      <td>-1.0</td>\n",
       "      <td>-1.0</td>\n",
       "    </tr>\n",
       "  </tbody>\n",
       "</table>\n",
       "<p>600 rows × 12 columns</p>\n",
       "</div>"
      ],
      "text/plain": [
       "            0         1  trth  label_pol_pred      tb   vader      bert  \\\n",
       "0    0.026807  0.973193     1               1  0.8983  0.8983  0.883419   \n",
       "1    0.023811  0.976189     1               1  0.8462  0.8462  0.958900   \n",
       "2    0.023394  0.976606     1               1  0.8620  0.8620  0.942564   \n",
       "3    0.022840  0.977160     1               1  0.8689  0.8689  0.901197   \n",
       "4    0.941055  0.058945    -1              -1  0.9245  0.9245 -0.648101   \n",
       "..        ...       ...   ...             ...     ...     ...       ...   \n",
       "595  0.024086  0.975914     1               1  0.6808  0.6808  0.950877   \n",
       "596  0.941397  0.058603    -1              -1 -0.2500 -0.2500 -0.602714   \n",
       "597  0.025978  0.974022     1               1  0.7640  0.7640  0.940615   \n",
       "598  0.797625  0.202375     1              -1  0.7906  0.7906  0.000000   \n",
       "599  0.948499  0.051501    -1              -1  0.5943  0.5943 -0.881416   \n",
       "\n",
       "        flair  textblob_polarity  vader_polarity  bert_polarity  \\\n",
       "0    0.999508                1.0             1.0            1.0   \n",
       "1    0.999885                1.0             1.0            1.0   \n",
       "2    0.998770                1.0             1.0            1.0   \n",
       "3    0.999877                1.0             1.0            1.0   \n",
       "4   -0.999966                1.0             1.0           -1.0   \n",
       "..        ...                ...             ...            ...   \n",
       "595  0.996381                1.0             1.0            1.0   \n",
       "596 -0.999997                1.0            -1.0           -1.0   \n",
       "597  0.999871                1.0             1.0            1.0   \n",
       "598 -0.849488                1.0             1.0            1.0   \n",
       "599 -0.999999                1.0             1.0           -1.0   \n",
       "\n",
       "     flair_polarity  \n",
       "0               1.0  \n",
       "1               1.0  \n",
       "2               1.0  \n",
       "3               1.0  \n",
       "4              -1.0  \n",
       "..              ...  \n",
       "595             1.0  \n",
       "596            -1.0  \n",
       "597             1.0  \n",
       "598            -1.0  \n",
       "599            -1.0  \n",
       "\n",
       "[600 rows x 12 columns]"
      ]
     },
     "execution_count": 103,
     "metadata": {},
     "output_type": "execute_result"
    }
   ],
   "source": [
    "probsdf_test"
   ]
  },
  {
   "cell_type": "code",
   "execution_count": 104,
   "id": "1f100578",
   "metadata": {},
   "outputs": [
    {
     "data": {
      "text/plain": [
       "count    600.000000\n",
       "mean       0.672405\n",
       "std        0.283001\n",
       "min        0.000000\n",
       "25%        0.492700\n",
       "50%        0.761200\n",
       "75%        0.919575\n",
       "max        0.995600\n",
       "Name: vader, dtype: float64"
      ]
     },
     "execution_count": 104,
     "metadata": {},
     "output_type": "execute_result"
    }
   ],
   "source": [
    "abs(probsdf_test['vader']).describe()"
   ]
  },
  {
   "cell_type": "code",
   "execution_count": 105,
   "id": "a67af16d",
   "metadata": {},
   "outputs": [
    {
     "data": {
      "text/html": [
       "<div>\n",
       "<style scoped>\n",
       "    .dataframe tbody tr th:only-of-type {\n",
       "        vertical-align: middle;\n",
       "    }\n",
       "\n",
       "    .dataframe tbody tr th {\n",
       "        vertical-align: top;\n",
       "    }\n",
       "\n",
       "    .dataframe thead th {\n",
       "        text-align: right;\n",
       "    }\n",
       "</style>\n",
       "<table border=\"1\" class=\"dataframe\">\n",
       "  <thead>\n",
       "    <tr style=\"text-align: right;\">\n",
       "      <th></th>\n",
       "      <th>-1</th>\n",
       "      <th>1</th>\n",
       "      <th>accuracy</th>\n",
       "      <th>macro avg</th>\n",
       "      <th>weighted avg</th>\n",
       "    </tr>\n",
       "  </thead>\n",
       "  <tbody>\n",
       "    <tr>\n",
       "      <th>precision</th>\n",
       "      <td>0.878788</td>\n",
       "      <td>0.732394</td>\n",
       "      <td>0.764317</td>\n",
       "      <td>0.805591</td>\n",
       "      <td>0.791081</td>\n",
       "    </tr>\n",
       "    <tr>\n",
       "      <th>recall</th>\n",
       "      <td>0.478022</td>\n",
       "      <td>0.955882</td>\n",
       "      <td>0.764317</td>\n",
       "      <td>0.716952</td>\n",
       "      <td>0.764317</td>\n",
       "    </tr>\n",
       "    <tr>\n",
       "      <th>f1-score</th>\n",
       "      <td>0.619217</td>\n",
       "      <td>0.829346</td>\n",
       "      <td>0.764317</td>\n",
       "      <td>0.724282</td>\n",
       "      <td>0.745109</td>\n",
       "    </tr>\n",
       "    <tr>\n",
       "      <th>support</th>\n",
       "      <td>182.000000</td>\n",
       "      <td>272.000000</td>\n",
       "      <td>0.764317</td>\n",
       "      <td>454.000000</td>\n",
       "      <td>454.000000</td>\n",
       "    </tr>\n",
       "  </tbody>\n",
       "</table>\n",
       "</div>"
      ],
      "text/plain": [
       "                   -1           1  accuracy   macro avg  weighted avg\n",
       "precision    0.878788    0.732394  0.764317    0.805591      0.791081\n",
       "recall       0.478022    0.955882  0.764317    0.716952      0.764317\n",
       "f1-score     0.619217    0.829346  0.764317    0.724282      0.745109\n",
       "support    182.000000  272.000000  0.764317  454.000000    454.000000"
      ]
     },
     "execution_count": 105,
     "metadata": {},
     "output_type": "execute_result"
    }
   ],
   "source": [
    "alpha_th_test = .48\n",
    "pd.DataFrame(metrics.classification_report(probsdf_test['trth'][abs(probsdf_test['vader'])>alpha_th_test],probsdf_test['vader_polarity'][abs(probsdf_test['vader'])>alpha_th_test],output_dict=True))"
   ]
  },
  {
   "cell_type": "code",
   "execution_count": 106,
   "id": "8c81be9f",
   "metadata": {},
   "outputs": [
    {
     "data": {
      "text/plain": [
       "count    600.000000\n",
       "mean       0.739844\n",
       "std        0.289511\n",
       "min        0.000000\n",
       "25%        0.643885\n",
       "50%        0.860355\n",
       "75%        0.945177\n",
       "max        0.989440\n",
       "Name: bert, dtype: float64"
      ]
     },
     "execution_count": 106,
     "metadata": {},
     "output_type": "execute_result"
    }
   ],
   "source": [
    "abs(probsdf_test['bert']).describe()"
   ]
  },
  {
   "cell_type": "code",
   "execution_count": 107,
   "id": "85c95bab",
   "metadata": {},
   "outputs": [
    {
     "data": {
      "text/html": [
       "<div>\n",
       "<style scoped>\n",
       "    .dataframe tbody tr th:only-of-type {\n",
       "        vertical-align: middle;\n",
       "    }\n",
       "\n",
       "    .dataframe tbody tr th {\n",
       "        vertical-align: top;\n",
       "    }\n",
       "\n",
       "    .dataframe thead th {\n",
       "        text-align: right;\n",
       "    }\n",
       "</style>\n",
       "<table border=\"1\" class=\"dataframe\">\n",
       "  <thead>\n",
       "    <tr style=\"text-align: right;\">\n",
       "      <th></th>\n",
       "      <th>-1</th>\n",
       "      <th>1</th>\n",
       "      <th>accuracy</th>\n",
       "      <th>macro avg</th>\n",
       "      <th>weighted avg</th>\n",
       "    </tr>\n",
       "  </thead>\n",
       "  <tbody>\n",
       "    <tr>\n",
       "      <th>precision</th>\n",
       "      <td>0.972789</td>\n",
       "      <td>0.982609</td>\n",
       "      <td>0.97878</td>\n",
       "      <td>0.977699</td>\n",
       "      <td>0.97878</td>\n",
       "    </tr>\n",
       "    <tr>\n",
       "      <th>recall</th>\n",
       "      <td>0.972789</td>\n",
       "      <td>0.982609</td>\n",
       "      <td>0.97878</td>\n",
       "      <td>0.977699</td>\n",
       "      <td>0.97878</td>\n",
       "    </tr>\n",
       "    <tr>\n",
       "      <th>f1-score</th>\n",
       "      <td>0.972789</td>\n",
       "      <td>0.982609</td>\n",
       "      <td>0.97878</td>\n",
       "      <td>0.977699</td>\n",
       "      <td>0.97878</td>\n",
       "    </tr>\n",
       "    <tr>\n",
       "      <th>support</th>\n",
       "      <td>147.000000</td>\n",
       "      <td>230.000000</td>\n",
       "      <td>0.97878</td>\n",
       "      <td>377.000000</td>\n",
       "      <td>377.00000</td>\n",
       "    </tr>\n",
       "  </tbody>\n",
       "</table>\n",
       "</div>"
      ],
      "text/plain": [
       "                   -1           1  accuracy   macro avg  weighted avg\n",
       "precision    0.972789    0.982609   0.97878    0.977699       0.97878\n",
       "recall       0.972789    0.982609   0.97878    0.977699       0.97878\n",
       "f1-score     0.972789    0.982609   0.97878    0.977699       0.97878\n",
       "support    147.000000  230.000000   0.97878  377.000000     377.00000"
      ]
     },
     "execution_count": 107,
     "metadata": {},
     "output_type": "execute_result"
    }
   ],
   "source": [
    "alpha_th_test = .78\n",
    "res2 =pd.DataFrame(metrics.classification_report(probsdf_test['trth'][abs(probsdf_test['bert'])>alpha_th_test],probsdf_test['label_pol_pred'][abs(probsdf_test['bert'])>alpha_th_test],output_dict=True))\n",
    "res2"
   ]
  },
  {
   "cell_type": "code",
   "execution_count": 108,
   "id": "cba8a9cd",
   "metadata": {},
   "outputs": [],
   "source": [
    "try:\n",
    "    res2['1']\n",
    "except KeyError:\n",
    "    0"
   ]
  },
  {
   "cell_type": "code",
   "execution_count": 109,
   "id": "c70f6ba5",
   "metadata": {},
   "outputs": [
    {
     "data": {
      "image/png": "[encoded data removed]",
      "text/plain": [
       "<Figure size 720x432 with 1 Axes>"
      ]
     },
     "metadata": {
      "needs_background": "light"
     },
     "output_type": "display_data"
    }
   ],
   "source": [
    "threshold_analysis = pd.DataFrame({'Thresh_alpha':[0],'Accuracy':[0],'Percent_data_capture':[0],'Precision':[0],'Recall':[0],'f1':[0]})\n",
    "detl_threshold = pd.DataFrame({'Thresh_alpha':[],'Accuracy':[],'Percent_data_capture':[],'Precision':[],'Recall':[],'f1':[]})\n",
    "for i in range (0,75):\n",
    "    alpha_th = i*.01\n",
    "    res1 = pd.DataFrame(classification_report(probsdf_test['trth'][abs(probsdf_test['bert'])>=alpha_th],probsdf_test['bert_polarity'][abs(probsdf_test['bert'])>=alpha_th],output_dict=True))\n",
    "    threshold_analysis['Accuracy']= res1['accuracy'].loc['precision']\n",
    "    threshold_analysis['Percent_data_capture'] =  probsdf_test['trth'][abs(probsdf_test['bert'])>=alpha_th].count()/probsdf_test['trth'].count() if  probsdf_test['trth'].count()>0 else 0\n",
    "    threshold_analysis['Thresh_alpha'] = alpha_th\n",
    "    try:\n",
    "        threshold_analysis['Precision'] = res1['1'].loc['precision']\n",
    "    except KeyError:\n",
    "        threshold_analysis['Precision']=0\n",
    "    try:\n",
    "        threshold_analysis['Recall'] = res1['1'].loc['recall']\n",
    "    except KeyError:\n",
    "       threshold_analysis['Recall'] =0\n",
    "    try:\n",
    "        threshold_analysis['f1'] = res1['1'].loc['f1-score']\n",
    "    except KeyError:\n",
    "        threshold_analysis['f1'] \n",
    "    detl_threshold = detl_threshold.append(threshold_analysis)\n",
    "\n",
    "plt.rcParams['figure.figsize'] = [10, 6]\n",
    "pyplot.plot(detl_threshold['Thresh_alpha'], detl_threshold['Accuracy'], marker='.', label='Accuracy')\n",
    "pyplot.plot(detl_threshold['Thresh_alpha'], detl_threshold['Percent_data_capture'], marker='.', label='Percentage_of_Data_captured')\n",
    "pyplot.plot(detl_threshold['Thresh_alpha'], detl_threshold['Precision'], marker='.', label='Precision')\n",
    "pyplot.plot(detl_threshold['Thresh_alpha'], detl_threshold['Recall'], marker='.', label='Recall')\n",
    "pyplot.plot(detl_threshold['Thresh_alpha'], detl_threshold['f1'], marker='.', label='f1')\n",
    "pyplot.xlabel('Threshold for Data Selection')\n",
    "pyplot.ylabel('Value')\n",
    "pyplot.grid(visible=True, which='both', axis='both')\n",
    "#pyplot.grid(True)\n",
    "pyplot.title('Base_Model - bert: Amazon Reviews')\n",
    "# show the legend\n",
    "pyplot.legend()\n",
    "# show the plot\n",
    "pyplot.show()"
   ]
  },
  {
   "cell_type": "code",
   "execution_count": 110,
   "id": "42a3a969",
   "metadata": {},
   "outputs": [
    {
     "data": {
      "image/png": "[encoded data removed]",
      "text/plain": [
       "<Figure size 720x432 with 1 Axes>"
      ]
     },
     "metadata": {
      "needs_background": "light"
     },
     "output_type": "display_data"
    }
   ],
   "source": [
    "threshold_analysis = pd.DataFrame({'Thresh_alpha':[0],'Accuracy':[0],'Percent_data_capture':[0],'Precision':[0],'Recall':[0],'f1':[0]})\n",
    "detl_threshold = pd.DataFrame({'Thresh_alpha':[],'Accuracy':[],'Percent_data_capture':[],'Precision':[],'Recall':[],'f1':[]})\n",
    "for i in range (0,95):\n",
    "    alpha_th = i*.01\n",
    "    res1 = pd.DataFrame(classification_report(probsdf_test['trth'][abs(probsdf_test['vader'])>=alpha_th],probsdf_test['vader_polarity'][abs(probsdf_test['vader'])>=alpha_th],output_dict=True))\n",
    "    threshold_analysis['Accuracy']= res1['accuracy'].iloc[0]\n",
    "    threshold_analysis['Percent_data_capture'] = probsdf_test['trth'][abs(probsdf_test['vader'])>=alpha_th].count()/probsdf_test['trth'].count()\n",
    "    threshold_analysis['Thresh_alpha'] = alpha_th\n",
    "    try:\n",
    "        threshold_analysis['Precision'] = res1['1'].loc['precision']\n",
    "        threshold_analysis['Recall'] = res1['1'].loc['recall']\n",
    "        threshold_analysis['f1'] = res1['1'].loc['f1-score']\n",
    "    except KeyError:\n",
    "        threshold_analysis['Precision'] = 0\n",
    "        threshold_analysis['Recall'] = 0\n",
    "        threshold_analysis['f1'] = 0\n",
    "    detl_threshold = detl_threshold.append(threshold_analysis)\n",
    "\n",
    "plt.rcParams['figure.figsize'] = [10, 6]\n",
    "pyplot.plot(detl_threshold['Thresh_alpha'], detl_threshold['Accuracy'], marker='.', label='Accuracy')\n",
    "pyplot.plot(detl_threshold['Thresh_alpha'], detl_threshold['Percent_data_capture'], marker='.', label='Percentage_of_Data_captured')\n",
    "pyplot.plot(detl_threshold['Thresh_alpha'], detl_threshold['Precision'], marker='.', label='Precision')\n",
    "pyplot.plot(detl_threshold['Thresh_alpha'], detl_threshold['Recall'], marker='.', label='Recall')\n",
    "pyplot.plot(detl_threshold['Thresh_alpha'], detl_threshold['f1'], marker='.', label='f1')\n",
    "pyplot.xlabel('Threshold for Data Selection')\n",
    "pyplot.ylabel('Value')\n",
    "pyplot.grid(visible=True, which='both', axis='both')\n",
    "#pyplot.grid(True)\n",
    "pyplot.title('Base_Model - VADER: Amazon Reviews')\n",
    "# show the legend\n",
    "pyplot.legend()\n",
    "# show the plot\n",
    "pyplot.show()"
   ]
  },
  {
   "cell_type": "code",
   "execution_count": 111,
   "id": "bcc6a0f6",
   "metadata": {},
   "outputs": [
    {
     "data": {
      "image/png": "[encoded data removed]",
      "text/plain": [
       "<Figure size 720x432 with 1 Axes>"
      ]
     },
     "metadata": {
      "needs_background": "light"
     },
     "output_type": "display_data"
    }
   ],
   "source": [
    "threshold_analysis = pd.DataFrame({'Thresh_alpha':[0],'Accuracy':[0],'Percent_data_capture':[0],'Precision':[0],'Recall':[0],'f1':[0]})\n",
    "detl_threshold = pd.DataFrame({'Thresh_alpha':[],'Accuracy':[],'Percent_data_capture':[],'Precision':[],'Recall':[],'f1':[]})\n",
    "for i in range (0,95):\n",
    "    alpha_th = i*.01\n",
    "    res1 = pd.DataFrame(classification_report(probsdf_test['trth'][abs(probsdf_test['flair'])>=alpha_th],probsdf_test['flair_polarity'][abs(probsdf_test['flair'])>=alpha_th],output_dict=True))\n",
    "    threshold_analysis['Accuracy']= res1['accuracy'].iloc[0]\n",
    "    threshold_analysis['Percent_data_capture'] = probsdf_test['trth'][abs(probsdf_test['flair'])>=alpha_th].count()/probsdf_test['trth'].count()\n",
    "    threshold_analysis['Thresh_alpha'] = alpha_th\n",
    "    try:\n",
    "        threshold_analysis['Precision'] = res1['1'].loc['precision']\n",
    "        threshold_analysis['Recall'] = res1['1'].loc['recall']\n",
    "        threshold_analysis['f1'] = res1['1'].loc['f1-score']\n",
    "    except KeyError:\n",
    "        threshold_analysis['Precision'] = 0\n",
    "        threshold_analysis['Recall'] = 0\n",
    "        threshold_analysis['f1'] = 0\n",
    "    detl_threshold = detl_threshold.append(threshold_analysis)\n",
    "\n",
    "plt.rcParams['figure.figsize'] = [10, 6]\n",
    "pyplot.plot(detl_threshold['Thresh_alpha'], detl_threshold['Accuracy'], marker='.', label='Accuracy')\n",
    "pyplot.plot(detl_threshold['Thresh_alpha'], detl_threshold['Percent_data_capture'], marker='.', label='Percentage_of_Data_captured')\n",
    "pyplot.plot(detl_threshold['Thresh_alpha'], detl_threshold['Precision'], marker='.', label='Precision')\n",
    "pyplot.plot(detl_threshold['Thresh_alpha'], detl_threshold['Recall'], marker='.', label='Recall')\n",
    "pyplot.plot(detl_threshold['Thresh_alpha'], detl_threshold['f1'], marker='.', label='f1')\n",
    "pyplot.xlabel('Threshold for Data Selection')\n",
    "pyplot.ylabel('Value')\n",
    "pyplot.grid(visible=True, which='both', axis='both')\n",
    "#pyplot.grid(True)\n",
    "pyplot.title('Base_Model - Flair: Amazon Reviews')\n",
    "# show the legend\n",
    "pyplot.legend()\n",
    "# show the plot\n",
    "pyplot.show()"
   ]
  },
  {
   "cell_type": "code",
   "execution_count": 112,
   "id": "d884bc4d",
   "metadata": {},
   "outputs": [
    {
     "data": {
      "image/png": "[encoded data removed]",
      "text/plain": [
       "<Figure size 720x432 with 1 Axes>"
      ]
     },
     "metadata": {
      "needs_background": "light"
     },
     "output_type": "display_data"
    }
   ],
   "source": [
    "threshold_analysis = pd.DataFrame({'Thresh_alpha':[0],'Accuracy':[0],'Percent_data_capture':[0],'Precision':[0],'Recall':[0],'f1':[0]})\n",
    "detl_threshold = pd.DataFrame({'Thresh_alpha':[],'Accuracy':[],'Percent_data_capture':[],'Precision':[],'Recall':[],'f1':[]})\n",
    "for i in range (0,95):\n",
    "    alpha_th = i*.01\n",
    "    res1 = pd.DataFrame(classification_report(probsdf_test['trth'][abs(probsdf_test['tb'])>=alpha_th],probsdf_test['textblob_polarity'][abs(probsdf_test['tb'])>=alpha_th],output_dict=True))\n",
    "    threshold_analysis['Accuracy']= res1['accuracy'].iloc[0]\n",
    "    threshold_analysis['Percent_data_capture'] = probsdf_test['trth'][abs(probsdf_test['tb'])>=alpha_th].count()/probsdf_test['trth'].count()\n",
    "    threshold_analysis['Thresh_alpha'] = alpha_th\n",
    "    try:\n",
    "        threshold_analysis['Precision'] = res1['1'].loc['precision']\n",
    "        threshold_analysis['Recall'] = res1['1'].loc['recall']\n",
    "        threshold_analysis['f1'] = res1['1'].loc['f1-score']\n",
    "    except KeyError:\n",
    "        threshold_analysis['Precision'] = 0\n",
    "        threshold_analysis['Recall'] = 0\n",
    "        threshold_analysis['f1'] = 0\n",
    "    detl_threshold = detl_threshold.append(threshold_analysis)\n",
    "\n",
    "plt.rcParams['figure.figsize'] = [10, 6]\n",
    "pyplot.plot(detl_threshold['Thresh_alpha'], detl_threshold['Accuracy'], marker='.', label='Accuracy')\n",
    "pyplot.plot(detl_threshold['Thresh_alpha'], detl_threshold['Percent_data_capture'], marker='.', label='Percentage_of_Data_captured')\n",
    "pyplot.plot(detl_threshold['Thresh_alpha'], detl_threshold['Precision'], marker='.', label='Precision')\n",
    "pyplot.plot(detl_threshold['Thresh_alpha'], detl_threshold['Recall'], marker='.', label='Recall')\n",
    "pyplot.plot(detl_threshold['Thresh_alpha'], detl_threshold['f1'], marker='.', label='f1')\n",
    "pyplot.xlabel('Threshold for Data Selection')\n",
    "pyplot.ylabel('Value')\n",
    "pyplot.grid(visible=True, which='both', axis='both')\n",
    "#pyplot.grid(True)\n",
    "pyplot.title('Base_Model - Textblob : Amazon Reviews')\n",
    "# show the legend\n",
    "pyplot.legend()\n",
    "# show the plot\n",
    "pyplot.show()"
   ]
  },
  {
   "cell_type": "code",
   "execution_count": 113,
   "id": "b2c87f04",
   "metadata": {},
   "outputs": [
    {
     "data": {
      "text/html": [
       "<div>\n",
       "<style scoped>\n",
       "    .dataframe tbody tr th:only-of-type {\n",
       "        vertical-align: middle;\n",
       "    }\n",
       "\n",
       "    .dataframe tbody tr th {\n",
       "        vertical-align: top;\n",
       "    }\n",
       "\n",
       "    .dataframe thead th {\n",
       "        text-align: right;\n",
       "    }\n",
       "</style>\n",
       "<table border=\"1\" class=\"dataframe\">\n",
       "  <thead>\n",
       "    <tr style=\"text-align: right;\">\n",
       "      <th></th>\n",
       "      <th>0</th>\n",
       "      <th>1</th>\n",
       "      <th>trth</th>\n",
       "      <th>label_pol_pred</th>\n",
       "      <th>tb</th>\n",
       "      <th>vader</th>\n",
       "      <th>bert</th>\n",
       "      <th>flair</th>\n",
       "      <th>textblob_polarity</th>\n",
       "      <th>vader_polarity</th>\n",
       "      <th>bert_polarity</th>\n",
       "      <th>flair_polarity</th>\n",
       "    </tr>\n",
       "  </thead>\n",
       "  <tbody>\n",
       "    <tr>\n",
       "      <th>0</th>\n",
       "      <td>0.026807</td>\n",
       "      <td>0.973193</td>\n",
       "      <td>1</td>\n",
       "      <td>1</td>\n",
       "      <td>0.8983</td>\n",
       "      <td>0.8983</td>\n",
       "      <td>0.883419</td>\n",
       "      <td>0.999508</td>\n",
       "      <td>1.0</td>\n",
       "      <td>1.0</td>\n",
       "      <td>1.0</td>\n",
       "      <td>1.0</td>\n",
       "    </tr>\n",
       "    <tr>\n",
       "      <th>1</th>\n",
       "      <td>0.023811</td>\n",
       "      <td>0.976189</td>\n",
       "      <td>1</td>\n",
       "      <td>1</td>\n",
       "      <td>0.8462</td>\n",
       "      <td>0.8462</td>\n",
       "      <td>0.958900</td>\n",
       "      <td>0.999885</td>\n",
       "      <td>1.0</td>\n",
       "      <td>1.0</td>\n",
       "      <td>1.0</td>\n",
       "      <td>1.0</td>\n",
       "    </tr>\n",
       "    <tr>\n",
       "      <th>2</th>\n",
       "      <td>0.023394</td>\n",
       "      <td>0.976606</td>\n",
       "      <td>1</td>\n",
       "      <td>1</td>\n",
       "      <td>0.8620</td>\n",
       "      <td>0.8620</td>\n",
       "      <td>0.942564</td>\n",
       "      <td>0.998770</td>\n",
       "      <td>1.0</td>\n",
       "      <td>1.0</td>\n",
       "      <td>1.0</td>\n",
       "      <td>1.0</td>\n",
       "    </tr>\n",
       "    <tr>\n",
       "      <th>3</th>\n",
       "      <td>0.022840</td>\n",
       "      <td>0.977160</td>\n",
       "      <td>1</td>\n",
       "      <td>1</td>\n",
       "      <td>0.8689</td>\n",
       "      <td>0.8689</td>\n",
       "      <td>0.901197</td>\n",
       "      <td>0.999877</td>\n",
       "      <td>1.0</td>\n",
       "      <td>1.0</td>\n",
       "      <td>1.0</td>\n",
       "      <td>1.0</td>\n",
       "    </tr>\n",
       "    <tr>\n",
       "      <th>4</th>\n",
       "      <td>0.941055</td>\n",
       "      <td>0.058945</td>\n",
       "      <td>-1</td>\n",
       "      <td>-1</td>\n",
       "      <td>0.9245</td>\n",
       "      <td>0.9245</td>\n",
       "      <td>-0.648101</td>\n",
       "      <td>-0.999966</td>\n",
       "      <td>1.0</td>\n",
       "      <td>1.0</td>\n",
       "      <td>-1.0</td>\n",
       "      <td>-1.0</td>\n",
       "    </tr>\n",
       "    <tr>\n",
       "      <th>...</th>\n",
       "      <td>...</td>\n",
       "      <td>...</td>\n",
       "      <td>...</td>\n",
       "      <td>...</td>\n",
       "      <td>...</td>\n",
       "      <td>...</td>\n",
       "      <td>...</td>\n",
       "      <td>...</td>\n",
       "      <td>...</td>\n",
       "      <td>...</td>\n",
       "      <td>...</td>\n",
       "      <td>...</td>\n",
       "    </tr>\n",
       "    <tr>\n",
       "      <th>595</th>\n",
       "      <td>0.024086</td>\n",
       "      <td>0.975914</td>\n",
       "      <td>1</td>\n",
       "      <td>1</td>\n",
       "      <td>0.6808</td>\n",
       "      <td>0.6808</td>\n",
       "      <td>0.950877</td>\n",
       "      <td>0.996381</td>\n",
       "      <td>1.0</td>\n",
       "      <td>1.0</td>\n",
       "      <td>1.0</td>\n",
       "      <td>1.0</td>\n",
       "    </tr>\n",
       "    <tr>\n",
       "      <th>596</th>\n",
       "      <td>0.941397</td>\n",
       "      <td>0.058603</td>\n",
       "      <td>-1</td>\n",
       "      <td>-1</td>\n",
       "      <td>-0.2500</td>\n",
       "      <td>-0.2500</td>\n",
       "      <td>-0.602714</td>\n",
       "      <td>-0.999997</td>\n",
       "      <td>1.0</td>\n",
       "      <td>-1.0</td>\n",
       "      <td>-1.0</td>\n",
       "      <td>-1.0</td>\n",
       "    </tr>\n",
       "    <tr>\n",
       "      <th>597</th>\n",
       "      <td>0.025978</td>\n",
       "      <td>0.974022</td>\n",
       "      <td>1</td>\n",
       "      <td>1</td>\n",
       "      <td>0.7640</td>\n",
       "      <td>0.7640</td>\n",
       "      <td>0.940615</td>\n",
       "      <td>0.999871</td>\n",
       "      <td>1.0</td>\n",
       "      <td>1.0</td>\n",
       "      <td>1.0</td>\n",
       "      <td>1.0</td>\n",
       "    </tr>\n",
       "    <tr>\n",
       "      <th>598</th>\n",
       "      <td>0.797625</td>\n",
       "      <td>0.202375</td>\n",
       "      <td>1</td>\n",
       "      <td>-1</td>\n",
       "      <td>0.7906</td>\n",
       "      <td>0.7906</td>\n",
       "      <td>0.000000</td>\n",
       "      <td>-0.849488</td>\n",
       "      <td>1.0</td>\n",
       "      <td>1.0</td>\n",
       "      <td>1.0</td>\n",
       "      <td>-1.0</td>\n",
       "    </tr>\n",
       "    <tr>\n",
       "      <th>599</th>\n",
       "      <td>0.948499</td>\n",
       "      <td>0.051501</td>\n",
       "      <td>-1</td>\n",
       "      <td>-1</td>\n",
       "      <td>0.5943</td>\n",
       "      <td>0.5943</td>\n",
       "      <td>-0.881416</td>\n",
       "      <td>-0.999999</td>\n",
       "      <td>1.0</td>\n",
       "      <td>1.0</td>\n",
       "      <td>-1.0</td>\n",
       "      <td>-1.0</td>\n",
       "    </tr>\n",
       "  </tbody>\n",
       "</table>\n",
       "<p>600 rows × 12 columns</p>\n",
       "</div>"
      ],
      "text/plain": [
       "            0         1  trth  label_pol_pred      tb   vader      bert  \\\n",
       "0    0.026807  0.973193     1               1  0.8983  0.8983  0.883419   \n",
       "1    0.023811  0.976189     1               1  0.8462  0.8462  0.958900   \n",
       "2    0.023394  0.976606     1               1  0.8620  0.8620  0.942564   \n",
       "3    0.022840  0.977160     1               1  0.8689  0.8689  0.901197   \n",
       "4    0.941055  0.058945    -1              -1  0.9245  0.9245 -0.648101   \n",
       "..        ...       ...   ...             ...     ...     ...       ...   \n",
       "595  0.024086  0.975914     1               1  0.6808  0.6808  0.950877   \n",
       "596  0.941397  0.058603    -1              -1 -0.2500 -0.2500 -0.602714   \n",
       "597  0.025978  0.974022     1               1  0.7640  0.7640  0.940615   \n",
       "598  0.797625  0.202375     1              -1  0.7906  0.7906  0.000000   \n",
       "599  0.948499  0.051501    -1              -1  0.5943  0.5943 -0.881416   \n",
       "\n",
       "        flair  textblob_polarity  vader_polarity  bert_polarity  \\\n",
       "0    0.999508                1.0             1.0            1.0   \n",
       "1    0.999885                1.0             1.0            1.0   \n",
       "2    0.998770                1.0             1.0            1.0   \n",
       "3    0.999877                1.0             1.0            1.0   \n",
       "4   -0.999966                1.0             1.0           -1.0   \n",
       "..        ...                ...             ...            ...   \n",
       "595  0.996381                1.0             1.0            1.0   \n",
       "596 -0.999997                1.0            -1.0           -1.0   \n",
       "597  0.999871                1.0             1.0            1.0   \n",
       "598 -0.849488                1.0             1.0            1.0   \n",
       "599 -0.999999                1.0             1.0           -1.0   \n",
       "\n",
       "     flair_polarity  \n",
       "0               1.0  \n",
       "1               1.0  \n",
       "2               1.0  \n",
       "3               1.0  \n",
       "4              -1.0  \n",
       "..              ...  \n",
       "595             1.0  \n",
       "596            -1.0  \n",
       "597             1.0  \n",
       "598            -1.0  \n",
       "599            -1.0  \n",
       "\n",
       "[600 rows x 12 columns]"
      ]
     },
     "execution_count": 113,
     "metadata": {},
     "output_type": "execute_result"
    }
   ],
   "source": [
    "probsdf_test"
   ]
  },
  {
   "cell_type": "code",
   "execution_count": 114,
   "id": "48945934",
   "metadata": {},
   "outputs": [],
   "source": [
    "import numpy as np\n",
    "from sklearn.model_selection import train_test_split, cross_val_score\n",
    "from sklearn.linear_model import LogisticRegression\n",
    "from sklearn.svm import SVC\n",
    "from sklearn.ensemble import RandomForestClassifier\n",
    "from sklearn.naive_bayes import GaussianNB\n",
    "from sklearn.metrics import accuracy_score"
   ]
  },
  {
   "cell_type": "code",
   "execution_count": 115,
   "id": "91b6e039",
   "metadata": {},
   "outputs": [
    {
     "name": "stdout",
     "output_type": "stream",
     "text": [
      "Logistic Regression Mean Accuracy: 0.9307\n",
      "Support Vector Machine Mean Accuracy: 0.9279\n",
      "Random Forest Mean Accuracy: 0.9421\n",
      "Naive Bayes Mean Accuracy: 0.9271\n",
      "Best Model Test Accuracy: 0.9383\n"
     ]
    }
   ],
   "source": [
    "\n",
    "\n",
    "# List of classifiers to evaluate\n",
    "classifiers = [\n",
    "    ('Logistic Regression', LogisticRegression()),\n",
    "    ('Support Vector Machine', SVC()),\n",
    "    ('Random Forest', RandomForestClassifier()),\n",
    "    ('Naive Bayes', GaussianNB())\n",
    "]\n",
    "\n",
    "# Iterate over classifiers and evaluate using cross-validation\n",
    "for name, classifier in classifiers:\n",
    "    scores = cross_val_score(classifier, X_train, y_train, cv=5)\n",
    "    mean_score = np.mean(scores)\n",
    "    print(f\"{name} Mean Accuracy: {mean_score:.4f}\")\n",
    "\n",
    "# Choose the best model based on cross-validation scores\n",
    "best_classifier = max(classifiers, key=lambda x: np.mean(cross_val_score(x[1], X_train, y_train, cv=5)))[1]\n",
    "\n",
    "# Train the best classifier on the full training set\n",
    "best_classifier.fit(X_train, y_train)\n",
    "\n",
    "# Test the model on the test set\n",
    "y_pred = best_classifier.predict(X_test)\n",
    "accuracy = accuracy_score(y_test, y_pred)\n",
    "print(f\"Best Model Test Accuracy: {accuracy:.4f}\")\n"
   ]
  },
  {
   "cell_type": "code",
   "execution_count": 116,
   "id": "89b8e842",
   "metadata": {},
   "outputs": [],
   "source": [
    "model_eval = pd.DataFrame({'Model':[],'Mean_Score':[]})"
   ]
  },
  {
   "cell_type": "code",
   "execution_count": 117,
   "id": "32350d1e",
   "metadata": {},
   "outputs": [
    {
     "data": {
      "text/html": [
       "<div>\n",
       "<style scoped>\n",
       "    .dataframe tbody tr th:only-of-type {\n",
       "        vertical-align: middle;\n",
       "    }\n",
       "\n",
       "    .dataframe tbody tr th {\n",
       "        vertical-align: top;\n",
       "    }\n",
       "\n",
       "    .dataframe thead th {\n",
       "        text-align: right;\n",
       "    }\n",
       "</style>\n",
       "<table border=\"1\" class=\"dataframe\">\n",
       "  <thead>\n",
       "    <tr style=\"text-align: right;\">\n",
       "      <th></th>\n",
       "      <th>Model</th>\n",
       "      <th>Mean_Score</th>\n",
       "    </tr>\n",
       "  </thead>\n",
       "  <tbody>\n",
       "  </tbody>\n",
       "</table>\n",
       "</div>"
      ],
      "text/plain": [
       "Empty DataFrame\n",
       "Columns: [Model, Mean_Score]\n",
       "Index: []"
      ]
     },
     "execution_count": 117,
     "metadata": {},
     "output_type": "execute_result"
    }
   ],
   "source": [
    "model_eval"
   ]
  },
  {
   "cell_type": "code",
   "execution_count": 118,
   "id": "3b3953af",
   "metadata": {},
   "outputs": [
    {
     "name": "stdout",
     "output_type": "stream",
     "text": [
      "Logistic Regression Mean Accuracy: 0.9307\n",
      "Support Vector Machine Mean Accuracy: 0.9279\n",
      "Random Forest Mean Accuracy: 0.9400\n",
      "Naive Bayes Mean Accuracy: 0.9271\n",
      "Decision Tree Mean Accuracy: 0.9057\n",
      "Gradient Boosting Mean Accuracy: 0.9329\n",
      "AdaBoost Mean Accuracy: 0.9314\n",
      "Ridge Classifier Mean Accuracy: 0.9279\n",
      "Best Model Test Accuracy: 0.9367\n"
     ]
    }
   ],
   "source": [
    "import numpy as np\n",
    "from sklearn.model_selection import train_test_split, cross_val_score\n",
    "from sklearn.linear_model import LogisticRegression, RidgeClassifier\n",
    "from sklearn.svm import SVC\n",
    "from sklearn.ensemble import RandomForestClassifier, GradientBoostingClassifier, AdaBoostClassifier\n",
    "from sklearn.naive_bayes import GaussianNB\n",
    "from sklearn.tree import DecisionTreeClassifier\n",
    "from sklearn.metrics import accuracy_score\n",
    "model_eval = pd.DataFrame({'Model':[],'Mean_Score':[]})\n",
    "\n",
    "# List of classifiers to evaluate\n",
    "classifiers = [\n",
    "    ('Logistic Regression', LogisticRegression()),\n",
    "    ('Support Vector Machine', SVC()),\n",
    "    ('Random Forest', RandomForestClassifier()),\n",
    "    ('Naive Bayes', GaussianNB()),\n",
    "    ('Decision Tree', DecisionTreeClassifier()),\n",
    "    ('Gradient Boosting', GradientBoostingClassifier()),\n",
    "    ('AdaBoost', AdaBoostClassifier()),\n",
    "    ('Ridge Classifier', RidgeClassifier())\n",
    "]\n",
    "\n",
    "# Iterate over classifiers and evaluate using cross-validation\n",
    "for name, classifier in classifiers:\n",
    "    scores = cross_val_score(classifier, X_train, y_train, cv=5)\n",
    "    mean_score = np.mean(scores)\n",
    "    scores_temp = pd.DataFrame({'Model':[name],'Mean_Score':[mean_score]})\n",
    "    model_eval = model_eval.append(scores_temp)\n",
    "    print(f\"{name} Mean Accuracy: {mean_score:.4f}\")\n",
    "\n",
    "# Choose the best model based on cross-validation scores\n",
    "best_classifier = max(classifiers, key=lambda x: np.mean(cross_val_score(x[1], X_train, y_train, cv=5)))[1]\n",
    "\n",
    "# Train the best classifier on the full training set\n",
    "best_classifier.fit(X_train, y_train)\n",
    "\n",
    "# Test the model on the test set\n",
    "y_pred = best_classifier.predict(X_test)\n",
    "accuracy = accuracy_score(y_test, y_pred)\n",
    "print(f\"Best Model Test Accuracy: {accuracy:.4f}\")\n"
   ]
  },
  {
   "cell_type": "code",
   "execution_count": 149,
   "id": "308023b2",
   "metadata": {},
   "outputs": [
    {
     "data": {
      "text/html": [
       "<div>\n",
       "<style scoped>\n",
       "    .dataframe tbody tr th:only-of-type {\n",
       "        vertical-align: middle;\n",
       "    }\n",
       "\n",
       "    .dataframe tbody tr th {\n",
       "        vertical-align: top;\n",
       "    }\n",
       "\n",
       "    .dataframe thead th {\n",
       "        text-align: right;\n",
       "    }\n",
       "</style>\n",
       "<table border=\"1\" class=\"dataframe\">\n",
       "  <thead>\n",
       "    <tr style=\"text-align: right;\">\n",
       "      <th></th>\n",
       "      <th>Model</th>\n",
       "      <th>Mean_Score</th>\n",
       "    </tr>\n",
       "  </thead>\n",
       "  <tbody>\n",
       "    <tr>\n",
       "      <th>0</th>\n",
       "      <td>Logistic Regression</td>\n",
       "      <td>0.930714</td>\n",
       "    </tr>\n",
       "    <tr>\n",
       "      <th>0</th>\n",
       "      <td>Support Vector Machine</td>\n",
       "      <td>0.927857</td>\n",
       "    </tr>\n",
       "    <tr>\n",
       "      <th>0</th>\n",
       "      <td>Random Forest</td>\n",
       "      <td>0.940000</td>\n",
       "    </tr>\n",
       "    <tr>\n",
       "      <th>0</th>\n",
       "      <td>Naive Bayes</td>\n",
       "      <td>0.927143</td>\n",
       "    </tr>\n",
       "    <tr>\n",
       "      <th>0</th>\n",
       "      <td>Decision Tree</td>\n",
       "      <td>0.905714</td>\n",
       "    </tr>\n",
       "    <tr>\n",
       "      <th>0</th>\n",
       "      <td>Gradient Boosting</td>\n",
       "      <td>0.932857</td>\n",
       "    </tr>\n",
       "    <tr>\n",
       "      <th>0</th>\n",
       "      <td>AdaBoost</td>\n",
       "      <td>0.931429</td>\n",
       "    </tr>\n",
       "    <tr>\n",
       "      <th>0</th>\n",
       "      <td>Ridge Classifier</td>\n",
       "      <td>0.927857</td>\n",
       "    </tr>\n",
       "  </tbody>\n",
       "</table>\n",
       "</div>"
      ],
      "text/plain": [
       "                    Model  Mean_Score\n",
       "0     Logistic Regression    0.930714\n",
       "0  Support Vector Machine    0.927857\n",
       "0           Random Forest    0.940000\n",
       "0             Naive Bayes    0.927143\n",
       "0           Decision Tree    0.905714\n",
       "0       Gradient Boosting    0.932857\n",
       "0                AdaBoost    0.931429\n",
       "0        Ridge Classifier    0.927857"
      ]
     },
     "execution_count": 149,
     "metadata": {},
     "output_type": "execute_result"
    }
   ],
   "source": [
    "model_eval"
   ]
  },
  {
   "cell_type": "code",
   "execution_count": 120,
   "id": "1acf8fde",
   "metadata": {},
   "outputs": [],
   "source": [
    "model_eval.to_csv('amazon_model_eval.csv')"
   ]
  },
  {
   "cell_type": "code",
   "execution_count": 121,
   "id": "28ad7e98",
   "metadata": {},
   "outputs": [
    {
     "data": {
      "text/plain": [
       "RandomForestClassifier()"
      ]
     },
     "execution_count": 121,
     "metadata": {},
     "output_type": "execute_result"
    }
   ],
   "source": [
    "best_classifier"
   ]
  },
  {
   "cell_type": "code",
   "execution_count": 122,
   "id": "ee9edb27",
   "metadata": {},
   "outputs": [
    {
     "name": "stdout",
     "output_type": "stream",
     "text": [
      "Accuracy: 0.94\n",
      "Classification Report:\n",
      "              precision    recall  f1-score   support\n",
      "\n",
      "          -1       0.93      0.94      0.94       284\n",
      "           1       0.95      0.94      0.94       316\n",
      "\n",
      "    accuracy                           0.94       600\n",
      "   macro avg       0.94      0.94      0.94       600\n",
      "weighted avg       0.94      0.94      0.94       600\n",
      "\n"
     ]
    }
   ],
   "source": [
    "\n",
    "gb_classifier = GradientBoostingClassifier(n_estimators=150, learning_rate=0.01,random_state=42)\n",
    "# Train the classifier on the training data\n",
    "gb_classifier.fit(X_train, y_train)\n",
    "\n",
    "# Make predictions on the test data\n",
    "y_pred = gb_classifier.predict(X_test)\n",
    "\n",
    "# Evaluate the classifier's performance\n",
    "accuracy = accuracy_score(y_test, y_pred)\n",
    "print(f\"Accuracy: {accuracy:.2f}\")\n",
    "\n",
    "# Print the classification report\n",
    "print(\"Classification Report:\")\n",
    "print(classification_report(y_test, y_pred))\n",
    "\n",
    "\n"
   ]
  },
  {
   "cell_type": "code",
   "execution_count": 123,
   "id": "a1d19f6d",
   "metadata": {},
   "outputs": [
    {
     "data": {
      "text/plain": [
       "(1400, 2)"
      ]
     },
     "execution_count": 123,
     "metadata": {},
     "output_type": "execute_result"
    }
   ],
   "source": [
    "y_probs = gb_classifier.predict_proba(X_train)\n",
    "y_probs.shape"
   ]
  },
  {
   "cell_type": "code",
   "execution_count": 124,
   "id": "ff381c76",
   "metadata": {},
   "outputs": [
    {
     "name": "stdout",
     "output_type": "stream",
     "text": [
      "Logistic: ROC AUC=0.988\n"
     ]
    },
    {
     "data": {
      "image/png": "[encoded data removed]",
      "text/plain": [
       "<Figure size 720x432 with 1 Axes>"
      ]
     },
     "metadata": {
      "needs_background": "light"
     },
     "output_type": "display_data"
    }
   ],
   "source": [
    "gb_probs = y_probs[:,[1]]\n",
    "gb_auc = roc_auc_score(y_train, gb_probs)\n",
    "# summarize scores\n",
    "\n",
    "print('Logistic: ROC AUC=%.3f' % (gb_auc))\n",
    "# calculate roc curves\n",
    "\n",
    "gb_fpr, gb_tpr, thr = roc_curve(y_train, gb_probs)\n",
    "# plot the roc curve for the model # pyplot.plot(ns_fpr, ns_tpr, linestyle='--', label='No Skill')\n",
    "pyplot.plot(gb_fpr, gb_tpr, marker='.', label='Gradient Boost')\n",
    "pyplot.plot(lr_fpr, lr_tpr, marker='.', label='Logistic')\n",
    "# axis labels\n",
    "pyplot.xlabel('False Positive Rate')\n",
    "pyplot.ylabel('True Positive Rate')\n",
    "# show the legend\n",
    "pyplot.legend()\n",
    "# show the plot\n",
    "pyplot.show()"
   ]
  },
  {
   "cell_type": "code",
   "execution_count": 125,
   "id": "d3331300",
   "metadata": {},
   "outputs": [
    {
     "name": "stdout",
     "output_type": "stream",
     "text": [
      "Logistic: ROC AUC=0.974\n"
     ]
    },
    {
     "data": {
      "image/png": "[encoded data removed]",
      "text/plain": [
       "<Figure size 720x432 with 1 Axes>"
      ]
     },
     "metadata": {
      "needs_background": "light"
     },
     "output_type": "display_data"
    }
   ],
   "source": [
    "lr_probs = probs[:,[1]]\n",
    "lr_auc = roc_auc_score(y_train, lr_probs)\n",
    "# summarize scores\n",
    "\n",
    "print('Logistic: ROC AUC=%.3f' % (lr_auc))\n",
    "# calculate roc curves\n",
    "\n",
    "lr_fpr, lr_tpr, thr = roc_curve(y_train, lr_probs)\n",
    "# plot the roc curve for the model # pyplot.plot(ns_fpr, ns_tpr, linestyle='--', label='No Skill')\n",
    "pyplot.plot(lr_fpr, lr_tpr, marker='.', label='Logistic')\n",
    "# axis labels\n",
    "pyplot.xlabel('False Positive Rate')\n",
    "pyplot.ylabel('True Positive Rate')\n",
    "# show the legend\n",
    "pyplot.legend()\n",
    "# show the plot\n",
    "pyplot.show()"
   ]
  },
  {
   "cell_type": "code",
   "execution_count": 126,
   "id": "92e966e5",
   "metadata": {},
   "outputs": [],
   "source": [
    "y_probs = gb_classifier.predict_proba(X_test)"
   ]
  },
  {
   "cell_type": "code",
   "execution_count": 127,
   "id": "e89c0b16",
   "metadata": {},
   "outputs": [
    {
     "name": "stdout",
     "output_type": "stream",
     "text": [
      "Logistic: ROC AUC=0.982\n"
     ]
    },
    {
     "data": {
      "image/png": "[encoded data removed]",
      "text/plain": [
       "<Figure size 720x432 with 1 Axes>"
      ]
     },
     "metadata": {
      "needs_background": "light"
     },
     "output_type": "display_data"
    }
   ],
   "source": [
    "gb_probs = y_probs[:,[1]]\n",
    "gb_auc = roc_auc_score(y_test, gb_probs)\n",
    "# summarize scores\n",
    "\n",
    "print('Logistic: ROC AUC=%.3f' % (gb_auc))\n",
    "# calculate roc curves\n",
    "\n",
    "gb_fpr, gb_tpr, thr = roc_curve(y_test, gb_probs)\n",
    "# plot the roc curve for the model # pyplot.plot(ns_fpr, ns_tpr, linestyle='--', label='No Skill')\n",
    "pyplot.plot(gb_fpr, gb_tpr, marker='.', label='Gradient Boost')\n",
    "pyplot.plot(lr_fpr, lr_tpr, marker='.', label='Logistic')\n",
    "# axis labels\n",
    "pyplot.xlabel('False Positive Rate')\n",
    "pyplot.ylabel('True Positive Rate')\n",
    "# show the legend\n",
    "pyplot.legend()\n",
    "# show the plot\n",
    "pyplot.show()"
   ]
  },
  {
   "cell_type": "code",
   "execution_count": 128,
   "id": "d07dbb5c",
   "metadata": {},
   "outputs": [
    {
     "name": "stdout",
     "output_type": "stream",
     "text": [
      "Best Hyperparameters: {'learning_rate': 0.01, 'max_depth': 3, 'n_estimators': 100}\n",
      "Accuracy: 0.94\n",
      "Classification Report:\n",
      "              precision    recall  f1-score   support\n",
      "\n",
      "          -1       0.93      0.94      0.94       284\n",
      "           1       0.95      0.94      0.94       316\n",
      "\n",
      "    accuracy                           0.94       600\n",
      "   macro avg       0.94      0.94      0.94       600\n",
      "weighted avg       0.94      0.94      0.94       600\n",
      "\n"
     ]
    }
   ],
   "source": [
    "from sklearn.model_selection import GridSearchCV\n",
    "from sklearn.metrics import accuracy_score, classification_report\n",
    "\n",
    "gb_classifier1 = GradientBoostingClassifier()\n",
    "\n",
    "# Define a grid of hyperparameters to search\n",
    "param_grid = {\n",
    "    'n_estimators': [50, 100, 150],\n",
    "    'learning_rate': [0.1, 0.01],\n",
    "    'max_depth': [3, 4, 5]\n",
    "}\n",
    "\n",
    "# Initialize GridSearchCV with the classifier and parameter grid\n",
    "grid_search = GridSearchCV(gb_classifier1, param_grid, cv=3, scoring='accuracy')\n",
    "\n",
    "# Perform hyperparameter tuning on the training data\n",
    "grid_search.fit(X_train, y_train)\n",
    "\n",
    "# Get the best hyperparameters from the grid search\n",
    "best_params = grid_search.best_params_\n",
    "print(\"Best Hyperparameters:\", best_params)\n",
    "\n",
    "# Use the best model for prediction\n",
    "best_model = grid_search.best_estimator_\n",
    "y_pred = best_model.predict(X_test)\n",
    "\n",
    "# Evaluate the classifier's performance\n",
    "accuracy = accuracy_score(y_test, y_pred)\n",
    "print(f\"Accuracy: {accuracy:.2f}\")\n",
    "\n",
    "# Print the classification report\n",
    "print(\"Classification Report:\")\n",
    "print(classification_report(y_test, y_pred))"
   ]
  },
  {
   "attachments": {},
   "cell_type": "markdown",
   "id": "90cdde6c",
   "metadata": {},
   "source": [
    "# Best Model Analysis\n",
    "The best meta model was found to be GradientBoost. here after hyperparameter tuning we found the accuracy score to be 0.73\n",
    "Now we will see if we can custom threshold and improve acuraccy."
   ]
  },
  {
   "cell_type": "code",
   "execution_count": 129,
   "id": "37dd9123",
   "metadata": {},
   "outputs": [
    {
     "data": {
      "text/html": [
       "<div>\n",
       "<style scoped>\n",
       "    .dataframe tbody tr th:only-of-type {\n",
       "        vertical-align: middle;\n",
       "    }\n",
       "\n",
       "    .dataframe tbody tr th {\n",
       "        vertical-align: top;\n",
       "    }\n",
       "\n",
       "    .dataframe thead th {\n",
       "        text-align: right;\n",
       "    }\n",
       "</style>\n",
       "<table border=\"1\" class=\"dataframe\">\n",
       "  <thead>\n",
       "    <tr style=\"text-align: right;\">\n",
       "      <th></th>\n",
       "      <th>0</th>\n",
       "      <th>1</th>\n",
       "      <th>trth</th>\n",
       "      <th>label_pol_pred</th>\n",
       "      <th>tb</th>\n",
       "      <th>vader</th>\n",
       "      <th>bert</th>\n",
       "      <th>flair</th>\n",
       "      <th>textblob_polarity</th>\n",
       "      <th>vader_polarity</th>\n",
       "      <th>bert_polarity</th>\n",
       "      <th>flair_polarity</th>\n",
       "      <th>GBprobs_0</th>\n",
       "      <th>GBprobs_1</th>\n",
       "    </tr>\n",
       "  </thead>\n",
       "  <tbody>\n",
       "    <tr>\n",
       "      <th>0</th>\n",
       "      <td>0.026807</td>\n",
       "      <td>0.973193</td>\n",
       "      <td>1</td>\n",
       "      <td>1</td>\n",
       "      <td>0.8983</td>\n",
       "      <td>0.8983</td>\n",
       "      <td>0.883419</td>\n",
       "      <td>0.999508</td>\n",
       "      <td>1.0</td>\n",
       "      <td>1.0</td>\n",
       "      <td>1.0</td>\n",
       "      <td>1.0</td>\n",
       "      <td>0.124467</td>\n",
       "      <td>0.875533</td>\n",
       "    </tr>\n",
       "    <tr>\n",
       "      <th>1</th>\n",
       "      <td>0.023811</td>\n",
       "      <td>0.976189</td>\n",
       "      <td>1</td>\n",
       "      <td>1</td>\n",
       "      <td>0.8462</td>\n",
       "      <td>0.8462</td>\n",
       "      <td>0.958900</td>\n",
       "      <td>0.999885</td>\n",
       "      <td>1.0</td>\n",
       "      <td>1.0</td>\n",
       "      <td>1.0</td>\n",
       "      <td>1.0</td>\n",
       "      <td>0.124467</td>\n",
       "      <td>0.875533</td>\n",
       "    </tr>\n",
       "    <tr>\n",
       "      <th>2</th>\n",
       "      <td>0.023394</td>\n",
       "      <td>0.976606</td>\n",
       "      <td>1</td>\n",
       "      <td>1</td>\n",
       "      <td>0.8620</td>\n",
       "      <td>0.8620</td>\n",
       "      <td>0.942564</td>\n",
       "      <td>0.998770</td>\n",
       "      <td>1.0</td>\n",
       "      <td>1.0</td>\n",
       "      <td>1.0</td>\n",
       "      <td>1.0</td>\n",
       "      <td>0.124467</td>\n",
       "      <td>0.875533</td>\n",
       "    </tr>\n",
       "    <tr>\n",
       "      <th>3</th>\n",
       "      <td>0.022840</td>\n",
       "      <td>0.977160</td>\n",
       "      <td>1</td>\n",
       "      <td>1</td>\n",
       "      <td>0.8689</td>\n",
       "      <td>0.8689</td>\n",
       "      <td>0.901197</td>\n",
       "      <td>0.999877</td>\n",
       "      <td>1.0</td>\n",
       "      <td>1.0</td>\n",
       "      <td>1.0</td>\n",
       "      <td>1.0</td>\n",
       "      <td>0.124467</td>\n",
       "      <td>0.875533</td>\n",
       "    </tr>\n",
       "    <tr>\n",
       "      <th>4</th>\n",
       "      <td>0.941055</td>\n",
       "      <td>0.058945</td>\n",
       "      <td>-1</td>\n",
       "      <td>-1</td>\n",
       "      <td>0.9245</td>\n",
       "      <td>0.9245</td>\n",
       "      <td>-0.648101</td>\n",
       "      <td>-0.999966</td>\n",
       "      <td>1.0</td>\n",
       "      <td>1.0</td>\n",
       "      <td>-1.0</td>\n",
       "      <td>-1.0</td>\n",
       "      <td>0.856633</td>\n",
       "      <td>0.143367</td>\n",
       "    </tr>\n",
       "  </tbody>\n",
       "</table>\n",
       "</div>"
      ],
      "text/plain": [
       "          0         1  trth  label_pol_pred      tb   vader      bert  \\\n",
       "0  0.026807  0.973193     1               1  0.8983  0.8983  0.883419   \n",
       "1  0.023811  0.976189     1               1  0.8462  0.8462  0.958900   \n",
       "2  0.023394  0.976606     1               1  0.8620  0.8620  0.942564   \n",
       "3  0.022840  0.977160     1               1  0.8689  0.8689  0.901197   \n",
       "4  0.941055  0.058945    -1              -1  0.9245  0.9245 -0.648101   \n",
       "\n",
       "      flair  textblob_polarity  vader_polarity  bert_polarity  flair_polarity  \\\n",
       "0  0.999508                1.0             1.0            1.0             1.0   \n",
       "1  0.999885                1.0             1.0            1.0             1.0   \n",
       "2  0.998770                1.0             1.0            1.0             1.0   \n",
       "3  0.999877                1.0             1.0            1.0             1.0   \n",
       "4 -0.999966                1.0             1.0           -1.0            -1.0   \n",
       "\n",
       "   GBprobs_0  GBprobs_1  \n",
       "0   0.124467   0.875533  \n",
       "1   0.124467   0.875533  \n",
       "2   0.124467   0.875533  \n",
       "3   0.124467   0.875533  \n",
       "4   0.856633   0.143367  "
      ]
     },
     "execution_count": 129,
     "metadata": {},
     "output_type": "execute_result"
    }
   ],
   "source": [
    "probsdf_test['GBprobs_0']=gb_classifier.predict_proba(X_test)[:,0]\n",
    "probsdf_test['GBprobs_1']=gb_classifier.predict_proba(X_test)[:,1]\n",
    "probsdf_test.head()"
   ]
  },
  {
   "cell_type": "code",
   "execution_count": 130,
   "id": "4a030026",
   "metadata": {},
   "outputs": [],
   "source": [
    "def Gb_polarity(val):\n",
    "    if val >= 0.5:\n",
    "        return 1\n",
    "    else:\n",
    "        return -1"
   ]
  },
  {
   "cell_type": "code",
   "execution_count": 131,
   "id": "12b7da91",
   "metadata": {},
   "outputs": [],
   "source": [
    "probsdf_test['GBoost_polarity']= probsdf_test.apply (lambda x : Gb_polarity(x['GBprobs_1']),axis=1)\n",
    "probsdf_test['GBoost_Pred']=gb_classifier.predict(X_test)"
   ]
  },
  {
   "cell_type": "code",
   "execution_count": 132,
   "id": "6be02706",
   "metadata": {},
   "outputs": [],
   "source": [
    "probsdf_test['trth1']=y_test"
   ]
  },
  {
   "cell_type": "code",
   "execution_count": 133,
   "id": "3c5f2306",
   "metadata": {},
   "outputs": [
    {
     "data": {
      "text/html": [
       "<div>\n",
       "<style scoped>\n",
       "    .dataframe tbody tr th:only-of-type {\n",
       "        vertical-align: middle;\n",
       "    }\n",
       "\n",
       "    .dataframe tbody tr th {\n",
       "        vertical-align: top;\n",
       "    }\n",
       "\n",
       "    .dataframe thead th {\n",
       "        text-align: right;\n",
       "    }\n",
       "</style>\n",
       "<table border=\"1\" class=\"dataframe\">\n",
       "  <thead>\n",
       "    <tr style=\"text-align: right;\">\n",
       "      <th></th>\n",
       "      <th>0</th>\n",
       "      <th>1</th>\n",
       "      <th>trth</th>\n",
       "      <th>label_pol_pred</th>\n",
       "      <th>tb</th>\n",
       "      <th>vader</th>\n",
       "      <th>bert</th>\n",
       "      <th>flair</th>\n",
       "      <th>textblob_polarity</th>\n",
       "      <th>vader_polarity</th>\n",
       "      <th>bert_polarity</th>\n",
       "      <th>flair_polarity</th>\n",
       "      <th>GBprobs_0</th>\n",
       "      <th>GBprobs_1</th>\n",
       "      <th>GBoost_polarity</th>\n",
       "      <th>GBoost_Pred</th>\n",
       "      <th>trth1</th>\n",
       "    </tr>\n",
       "  </thead>\n",
       "  <tbody>\n",
       "    <tr>\n",
       "      <th>0</th>\n",
       "      <td>0.026807</td>\n",
       "      <td>0.973193</td>\n",
       "      <td>1</td>\n",
       "      <td>1</td>\n",
       "      <td>0.8983</td>\n",
       "      <td>0.8983</td>\n",
       "      <td>0.883419</td>\n",
       "      <td>0.999508</td>\n",
       "      <td>1.0</td>\n",
       "      <td>1.0</td>\n",
       "      <td>1.0</td>\n",
       "      <td>1.0</td>\n",
       "      <td>0.124467</td>\n",
       "      <td>0.875533</td>\n",
       "      <td>1</td>\n",
       "      <td>1</td>\n",
       "      <td>NaN</td>\n",
       "    </tr>\n",
       "    <tr>\n",
       "      <th>1</th>\n",
       "      <td>0.023811</td>\n",
       "      <td>0.976189</td>\n",
       "      <td>1</td>\n",
       "      <td>1</td>\n",
       "      <td>0.8462</td>\n",
       "      <td>0.8462</td>\n",
       "      <td>0.958900</td>\n",
       "      <td>0.999885</td>\n",
       "      <td>1.0</td>\n",
       "      <td>1.0</td>\n",
       "      <td>1.0</td>\n",
       "      <td>1.0</td>\n",
       "      <td>0.124467</td>\n",
       "      <td>0.875533</td>\n",
       "      <td>1</td>\n",
       "      <td>1</td>\n",
       "      <td>NaN</td>\n",
       "    </tr>\n",
       "    <tr>\n",
       "      <th>2</th>\n",
       "      <td>0.023394</td>\n",
       "      <td>0.976606</td>\n",
       "      <td>1</td>\n",
       "      <td>1</td>\n",
       "      <td>0.8620</td>\n",
       "      <td>0.8620</td>\n",
       "      <td>0.942564</td>\n",
       "      <td>0.998770</td>\n",
       "      <td>1.0</td>\n",
       "      <td>1.0</td>\n",
       "      <td>1.0</td>\n",
       "      <td>1.0</td>\n",
       "      <td>0.124467</td>\n",
       "      <td>0.875533</td>\n",
       "      <td>1</td>\n",
       "      <td>1</td>\n",
       "      <td>NaN</td>\n",
       "    </tr>\n",
       "    <tr>\n",
       "      <th>3</th>\n",
       "      <td>0.022840</td>\n",
       "      <td>0.977160</td>\n",
       "      <td>1</td>\n",
       "      <td>1</td>\n",
       "      <td>0.8689</td>\n",
       "      <td>0.8689</td>\n",
       "      <td>0.901197</td>\n",
       "      <td>0.999877</td>\n",
       "      <td>1.0</td>\n",
       "      <td>1.0</td>\n",
       "      <td>1.0</td>\n",
       "      <td>1.0</td>\n",
       "      <td>0.124467</td>\n",
       "      <td>0.875533</td>\n",
       "      <td>1</td>\n",
       "      <td>1</td>\n",
       "      <td>NaN</td>\n",
       "    </tr>\n",
       "    <tr>\n",
       "      <th>4</th>\n",
       "      <td>0.941055</td>\n",
       "      <td>0.058945</td>\n",
       "      <td>-1</td>\n",
       "      <td>-1</td>\n",
       "      <td>0.9245</td>\n",
       "      <td>0.9245</td>\n",
       "      <td>-0.648101</td>\n",
       "      <td>-0.999966</td>\n",
       "      <td>1.0</td>\n",
       "      <td>1.0</td>\n",
       "      <td>-1.0</td>\n",
       "      <td>-1.0</td>\n",
       "      <td>0.856633</td>\n",
       "      <td>0.143367</td>\n",
       "      <td>-1</td>\n",
       "      <td>-1</td>\n",
       "      <td>1.0</td>\n",
       "    </tr>\n",
       "  </tbody>\n",
       "</table>\n",
       "</div>"
      ],
      "text/plain": [
       "          0         1  trth  label_pol_pred      tb   vader      bert  \\\n",
       "0  0.026807  0.973193     1               1  0.8983  0.8983  0.883419   \n",
       "1  0.023811  0.976189     1               1  0.8462  0.8462  0.958900   \n",
       "2  0.023394  0.976606     1               1  0.8620  0.8620  0.942564   \n",
       "3  0.022840  0.977160     1               1  0.8689  0.8689  0.901197   \n",
       "4  0.941055  0.058945    -1              -1  0.9245  0.9245 -0.648101   \n",
       "\n",
       "      flair  textblob_polarity  vader_polarity  bert_polarity  flair_polarity  \\\n",
       "0  0.999508                1.0             1.0            1.0             1.0   \n",
       "1  0.999885                1.0             1.0            1.0             1.0   \n",
       "2  0.998770                1.0             1.0            1.0             1.0   \n",
       "3  0.999877                1.0             1.0            1.0             1.0   \n",
       "4 -0.999966                1.0             1.0           -1.0            -1.0   \n",
       "\n",
       "   GBprobs_0  GBprobs_1  GBoost_polarity  GBoost_Pred  trth1  \n",
       "0   0.124467   0.875533                1            1    NaN  \n",
       "1   0.124467   0.875533                1            1    NaN  \n",
       "2   0.124467   0.875533                1            1    NaN  \n",
       "3   0.124467   0.875533                1            1    NaN  \n",
       "4   0.856633   0.143367               -1           -1    1.0  "
      ]
     },
     "execution_count": 133,
     "metadata": {},
     "output_type": "execute_result"
    }
   ],
   "source": [
    "probsdf_test.head()"
   ]
  },
  {
   "attachments": {},
   "cell_type": "markdown",
   "id": "46b67460",
   "metadata": {},
   "source": [
    "### Stacked Ensemble with Meta Model as LR : Amazon Reviews"
   ]
  },
  {
   "cell_type": "code",
   "execution_count": 134,
   "id": "2dc071b6",
   "metadata": {},
   "outputs": [
    {
     "data": {
      "image/png": "[encoded data removed]",
      "text/plain": [
       "<Figure size 720x432 with 1 Axes>"
      ]
     },
     "metadata": {
      "needs_background": "light"
     },
     "output_type": "display_data"
    }
   ],
   "source": [
    "\n",
    "threshold_analysis = pd.DataFrame({'Thresh_alpha':[0],'Accuracy':[0],'Percent_data_capture':[0],'Precision':[0],'Recall':[0],'f1':[0]})\n",
    "detl_threshold = pd.DataFrame({'Thresh_alpha':[],'Accuracy':[],'Percent_data_capture':[],'Precision':[],'Recall':[],'f1':[]})\n",
    "for i in range (0,99):\n",
    "    alpha_th = i*.01\n",
    "    res1 = pd.DataFrame(classification_report(probsdf_test['trth'][(probsdf_test[0]>=alpha_th)|(probsdf_test[1]>=alpha_th)],probsdf_test['label_pol_pred'][(probsdf_test[0]>=alpha_th)|(probsdf_test[1]>=alpha_th)],output_dict=True))\n",
    "    threshold_analysis['Accuracy']= res1['accuracy'].iloc[0]\n",
    "    threshold_analysis['Percent_data_capture'] = probsdf_test['trth'][(probsdf_test[0]>=alpha_th)|(probsdf_test[1]>=alpha_th)].count()/probsdf_test[0].count()\n",
    "    threshold_analysis['Thresh_alpha'] = alpha_th\n",
    "    try:\n",
    "        threshold_analysis['Precision'] = res1['1'].loc['precision']\n",
    "        threshold_analysis['Recall'] = res1['1'].loc['recall']\n",
    "        threshold_analysis['f1'] = res1['1'].loc['f1-score']\n",
    "    except KeyError:\n",
    "        threshold_analysis['Precision'] = 0\n",
    "        threshold_analysis['Recall'] = 0\n",
    "        threshold_analysis['f1'] = 0\n",
    "    detl_threshold = detl_threshold.append(threshold_analysis)\n",
    "\n",
    "plt.rcParams['figure.figsize'] = [10, 6]\n",
    "pyplot.plot(detl_threshold['Thresh_alpha'], detl_threshold['Accuracy'], marker='.', label='Accuracy')\n",
    "pyplot.plot(detl_threshold['Thresh_alpha'], detl_threshold['Percent_data_capture'], marker='.', label='Percentage_of_Data_captured')\n",
    "pyplot.plot(detl_threshold['Thresh_alpha'], detl_threshold['Precision'], marker='.', label='Precision')\n",
    "pyplot.plot(detl_threshold['Thresh_alpha'], detl_threshold['Recall'], marker='.', label='Recall')\n",
    "pyplot.plot(detl_threshold['Thresh_alpha'], detl_threshold['f1'], marker='.', label='f1')\n",
    "pyplot.xlabel('Threshold for Data Selection')\n",
    "pyplot.ylabel('Value')\n",
    "pyplot.grid(visible=True, which='both', axis='both')\n",
    "#pyplot.grid(True)\n",
    "pyplot.title('Stacked Ensemble with Meta Model as Logistic Regressor : Amazon Reviews')\n",
    "# show the legend\n",
    "pyplot.legend()\n",
    "# show the plot\n",
    "pyplot.show()"
   ]
  },
  {
   "attachments": {},
   "cell_type": "markdown",
   "id": "3fab3e4c",
   "metadata": {},
   "source": [
    "### Stacked Ensemble with Meta Model as GradientBoost : Amazon Reviews"
   ]
  },
  {
   "attachments": {},
   "cell_type": "markdown",
   "id": "a8a81592",
   "metadata": {},
   "source": []
  },
  {
   "cell_type": "code",
   "execution_count": 135,
   "id": "10d7214e",
   "metadata": {},
   "outputs": [
    {
     "name": "stderr",
     "output_type": "stream",
     "text": [
      "/Users/amitobe/opt/anaconda3/envs/nlp_course/lib/python3.7/site-packages/sklearn/metrics/_classification.py:1318: UndefinedMetricWarning: Precision and F-score are ill-defined and being set to 0.0 due to no predicted samples. Use `zero_division` parameter to control this behavior.\n",
      "  _warn_prf(average, modifier, msg_start, len(result))\n",
      "/Users/amitobe/opt/anaconda3/envs/nlp_course/lib/python3.7/site-packages/sklearn/metrics/_classification.py:1318: UndefinedMetricWarning: Recall and F-score are ill-defined and being set to 0.0 due to no true samples. Use `zero_division` parameter to control this behavior.\n",
      "  _warn_prf(average, modifier, msg_start, len(result))\n",
      "/Users/amitobe/opt/anaconda3/envs/nlp_course/lib/python3.7/site-packages/numpy/lib/function_base.py:380: RuntimeWarning: Mean of empty slice.\n",
      "  avg = a.mean(axis)\n",
      "/Users/amitobe/opt/anaconda3/envs/nlp_course/lib/python3.7/site-packages/numpy/core/_methods.py:189: RuntimeWarning: invalid value encountered in double_scalars\n",
      "  ret = ret.dtype.type(ret / rcount)\n",
      "/Users/amitobe/opt/anaconda3/envs/nlp_course/lib/python3.7/site-packages/sklearn/metrics/_classification.py:1318: UndefinedMetricWarning: Precision and F-score are ill-defined and being set to 0.0 due to no predicted samples. Use `zero_division` parameter to control this behavior.\n",
      "  _warn_prf(average, modifier, msg_start, len(result))\n",
      "/Users/amitobe/opt/anaconda3/envs/nlp_course/lib/python3.7/site-packages/sklearn/metrics/_classification.py:1318: UndefinedMetricWarning: Recall and F-score are ill-defined and being set to 0.0 due to no true samples. Use `zero_division` parameter to control this behavior.\n",
      "  _warn_prf(average, modifier, msg_start, len(result))\n",
      "/Users/amitobe/opt/anaconda3/envs/nlp_course/lib/python3.7/site-packages/numpy/lib/function_base.py:380: RuntimeWarning: Mean of empty slice.\n",
      "  avg = a.mean(axis)\n",
      "/Users/amitobe/opt/anaconda3/envs/nlp_course/lib/python3.7/site-packages/numpy/core/_methods.py:189: RuntimeWarning: invalid value encountered in double_scalars\n",
      "  ret = ret.dtype.type(ret / rcount)\n",
      "/Users/amitobe/opt/anaconda3/envs/nlp_course/lib/python3.7/site-packages/sklearn/metrics/_classification.py:1318: UndefinedMetricWarning: Precision and F-score are ill-defined and being set to 0.0 due to no predicted samples. Use `zero_division` parameter to control this behavior.\n",
      "  _warn_prf(average, modifier, msg_start, len(result))\n",
      "/Users/amitobe/opt/anaconda3/envs/nlp_course/lib/python3.7/site-packages/sklearn/metrics/_classification.py:1318: UndefinedMetricWarning: Recall and F-score are ill-defined and being set to 0.0 due to no true samples. Use `zero_division` parameter to control this behavior.\n",
      "  _warn_prf(average, modifier, msg_start, len(result))\n",
      "/Users/amitobe/opt/anaconda3/envs/nlp_course/lib/python3.7/site-packages/numpy/lib/function_base.py:380: RuntimeWarning: Mean of empty slice.\n",
      "  avg = a.mean(axis)\n",
      "/Users/amitobe/opt/anaconda3/envs/nlp_course/lib/python3.7/site-packages/numpy/core/_methods.py:189: RuntimeWarning: invalid value encountered in double_scalars\n",
      "  ret = ret.dtype.type(ret / rcount)\n",
      "/Users/amitobe/opt/anaconda3/envs/nlp_course/lib/python3.7/site-packages/sklearn/metrics/_classification.py:1318: UndefinedMetricWarning: Precision and F-score are ill-defined and being set to 0.0 due to no predicted samples. Use `zero_division` parameter to control this behavior.\n",
      "  _warn_prf(average, modifier, msg_start, len(result))\n",
      "/Users/amitobe/opt/anaconda3/envs/nlp_course/lib/python3.7/site-packages/sklearn/metrics/_classification.py:1318: UndefinedMetricWarning: Recall and F-score are ill-defined and being set to 0.0 due to no true samples. Use `zero_division` parameter to control this behavior.\n",
      "  _warn_prf(average, modifier, msg_start, len(result))\n",
      "/Users/amitobe/opt/anaconda3/envs/nlp_course/lib/python3.7/site-packages/numpy/lib/function_base.py:380: RuntimeWarning: Mean of empty slice.\n",
      "  avg = a.mean(axis)\n",
      "/Users/amitobe/opt/anaconda3/envs/nlp_course/lib/python3.7/site-packages/numpy/core/_methods.py:189: RuntimeWarning: invalid value encountered in double_scalars\n",
      "  ret = ret.dtype.type(ret / rcount)\n",
      "/Users/amitobe/opt/anaconda3/envs/nlp_course/lib/python3.7/site-packages/sklearn/metrics/_classification.py:1318: UndefinedMetricWarning: Precision and F-score are ill-defined and being set to 0.0 due to no predicted samples. Use `zero_division` parameter to control this behavior.\n",
      "  _warn_prf(average, modifier, msg_start, len(result))\n",
      "/Users/amitobe/opt/anaconda3/envs/nlp_course/lib/python3.7/site-packages/sklearn/metrics/_classification.py:1318: UndefinedMetricWarning: Recall and F-score are ill-defined and being set to 0.0 due to no true samples. Use `zero_division` parameter to control this behavior.\n",
      "  _warn_prf(average, modifier, msg_start, len(result))\n",
      "/Users/amitobe/opt/anaconda3/envs/nlp_course/lib/python3.7/site-packages/numpy/lib/function_base.py:380: RuntimeWarning: Mean of empty slice.\n",
      "  avg = a.mean(axis)\n",
      "/Users/amitobe/opt/anaconda3/envs/nlp_course/lib/python3.7/site-packages/numpy/core/_methods.py:189: RuntimeWarning: invalid value encountered in double_scalars\n",
      "  ret = ret.dtype.type(ret / rcount)\n",
      "/Users/amitobe/opt/anaconda3/envs/nlp_course/lib/python3.7/site-packages/sklearn/metrics/_classification.py:1318: UndefinedMetricWarning: Precision and F-score are ill-defined and being set to 0.0 due to no predicted samples. Use `zero_division` parameter to control this behavior.\n",
      "  _warn_prf(average, modifier, msg_start, len(result))\n",
      "/Users/amitobe/opt/anaconda3/envs/nlp_course/lib/python3.7/site-packages/sklearn/metrics/_classification.py:1318: UndefinedMetricWarning: Recall and F-score are ill-defined and being set to 0.0 due to no true samples. Use `zero_division` parameter to control this behavior.\n",
      "  _warn_prf(average, modifier, msg_start, len(result))\n",
      "/Users/amitobe/opt/anaconda3/envs/nlp_course/lib/python3.7/site-packages/numpy/lib/function_base.py:380: RuntimeWarning: Mean of empty slice.\n",
      "  avg = a.mean(axis)\n",
      "/Users/amitobe/opt/anaconda3/envs/nlp_course/lib/python3.7/site-packages/numpy/core/_methods.py:189: RuntimeWarning: invalid value encountered in double_scalars\n",
      "  ret = ret.dtype.type(ret / rcount)\n",
      "/Users/amitobe/opt/anaconda3/envs/nlp_course/lib/python3.7/site-packages/sklearn/metrics/_classification.py:1318: UndefinedMetricWarning: Precision and F-score are ill-defined and being set to 0.0 due to no predicted samples. Use `zero_division` parameter to control this behavior.\n",
      "  _warn_prf(average, modifier, msg_start, len(result))\n",
      "/Users/amitobe/opt/anaconda3/envs/nlp_course/lib/python3.7/site-packages/sklearn/metrics/_classification.py:1318: UndefinedMetricWarning: Recall and F-score are ill-defined and being set to 0.0 due to no true samples. Use `zero_division` parameter to control this behavior.\n",
      "  _warn_prf(average, modifier, msg_start, len(result))\n",
      "/Users/amitobe/opt/anaconda3/envs/nlp_course/lib/python3.7/site-packages/numpy/lib/function_base.py:380: RuntimeWarning: Mean of empty slice.\n",
      "  avg = a.mean(axis)\n",
      "/Users/amitobe/opt/anaconda3/envs/nlp_course/lib/python3.7/site-packages/numpy/core/_methods.py:189: RuntimeWarning: invalid value encountered in double_scalars\n",
      "  ret = ret.dtype.type(ret / rcount)\n",
      "/Users/amitobe/opt/anaconda3/envs/nlp_course/lib/python3.7/site-packages/sklearn/metrics/_classification.py:1318: UndefinedMetricWarning: Precision and F-score are ill-defined and being set to 0.0 due to no predicted samples. Use `zero_division` parameter to control this behavior.\n",
      "  _warn_prf(average, modifier, msg_start, len(result))\n",
      "/Users/amitobe/opt/anaconda3/envs/nlp_course/lib/python3.7/site-packages/sklearn/metrics/_classification.py:1318: UndefinedMetricWarning: Recall and F-score are ill-defined and being set to 0.0 due to no true samples. Use `zero_division` parameter to control this behavior.\n",
      "  _warn_prf(average, modifier, msg_start, len(result))\n",
      "/Users/amitobe/opt/anaconda3/envs/nlp_course/lib/python3.7/site-packages/numpy/lib/function_base.py:380: RuntimeWarning: Mean of empty slice.\n",
      "  avg = a.mean(axis)\n",
      "/Users/amitobe/opt/anaconda3/envs/nlp_course/lib/python3.7/site-packages/numpy/core/_methods.py:189: RuntimeWarning: invalid value encountered in double_scalars\n",
      "  ret = ret.dtype.type(ret / rcount)\n",
      "/Users/amitobe/opt/anaconda3/envs/nlp_course/lib/python3.7/site-packages/sklearn/metrics/_classification.py:1318: UndefinedMetricWarning: Precision and F-score are ill-defined and being set to 0.0 due to no predicted samples. Use `zero_division` parameter to control this behavior.\n",
      "  _warn_prf(average, modifier, msg_start, len(result))\n",
      "/Users/amitobe/opt/anaconda3/envs/nlp_course/lib/python3.7/site-packages/sklearn/metrics/_classification.py:1318: UndefinedMetricWarning: Recall and F-score are ill-defined and being set to 0.0 due to no true samples. Use `zero_division` parameter to control this behavior.\n",
      "  _warn_prf(average, modifier, msg_start, len(result))\n",
      "/Users/amitobe/opt/anaconda3/envs/nlp_course/lib/python3.7/site-packages/numpy/lib/function_base.py:380: RuntimeWarning: Mean of empty slice.\n",
      "  avg = a.mean(axis)\n",
      "/Users/amitobe/opt/anaconda3/envs/nlp_course/lib/python3.7/site-packages/numpy/core/_methods.py:189: RuntimeWarning: invalid value encountered in double_scalars\n",
      "  ret = ret.dtype.type(ret / rcount)\n",
      "/Users/amitobe/opt/anaconda3/envs/nlp_course/lib/python3.7/site-packages/sklearn/metrics/_classification.py:1318: UndefinedMetricWarning: Precision and F-score are ill-defined and being set to 0.0 due to no predicted samples. Use `zero_division` parameter to control this behavior.\n",
      "  _warn_prf(average, modifier, msg_start, len(result))\n",
      "/Users/amitobe/opt/anaconda3/envs/nlp_course/lib/python3.7/site-packages/sklearn/metrics/_classification.py:1318: UndefinedMetricWarning: Recall and F-score are ill-defined and being set to 0.0 due to no true samples. Use `zero_division` parameter to control this behavior.\n",
      "  _warn_prf(average, modifier, msg_start, len(result))\n",
      "/Users/amitobe/opt/anaconda3/envs/nlp_course/lib/python3.7/site-packages/numpy/lib/function_base.py:380: RuntimeWarning: Mean of empty slice.\n",
      "  avg = a.mean(axis)\n",
      "/Users/amitobe/opt/anaconda3/envs/nlp_course/lib/python3.7/site-packages/numpy/core/_methods.py:189: RuntimeWarning: invalid value encountered in double_scalars\n",
      "  ret = ret.dtype.type(ret / rcount)\n",
      "/Users/amitobe/opt/anaconda3/envs/nlp_course/lib/python3.7/site-packages/sklearn/metrics/_classification.py:1318: UndefinedMetricWarning: Precision and F-score are ill-defined and being set to 0.0 due to no predicted samples. Use `zero_division` parameter to control this behavior.\n",
      "  _warn_prf(average, modifier, msg_start, len(result))\n",
      "/Users/amitobe/opt/anaconda3/envs/nlp_course/lib/python3.7/site-packages/sklearn/metrics/_classification.py:1318: UndefinedMetricWarning: Recall and F-score are ill-defined and being set to 0.0 due to no true samples. Use `zero_division` parameter to control this behavior.\n",
      "  _warn_prf(average, modifier, msg_start, len(result))\n",
      "/Users/amitobe/opt/anaconda3/envs/nlp_course/lib/python3.7/site-packages/numpy/lib/function_base.py:380: RuntimeWarning: Mean of empty slice.\n",
      "  avg = a.mean(axis)\n",
      "/Users/amitobe/opt/anaconda3/envs/nlp_course/lib/python3.7/site-packages/numpy/core/_methods.py:189: RuntimeWarning: invalid value encountered in double_scalars\n",
      "  ret = ret.dtype.type(ret / rcount)\n"
     ]
    },
    {
     "data": {
      "image/png": "[encoded data removed]",
      "text/plain": [
       "<Figure size 720x432 with 1 Axes>"
      ]
     },
     "metadata": {
      "needs_background": "light"
     },
     "output_type": "display_data"
    }
   ],
   "source": [
    "threshold_analysis = pd.DataFrame({'Thresh_alpha':[0],'Accuracy':[0],'Percent_data_capture':[0],'Precision':[0],'Recall':[0],'f1':[0]})\n",
    "detl_threshold = pd.DataFrame({'Thresh_alpha':[],'Accuracy':[],'Percent_data_capture':[],'Precision':[],'Recall':[],'f1':[]})\n",
    "for i in range (0,99):\n",
    "    alpha_th = i*.01\n",
    "    res1 = pd.DataFrame(classification_report(probsdf_test['trth'][(probsdf_test['GBprobs_1']>alpha_th) | (probsdf_test['GBprobs_0']>alpha_th)],probsdf_test['GBoost_Pred'][(probsdf_test['GBprobs_1']>alpha_th) | (probsdf_test['GBprobs_0']>alpha_th)],output_dict=True))\n",
    "    threshold_analysis['Accuracy']= res1['accuracy'].iloc[0]\n",
    "    threshold_analysis['Percent_data_capture'] = probsdf_test['trth'][(probsdf_test['GBprobs_1']>alpha_th) | (probsdf_test['GBprobs_0']>alpha_th)].count()/probsdf_test['GBprobs_1'].count()\n",
    "    threshold_analysis['Thresh_alpha'] = alpha_th\n",
    "    try:\n",
    "        threshold_analysis['Precision'] = res1['1'].loc['precision']\n",
    "        threshold_analysis['Recall'] = res1['1'].loc['recall']\n",
    "        threshold_analysis['f1'] = res1['1'].loc['f1-score']\n",
    "    except KeyError:\n",
    "        threshold_analysis['Precision'] = 0\n",
    "        threshold_analysis['Recall'] = 0\n",
    "        threshold_analysis['f1'] = 0\n",
    "    detl_threshold = detl_threshold.append(threshold_analysis)\n",
    "\n",
    "plt.rcParams['figure.figsize'] = [10, 6]\n",
    "pyplot.plot(detl_threshold['Thresh_alpha'], detl_threshold['Accuracy'], marker='.', label='Accuracy')\n",
    "pyplot.plot(detl_threshold['Thresh_alpha'], detl_threshold['Percent_data_capture'], marker='.', label='Percentage_of_Data_captured')\n",
    "pyplot.plot(detl_threshold['Thresh_alpha'], detl_threshold['Precision'], marker='.', label='Precision')\n",
    "pyplot.plot(detl_threshold['Thresh_alpha'], detl_threshold['Recall'], marker='.', label='Recall')\n",
    "pyplot.plot(detl_threshold['Thresh_alpha'], detl_threshold['f1'], marker='.', label='f1')\n",
    "pyplot.xlabel('Threshold for Data Selection')\n",
    "pyplot.ylabel('Value')\n",
    "pyplot.grid(visible=True, which='both', axis='both')\n",
    "#pyplot.grid(True)\n",
    "pyplot.title('Stacked Ensemble with Meta Model as GradientBoost : Amazon Reviews')\n",
    "# show the legend\n",
    "pyplot.legend()\n",
    "# show the plot\n",
    "pyplot.show()"
   ]
  },
  {
   "cell_type": "code",
   "execution_count": 136,
   "id": "04bf2001",
   "metadata": {},
   "outputs": [],
   "source": [
    "corr_analysis = probsdf_test[['label_pol_pred','GBoost_Pred','textblob_polarity','flair_polarity','vader_polarity','bert_polarity','trth']].corr()"
   ]
  },
  {
   "cell_type": "code",
   "execution_count": 137,
   "id": "a3a04f80",
   "metadata": {},
   "outputs": [],
   "source": [
    "probsdf_test[['label_pol_pred','GBoost_Pred','textblob_polarity','flair_polarity','vader_polarity','bert_polarity','trth']].corr().to_csv('final_corrdata_amazon.csv')"
   ]
  },
  {
   "cell_type": "code",
   "execution_count": 138,
   "id": "4e956341",
   "metadata": {},
   "outputs": [
    {
     "data": {
      "text/plain": [
       "(array([271.,  17.,   5.,   1.,   6.,   6.,  13.,  25.,  36., 220.]),\n",
       " array([0.01710704, 0.11302222, 0.2089374 , 0.30485258, 0.40076776,\n",
       "        0.49668294, 0.59259812, 0.6885133 , 0.78442848, 0.88034366,\n",
       "        0.97625884]),\n",
       " <a list of 10 Patch objects>)"
      ]
     },
     "execution_count": 138,
     "metadata": {},
     "output_type": "execute_result"
    },
    {
     "data": {
      "image/png": "[encoded data removed]",
      "text/plain": [
       "<Figure size 720x432 with 1 Axes>"
      ]
     },
     "metadata": {
      "needs_background": "light"
     },
     "output_type": "display_data"
    }
   ],
   "source": [
    "plt.hist(probsdf_test[0])"
   ]
  },
  {
   "cell_type": "code",
   "execution_count": 139,
   "id": "1d5a9bd0",
   "metadata": {},
   "outputs": [
    {
     "data": {
      "text/plain": [
       "(array([282.,   7.,  19.,   3.,   1.,   1.,  11.,  10.,  16., 250.]),\n",
       " array([0.12446741, 0.1994513 , 0.2744352 , 0.34941909, 0.42440299,\n",
       "        0.49938689, 0.57437078, 0.64935468, 0.72433857, 0.79932247,\n",
       "        0.87430636]),\n",
       " <a list of 10 Patch objects>)"
      ]
     },
     "execution_count": 139,
     "metadata": {},
     "output_type": "execute_result"
    },
    {
     "data": {
      "image/png": "[encoded data removed]",
      "text/plain": [
       "<Figure size 720x432 with 1 Axes>"
      ]
     },
     "metadata": {
      "needs_background": "light"
     },
     "output_type": "display_data"
    }
   ],
   "source": [
    "plt.hist(probsdf_test['GBprobs_0'])"
   ]
  },
  {
   "cell_type": "code",
   "execution_count": 140,
   "id": "c4bcbc96",
   "metadata": {},
   "outputs": [],
   "source": [
    "dat = corr_analysis['trth'].to_numpy()"
   ]
  },
  {
   "cell_type": "code",
   "execution_count": 141,
   "id": "b53ebd43",
   "metadata": {},
   "outputs": [],
   "source": [
    "zz = corr_analysis.index"
   ]
  },
  {
   "cell_type": "code",
   "execution_count": 142,
   "id": "b60b41b6",
   "metadata": {},
   "outputs": [
    {
     "data": {
      "text/plain": [
       "['label_pol_pred',\n",
       " 'GBoost_Pred',\n",
       " 'textblob_polarity',\n",
       " 'flair_polarity',\n",
       " 'vader_polarity',\n",
       " 'bert_polarity',\n",
       " 'trth']"
      ]
     },
     "execution_count": 142,
     "metadata": {},
     "output_type": "execute_result"
    }
   ],
   "source": [
    "zz.to_list()"
   ]
  },
  {
   "cell_type": "code",
   "execution_count": 143,
   "id": "072581a3",
   "metadata": {},
   "outputs": [
    {
     "data": {
      "text/plain": [
       "array([0.87742593, 0.879822  , 0.37532306, 0.85846466, 0.45185168,\n",
       "       0.70730092, 1.        ])"
      ]
     },
     "execution_count": 143,
     "metadata": {},
     "output_type": "execute_result"
    }
   ],
   "source": [
    "dat"
   ]
  },
  {
   "attachments": {},
   "cell_type": "markdown",
   "id": "bacd9617",
   "metadata": {},
   "source": [
    "# Final Analysis LR vs GBoost"
   ]
  },
  {
   "cell_type": "code",
   "execution_count": 144,
   "id": "e50126f9",
   "metadata": {},
   "outputs": [
    {
     "data": {
      "text/html": [
       "<div>\n",
       "<style scoped>\n",
       "    .dataframe tbody tr th:only-of-type {\n",
       "        vertical-align: middle;\n",
       "    }\n",
       "\n",
       "    .dataframe tbody tr th {\n",
       "        vertical-align: top;\n",
       "    }\n",
       "\n",
       "    .dataframe thead th {\n",
       "        text-align: right;\n",
       "    }\n",
       "</style>\n",
       "<table border=\"1\" class=\"dataframe\">\n",
       "  <thead>\n",
       "    <tr style=\"text-align: right;\">\n",
       "      <th></th>\n",
       "      <th>-1</th>\n",
       "      <th>1</th>\n",
       "      <th>accuracy</th>\n",
       "      <th>macro avg</th>\n",
       "      <th>weighted avg</th>\n",
       "    </tr>\n",
       "  </thead>\n",
       "  <tbody>\n",
       "    <tr>\n",
       "      <th>precision</th>\n",
       "      <td>0.930556</td>\n",
       "      <td>0.948718</td>\n",
       "      <td>0.94</td>\n",
       "      <td>0.939637</td>\n",
       "      <td>0.940121</td>\n",
       "    </tr>\n",
       "    <tr>\n",
       "      <th>recall</th>\n",
       "      <td>0.943662</td>\n",
       "      <td>0.936709</td>\n",
       "      <td>0.94</td>\n",
       "      <td>0.940185</td>\n",
       "      <td>0.940000</td>\n",
       "    </tr>\n",
       "    <tr>\n",
       "      <th>f1-score</th>\n",
       "      <td>0.937063</td>\n",
       "      <td>0.942675</td>\n",
       "      <td>0.94</td>\n",
       "      <td>0.939869</td>\n",
       "      <td>0.940019</td>\n",
       "    </tr>\n",
       "    <tr>\n",
       "      <th>support</th>\n",
       "      <td>284.000000</td>\n",
       "      <td>316.000000</td>\n",
       "      <td>0.94</td>\n",
       "      <td>600.000000</td>\n",
       "      <td>600.000000</td>\n",
       "    </tr>\n",
       "  </tbody>\n",
       "</table>\n",
       "</div>"
      ],
      "text/plain": [
       "                   -1           1  accuracy   macro avg  weighted avg\n",
       "precision    0.930556    0.948718      0.94    0.939637      0.940121\n",
       "recall       0.943662    0.936709      0.94    0.940185      0.940000\n",
       "f1-score     0.937063    0.942675      0.94    0.939869      0.940019\n",
       "support    284.000000  316.000000      0.94  600.000000    600.000000"
      ]
     },
     "execution_count": 144,
     "metadata": {},
     "output_type": "execute_result"
    }
   ],
   "source": [
    "alpha_th_test = 0\n",
    "pd.DataFrame(metrics.classification_report(probsdf_test['trth'][(probsdf_test['GBprobs_1']>alpha_th_test) | (probsdf_test['GBprobs_0']>alpha_th_test)],probsdf_test['GBoost_Pred'][(probsdf_test['GBprobs_1']>alpha_th_test) | (probsdf_test['GBprobs_0']>alpha_th_test)],output_dict=True))"
   ]
  },
  {
   "cell_type": "code",
   "execution_count": 145,
   "id": "ebfa29fc",
   "metadata": {},
   "outputs": [
    {
     "data": {
      "text/html": [
       "<div>\n",
       "<style scoped>\n",
       "    .dataframe tbody tr th:only-of-type {\n",
       "        vertical-align: middle;\n",
       "    }\n",
       "\n",
       "    .dataframe tbody tr th {\n",
       "        vertical-align: top;\n",
       "    }\n",
       "\n",
       "    .dataframe thead th {\n",
       "        text-align: right;\n",
       "    }\n",
       "</style>\n",
       "<table border=\"1\" class=\"dataframe\">\n",
       "  <thead>\n",
       "    <tr style=\"text-align: right;\">\n",
       "      <th></th>\n",
       "      <th>-1</th>\n",
       "      <th>1</th>\n",
       "      <th>accuracy</th>\n",
       "      <th>macro avg</th>\n",
       "      <th>weighted avg</th>\n",
       "    </tr>\n",
       "  </thead>\n",
       "  <tbody>\n",
       "    <tr>\n",
       "      <th>precision</th>\n",
       "      <td>0.915825</td>\n",
       "      <td>0.960396</td>\n",
       "      <td>0.938333</td>\n",
       "      <td>0.938110</td>\n",
       "      <td>0.939299</td>\n",
       "    </tr>\n",
       "    <tr>\n",
       "      <th>recall</th>\n",
       "      <td>0.957746</td>\n",
       "      <td>0.920886</td>\n",
       "      <td>0.938333</td>\n",
       "      <td>0.939316</td>\n",
       "      <td>0.938333</td>\n",
       "    </tr>\n",
       "    <tr>\n",
       "      <th>f1-score</th>\n",
       "      <td>0.936317</td>\n",
       "      <td>0.940226</td>\n",
       "      <td>0.938333</td>\n",
       "      <td>0.938271</td>\n",
       "      <td>0.938376</td>\n",
       "    </tr>\n",
       "    <tr>\n",
       "      <th>support</th>\n",
       "      <td>284.000000</td>\n",
       "      <td>316.000000</td>\n",
       "      <td>0.938333</td>\n",
       "      <td>600.000000</td>\n",
       "      <td>600.000000</td>\n",
       "    </tr>\n",
       "  </tbody>\n",
       "</table>\n",
       "</div>"
      ],
      "text/plain": [
       "                   -1           1  accuracy   macro avg  weighted avg\n",
       "precision    0.915825    0.960396  0.938333    0.938110      0.939299\n",
       "recall       0.957746    0.920886  0.938333    0.939316      0.938333\n",
       "f1-score     0.936317    0.940226  0.938333    0.938271      0.938376\n",
       "support    284.000000  316.000000  0.938333  600.000000    600.000000"
      ]
     },
     "execution_count": 145,
     "metadata": {},
     "output_type": "execute_result"
    }
   ],
   "source": [
    "alpha_th_test = 0\n",
    "pd.DataFrame(metrics.classification_report(probsdf_test['trth'][(probsdf_test[0]>alpha_th_test) | (probsdf_test[1]>alpha_th_test)],probsdf_test['label_pol_pred'][(probsdf_test[0]>alpha_th_test) | (probsdf_test[1]>alpha_th_test)],output_dict=True))"
   ]
  },
  {
   "cell_type": "code",
   "execution_count": 146,
   "id": "9adcabd1",
   "metadata": {},
   "outputs": [
    {
     "data": {
      "text/html": [
       "<div>\n",
       "<style scoped>\n",
       "    .dataframe tbody tr th:only-of-type {\n",
       "        vertical-align: middle;\n",
       "    }\n",
       "\n",
       "    .dataframe tbody tr th {\n",
       "        vertical-align: top;\n",
       "    }\n",
       "\n",
       "    .dataframe thead th {\n",
       "        text-align: right;\n",
       "    }\n",
       "</style>\n",
       "<table border=\"1\" class=\"dataframe\">\n",
       "  <thead>\n",
       "    <tr style=\"text-align: right;\">\n",
       "      <th></th>\n",
       "      <th>0</th>\n",
       "      <th>1</th>\n",
       "      <th>trth</th>\n",
       "      <th>label_pol_pred</th>\n",
       "      <th>tb</th>\n",
       "      <th>vader</th>\n",
       "      <th>bert</th>\n",
       "      <th>flair</th>\n",
       "      <th>textblob_polarity</th>\n",
       "      <th>vader_polarity</th>\n",
       "      <th>bert_polarity</th>\n",
       "      <th>flair_polarity</th>\n",
       "      <th>GBprobs_0</th>\n",
       "      <th>GBprobs_1</th>\n",
       "      <th>GBoost_polarity</th>\n",
       "      <th>GBoost_Pred</th>\n",
       "      <th>trth1</th>\n",
       "    </tr>\n",
       "  </thead>\n",
       "  <tbody>\n",
       "    <tr>\n",
       "      <th>0</th>\n",
       "      <td>0.026807</td>\n",
       "      <td>0.973193</td>\n",
       "      <td>1</td>\n",
       "      <td>1</td>\n",
       "      <td>0.8983</td>\n",
       "      <td>0.8983</td>\n",
       "      <td>0.883419</td>\n",
       "      <td>0.999508</td>\n",
       "      <td>1.0</td>\n",
       "      <td>1.0</td>\n",
       "      <td>1.0</td>\n",
       "      <td>1.0</td>\n",
       "      <td>0.124467</td>\n",
       "      <td>0.875533</td>\n",
       "      <td>1</td>\n",
       "      <td>1</td>\n",
       "      <td>NaN</td>\n",
       "    </tr>\n",
       "    <tr>\n",
       "      <th>1</th>\n",
       "      <td>0.023811</td>\n",
       "      <td>0.976189</td>\n",
       "      <td>1</td>\n",
       "      <td>1</td>\n",
       "      <td>0.8462</td>\n",
       "      <td>0.8462</td>\n",
       "      <td>0.958900</td>\n",
       "      <td>0.999885</td>\n",
       "      <td>1.0</td>\n",
       "      <td>1.0</td>\n",
       "      <td>1.0</td>\n",
       "      <td>1.0</td>\n",
       "      <td>0.124467</td>\n",
       "      <td>0.875533</td>\n",
       "      <td>1</td>\n",
       "      <td>1</td>\n",
       "      <td>NaN</td>\n",
       "    </tr>\n",
       "    <tr>\n",
       "      <th>2</th>\n",
       "      <td>0.023394</td>\n",
       "      <td>0.976606</td>\n",
       "      <td>1</td>\n",
       "      <td>1</td>\n",
       "      <td>0.8620</td>\n",
       "      <td>0.8620</td>\n",
       "      <td>0.942564</td>\n",
       "      <td>0.998770</td>\n",
       "      <td>1.0</td>\n",
       "      <td>1.0</td>\n",
       "      <td>1.0</td>\n",
       "      <td>1.0</td>\n",
       "      <td>0.124467</td>\n",
       "      <td>0.875533</td>\n",
       "      <td>1</td>\n",
       "      <td>1</td>\n",
       "      <td>NaN</td>\n",
       "    </tr>\n",
       "    <tr>\n",
       "      <th>3</th>\n",
       "      <td>0.022840</td>\n",
       "      <td>0.977160</td>\n",
       "      <td>1</td>\n",
       "      <td>1</td>\n",
       "      <td>0.8689</td>\n",
       "      <td>0.8689</td>\n",
       "      <td>0.901197</td>\n",
       "      <td>0.999877</td>\n",
       "      <td>1.0</td>\n",
       "      <td>1.0</td>\n",
       "      <td>1.0</td>\n",
       "      <td>1.0</td>\n",
       "      <td>0.124467</td>\n",
       "      <td>0.875533</td>\n",
       "      <td>1</td>\n",
       "      <td>1</td>\n",
       "      <td>NaN</td>\n",
       "    </tr>\n",
       "    <tr>\n",
       "      <th>4</th>\n",
       "      <td>0.941055</td>\n",
       "      <td>0.058945</td>\n",
       "      <td>-1</td>\n",
       "      <td>-1</td>\n",
       "      <td>0.9245</td>\n",
       "      <td>0.9245</td>\n",
       "      <td>-0.648101</td>\n",
       "      <td>-0.999966</td>\n",
       "      <td>1.0</td>\n",
       "      <td>1.0</td>\n",
       "      <td>-1.0</td>\n",
       "      <td>-1.0</td>\n",
       "      <td>0.856633</td>\n",
       "      <td>0.143367</td>\n",
       "      <td>-1</td>\n",
       "      <td>-1</td>\n",
       "      <td>1.0</td>\n",
       "    </tr>\n",
       "  </tbody>\n",
       "</table>\n",
       "</div>"
      ],
      "text/plain": [
       "          0         1  trth  label_pol_pred      tb   vader      bert  \\\n",
       "0  0.026807  0.973193     1               1  0.8983  0.8983  0.883419   \n",
       "1  0.023811  0.976189     1               1  0.8462  0.8462  0.958900   \n",
       "2  0.023394  0.976606     1               1  0.8620  0.8620  0.942564   \n",
       "3  0.022840  0.977160     1               1  0.8689  0.8689  0.901197   \n",
       "4  0.941055  0.058945    -1              -1  0.9245  0.9245 -0.648101   \n",
       "\n",
       "      flair  textblob_polarity  vader_polarity  bert_polarity  flair_polarity  \\\n",
       "0  0.999508                1.0             1.0            1.0             1.0   \n",
       "1  0.999885                1.0             1.0            1.0             1.0   \n",
       "2  0.998770                1.0             1.0            1.0             1.0   \n",
       "3  0.999877                1.0             1.0            1.0             1.0   \n",
       "4 -0.999966                1.0             1.0           -1.0            -1.0   \n",
       "\n",
       "   GBprobs_0  GBprobs_1  GBoost_polarity  GBoost_Pred  trth1  \n",
       "0   0.124467   0.875533                1            1    NaN  \n",
       "1   0.124467   0.875533                1            1    NaN  \n",
       "2   0.124467   0.875533                1            1    NaN  \n",
       "3   0.124467   0.875533                1            1    NaN  \n",
       "4   0.856633   0.143367               -1           -1    1.0  "
      ]
     },
     "execution_count": 146,
     "metadata": {},
     "output_type": "execute_result"
    }
   ],
   "source": [
    "probsdf_test.head()"
   ]
  },
  {
   "cell_type": "code",
   "execution_count": 147,
   "id": "72e75ae9",
   "metadata": {},
   "outputs": [
    {
     "name": "stderr",
     "output_type": "stream",
     "text": [
      "/Users/amitobe/opt/anaconda3/envs/nlp_course/lib/python3.7/site-packages/pandas/core/indexing.py:1732: SettingWithCopyWarning: \n",
      "A value is trying to be set on a copy of a slice from a DataFrame\n",
      "\n",
      "See the caveats in the documentation: https://pandas.pydata.org/pandas-docs/stable/user_guide/indexing.html#returning-a-view-versus-a-copy\n",
      "  self._setitem_single_block(indexer, value, name)\n"
     ]
    },
    {
     "data": {
      "text/html": [
       "<div>\n",
       "<style scoped>\n",
       "    .dataframe tbody tr th:only-of-type {\n",
       "        vertical-align: middle;\n",
       "    }\n",
       "\n",
       "    .dataframe tbody tr th {\n",
       "        vertical-align: top;\n",
       "    }\n",
       "\n",
       "    .dataframe thead th {\n",
       "        text-align: right;\n",
       "    }\n",
       "</style>\n",
       "<table border=\"1\" class=\"dataframe\">\n",
       "  <thead>\n",
       "    <tr style=\"text-align: right;\">\n",
       "      <th></th>\n",
       "      <th>Dataset</th>\n",
       "      <th>Log_reg_meta</th>\n",
       "      <th>GBoost_meta</th>\n",
       "      <th>VADER</th>\n",
       "      <th>TextBlob</th>\n",
       "      <th>Flair</th>\n",
       "      <th>BERT</th>\n",
       "    </tr>\n",
       "  </thead>\n",
       "  <tbody>\n",
       "    <tr>\n",
       "      <th>0</th>\n",
       "      <td>amazon</td>\n",
       "      <td>0.938333</td>\n",
       "      <td>0.94</td>\n",
       "      <td>0.6885</td>\n",
       "      <td>0.654</td>\n",
       "      <td>0.928</td>\n",
       "      <td>0.8575</td>\n",
       "    </tr>\n",
       "  </tbody>\n",
       "</table>\n",
       "</div>"
      ],
      "text/plain": [
       "  Dataset  Log_reg_meta  GBoost_meta   VADER  TextBlob  Flair    BERT\n",
       "0  amazon      0.938333         0.94  0.6885     0.654  0.928  0.8575"
      ]
     },
     "execution_count": 147,
     "metadata": {},
     "output_type": "execute_result"
    }
   ],
   "source": [
    "amazon_vader_acc = pd.DataFrame(metrics.classification_report(newsheadline_corr_analysis['Sentiment'], newsheadline_corr_analysis['vader_polarity'],output_dict=True))\n",
    "amazon_tb_acc = pd.DataFrame(metrics.classification_report(newsheadline_corr_analysis['Sentiment'], newsheadline_corr_analysis['textblob_polarity'],output_dict=True))\n",
    "amazon_bert_acc = pd.DataFrame(metrics.classification_report(newsheadline_corr_analysis['Sentiment'], newsheadline_corr_analysis['bert_polarity'],output_dict=True))\n",
    "amazon_flair_acc = pd.DataFrame(metrics.classification_report(newsheadline_corr_analysis['Sentiment'], newsheadline_corr_analysis['flair_polarity'],output_dict=True))\n",
    "\n",
    "alpha_th_test = 0\n",
    "amazon_gboost_acc = pd.DataFrame(metrics.classification_report(probsdf_test['trth'][(probsdf_test['GBprobs_1']>alpha_th_test) | (probsdf_test['GBprobs_0']>alpha_th_test)],probsdf_test['GBoost_Pred'][(probsdf_test['GBprobs_1']>alpha_th_test) | (probsdf_test['GBprobs_0']>alpha_th_test)],output_dict=True))\n",
    "amazon_LR_acc = pd.DataFrame(metrics.classification_report(probsdf_test['trth'][(probsdf_test[0]>alpha_th_test) | (probsdf_test[1]>alpha_th_test)],probsdf_test['label_pol_pred'][(probsdf_test[0]>alpha_th_test) | (probsdf_test[1]>alpha_th_test)],output_dict=True))\n",
    "amazon_acc_compare = pd.DataFrame({'Dataset':'amazon','Log_reg_meta':[0],'GBoost_meta':[0],'VADER':[0],'TextBlob':[0],'Flair':[0],'BERT':[0]})\n",
    "amazon_acc_compare['GBoost_meta'].iloc[0]=amazon_gboost_acc['accuracy'].loc['precision']\n",
    "amazon_acc_compare['Log_reg_meta'].iloc[0]=amazon_LR_acc['accuracy'].loc['precision']\n",
    "amazon_acc_compare['VADER'].iloc[0]=amazon_vader_acc['accuracy'].loc['precision']\n",
    "amazon_acc_compare['BERT'].iloc[0]=amazon_bert_acc['accuracy'].loc['precision']\n",
    "amazon_acc_compare['Flair'].iloc[0]=amazon_flair_acc['accuracy'].loc['precision']\n",
    "amazon_acc_compare['TextBlob'].iloc[0]=amazon_tb_acc['accuracy'].loc['precision']\n",
    "amazon_acc_compare.to_csv('amazon_acc_analysis.csv')\n",
    "amazon_acc_compare"
   ]
  },
  {
   "cell_type": "code",
   "execution_count": null,
   "id": "5742c245",
   "metadata": {},
   "outputs": [],
   "source": []
  },
  {
   "cell_type": "code",
   "execution_count": null,
   "id": "a7638c77",
   "metadata": {},
   "outputs": [],
   "source": []
  },
  {
   "cell_type": "code",
   "execution_count": null,
   "id": "ee5cabd4",
   "metadata": {},
   "outputs": [],
   "source": []
  },
  {
   "cell_type": "code",
   "execution_count": null,
   "id": "44cbf6ef",
   "metadata": {},
   "outputs": [],
   "source": []
  },
  {
   "cell_type": "code",
   "execution_count": null,
   "id": "b1ea937f",
   "metadata": {},
   "outputs": [],
   "source": []
  },
  {
   "cell_type": "code",
   "execution_count": null,
   "id": "1750d400",
   "metadata": {},
   "outputs": [],
   "source": []
  },
  {
   "cell_type": "code",
   "execution_count": null,
   "id": "849df18b",
   "metadata": {},
   "outputs": [],
   "source": []
  },
  {
   "cell_type": "code",
   "execution_count": null,
   "id": "356260be",
   "metadata": {},
   "outputs": [],
   "source": []
  },
  {
   "cell_type": "code",
   "execution_count": null,
   "id": "476e00fc",
   "metadata": {},
   "outputs": [],
   "source": []
  },
  {
   "cell_type": "code",
   "execution_count": null,
   "id": "0c43d2a4",
   "metadata": {},
   "outputs": [],
   "source": []
  },
  {
   "cell_type": "code",
   "execution_count": null,
   "id": "0304d522",
   "metadata": {},
   "outputs": [],
   "source": []
  },
  {
   "cell_type": "code",
   "execution_count": null,
   "id": "98b34e6e",
   "metadata": {},
   "outputs": [],
   "source": []
  }
 ],
 "metadata": {
  "kernelspec": {
   "display_name": "Python 3",
   "language": "python",
   "name": "python3"
  },
  "language_info": {
   "codemirror_mode": {
    "name": "ipython",
    "version": 3
   },
   "file_extension": ".py",
   "mimetype": "text/x-python",
   "name": "python",
   "nbconvert_exporter": "python",
   "pygments_lexer": "ipython3",
   "version": "3.7.9"
  }
 },
 "nbformat": 4,
 "nbformat_minor": 5
}
